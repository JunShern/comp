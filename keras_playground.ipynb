{
 "cells": [
  {
   "cell_type": "code",
   "execution_count": 1,
   "metadata": {},
   "outputs": [
    {
     "name": "stderr",
     "output_type": "stream",
     "text": [
      "/home/chanjunshern/tensorflow/local/lib/python2.7/site-packages/h5py/__init__.py:36: FutureWarning: Conversion of the second argument of issubdtype from `float` to `np.floating` is deprecated. In future, it will be treated as `np.float64 == np.dtype(float).type`.\n",
      "  from ._conv import register_converters as _register_converters\n"
     ]
    },
    {
     "name": "stdout",
     "output_type": "stream",
     "text": [
      "[[22. 28.]\n",
      " [49. 64.]]\n"
     ]
    }
   ],
   "source": [
    "# Test GPU on machine\n",
    "import tensorflow as tf\n",
    "with tf.device('/gpu:0'):\n",
    "    a = tf.constant([1.0, 2.0, 3.0, 4.0, 5.0, 6.0], shape=[2, 3], name='a')\n",
    "    b = tf.constant([1.0, 2.0, 3.0, 4.0, 5.0, 6.0], shape=[3, 2], name='b')\n",
    "    c = tf.matmul(a, b)\n",
    "\n",
    "with tf.Session() as sess:\n",
    "    print (sess.run(c))"
   ]
  },
  {
   "cell_type": "code",
   "execution_count": 1,
   "metadata": {},
   "outputs": [],
   "source": [
    "import numpy as np\n",
    "import pianoroll_utils\n",
    "from matplotlib import pyplot as plt\n",
    "import pypianoroll"
   ]
  },
  {
   "cell_type": "code",
   "execution_count": 87,
   "metadata": {},
   "outputs": [
    {
     "ename": "NameError",
     "evalue": "name 'generated_pianoroll' is not defined",
     "output_type": "error",
     "traceback": [
      "\u001b[0;31m---------------------------------------------------------------------------\u001b[0m",
      "\u001b[0;31mNameError\u001b[0m                                 Traceback (most recent call last)",
      "\u001b[0;32m<ipython-input-87-8a5af829a380>\u001b[0m in \u001b[0;36m<module>\u001b[0;34m()\u001b[0m\n\u001b[1;32m      6\u001b[0m \u001b[0minput_pianoroll\u001b[0m \u001b[0;34m=\u001b[0m \u001b[0mnp\u001b[0m\u001b[0;34m.\u001b[0m\u001b[0mload\u001b[0m\u001b[0;34m(\u001b[0m\u001b[0;34m'recorded_pianoroll.npy'\u001b[0m\u001b[0;34m)\u001b[0m\u001b[0;34m.\u001b[0m\u001b[0mswapaxes\u001b[0m\u001b[0;34m(\u001b[0m\u001b[0;36m0\u001b[0m\u001b[0;34m,\u001b[0m\u001b[0;36m1\u001b[0m\u001b[0;34m)\u001b[0m\u001b[0;34m.\u001b[0m\u001b[0mreshape\u001b[0m\u001b[0;34m(\u001b[0m\u001b[0;36m96\u001b[0m\u001b[0;34m,\u001b[0m \u001b[0;36m128\u001b[0m\u001b[0;34m)\u001b[0m\u001b[0;34m\u001b[0m\u001b[0m\n\u001b[1;32m      7\u001b[0m \u001b[0mcomp_pianoroll\u001b[0m \u001b[0;34m=\u001b[0m \u001b[0mnp\u001b[0m\u001b[0;34m.\u001b[0m\u001b[0mload\u001b[0m\u001b[0;34m(\u001b[0m\u001b[0;34m'generated_pianoroll.npy'\u001b[0m\u001b[0;34m)\u001b[0m\u001b[0;34m.\u001b[0m\u001b[0mswapaxes\u001b[0m\u001b[0;34m(\u001b[0m\u001b[0;36m0\u001b[0m\u001b[0;34m,\u001b[0m\u001b[0;36m1\u001b[0m\u001b[0;34m)\u001b[0m\u001b[0;34m.\u001b[0m\u001b[0mreshape\u001b[0m\u001b[0;34m(\u001b[0m\u001b[0;36m96\u001b[0m\u001b[0;34m,\u001b[0m \u001b[0;36m128\u001b[0m\u001b[0;34m)\u001b[0m\u001b[0;34m\u001b[0m\u001b[0m\n\u001b[0;32m----> 8\u001b[0;31m \u001b[0mtest\u001b[0m \u001b[0;34m=\u001b[0m \u001b[0mgenerated_pianoroll\u001b[0m\u001b[0;34m\u001b[0m\u001b[0m\n\u001b[0m\u001b[1;32m      9\u001b[0m \u001b[0;31m# Plot comparison\u001b[0m\u001b[0;34m\u001b[0m\u001b[0;34m\u001b[0m\u001b[0m\n\u001b[1;32m     10\u001b[0m \u001b[0mfig\u001b[0m\u001b[0;34m,\u001b[0m \u001b[0max\u001b[0m \u001b[0;34m=\u001b[0m \u001b[0mplt\u001b[0m\u001b[0;34m.\u001b[0m\u001b[0msubplots\u001b[0m\u001b[0;34m(\u001b[0m\u001b[0;34m)\u001b[0m\u001b[0;34m\u001b[0m\u001b[0m\n",
      "\u001b[0;31mNameError\u001b[0m: name 'generated_pianoroll' is not defined"
     ]
    }
   ],
   "source": [
    "input_pianoroll = np.load('recorded_pianoroll.npy').swapaxes(0,1).reshape(96, 128)\n",
    "comp_pianoroll = np.load('generated_pianoroll.npy').swapaxes(0,1).reshape(96, 128)\n",
    "test = generated_pianoroll\n",
    "# Plot comparison\n",
    "fig, ax = plt.subplots()\n",
    "fig.set_size_inches(10, 6, forward=True)\n",
    "ax.set_title('Input')\n",
    "pypianoroll.plot_pianoroll(ax, test, beat_resolution=24)\n",
    "fig.tight_layout()\n",
    "\n",
    "# Play comparison\n",
    "# pianoroll_utils.playPianoroll(test)"
   ]
  },
  {
   "cell_type": "code",
   "execution_count": 29,
   "metadata": {},
   "outputs": [],
   "source": [
    "import mido\n",
    "from mido import Message, MidiFile, MidiTrack\n",
    "import subprocess\n",
    "\n",
    "COMP_CHANNEL = 5\n",
    "beats_per_minute = 60\n",
    "beats_per_bar = 4\n",
    "ticks_per_beat = 24\n",
    "seconds_per_tick = 60. / beats_per_minute / ticks_per_beat\n",
    "\n",
    "def play_midi_events(events):\n",
    "    mid = MidiFile()\n",
    "    track = MidiTrack()\n",
    "    mid.tracks.append(track)\n",
    "    # Loop through every tick in every beat\n",
    "    for beat in range(beats_per_bar):\n",
    "        # Play recorded messages and wait at each tick\n",
    "        for tick in range(ticks_per_beat):\n",
    "            current_tick = beat*ticks_per_beat + tick\n",
    "            for msg in events[current_tick]:\n",
    "                track.append(msg.copy(channel=COMP_CHANNEL, time=0))\n",
    "            # This effectively acts as a time.sleep for 1 tick\n",
    "            track.append(Message('note_off', note=0, velocity=0, time=16))\n",
    "    FILEPATH = '/tmp/tmp_.midi' # For Linux\n",
    "    mid.save(FILEPATH)\n",
    "    return_code = subprocess.call(\"timidity \" + FILEPATH, shell=True)\n",
    "    return\n",
    "\n",
    "def pianoroll_2_events(pianoroll):\n",
    "    \"\"\"\n",
    "    Takes an input pianoroll of shape (NUM_PITCHES, NUM_TICKS) \n",
    "    and returns a list of quantized events\n",
    "    \"Adjacent nonzero values of the same pitch will be considered a \n",
    "    single note with their mean as its velocity.\", as per pypianoroll.\n",
    "    https://github.com/salu133445/pypianoroll/blob/master/pypianoroll/multitrack.py#L1171\n",
    "    \"\"\"\n",
    "    assert pianoroll.shape == (128, 96)\n",
    "    events = [[] for _ in range(96)] # Each tick gets a list to store events\n",
    "    for pitch_index in range(pianoroll.shape[0]):\n",
    "        prev_velocity = 0\n",
    "        velocity = 0\n",
    "        \n",
    "        note_events = [] # List of note on-offs (on_tick, off_tick)\n",
    "        for tick_index in range(pianoroll.shape[1]):\n",
    "            # Update\n",
    "            prev_velocity = velocity\n",
    "            velocity = int(pianoroll[pitch_index, tick_index])\n",
    "            # On\n",
    "            if velocity > 0 and prev_velocity == 0:\n",
    "                note_events.append([tick_index, -1])\n",
    "            # Off\n",
    "            elif velocity == 0 and prev_velocity > 0:\n",
    "                note_events[-1][1] = tick_index\n",
    "        \n",
    "        for on_index, off_index in note_events:\n",
    "            if off_index != -1:\n",
    "                velocity = int(np.mean(pianoroll[pitch_index, on_index:off_index]))\n",
    "                on_msg = mido.Message('note_on', note=pitch_index, velocity=velocity, time=0)\n",
    "                events[on_index].append(on_msg)\n",
    "                off_msg = mido.Message('note_off', note=pitch_index, velocity=velocity, time=0)\n",
    "                events[off_index].append(off_msg)\n",
    "            else:\n",
    "                velocity = int(np.mean(pianoroll[pitch_index, on_index:]))\n",
    "                on_msg = mido.Message('note_on', note=pitch_index, velocity=velocity, time=0)\n",
    "                events[on_index].append(on_msg)\n",
    "            \n",
    "    return events"
   ]
  },
  {
   "cell_type": "code",
   "execution_count": 33,
   "metadata": {},
   "outputs": [],
   "source": [
    "def pianoroll_2_events(pianoroll):\n",
    "    \"\"\"\n",
    "    Takes an input pianoroll of shape (NUM_PITCHES, NUM_TICKS) \n",
    "    and returns a list of quantized events\n",
    "    \"Adjacent nonzero values of the same pitch will be considered a \n",
    "    single note with their mean as its velocity.\", as per pypianoroll.\n",
    "    https://github.com/salu133445/pypianoroll/blob/master/pypianoroll/multitrack.py#L1171\n",
    "    \"\"\"\n",
    "    assert pianoroll.shape == (128, 96)\n",
    "    pianoroll = pianoroll.T\n",
    "    \n",
    "    events = [[] for _ in range(96)] # Each tick gets a list to store events\n",
    "    clipped = pianoroll.astype(int)\n",
    "    binarized = clipped.astype(bool)\n",
    "    padded = np.pad(binarized, ((1, 1), (0, 0)), 'constant')\n",
    "    diff = np.diff(padded.astype(int), axis=0)\n",
    "\n",
    "    for pitch in range(128):\n",
    "        note_ons = np.nonzero(diff[:, pitch] > 0)[0]\n",
    "        note_offs = np.nonzero(diff[:, pitch] < 0)[0]\n",
    "        for idx, note_on in enumerate(note_ons):\n",
    "            velocity = np.mean(clipped[note_on:note_offs[idx], pitch])\n",
    "            # Create message events\n",
    "            on_msg = mido.Message('note_on', note=pitch, velocity=int(velocity), time=0)\n",
    "            events[note_ons[idx]].append(on_msg)\n",
    "            if note_offs[idx] < 96:\n",
    "                off_msg = mido.Message('note_on', note=pitch, velocity=0, time=0)\n",
    "                events[note_offs[idx]].append(off_msg)\n",
    "    return events"
   ]
  },
  {
   "cell_type": "code",
   "execution_count": 3,
   "metadata": {},
   "outputs": [
    {
     "name": "stderr",
     "output_type": "stream",
     "text": [
      "Using TensorFlow backend.\n"
     ]
    }
   ],
   "source": [
    "from keras.models import load_model\n",
    "MODEL_AUTOENCODER_FILE = './models/autoencoder_v4.h5'\n",
    "autoencoder = load_model(MODEL_AUTOENCODER_FILE)"
   ]
  },
  {
   "cell_type": "code",
   "execution_count": 4,
   "metadata": {},
   "outputs": [
    {
     "name": "stdout",
     "output_type": "stream",
     "text": [
      "Getting autoencoder stuff (1, 128, 96, 1)\n",
      "55.90551181102363\n",
      "0.0\n"
     ]
    }
   ],
   "source": [
    "from keras.models import Model\n",
    "# Normalize input_pianoroll\n",
    "input_pianoroll = np.load('recorded_pianoroll.npy')\n",
    "input_pianoroll = input_pianoroll / 127.\n",
    "# Get encoding of the input\n",
    "input_pianoroll = input_pianoroll.reshape(1, 128, 96, 1)\n",
    "autoencoder_output = autoencoder.predict(input_pianoroll) # (1, 128, 96, 1)\n",
    "assert autoencoder_output.shape == (1, 128, 96, 1)\n",
    "print \"Getting autoencoder stuff\", autoencoder_output.shape\n",
    "# print np.sum(input_pianoroll - autoencoder_output)\n",
    "print np.sum(input_pianoroll)\n",
    "print np.amin(autoencoder_output)\n",
    "# output_pianoroll = autoencoder_output[0].reshape(128, 96)"
   ]
  },
  {
   "cell_type": "code",
   "execution_count": 46,
   "metadata": {},
   "outputs": [
    {
     "name": "stdout",
     "output_type": "stream",
     "text": [
      "[ 0.          0.          0.          0.          0.          0.\n",
      "  0.          0.          0.          0.          0.          0.\n",
      "  3.4705973  20.77994    24.45203     0.877367    0.          3.9844081\n",
      "  6.5914383   5.171249    1.4545087   2.5562441   3.8582234   0.\n",
      "  0.          0.          0.          0.          0.          0.\n",
      "  0.          0.          0.          0.          0.          0.\n",
      "  0.          0.          0.          0.          0.          0.\n",
      "  0.          0.          0.          0.          0.          0.\n",
      "  0.          0.          0.          0.          0.          0.\n",
      "  0.          0.          0.          0.          0.          0.\n",
      "  0.03607762  9.261589   13.108125   16.930813   20.213509   17.428322\n",
      " 17.123474    3.6582694   3.8401468   0.          0.          0.90885544\n",
      "  0.          0.          0.          0.          0.          0.\n",
      "  0.          0.          0.          0.          0.          0.\n",
      "  0.          0.          0.          0.          0.          0.\n",
      "  0.          0.          0.          0.          0.          0.        ]\n"
     ]
    },
    {
     "data": {
      "text/plain": [
       "0"
      ]
     },
     "execution_count": 46,
     "metadata": {},
     "output_type": "execute_result"
    },
    {
     "data": {
      "image/png": "[encoded data removed]",
      "text/plain": [
       "<Figure size 720x432 with 2 Axes>"
      ]
     },
     "metadata": {},
     "output_type": "display_data"
    }
   ],
   "source": [
    "import pianoroll_utils\n",
    "\n",
    "sample_input = input_pianoroll.reshape(128,96).swapaxes(0,1).reshape(96, 128) * 127\n",
    "sample_output = autoencoder_output[0].swapaxes(0,1).reshape(96, 128) * 127\n",
    "print sample_output[:,48]\n",
    "# Plot comparison\n",
    "fig, ax = plt.subplots(1,2)\n",
    "fig.set_size_inches(10, 6, forward=True)\n",
    "ax[0].set_title('Input')\n",
    "ax[1].set_title('Output')\n",
    "pypianoroll.plot_pianoroll(ax[0], sample_input, beat_resolution=24, cmap='inferno')\n",
    "pypianoroll.plot_pianoroll(ax[1], sample_output, beat_resolution=24, cmap='inferno')\n",
    "fig.tight_layout()\n",
    "\n",
    "pianoroll_utils.playPianoroll(sample_input)\n",
    "pianoroll_utils.playPianoroll(sample_output)"
   ]
  },
  {
   "cell_type": "code",
   "execution_count": 49,
   "metadata": {
    "scrolled": false
   },
   "outputs": [
    {
     "name": "stdout",
     "output_type": "stream",
     "text": [
      "(128, 96)\n",
      "\n",
      "Input\n",
      "\n",
      "Output\n"
     ]
    }
   ],
   "source": [
    "input_pianoroll = np.load('recorded_pianoroll.npy')\n",
    "print input_pianoroll.shape\n",
    "\n",
    "print(\"\")\n",
    "print(\"Input\")\n",
    "play_midi_events(pianoroll_2_events(input_pianoroll))\n",
    "\n",
    "print(\"\")\n",
    "print(\"Output\")\n",
    "play_midi_events(pianoroll_2_events(autoencoder_output.reshape(128,96) * 127))"
   ]
  },
  {
   "cell_type": "code",
   "execution_count": 48,
   "metadata": {},
   "outputs": [
    {
     "name": "stdout",
     "output_type": "stream",
     "text": [
      "0.76522815\n",
      "[ 0.          0.          0.          0.          0.          0.\n",
      "  0.          0.          0.          0.          0.          0.\n",
      "  4.5353756  27.15522    31.953907    1.146543    0.          5.206824\n",
      "  8.61369     6.757787    1.9007516   3.3404996   5.041926    0.\n",
      "  0.          0.          0.          0.          0.          0.\n",
      "  0.          0.          0.          0.          0.          0.\n",
      "  0.          0.          0.          0.          0.          0.\n",
      "  0.          0.          0.          0.          0.          0.\n",
      "  0.          0.          0.          0.          0.          0.\n",
      "  0.          0.          0.          0.          0.          0.\n",
      "  0.04714623 12.103043   17.129694   22.125185   26.415009   22.775328\n",
      " 22.376951    4.7806253   5.0183034   0.          0.          1.1876922\n",
      "  0.          0.          0.          0.          0.          0.\n",
      "  0.          0.          0.          0.          0.          0.\n",
      "  0.          0.          0.          0.          0.          0.\n",
      "  0.          0.          0.          0.          0.          0.        ]\n"
     ]
    }
   ],
   "source": [
    "# print np.amax(autoencoder_output)\n",
    "output = autoencoder_output.reshape(128,96) / np.amax(autoencoder_output) * 127\n",
    "print output[48,:]"
   ]
  },
  {
   "cell_type": "markdown",
   "metadata": {},
   "source": [
    "note_on channel=0 note=48 velocity=117 time=0.25\n",
    "note_on channel=0 note=48 velocity=0 time=0.0840909090909\n",
    "note_on channel=0 note=48 velocity=127 time=0.0204545454545\n",
    "note_on channel=0 note=48 velocity=0 time=0.125\n",
    "note_on channel=0 note=41 velocity=126 time=0.0613636363636\n",
    "note_on channel=0 note=40 velocity=127 time=0.188636363636\n",
    "note_on channel=0 note=40 velocity=0 time=0.0409090909091\n",
    "note_on channel=0 note=53 velocity=127 time=0.188636363636\n",
    "note_on channel=0 note=45 velocity=127 time=0.0204545454545\n",
    "note_on channel=0 note=45 velocity=0 time=0.104545454545\n",
    "note_on channel=0 note=45 velocity=127 time=0.0204545454545\n",
    "note_on channel=0 note=45 velocity=0 time=0.0613636363636\n",
    "note_on channel=0 note=45 velocity=80 time=0.0431818181818\n",
    "note_on channel=0 note=45 velocity=0 time=0.0409090909091\n",
    "note_on channel=0 note=48 velocity=113 time=0\n",
    "note_on channel=0 note=48 velocity=0 time=0.188636363636\n",
    "note_on channel=0 note=48 velocity=90 time=0.0409090909091\n",
    "note_on channel=0 note=48 velocity=0 time=0.0204545454545\n",
    "note_on channel=0 note=53 velocity=0 time=0.188636363636\n",
    "note_on channel=0 note=53 velocity=127 time=0.0409090909091\n",
    "note_on channel=0 note=41 velocity=0 time=0.145454545455\n",
    "note_on channel=0 note=55 velocity=127 time=0.104545454545\n",
    "note_on channel=0 note=53 velocity=0 time=0.0204545454545\n",
    "note_on channel=0 note=55 velocity=0 time=0"
   ]
  },
  {
   "cell_type": "markdown",
   "metadata": {},
   "source": [
    "note_on channel=5 note=48 velocity=15 time=0\n",
    "note_on channel=5 note=48 velocity=0 time=0\n",
    "note_on channel=5 note=48 velocity=3 time=0\n",
    "note_on channel=5 note=48 velocity=0 time=0\n",
    "note_on channel=5 note=41 velocity=8 time=0\n",
    "note_on channel=5 note=41 velocity=0 time=0\n",
    "note_on channel=5 note=41 velocity=50 time=0\n",
    "note_on channel=5 note=40 velocity=3 time=0\n",
    "note_on channel=5 note=40 velocity=0 time=0\n",
    "note_on channel=5 note=53 velocity=66 time=0\n",
    "note_on channel=5 note=45 velocity=14 time=0\n",
    "note_on channel=5 note=45 velocity=0 time=0\n",
    "note_on channel=5 note=45 velocity=4 time=0\n",
    "note_on channel=5 note=45 velocity=0 time=0\n",
    "note_on channel=5 note=45 velocity=2 time=0\n",
    "note_on channel=5 note=45 velocity=0 time=0\n",
    "note_on channel=5 note=48 velocity=12 time=0\n",
    "note_on channel=5 note=48 velocity=0 time=0\n",
    "note_on channel=5 note=53 velocity=0 time=0\n",
    "note_on channel=5 note=53 velocity=32 time=0\n",
    "note_on channel=5 note=41 velocity=0 time=0\n",
    "note_on channel=5 note=55 velocity=29 time=0"
   ]
  }
 ],
 "metadata": {
  "kernelspec": {
   "display_name": "Python 2",
   "language": "python",
   "name": "python2"
  },
  "language_info": {
   "codemirror_mode": {
    "name": "ipython",
    "version": 2
   },
   "file_extension": ".py",
   "mimetype": "text/x-python",
   "name": "python",
   "nbconvert_exporter": "python",
   "pygments_lexer": "ipython2",
   "version": "2.7.12"
  }
 },
 "nbformat": 4,
 "nbformat_minor": 2
}
