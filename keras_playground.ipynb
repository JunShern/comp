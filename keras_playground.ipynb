{
 "cells": [
  {
   "cell_type": "markdown",
   "metadata": {
    "heading_collapsed": true
   },
   "source": [
    "### GPU verification"
   ]
  },
  {
   "cell_type": "code",
   "execution_count": 1,
   "metadata": {
    "hidden": true
   },
   "outputs": [
    {
     "name": "stderr",
     "output_type": "stream",
     "text": [
      "/home/chanjunshern/tensorflow/local/lib/python2.7/site-packages/h5py/__init__.py:36: FutureWarning: Conversion of the second argument of issubdtype from `float` to `np.floating` is deprecated. In future, it will be treated as `np.float64 == np.dtype(float).type`.\n",
      "  from ._conv import register_converters as _register_converters\n"
     ]
    },
    {
     "name": "stdout",
     "output_type": "stream",
     "text": [
      "[[22. 28.]\n",
      " [49. 64.]]\n"
     ]
    }
   ],
   "source": [
    "# Test GPU on machine\n",
    "import tensorflow as tf\n",
    "with tf.device('/gpu:0'):\n",
    "    a = tf.constant([1.0, 2.0, 3.0, 4.0, 5.0, 6.0], shape=[2, 3], name='a')\n",
    "    b = tf.constant([1.0, 2.0, 3.0, 4.0, 5.0, 6.0], shape=[3, 2], name='b')\n",
    "    c = tf.matmul(a, b)\n",
    "\n",
    "with tf.Session() as sess:\n",
    "    print (sess.run(c))"
   ]
  },
  {
   "cell_type": "markdown",
   "metadata": {
    "heading_collapsed": true
   },
   "source": [
    "### Investigating recorded input/output from live demo"
   ]
  },
  {
   "cell_type": "code",
   "execution_count": 1,
   "metadata": {
    "hidden": true
   },
   "outputs": [],
   "source": [
    "import numpy as np\n",
    "import pianoroll_utils\n",
    "from matplotlib import pyplot as plt\n",
    "import pypianoroll"
   ]
  },
  {
   "cell_type": "code",
   "execution_count": 87,
   "metadata": {
    "hidden": true
   },
   "outputs": [
    {
     "ename": "NameError",
     "evalue": "name 'generated_pianoroll' is not defined",
     "output_type": "error",
     "traceback": [
      "\u001b[0;31m---------------------------------------------------------------------------\u001b[0m",
      "\u001b[0;31mNameError\u001b[0m                                 Traceback (most recent call last)",
      "\u001b[0;32m<ipython-input-87-8a5af829a380>\u001b[0m in \u001b[0;36m<module>\u001b[0;34m()\u001b[0m\n\u001b[1;32m      6\u001b[0m \u001b[0minput_pianoroll\u001b[0m \u001b[0;34m=\u001b[0m \u001b[0mnp\u001b[0m\u001b[0;34m.\u001b[0m\u001b[0mload\u001b[0m\u001b[0;34m(\u001b[0m\u001b[0;34m'recorded_pianoroll.npy'\u001b[0m\u001b[0;34m)\u001b[0m\u001b[0;34m.\u001b[0m\u001b[0mswapaxes\u001b[0m\u001b[0;34m(\u001b[0m\u001b[0;36m0\u001b[0m\u001b[0;34m,\u001b[0m\u001b[0;36m1\u001b[0m\u001b[0;34m)\u001b[0m\u001b[0;34m.\u001b[0m\u001b[0mreshape\u001b[0m\u001b[0;34m(\u001b[0m\u001b[0;36m96\u001b[0m\u001b[0;34m,\u001b[0m \u001b[0;36m128\u001b[0m\u001b[0;34m)\u001b[0m\u001b[0;34m\u001b[0m\u001b[0m\n\u001b[1;32m      7\u001b[0m \u001b[0mcomp_pianoroll\u001b[0m \u001b[0;34m=\u001b[0m \u001b[0mnp\u001b[0m\u001b[0;34m.\u001b[0m\u001b[0mload\u001b[0m\u001b[0;34m(\u001b[0m\u001b[0;34m'generated_pianoroll.npy'\u001b[0m\u001b[0;34m)\u001b[0m\u001b[0;34m.\u001b[0m\u001b[0mswapaxes\u001b[0m\u001b[0;34m(\u001b[0m\u001b[0;36m0\u001b[0m\u001b[0;34m,\u001b[0m\u001b[0;36m1\u001b[0m\u001b[0;34m)\u001b[0m\u001b[0;34m.\u001b[0m\u001b[0mreshape\u001b[0m\u001b[0;34m(\u001b[0m\u001b[0;36m96\u001b[0m\u001b[0;34m,\u001b[0m \u001b[0;36m128\u001b[0m\u001b[0;34m)\u001b[0m\u001b[0;34m\u001b[0m\u001b[0m\n\u001b[0;32m----> 8\u001b[0;31m \u001b[0mtest\u001b[0m \u001b[0;34m=\u001b[0m \u001b[0mgenerated_pianoroll\u001b[0m\u001b[0;34m\u001b[0m\u001b[0m\n\u001b[0m\u001b[1;32m      9\u001b[0m \u001b[0;31m# Plot comparison\u001b[0m\u001b[0;34m\u001b[0m\u001b[0;34m\u001b[0m\u001b[0m\n\u001b[1;32m     10\u001b[0m \u001b[0mfig\u001b[0m\u001b[0;34m,\u001b[0m \u001b[0max\u001b[0m \u001b[0;34m=\u001b[0m \u001b[0mplt\u001b[0m\u001b[0;34m.\u001b[0m\u001b[0msubplots\u001b[0m\u001b[0;34m(\u001b[0m\u001b[0;34m)\u001b[0m\u001b[0;34m\u001b[0m\u001b[0m\n",
      "\u001b[0;31mNameError\u001b[0m: name 'generated_pianoroll' is not defined"
     ]
    }
   ],
   "source": [
    "input_pianoroll = np.load('recorded_pianoroll.npy').swapaxes(0,1).reshape(96, 128)\n",
    "comp_pianoroll = np.load('generated_pianoroll.npy').swapaxes(0,1).reshape(96, 128)\n",
    "test = generated_pianoroll\n",
    "# Plot comparison\n",
    "fig, ax = plt.subplots()\n",
    "fig.set_size_inches(10, 6, forward=True)\n",
    "ax.set_title('Input')\n",
    "pypianoroll.plot_pianoroll(ax, test, beat_resolution=24)\n",
    "fig.tight_layout()\n",
    "\n",
    "# Play comparison\n",
    "# pianoroll_utils.playPianoroll(test)"
   ]
  },
  {
   "cell_type": "markdown",
   "metadata": {
    "heading_collapsed": true
   },
   "source": [
    "### Investigating playpianoroll_events"
   ]
  },
  {
   "cell_type": "code",
   "execution_count": 3,
   "metadata": {
    "hidden": true
   },
   "outputs": [
    {
     "name": "stderr",
     "output_type": "stream",
     "text": [
      "Using TensorFlow backend.\n"
     ]
    }
   ],
   "source": [
    "from keras.models import load_model\n",
    "MODEL_AUTOENCODER_FILE = './models/autoencoder_v4.h5'\n",
    "autoencoder = load_model(MODEL_AUTOENCODER_FILE)"
   ]
  },
  {
   "cell_type": "code",
   "execution_count": 4,
   "metadata": {
    "hidden": true
   },
   "outputs": [
    {
     "name": "stdout",
     "output_type": "stream",
     "text": [
      "Getting autoencoder stuff (1, 128, 96, 1)\n",
      "55.90551181102363\n",
      "0.0\n"
     ]
    }
   ],
   "source": [
    "from keras.models import Model\n",
    "# Normalize input_pianoroll\n",
    "input_pianoroll = np.load('recorded_pianoroll.npy')\n",
    "input_pianoroll = input_pianoroll / 127.\n",
    "# Get encoding of the input\n",
    "input_pianoroll = input_pianoroll.reshape(1, 128, 96, 1)\n",
    "autoencoder_output = autoencoder.predict(input_pianoroll) # (1, 128, 96, 1)\n",
    "assert autoencoder_output.shape == (1, 128, 96, 1)\n",
    "print \"Getting autoencoder stuff\", autoencoder_output.shape\n",
    "# print np.sum(input_pianoroll - autoencoder_output)\n",
    "print np.sum(input_pianoroll)\n",
    "print np.amin(autoencoder_output)\n",
    "# output_pianoroll = autoencoder_output[0].reshape(128, 96)"
   ]
  },
  {
   "cell_type": "code",
   "execution_count": 46,
   "metadata": {
    "hidden": true
   },
   "outputs": [
    {
     "name": "stdout",
     "output_type": "stream",
     "text": [
      "[ 0.          0.          0.          0.          0.          0.\n",
      "  0.          0.          0.          0.          0.          0.\n",
      "  3.4705973  20.77994    24.45203     0.877367    0.          3.9844081\n",
      "  6.5914383   5.171249    1.4545087   2.5562441   3.8582234   0.\n",
      "  0.          0.          0.          0.          0.          0.\n",
      "  0.          0.          0.          0.          0.          0.\n",
      "  0.          0.          0.          0.          0.          0.\n",
      "  0.          0.          0.          0.          0.          0.\n",
      "  0.          0.          0.          0.          0.          0.\n",
      "  0.          0.          0.          0.          0.          0.\n",
      "  0.03607762  9.261589   13.108125   16.930813   20.213509   17.428322\n",
      " 17.123474    3.6582694   3.8401468   0.          0.          0.90885544\n",
      "  0.          0.          0.          0.          0.          0.\n",
      "  0.          0.          0.          0.          0.          0.\n",
      "  0.          0.          0.          0.          0.          0.\n",
      "  0.          0.          0.          0.          0.          0.        ]\n"
     ]
    },
    {
     "data": {
      "text/plain": [
       "0"
      ]
     },
     "execution_count": 46,
     "metadata": {},
     "output_type": "execute_result"
    },
    {
     "data": {
      "image/png": "[encoded data removed]",
      "text/plain": [
       "<Figure size 720x432 with 2 Axes>"
      ]
     },
     "metadata": {},
     "output_type": "display_data"
    }
   ],
   "source": [
    "import pianoroll_utils\n",
    "\n",
    "sample_input = input_pianoroll.reshape(128,96).swapaxes(0,1).reshape(96, 128) * 127\n",
    "sample_output = autoencoder_output[0].swapaxes(0,1).reshape(96, 128) * 127\n",
    "print sample_output[:,48]\n",
    "# Plot comparison\n",
    "fig, ax = plt.subplots(1,2)\n",
    "fig.set_size_inches(10, 6, forward=True)\n",
    "ax[0].set_title('Input')\n",
    "ax[1].set_title('Output')\n",
    "pypianoroll.plot_pianoroll(ax[0], sample_input, beat_resolution=24, cmap='inferno')\n",
    "pypianoroll.plot_pianoroll(ax[1], sample_output, beat_resolution=24, cmap='inferno')\n",
    "fig.tight_layout()\n",
    "\n",
    "pianoroll_utils.playPianoroll(sample_input)\n",
    "pianoroll_utils.playPianoroll(sample_output)"
   ]
  },
  {
   "cell_type": "code",
   "execution_count": 49,
   "metadata": {
    "hidden": true,
    "scrolled": false
   },
   "outputs": [
    {
     "name": "stdout",
     "output_type": "stream",
     "text": [
      "(128, 96)\n",
      "\n",
      "Input\n",
      "\n",
      "Output\n"
     ]
    }
   ],
   "source": [
    "input_pianoroll = np.load('recorded_pianoroll.npy')\n",
    "print input_pianoroll.shape\n",
    "\n",
    "print(\"\")\n",
    "print(\"Input\")\n",
    "play_midi_events(pianoroll_2_events(input_pianoroll))\n",
    "\n",
    "print(\"\")\n",
    "print(\"Output\")\n",
    "play_midi_events(pianoroll_2_events(autoencoder_output.reshape(128,96) * 127))"
   ]
  },
  {
   "cell_type": "code",
   "execution_count": 48,
   "metadata": {
    "hidden": true
   },
   "outputs": [
    {
     "name": "stdout",
     "output_type": "stream",
     "text": [
      "0.76522815\n",
      "[ 0.          0.          0.          0.          0.          0.\n",
      "  0.          0.          0.          0.          0.          0.\n",
      "  4.5353756  27.15522    31.953907    1.146543    0.          5.206824\n",
      "  8.61369     6.757787    1.9007516   3.3404996   5.041926    0.\n",
      "  0.          0.          0.          0.          0.          0.\n",
      "  0.          0.          0.          0.          0.          0.\n",
      "  0.          0.          0.          0.          0.          0.\n",
      "  0.          0.          0.          0.          0.          0.\n",
      "  0.          0.          0.          0.          0.          0.\n",
      "  0.          0.          0.          0.          0.          0.\n",
      "  0.04714623 12.103043   17.129694   22.125185   26.415009   22.775328\n",
      " 22.376951    4.7806253   5.0183034   0.          0.          1.1876922\n",
      "  0.          0.          0.          0.          0.          0.\n",
      "  0.          0.          0.          0.          0.          0.\n",
      "  0.          0.          0.          0.          0.          0.\n",
      "  0.          0.          0.          0.          0.          0.        ]\n"
     ]
    }
   ],
   "source": [
    "# print np.amax(autoencoder_output)\n",
    "output = autoencoder_output.reshape(128,96) / np.amax(autoencoder_output) * 127\n",
    "print output[48,:]"
   ]
  },
  {
   "cell_type": "markdown",
   "metadata": {
    "hidden": true
   },
   "source": [
    "note_on channel=0 note=48 velocity=117 time=0.25\n",
    "note_on channel=0 note=48 velocity=0 time=0.0840909090909\n",
    "note_on channel=0 note=48 velocity=127 time=0.0204545454545\n",
    "note_on channel=0 note=48 velocity=0 time=0.125\n",
    "note_on channel=0 note=41 velocity=126 time=0.0613636363636\n",
    "note_on channel=0 note=40 velocity=127 time=0.188636363636\n",
    "note_on channel=0 note=40 velocity=0 time=0.0409090909091\n",
    "note_on channel=0 note=53 velocity=127 time=0.188636363636\n",
    "note_on channel=0 note=45 velocity=127 time=0.0204545454545\n",
    "note_on channel=0 note=45 velocity=0 time=0.104545454545\n",
    "note_on channel=0 note=45 velocity=127 time=0.0204545454545\n",
    "note_on channel=0 note=45 velocity=0 time=0.0613636363636\n",
    "note_on channel=0 note=45 velocity=80 time=0.0431818181818\n",
    "note_on channel=0 note=45 velocity=0 time=0.0409090909091\n",
    "note_on channel=0 note=48 velocity=113 time=0\n",
    "note_on channel=0 note=48 velocity=0 time=0.188636363636\n",
    "note_on channel=0 note=48 velocity=90 time=0.0409090909091\n",
    "note_on channel=0 note=48 velocity=0 time=0.0204545454545\n",
    "note_on channel=0 note=53 velocity=0 time=0.188636363636\n",
    "note_on channel=0 note=53 velocity=127 time=0.0409090909091\n",
    "note_on channel=0 note=41 velocity=0 time=0.145454545455\n",
    "note_on channel=0 note=55 velocity=127 time=0.104545454545\n",
    "note_on channel=0 note=53 velocity=0 time=0.0204545454545\n",
    "note_on channel=0 note=55 velocity=0 time=0"
   ]
  },
  {
   "cell_type": "markdown",
   "metadata": {
    "hidden": true
   },
   "source": [
    "note_on channel=5 note=48 velocity=15 time=0\n",
    "note_on channel=5 note=48 velocity=0 time=0\n",
    "note_on channel=5 note=48 velocity=3 time=0\n",
    "note_on channel=5 note=48 velocity=0 time=0\n",
    "note_on channel=5 note=41 velocity=8 time=0\n",
    "note_on channel=5 note=41 velocity=0 time=0\n",
    "note_on channel=5 note=41 velocity=50 time=0\n",
    "note_on channel=5 note=40 velocity=3 time=0\n",
    "note_on channel=5 note=40 velocity=0 time=0\n",
    "note_on channel=5 note=53 velocity=66 time=0\n",
    "note_on channel=5 note=45 velocity=14 time=0\n",
    "note_on channel=5 note=45 velocity=0 time=0\n",
    "note_on channel=5 note=45 velocity=4 time=0\n",
    "note_on channel=5 note=45 velocity=0 time=0\n",
    "note_on channel=5 note=45 velocity=2 time=0\n",
    "note_on channel=5 note=45 velocity=0 time=0\n",
    "note_on channel=5 note=48 velocity=12 time=0\n",
    "note_on channel=5 note=48 velocity=0 time=0\n",
    "note_on channel=5 note=53 velocity=0 time=0\n",
    "note_on channel=5 note=53 velocity=32 time=0\n",
    "note_on channel=5 note=41 velocity=0 time=0\n",
    "note_on channel=5 note=55 velocity=29 time=0"
   ]
  },
  {
   "cell_type": "markdown",
   "metadata": {},
   "source": [
    "### LSTM sequence learning"
   ]
  },
  {
   "cell_type": "markdown",
   "metadata": {},
   "source": [
    "Sources:\n",
    "- Keras [docs](https://keras.io/preprocessing/sequence/#timeseriesgenerator) for TimeSeriesGenerator\n",
    "- [StackOverflow](https://stackoverflow.com/questions/49555701/timeseriesgenerator-for-two-or-more-inputs) question on multiple input timeseriesgenerator"
   ]
  },
  {
   "cell_type": "code",
   "execution_count": 1,
   "metadata": {},
   "outputs": [
    {
     "name": "stderr",
     "output_type": "stream",
     "text": [
      "/home/human/tensorflow/local/lib/python2.7/site-packages/h5py/__init__.py:36: FutureWarning: Conversion of the second argument of issubdtype from `float` to `np.floating` is deprecated. In future, it will be treated as `np.float64 == np.dtype(float).type`.\n",
      "  from ._conv import register_converters as _register_converters\n",
      "Using TensorFlow backend.\n"
     ]
    }
   ],
   "source": [
    "import keras\n",
    "from keras.preprocessing.sequence import TimeseriesGenerator\n",
    "\n",
    "from keras.models import Model, Sequential  \n",
    "from keras.layers import Input, Activation, Dense, LSTM, Concatenate\n",
    "# from keras.layers.core import Dense, Activation\n",
    "# from keras.layers.recurrent import LSTM\n",
    "\n",
    "import pandas as pd\n",
    "import numpy as np"
   ]
  },
  {
   "cell_type": "markdown",
   "metadata": {
    "heading_collapsed": true
   },
   "source": [
    "#### Sequence predictor"
   ]
  },
  {
   "cell_type": "code",
   "execution_count": 8,
   "metadata": {
    "hidden": true
   },
   "outputs": [],
   "source": [
    "from keras.utils import Sequence\n",
    "\n",
    "class TimeseriesGeneratorCustom(Sequence):\n",
    "    \"\"\"Utility class for generating batches of temporal data.\n",
    "    This class takes in a sequence of data-points gathered at\n",
    "    equal intervals, along with time series parameters such as\n",
    "    stride, length of history, etc., to produce batches for\n",
    "    training/validation.\n",
    "    # Arguments\n",
    "    \"\"\"\n",
    "\n",
    "    def __init__(self, data, targets, length,\n",
    "                 sampling_rate=1,\n",
    "                 stride=1,\n",
    "                 start_index=0,\n",
    "                 end_index=None,\n",
    "                 shuffle=False,\n",
    "                 reverse=False,\n",
    "                 batch_size=128):\n",
    "        self.data = data\n",
    "        self.targets = targets\n",
    "        self.length = length\n",
    "        self.sampling_rate = sampling_rate\n",
    "        self.stride = stride\n",
    "        self.start_index = start_index + length\n",
    "        if end_index is None:\n",
    "            end_index = len(data) - 1\n",
    "        self.end_index = end_index\n",
    "        self.shuffle = shuffle\n",
    "        self.reverse = reverse\n",
    "        self.batch_size = batch_size\n",
    "\n",
    "        if self.start_index > self.end_index:\n",
    "            raise ValueError('`start_index+length=%i > end_index=%i` '\n",
    "                             'is disallowed, as no part of the sequence '\n",
    "                             'would be left to be used as current step.'\n",
    "                             % (self.start_index, self.end_index))\n",
    "\n",
    "    def __len__(self):\n",
    "        return int(np.ceil(\n",
    "            (self.end_index - self.start_index + 1) /\n",
    "            (self.batch_size * self.stride)))\n",
    "\n",
    "    def _empty_batch(self, num_rows):\n",
    "        samples_shape = [num_rows, self.length // self.sampling_rate]\n",
    "        samples_shape.extend(self.data.shape[1:])\n",
    "        targets_shape = [num_rows]\n",
    "        targets_shape.extend(self.targets.shape[1:])\n",
    "        return np.empty(samples_shape), np.empty(targets_shape)\n",
    "\n",
    "    def __getitem__(self, index):\n",
    "        if self.shuffle:\n",
    "            rows = np.random.randint(\n",
    "                self.start_index, self.end_index + 1, size=self.batch_size)\n",
    "        else:\n",
    "            i = self.start_index + self.batch_size * self.stride * index\n",
    "            rows = np.arange(i, min(i + self.batch_size *\n",
    "                                    self.stride, self.end_index + 1), self.stride)\n",
    "\n",
    "        samples, targets = self._empty_batch(len(rows))\n",
    "        for j, row in enumerate(rows):\n",
    "            indices = range(rows[j] - self.length, rows[j], self.sampling_rate)\n",
    "            samples[j] = self.data[indices]\n",
    "            targets[j] = self.targets[rows[j]]\n",
    "        if self.reverse:\n",
    "            return samples[:, ::-1, ...], targets\n",
    "        return samples, targets\n",
    "\n",
    "    def on_epoch_end(self):\n",
    "        \"\"\"Method called at the end of every epoch.\n",
    "        \"\"\"\n",
    "        pass\n",
    "\n",
    "    def __iter__(self):\n",
    "        \"\"\"Create an infinite generator that iterate over the Sequence.\"\"\"\n",
    "        while True:\n",
    "            for item in (self[i] for i in range(len(self))):\n",
    "                yield item"
   ]
  },
  {
   "cell_type": "code",
   "execution_count": 9,
   "metadata": {
    "hidden": true
   },
   "outputs": [],
   "source": [
    "# Use keras TimeseriesGenerator to turn a sequence\n",
    "# into multiple windows of sequences\n",
    "WINDOW_LENGTH = 4\n",
    "\n",
    "# def get_generator(data, targets, window_length = 5, batch_size = 32):\n",
    "#     while True:\n",
    "#         data_gen = TimeseriesGenerator(data, targets, length=window_length, \n",
    "#                                        sampling_rate=1, batch_size=batch_size)\n",
    "#         for i in range(len(data_gen)):\n",
    "#             x, y = data_gen[i]\n",
    "#             yield x, y\n",
    "\n",
    "class CustomGen(TimeseriesGenerator):\n",
    "    def __getitem__(self, idx):\n",
    "        x, y = TimeseriesGenerator.__getitem__(self, idx)\n",
    "        # do processing here\n",
    "        return x, y\n",
    "\n",
    "data = np.arange(0,100).reshape(-1,1)\n",
    "data_gen_custom = TimeseriesGeneratorCustom(data, data, length=WINDOW_LENGTH, sampling_rate=1, batch_size=1)\n",
    "data_gen = TimeseriesGenerator(data, data, length=WINDOW_LENGTH, sampling_rate=1, batch_size=1)"
   ]
  },
  {
   "cell_type": "code",
   "execution_count": 10,
   "metadata": {
    "hidden": true
   },
   "outputs": [
    {
     "name": "stdout",
     "output_type": "stream",
     "text": [
      "_________________________________________________________________\n",
      "Layer (type)                 Output Shape              Param #   \n",
      "=================================================================\n",
      "input_2 (InputLayer)         (None, 4, 1)              0         \n",
      "_________________________________________________________________\n",
      "lstm_2 (LSTM)                (None, 100)               40800     \n",
      "_________________________________________________________________\n",
      "dense_3 (Dense)              (None, 20)                2020      \n",
      "_________________________________________________________________\n",
      "dense_4 (Dense)              (None, 1)                 21        \n",
      "=================================================================\n",
      "Total params: 42,841\n",
      "Trainable params: 42,841\n",
      "Non-trainable params: 0\n",
      "_________________________________________________________________\n"
     ]
    }
   ],
   "source": [
    "data_dim = 1\n",
    "input1 = Input(shape=(WINDOW_LENGTH, data_dim))\n",
    "lstm1 = LSTM(100)(input1)\n",
    "\n",
    "hidden = Dense(20, activation='relu')(lstm1)\n",
    "output = Dense(data_dim, activation='linear')(hidden)\n",
    "\n",
    "model = Model(inputs=input1, outputs=output)\n",
    "model.compile(loss='mse', optimizer='rmsprop', metrics=['accuracy'])\n",
    "model.summary()"
   ]
  },
  {
   "cell_type": "code",
   "execution_count": 11,
   "metadata": {
    "hidden": true,
    "scrolled": true
   },
   "outputs": [
    {
     "name": "stdout",
     "output_type": "stream",
     "text": [
      "Epoch 1/50\n",
      "32/32 [==============================] - 1s 31ms/step - loss: 2470.8388 - acc: 0.0000e+00\n",
      "Epoch 2/50\n",
      "32/32 [==============================] - 0s 6ms/step - loss: 2437.9167 - acc: 0.0312\n",
      "Epoch 3/50\n",
      "32/32 [==============================] - 0s 6ms/step - loss: 1884.0048 - acc: 0.0625\n",
      "Epoch 4/50\n",
      "32/32 [==============================] - 0s 7ms/step - loss: 861.9349 - acc: 0.0312\n",
      "Epoch 5/50\n",
      "32/32 [==============================] - 0s 6ms/step - loss: 885.3431 - acc: 0.0312\n",
      "Epoch 6/50\n",
      "32/32 [==============================] - 0s 6ms/step - loss: 548.7989 - acc: 0.0625\n",
      "Epoch 7/50\n",
      "32/32 [==============================] - 0s 7ms/step - loss: 324.5852 - acc: 0.0938\n",
      "Epoch 8/50\n",
      "32/32 [==============================] - 0s 6ms/step - loss: 129.7269 - acc: 0.1250\n",
      "Epoch 9/50\n",
      "32/32 [==============================] - 0s 6ms/step - loss: 88.3675 - acc: 0.1250\n",
      "Epoch 10/50\n",
      "32/32 [==============================] - 0s 7ms/step - loss: 38.0719 - acc: 0.2188\n",
      "Epoch 11/50\n",
      "32/32 [==============================] - 0s 7ms/step - loss: 20.5961 - acc: 0.2500\n",
      "Epoch 12/50\n",
      "32/32 [==============================] - 0s 6ms/step - loss: 19.4715 - acc: 0.1875\n",
      "Epoch 13/50\n",
      "32/32 [==============================] - 0s 8ms/step - loss: 10.4649 - acc: 0.2188\n",
      "Epoch 14/50\n",
      "32/32 [==============================] - 0s 6ms/step - loss: 5.3105 - acc: 0.2188\n",
      "Epoch 15/50\n",
      "32/32 [==============================] - 0s 6ms/step - loss: 5.0287 - acc: 0.0938\n",
      "Epoch 16/50\n",
      "32/32 [==============================] - 0s 8ms/step - loss: 3.6308 - acc: 0.3438\n",
      "Epoch 17/50\n",
      "32/32 [==============================] - 0s 6ms/step - loss: 4.4228 - acc: 0.1562\n",
      "Epoch 18/50\n",
      "32/32 [==============================] - 0s 6ms/step - loss: 5.4034 - acc: 0.1875\n",
      "Epoch 19/50\n",
      "32/32 [==============================] - 0s 8ms/step - loss: 3.6298 - acc: 0.2500\n",
      "Epoch 20/50\n",
      "32/32 [==============================] - 0s 6ms/step - loss: 5.1945 - acc: 0.2188\n",
      "Epoch 21/50\n",
      "32/32 [==============================] - 0s 6ms/step - loss: 3.7849 - acc: 0.2812\n",
      "Epoch 22/50\n",
      "32/32 [==============================] - 0s 7ms/step - loss: 3.7766 - acc: 0.1875\n",
      "Epoch 23/50\n",
      "32/32 [==============================] - 0s 6ms/step - loss: 3.2491 - acc: 0.1875\n",
      "Epoch 24/50\n",
      "32/32 [==============================] - 0s 6ms/step - loss: 4.8280 - acc: 0.1562\n",
      "Epoch 25/50\n",
      "32/32 [==============================] - 0s 8ms/step - loss: 3.5370 - acc: 0.3125\n",
      "Epoch 26/50\n",
      "32/32 [==============================] - 0s 6ms/step - loss: 3.5868 - acc: 0.1875\n",
      "Epoch 27/50\n",
      "32/32 [==============================] - 0s 6ms/step - loss: 3.7718 - acc: 0.2500\n",
      "Epoch 28/50\n",
      "32/32 [==============================] - 0s 7ms/step - loss: 3.4506 - acc: 0.3750\n",
      "Epoch 29/50\n",
      "32/32 [==============================] - 0s 7ms/step - loss: 2.2004 - acc: 0.4062\n",
      "Epoch 30/50\n",
      "32/32 [==============================] - 0s 6ms/step - loss: 3.8445 - acc: 0.2812\n",
      "Epoch 31/50\n",
      "32/32 [==============================] - 0s 8ms/step - loss: 3.6484 - acc: 0.3438\n",
      "Epoch 32/50\n",
      "32/32 [==============================] - 0s 7ms/step - loss: 2.9718 - acc: 0.4375\n",
      "Epoch 33/50\n",
      "32/32 [==============================] - 0s 6ms/step - loss: 4.2157 - acc: 0.2188\n",
      "Epoch 34/50\n",
      "32/32 [==============================] - 0s 11ms/step - loss: 2.0758 - acc: 0.4062\n",
      "Epoch 35/50\n",
      "32/32 [==============================] - 0s 7ms/step - loss: 3.2353 - acc: 0.3438\n",
      "Epoch 36/50\n",
      "32/32 [==============================] - 0s 6ms/step - loss: 3.4091 - acc: 0.2812\n",
      "Epoch 37/50\n",
      "32/32 [==============================] - 0s 10ms/step - loss: 2.9916 - acc: 0.3438\n",
      "Epoch 38/50\n",
      "32/32 [==============================] - 0s 7ms/step - loss: 2.2842 - acc: 0.1875\n",
      "Epoch 39/50\n",
      "32/32 [==============================] - 0s 8ms/step - loss: 1.9059 - acc: 0.3438\n",
      "Epoch 40/50\n",
      "32/32 [==============================] - 0s 7ms/step - loss: 3.7559 - acc: 0.3125\n",
      "Epoch 41/50\n",
      "32/32 [==============================] - 0s 7ms/step - loss: 4.0484 - acc: 0.2500\n",
      "Epoch 42/50\n",
      "32/32 [==============================] - 0s 7ms/step - loss: 1.5914 - acc: 0.4062\n",
      "Epoch 43/50\n",
      "32/32 [==============================] - 0s 8ms/step - loss: 2.1536 - acc: 0.3438\n",
      "Epoch 44/50\n",
      "32/32 [==============================] - 0s 8ms/step - loss: 3.3359 - acc: 0.4375\n",
      "Epoch 45/50\n",
      "32/32 [==============================] - 0s 6ms/step - loss: 1.6905 - acc: 0.4375\n",
      "Epoch 46/50\n",
      "32/32 [==============================] - 0s 8ms/step - loss: 2.1603 - acc: 0.3750\n",
      "Epoch 47/50\n",
      "32/32 [==============================] - 0s 6ms/step - loss: 2.6341 - acc: 0.4062\n",
      "Epoch 48/50\n",
      "32/32 [==============================] - 0s 9ms/step - loss: 2.9574 - acc: 0.2812\n",
      "Epoch 49/50\n",
      "32/32 [==============================] - 0s 7ms/step - loss: 2.5818 - acc: 0.3438\n",
      "Epoch 50/50\n",
      "32/32 [==============================] - 0s 8ms/step - loss: 1.6340 - acc: 0.3750\n"
     ]
    },
    {
     "data": {
      "text/plain": [
       "<keras.callbacks.History at 0x7f776eb97d10>"
      ]
     },
     "execution_count": 11,
     "metadata": {},
     "output_type": "execute_result"
    }
   ],
   "source": [
    "# and now train the model\n",
    "# batch_size should be appropriate to your memory size\n",
    "model.fit_generator(generator=data_gen_custom,\n",
    "                    steps_per_epoch=32,\n",
    "                    epochs=50)"
   ]
  },
  {
   "cell_type": "code",
   "execution_count": 163,
   "metadata": {
    "hidden": true
   },
   "outputs": [
    {
     "name": "stdout",
     "output_type": "stream",
     "text": [
      "[[88.76638]]\n"
     ]
    }
   ],
   "source": [
    "input1 = np.arange(80,84).reshape(1,WINDOW_LENGTH,1)\n",
    "\n",
    "predicted = model.predict(input1)\n",
    "print(predicted)"
   ]
  },
  {
   "cell_type": "markdown",
   "metadata": {},
   "source": [
    "#### Multi-sequence predictor"
   ]
  },
  {
   "cell_type": "code",
   "execution_count": 17,
   "metadata": {},
   "outputs": [],
   "source": [
    "from keras.utils import Sequence\n",
    "\n",
    "class TimeseriesGeneratorTwoInputs(Sequence):\n",
    "    \"\"\"Utility class for generating batches of temporal data.\n",
    "    This class takes in a sequence of data-points gathered at\n",
    "    equal intervals, along with time series parameters such as\n",
    "    stride, length of history, etc., to produce batches for\n",
    "    training/validation.\n",
    "    \n",
    "    Adapted from the TimeseriesGenerator class:\n",
    "    https://github.com/keras-team/keras/blob/master/keras/utils/data_utils.py#L302\n",
    "    \"\"\"\n",
    "\n",
    "    def __init__(self, data1, data2, targets, length,\n",
    "                 sampling_rate=1,\n",
    "                 stride=1,\n",
    "                 start_index=0,\n",
    "                 end_index=None,\n",
    "                 shuffle=False,\n",
    "                 reverse=False,\n",
    "                 batch_size=128):\n",
    "        self.data1 = data1\n",
    "        self.data2 = data2\n",
    "        assert len(data1) == len(data2)\n",
    "        self.targets = targets\n",
    "        self.length = length\n",
    "        self.sampling_rate = sampling_rate\n",
    "        self.stride = stride\n",
    "        self.start_index = start_index + length\n",
    "        if end_index is None:\n",
    "            end_index = len(data1) - 1\n",
    "        self.end_index = end_index\n",
    "        self.shuffle = shuffle\n",
    "        self.reverse = reverse\n",
    "        self.batch_size = batch_size\n",
    "\n",
    "        if self.start_index > self.end_index:\n",
    "            raise ValueError('`start_index+length=%i > end_index=%i` '\n",
    "                             'is disallowed, as no part of the sequence '\n",
    "                             'would be left to be used as current step.'\n",
    "                             % (self.start_index, self.end_index))\n",
    "\n",
    "    def __len__(self):\n",
    "        return int(np.ceil(\n",
    "            (self.end_index - self.start_index + 1) /\n",
    "            (self.batch_size * self.stride)))\n",
    "\n",
    "    def _empty_batch(self, num_rows):\n",
    "        samples_shape = [num_rows, self.length // self.sampling_rate]\n",
    "        samples_shape.extend(self.data1.shape[1:])\n",
    "        targets_shape = [num_rows]\n",
    "        targets_shape.extend(self.targets.shape[1:])\n",
    "        return np.empty(samples_shape), np.empty(samples_shape), np.empty(targets_shape)\n",
    "\n",
    "    def __getitem__(self, index):\n",
    "        if self.shuffle:\n",
    "            rows = np.random.randint(\n",
    "                self.start_index, self.end_index + 1, size=self.batch_size)\n",
    "        else:\n",
    "            i = self.start_index + self.batch_size * self.stride * index\n",
    "            rows = np.arange(i, min(i + self.batch_size *\n",
    "                                    self.stride, self.end_index + 1), self.stride)\n",
    "\n",
    "        samples1, samples2, targets = self._empty_batch(len(rows))\n",
    "        for j, row in enumerate(rows):\n",
    "            indices = range(rows[j] - self.length, rows[j], self.sampling_rate)\n",
    "            samples1[j] = self.data1[indices]\n",
    "            samples2[j] = self.data2[indices]\n",
    "            targets[j] = self.targets[rows[j]]\n",
    "        if self.reverse:\n",
    "            return [samples1[:, ::-1, ...], samples2[:, ::-1, ...]], targets\n",
    "        return [samples1, samples2], targets\n"
   ]
  },
  {
   "cell_type": "code",
   "execution_count": 18,
   "metadata": {},
   "outputs": [],
   "source": [
    "data1 = np.arange(0,100).reshape(-1,1)\n",
    "data2 = np.arange(0,100).reshape(-1,1)\n",
    "data_gen = TimeseriesGeneratorTwoInputs(data1, data2, data2, length=WINDOW_LENGTH, sampling_rate=1, batch_size=1)"
   ]
  },
  {
   "cell_type": "code",
   "execution_count": 25,
   "metadata": {},
   "outputs": [
    {
     "name": "stdout",
     "output_type": "stream",
     "text": [
      "__________________________________________________________________________________________________\n",
      "Layer (type)                    Output Shape         Param #     Connected to                     \n",
      "==================================================================================================\n",
      "input_9 (InputLayer)            (None, 4, 1)         0                                            \n",
      "__________________________________________________________________________________________________\n",
      "input_10 (InputLayer)           (None, 4, 1)         0                                            \n",
      "__________________________________________________________________________________________________\n",
      "lstm_9 (LSTM)                   (None, 100)          40800       input_9[0][0]                    \n",
      "__________________________________________________________________________________________________\n",
      "lstm_10 (LSTM)                  (None, 100)          40800       input_10[0][0]                   \n",
      "__________________________________________________________________________________________________\n",
      "concatenate_4 (Concatenate)     (None, 200)          0           lstm_9[0][0]                     \n",
      "                                                                 lstm_10[0][0]                    \n",
      "__________________________________________________________________________________________________\n",
      "dense_11 (Dense)                (None, 20)           4020        concatenate_4[0][0]              \n",
      "__________________________________________________________________________________________________\n",
      "dense_12 (Dense)                (None, 1)            21          dense_11[0][0]                   \n",
      "==================================================================================================\n",
      "Total params: 85,641\n",
      "Trainable params: 85,641\n",
      "Non-trainable params: 0\n",
      "__________________________________________________________________________________________________\n"
     ]
    }
   ],
   "source": [
    "data_dim = 1\n",
    "\n",
    "# First layer\n",
    "input1 = Input(shape=(WINDOW_LENGTH, data_dim))\n",
    "input2 = Input(shape=(WINDOW_LENGTH, data_dim))\n",
    "lstm1 = LSTM(100)(input1)\n",
    "lstm2 = LSTM(100)(input2)\n",
    "\n",
    "# Second layer\n",
    "merged = keras.layers.concatenate([lstm1, lstm2])\n",
    "\n",
    "# Third layer\n",
    "hidden = Dense(20, activation='relu')(merged)\n",
    "output = Dense(data_dim, activation='linear')(hidden)\n",
    "\n",
    "model = Model(inputs=[input1, input2], outputs=output)\n",
    "model.compile(loss='mse', optimizer='rmsprop', metrics=['accuracy'])\n",
    "model.summary()"
   ]
  },
  {
   "cell_type": "code",
   "execution_count": 26,
   "metadata": {
    "scrolled": true
   },
   "outputs": [
    {
     "name": "stdout",
     "output_type": "stream",
     "text": [
      "Epoch 1/50\n",
      "32/32 [==============================] - 2s 63ms/step - loss: 2304.6477 - acc: 0.0000e+00\n",
      "Epoch 2/50\n",
      "32/32 [==============================] - 0s 8ms/step - loss: 1496.8769 - acc: 0.0000e+00\n",
      "Epoch 3/50\n",
      "32/32 [==============================] - 0s 8ms/step - loss: 773.9431 - acc: 0.0312\n",
      "Epoch 4/50\n",
      "32/32 [==============================] - 0s 9ms/step - loss: 312.1340 - acc: 0.0938\n",
      "Epoch 5/50\n",
      "32/32 [==============================] - 0s 8ms/step - loss: 136.2790 - acc: 0.0625\n",
      "Epoch 6/50\n",
      "32/32 [==============================] - 0s 8ms/step - loss: 55.5633 - acc: 0.2188\n",
      "Epoch 7/50\n",
      "32/32 [==============================] - 0s 9ms/step - loss: 25.0596 - acc: 0.0938\n",
      "Epoch 8/50\n",
      "32/32 [==============================] - 0s 8ms/step - loss: 11.9308 - acc: 0.0938\n",
      "Epoch 9/50\n",
      "32/32 [==============================] - 0s 9ms/step - loss: 9.8678 - acc: 0.1562  ETA: 0s - loss: 10.1129 - acc: 0.000\n",
      "Epoch 10/50\n",
      "32/32 [==============================] - 0s 8ms/step - loss: 4.8735 - acc: 0.1875\n",
      "Epoch 11/50\n",
      "32/32 [==============================] - 0s 10ms/step - loss: 6.9226 - acc: 0.2812\n",
      "Epoch 12/50\n",
      "32/32 [==============================] - 0s 9ms/step - loss: 7.1577 - acc: 0.1562\n",
      "Epoch 13/50\n",
      "32/32 [==============================] - 0s 11ms/step - loss: 5.5719 - acc: 0.2500\n",
      "Epoch 14/50\n",
      "32/32 [==============================] - 0s 11ms/step - loss: 5.2186 - acc: 0.2500\n",
      "Epoch 15/50\n",
      "32/32 [==============================] - 0s 9ms/step - loss: 5.4549 - acc: 0.1875\n",
      "Epoch 16/50\n",
      "32/32 [==============================] - 0s 8ms/step - loss: 4.8789 - acc: 0.2812\n",
      "Epoch 17/50\n",
      "32/32 [==============================] - 0s 10ms/step - loss: 7.3475 - acc: 0.4062\n",
      "Epoch 18/50\n",
      "32/32 [==============================] - 0s 11ms/step - loss: 2.6431 - acc: 0.3438\n",
      "Epoch 19/50\n",
      "32/32 [==============================] - 0s 11ms/step - loss: 5.3586 - acc: 0.2812\n",
      "Epoch 20/50\n",
      "32/32 [==============================] - 0s 12ms/step - loss: 4.3871 - acc: 0.2812\n",
      "Epoch 21/50\n",
      "32/32 [==============================] - 0s 11ms/step - loss: 4.0671 - acc: 0.1875\n",
      "Epoch 22/50\n",
      "32/32 [==============================] - 0s 11ms/step - loss: 4.2554 - acc: 0.3438\n",
      "Epoch 23/50\n",
      "32/32 [==============================] - 0s 9ms/step - loss: 5.0778 - acc: 0.2500\n",
      "Epoch 24/50\n",
      "32/32 [==============================] - 0s 9ms/step - loss: 3.5511 - acc: 0.1875\n",
      "Epoch 25/50\n",
      "32/32 [==============================] - 0s 10ms/step - loss: 2.0089 - acc: 0.1875\n",
      "Epoch 26/50\n",
      "32/32 [==============================] - 0s 12ms/step - loss: 3.9304 - acc: 0.1875\n",
      "Epoch 27/50\n",
      "32/32 [==============================] - 0s 13ms/step - loss: 4.1473 - acc: 0.4062\n",
      "Epoch 28/50\n",
      "32/32 [==============================] - 0s 11ms/step - loss: 3.2874 - acc: 0.4062\n",
      "Epoch 29/50\n",
      "32/32 [==============================] - 0s 9ms/step - loss: 3.4132 - acc: 0.3750\n",
      "Epoch 30/50\n",
      "32/32 [==============================] - 0s 9ms/step - loss: 3.8469 - acc: 0.2188\n",
      "Epoch 31/50\n",
      "32/32 [==============================] - 0s 12ms/step - loss: 3.0509 - acc: 0.2500\n",
      "Epoch 32/50\n",
      "32/32 [==============================] - 0s 13ms/step - loss: 3.0717 - acc: 0.3438\n",
      "Epoch 33/50\n",
      "32/32 [==============================] - 0s 9ms/step - loss: 2.5178 - acc: 0.3438\n",
      "Epoch 34/50\n",
      "32/32 [==============================] - 0s 9ms/step - loss: 4.2087 - acc: 0.3750\n",
      "Epoch 35/50\n",
      "32/32 [==============================] - 0s 11ms/step - loss: 3.1665 - acc: 0.2188\n",
      "Epoch 36/50\n",
      "32/32 [==============================] - 0s 8ms/step - loss: 2.8151 - acc: 0.2812\n",
      "Epoch 37/50\n",
      "32/32 [==============================] - 0s 9ms/step - loss: 3.6251 - acc: 0.3438\n",
      "Epoch 38/50\n",
      "32/32 [==============================] - 0s 10ms/step - loss: 2.4916 - acc: 0.3438\n",
      "Epoch 39/50\n",
      "32/32 [==============================] - 0s 10ms/step - loss: 2.4056 - acc: 0.2500\n",
      "Epoch 40/50\n",
      "32/32 [==============================] - 0s 9ms/step - loss: 3.7844 - acc: 0.1875\n",
      "Epoch 41/50\n",
      "32/32 [==============================] - 0s 10ms/step - loss: 1.6792 - acc: 0.3125\n",
      "Epoch 42/50\n",
      "32/32 [==============================] - 0s 8ms/step - loss: 2.8809 - acc: 0.2188\n",
      "Epoch 43/50\n",
      "32/32 [==============================] - 0s 9ms/step - loss: 2.4726 - acc: 0.3750\n",
      "Epoch 44/50\n",
      "32/32 [==============================] - 0s 9ms/step - loss: 3.4753 - acc: 0.2812\n",
      "Epoch 45/50\n",
      "32/32 [==============================] - 0s 9ms/step - loss: 2.1072 - acc: 0.4062\n",
      "Epoch 46/50\n",
      "32/32 [==============================] - 0s 10ms/step - loss: 2.4430 - acc: 0.4375\n",
      "Epoch 47/50\n",
      "32/32 [==============================] - 0s 9ms/step - loss: 2.9202 - acc: 0.3750\n",
      "Epoch 48/50\n",
      "32/32 [==============================] - 0s 9ms/step - loss: 2.3381 - acc: 0.5000\n",
      "Epoch 49/50\n",
      "32/32 [==============================] - 0s 9ms/step - loss: 1.3882 - acc: 0.6250\n",
      "Epoch 50/50\n",
      "32/32 [==============================] - 0s 9ms/step - loss: 2.6864 - acc: 0.3750\n"
     ]
    },
    {
     "data": {
      "text/plain": [
       "<keras.callbacks.History at 0x7f776dffbfd0>"
      ]
     },
     "execution_count": 26,
     "metadata": {},
     "output_type": "execute_result"
    }
   ],
   "source": [
    "# and now train the model\n",
    "# batch_size should be appropriate to your memory size\n",
    "# number of epochs should be higher for real world problems\n",
    "# model.fit(X_train, y_train, batch_size=450, epochs=10, validation_split=0.05)\n",
    "model.fit_generator(generator=data_gen,\n",
    "                    steps_per_epoch=32,\n",
    "                    epochs=50)"
   ]
  },
  {
   "cell_type": "code",
   "execution_count": 29,
   "metadata": {},
   "outputs": [
    {
     "name": "stdout",
     "output_type": "stream",
     "text": [
      "[[83.56241]]\n"
     ]
    }
   ],
   "source": [
    "input1 = np.arange(80,84).reshape(1,4,1)\n",
    "input2 = np.arange(80,84).reshape(1,4,1) #np.arange(80,85).reshape(1,5,1)\n",
    "\n",
    "predicted = model.predict([input1,input2])\n",
    "print(predicted)"
   ]
  },
  {
   "cell_type": "markdown",
   "metadata": {
    "heading_collapsed": true
   },
   "source": [
    "#### Stateful predictor"
   ]
  },
  {
   "cell_type": "markdown",
   "metadata": {
    "hidden": true
   },
   "source": [
    "Inspired by this [question](https://stackoverflow.com/questions/38081263/stream-output-of-predictions-in-keras)."
   ]
  },
  {
   "cell_type": "code",
   "execution_count": 153,
   "metadata": {
    "hidden": true
   },
   "outputs": [],
   "source": [
    "# Use keras TimeseriesGenerator to turn a sequence\n",
    "# into multiple windows of sequences\n",
    "WINDOW_LENGTH = 4\n",
    "\n",
    "def get_generator(data, targets, window_length = 5, batch_size = 32):\n",
    "    while True:\n",
    "        data_gen = TimeseriesGenerator(data, targets, length=window_length, \n",
    "                                       sampling_rate=1, batch_size=batch_size)\n",
    "        for i in range(len(data_gen)):\n",
    "            x, y = data_gen[i]\n",
    "            yield x, y\n",
    "\n",
    "data = np.arange(0,100).reshape(-1,1)\n",
    "data_gen_custom = get_generator(data, data, window_length=WINDOW_LENGTH, batch_size=1)\n",
    "data_gen = TimeseriesGenerator(data, data, length=WINDOW_LENGTH, sampling_rate=1, batch_size=1)"
   ]
  },
  {
   "cell_type": "code",
   "execution_count": 158,
   "metadata": {
    "hidden": true
   },
   "outputs": [
    {
     "name": "stdout",
     "output_type": "stream",
     "text": [
      "_________________________________________________________________\n",
      "Layer (type)                 Output Shape              Param #   \n",
      "=================================================================\n",
      "input_15 (InputLayer)        (None, 4, 1)              0         \n",
      "_________________________________________________________________\n",
      "lstm_15 (LSTM)               (None, 100)               40800     \n",
      "_________________________________________________________________\n",
      "dense_23 (Dense)             (None, 20)                2020      \n",
      "_________________________________________________________________\n",
      "dense_24 (Dense)             (None, 1)                 21        \n",
      "=================================================================\n",
      "Total params: 42,841\n",
      "Trainable params: 42,841\n",
      "Non-trainable params: 0\n",
      "_________________________________________________________________\n"
     ]
    }
   ],
   "source": [
    "data_dim = 1\n",
    "input1 = Input(shape=(WINDOW_LENGTH, data_dim))\n",
    "lstm1 = LSTM(100)(input1)\n",
    "\n",
    "hidden = Dense(20, activation='relu')(lstm1)\n",
    "output = Dense(data_dim, activation='linear')(hidden)\n",
    "\n",
    "model = Model(inputs=input1, outputs=output)\n",
    "model.compile(loss='mse', optimizer='rmsprop', metrics=['accuracy'])\n",
    "model.summary()"
   ]
  },
  {
   "cell_type": "code",
   "execution_count": 159,
   "metadata": {
    "hidden": true,
    "scrolled": true
   },
   "outputs": [
    {
     "name": "stdout",
     "output_type": "stream",
     "text": [
      "Epoch 1/50\n",
      "32/32 [==============================] - 2s 56ms/step - loss: 1207.1231 - acc: 0.0000e+00\n",
      "Epoch 2/50\n",
      "32/32 [==============================] - 0s 8ms/step - loss: 3078.6028 - acc: 0.0000e+00\n",
      "Epoch 3/50\n",
      "32/32 [==============================] - 0s 6ms/step - loss: 1717.6385 - acc: 0.4375\n",
      "Epoch 4/50\n",
      "32/32 [==============================] - 0s 6ms/step - loss: 232.1851 - acc: 0.0000e+00\n",
      "Epoch 5/50\n",
      "32/32 [==============================] - 0s 6ms/step - loss: 1245.5542 - acc: 0.0000e+00\n",
      "Epoch 6/50\n",
      "32/32 [==============================] - 0s 6ms/step - loss: 721.2272 - acc: 0.2812\n",
      "Epoch 7/50\n",
      "32/32 [==============================] - 0s 6ms/step - loss: 5.9430 - acc: 0.3125\n",
      "Epoch 8/50\n",
      "32/32 [==============================] - 0s 6ms/step - loss: 230.0934 - acc: 0.0000e+00\n",
      "Epoch 9/50\n",
      "32/32 [==============================] - 0s 6ms/step - loss: 174.0416 - acc: 0.0312\n",
      "Epoch 10/50\n",
      "32/32 [==============================] - 0s 9ms/step - loss: 1.5908 - acc: 0.0000e+00\n",
      "Epoch 11/50\n",
      "32/32 [==============================] - 0s 7ms/step - loss: 5.7939 - acc: 0.0938\n",
      "Epoch 12/50\n",
      "32/32 [==============================] - 0s 6ms/step - loss: 12.8146 - acc: 0.0625\n",
      "Epoch 13/50\n",
      "32/32 [==============================] - 0s 6ms/step - loss: 2.9901 - acc: 0.0000e+00\n",
      "Epoch 14/50\n",
      "32/32 [==============================] - 0s 7ms/step - loss: 2.0728 - acc: 0.0625\n",
      "Epoch 15/50\n",
      "32/32 [==============================] - 0s 9ms/step - loss: 1.6761 - acc: 0.0938\n",
      "Epoch 16/50\n",
      "32/32 [==============================] - 0s 8ms/step - loss: 2.9565 - acc: 0.0000e+00\n",
      "Epoch 17/50\n",
      "32/32 [==============================] - 0s 7ms/step - loss: 2.9506 - acc: 0.0312\n",
      "Epoch 18/50\n",
      "32/32 [==============================] - 0s 8ms/step - loss: 0.8982 - acc: 0.1562\n",
      "Epoch 19/50\n",
      "32/32 [==============================] - 0s 8ms/step - loss: 2.5198 - acc: 0.0000e+00\n",
      "Epoch 20/50\n",
      "32/32 [==============================] - 0s 6ms/step - loss: 3.0914 - acc: 0.0625\n",
      "Epoch 21/50\n",
      "32/32 [==============================] - 0s 9ms/step - loss: 0.7808 - acc: 0.1562\n",
      "Epoch 22/50\n",
      "32/32 [==============================] - 0s 8ms/step - loss: 2.3043 - acc: 0.0000e+00\n",
      "Epoch 23/50\n",
      "32/32 [==============================] - 0s 7ms/step - loss: 3.0724 - acc: 0.0312\n",
      "Epoch 24/50\n",
      "32/32 [==============================] - 0s 6ms/step - loss: 0.6515 - acc: 0.2188\n",
      "Epoch 25/50\n",
      "32/32 [==============================] - 0s 6ms/step - loss: 2.1058 - acc: 0.0000e+00\n",
      "Epoch 26/50\n",
      "32/32 [==============================] - 0s 6ms/step - loss: 2.8847 - acc: 0.0625\n",
      "Epoch 27/50\n",
      "32/32 [==============================] - 0s 7ms/step - loss: 0.6154 - acc: 0.2500\n",
      "Epoch 28/50\n",
      "32/32 [==============================] - 0s 8ms/step - loss: 1.9961 - acc: 0.0000e+00\n",
      "Epoch 29/50\n",
      "32/32 [==============================] - 0s 7ms/step - loss: 2.6972 - acc: 0.0312\n",
      "Epoch 30/50\n",
      "32/32 [==============================] - 0s 6ms/step - loss: 0.5769 - acc: 0.2812\n",
      "Epoch 31/50\n",
      "32/32 [==============================] - 0s 6ms/step - loss: 1.8984 - acc: 0.0000e+00\n",
      "Epoch 32/50\n",
      "32/32 [==============================] - 0s 8ms/step - loss: 2.6221 - acc: 0.0312\n",
      "Epoch 33/50\n",
      "32/32 [==============================] - 0s 7ms/step - loss: 0.5652 - acc: 0.2500\n",
      "Epoch 34/50\n",
      "32/32 [==============================] - 0s 7ms/step - loss: 1.8362 - acc: 0.0000e+00\n",
      "Epoch 35/50\n",
      "32/32 [==============================] - 0s 7ms/step - loss: 2.5412 - acc: 0.0312\n",
      "Epoch 36/50\n",
      "32/32 [==============================] - 0s 8ms/step - loss: 0.5493 - acc: 0.3125\n",
      "Epoch 37/50\n",
      "32/32 [==============================] - 0s 7ms/step - loss: 1.7846 - acc: 0.0000e+00\n",
      "Epoch 38/50\n",
      "32/32 [==============================] - 0s 7ms/step - loss: 2.4983 - acc: 0.0312\n",
      "Epoch 39/50\n",
      "32/32 [==============================] - 0s 8ms/step - loss: 0.5343 - acc: 0.3125\n",
      "Epoch 40/50\n",
      "32/32 [==============================] - 0s 8ms/step - loss: 1.7628 - acc: 0.0000e+00\n",
      "Epoch 41/50\n",
      "32/32 [==============================] - 0s 6ms/step - loss: 2.4318 - acc: 0.0000e+00\n",
      "Epoch 42/50\n",
      "32/32 [==============================] - 0s 8ms/step - loss: 0.5104 - acc: 0.3438\n",
      "Epoch 43/50\n",
      "32/32 [==============================] - 0s 7ms/step - loss: 1.7356 - acc: 0.0000e+00\n",
      "Epoch 44/50\n",
      "32/32 [==============================] - 0s 6ms/step - loss: 2.3171 - acc: 0.0312\n",
      "Epoch 45/50\n",
      "32/32 [==============================] - 0s 9ms/step - loss: 0.5258 - acc: 0.3125\n",
      "Epoch 46/50\n",
      "32/32 [==============================] - 0s 7ms/step - loss: 1.7194 - acc: 0.0000e+00\n",
      "Epoch 47/50\n",
      "32/32 [==============================] - 0s 7ms/step - loss: 2.2677 - acc: 0.0625\n",
      "Epoch 48/50\n",
      "32/32 [==============================] - 0s 7ms/step - loss: 0.5309 - acc: 0.2812\n",
      "Epoch 49/50\n",
      "32/32 [==============================] - 0s 7ms/step - loss: 1.7090 - acc: 0.0000e+00\n",
      "Epoch 50/50\n",
      "32/32 [==============================] - 0s 7ms/step - loss: 2.1772 - acc: 0.0938\n"
     ]
    },
    {
     "data": {
      "text/plain": [
       "<keras.callbacks.History at 0x7f4b7908c2d0>"
      ]
     },
     "execution_count": 159,
     "metadata": {},
     "output_type": "execute_result"
    }
   ],
   "source": [
    "# and now train the model\n",
    "# batch_size should be appropriate to your memory size\n",
    "model.fit_generator(generator=data_gen_custom,\n",
    "                    steps_per_epoch=32,\n",
    "                    epochs=50)"
   ]
  },
  {
   "cell_type": "code",
   "execution_count": 163,
   "metadata": {
    "hidden": true
   },
   "outputs": [
    {
     "name": "stdout",
     "output_type": "stream",
     "text": [
      "[[88.76638]]\n"
     ]
    }
   ],
   "source": [
    "input1 = np.arange(80,84).reshape(1,WINDOW_LENGTH,1)\n",
    "\n",
    "predicted = model.predict(input1)\n",
    "print(predicted)"
   ]
  },
  {
   "cell_type": "markdown",
   "metadata": {
    "heading_collapsed": true
   },
   "source": [
    "### Handling large datasets"
   ]
  },
  {
   "cell_type": "markdown",
   "metadata": {
    "heading_collapsed": true,
    "hidden": true
   },
   "source": [
    "#### README"
   ]
  },
  {
   "cell_type": "markdown",
   "metadata": {
    "hidden": true
   },
   "source": [
    "Required datasets and expected size:\n",
    "\n",
    "#### 1. Units\n",
    "- **Num units**: ~2,000,000 (approx 100 units per song)\n",
    "- **Size per unit**: 36864 bytes (`unit.nbytes` = 8448 elements * float16)\n",
    "- **Total size**: ~74GB (2,000,000 * 37kB) \n",
    "\n",
    "Expect less because many songs don't have pianorolls, and many pianorolls have empty units.\n",
    "\n",
    "~~_Consider changing to float16?_~~ Done.\n",
    "\n",
    "#### 2. Sequence\n",
    "- **Window size**: 4\n",
    "- **Input-Comp-y**: 9 units (4 + 4 + 1)\n",
    "- **Num datapoints**: ~2,000,000\n",
    "- **Total size**: ~700GB = 9 x 2,000,000 x 37kB\n",
    "\n",
    "Let's not do it like this. :("
   ]
  },
  {
   "cell_type": "markdown",
   "metadata": {
    "heading_collapsed": true,
    "hidden": true
   },
   "source": [
    "#### Using numpy memory maps"
   ]
  },
  {
   "cell_type": "code",
   "execution_count": 15,
   "metadata": {
    "hidden": true
   },
   "outputs": [
    {
     "data": {
      "text/plain": [
       "'/tmp/tmpIRs4Qf/newfile.dat'"
      ]
     },
     "execution_count": 15,
     "metadata": {},
     "output_type": "execute_result"
    }
   ],
   "source": [
    "import numpy as np\n",
    "from tempfile import mkdtemp\n",
    "import os.path as path\n",
    "filename = path.join(mkdtemp(), 'newfile.dat') # create temp file for memmap\n",
    "filename"
   ]
  },
  {
   "cell_type": "code",
   "execution_count": 13,
   "metadata": {
    "hidden": true
   },
   "outputs": [],
   "source": [
    "a = np.memmap(filename, dtype='float32', mode='w+', shape=(200000,1000))"
   ]
  },
  {
   "cell_type": "code",
   "execution_count": 16,
   "metadata": {
    "hidden": true
   },
   "outputs": [
    {
     "data": {
      "text/plain": [
       "memmap([[0., 0., 0., ..., 0., 0., 0.],\n",
       "        [0., 0., 0., ..., 0., 0., 0.],\n",
       "        [0., 0., 0., ..., 0., 0., 0.],\n",
       "        ...,\n",
       "        [0., 0., 0., ..., 0., 0., 0.],\n",
       "        [0., 0., 0., ..., 0., 0., 0.],\n",
       "        [0., 0., 0., ..., 0., 0., 0.]], dtype=float32)"
      ]
     },
     "execution_count": 16,
     "metadata": {},
     "output_type": "execute_result"
    }
   ],
   "source": [
    "a"
   ]
  },
  {
   "cell_type": "markdown",
   "metadata": {
    "hidden": true
   },
   "source": [
    "#### Using hdf5"
   ]
  },
  {
   "cell_type": "markdown",
   "metadata": {
    "heading_collapsed": true,
    "hidden": true
   },
   "source": [
    "##### Basics\n",
    "From the [docs](http://docs.h5py.org/en/latest/quick.html#quick)."
   ]
  },
  {
   "cell_type": "code",
   "execution_count": 26,
   "metadata": {
    "hidden": true
   },
   "outputs": [
    {
     "name": "stdout",
     "output_type": "stream",
     "text": [
      "(100,)\n"
     ]
    }
   ],
   "source": [
    "import h5py\n",
    "import numpy as np\n",
    "filename = \"mytestfile.hdf5\"\n",
    "with h5py.File(filename, \"w\") as f:\n",
    "    dset = f.create_dataset(\"mydataset\", (100,), dtype='float32')\n",
    "    print(dset.shape)\n",
    "    dset = np.arange(100)"
   ]
  },
  {
   "cell_type": "code",
   "execution_count": 28,
   "metadata": {
    "hidden": true
   },
   "outputs": [
    {
     "name": "stdout",
     "output_type": "stream",
     "text": [
      "[u'mydataset']\n",
      "[0. 0. 0. 0. 0. 0. 0. 0. 0. 0. 0. 0. 0. 0. 0. 0. 0. 0. 0. 0. 0. 0. 0. 0.\n",
      " 0. 0. 0. 0. 0. 0. 0. 0. 0. 0. 0. 0. 0. 0. 0. 0. 0. 0. 0. 0. 0. 0. 0. 0.\n",
      " 0. 0. 0. 0. 0. 0. 0. 0. 0. 0. 0. 0. 0. 0. 0. 0. 0. 0. 0. 0. 0. 0. 0. 0.\n",
      " 0. 0. 0. 0. 0. 0. 0. 0. 0. 0. 0. 0. 0. 0. 0. 0. 0. 0. 0. 0. 0. 0. 0. 0.\n",
      " 0. 0. 0. 0.]\n"
     ]
    }
   ],
   "source": [
    "with h5py.File('mytestfile.hdf5', 'r') as f:\n",
    "    print(f.keys())\n",
    "    print(f['mydataset'][...])"
   ]
  },
  {
   "cell_type": "markdown",
   "metadata": {
    "heading_collapsed": true,
    "hidden": true
   },
   "source": [
    "##### Resizable datasets\n",
    "From [this StackOverflow question](https://stackoverflow.com/questions/25655588/incremental-writes-to-hdf5-with-h5py?rq=1)."
   ]
  },
  {
   "cell_type": "code",
   "execution_count": 16,
   "metadata": {
    "hidden": true
   },
   "outputs": [],
   "source": [
    "NUM_PITCHES = 2\n",
    "NUM_TICKS = 2"
   ]
  },
  {
   "cell_type": "code",
   "execution_count": 18,
   "metadata": {
    "hidden": true
   },
   "outputs": [
    {
     "name": "stdout",
     "output_type": "stream",
     "text": [
      "(0, 2, 2)\n",
      "(6, 2, 2)\n",
      "(14, 2, 2)\n",
      "(20, 2, 2)\n",
      "[[[0.8500343  0.38689092]\n",
      "  [0.77727604 0.81265455]]\n",
      "\n",
      " [[0.02969339 0.9345693 ]\n",
      "  [0.7920879  0.6325009 ]]\n",
      "\n",
      " [[0.469871   0.9079007 ]\n",
      "  [0.5759628  0.30690378]]\n",
      "\n",
      " [[0.8580788  0.4767191 ]\n",
      "  [0.5276081  0.67525065]]\n",
      "\n",
      " [[0.5185089  0.28715146]\n",
      "  [0.693969   0.04807708]]\n",
      "\n",
      " [[0.92874354 0.58465916]\n",
      "  [0.55231214 0.9883768 ]]\n",
      "\n",
      " [[0.558073   0.5707375 ]\n",
      "  [0.35652852 0.9255937 ]]\n",
      "\n",
      " [[0.15850353 0.6380559 ]\n",
      "  [0.03733948 0.8015228 ]]\n",
      "\n",
      " [[0.4627496  0.29987308]\n",
      "  [0.58572066 0.4374565 ]]\n",
      "\n",
      " [[0.2547735  0.0240215 ]\n",
      "  [0.32339704 0.9560488 ]]\n",
      "\n",
      " [[0.5013472  0.15711232]\n",
      "  [0.19503206 0.35899225]]\n",
      "\n",
      " [[0.20521723 0.16368036]\n",
      "  [0.39066824 0.33925653]]\n",
      "\n",
      " [[0.00412564 0.1533687 ]\n",
      "  [0.40302402 0.13068216]]\n",
      "\n",
      " [[0.1632349  0.3924986 ]\n",
      "  [0.28279847 0.44609523]]\n",
      "\n",
      " [[0.07656287 0.96613854]\n",
      "  [0.48486853 0.5650878 ]]\n",
      "\n",
      " [[0.6720959  0.5388782 ]\n",
      "  [0.01575743 0.23220679]]\n",
      "\n",
      " [[0.28818586 0.02435029]\n",
      "  [0.15015216 0.9223505 ]]\n",
      "\n",
      " [[0.27819735 0.8705458 ]\n",
      "  [0.01930406 0.8838827 ]]\n",
      "\n",
      " [[0.5650662  0.73405254]\n",
      "  [0.7591451  0.19757618]]\n",
      "\n",
      " [[0.00543595 0.6452691 ]\n",
      "  [0.60433894 0.61726624]]]\n"
     ]
    }
   ],
   "source": [
    "import os\n",
    "import h5py\n",
    "import numpy as np\n",
    "path = '/tmp/out.h5'\n",
    "os.remove(path)\n",
    "with h5py.File(path, \"a\") as f:\n",
    "    dset = f.create_dataset('units', (0, NUM_PITCHES, NUM_TICKS), maxshape=(None, NUM_PITCHES, NUM_TICKS),\n",
    "                            dtype='float32', chunks=True)\n",
    "    print(dset.shape)\n",
    "\n",
    "    for i in range(3):\n",
    "        # Load pianoroll\n",
    "        # Extract units\n",
    "        M = np.random.randint(5,10)\n",
    "        units = np.random.rand(M, NUM_PITCHES, NUM_TICKS)\n",
    "        \n",
    "        # Append to dataset\n",
    "        dset.resize(dset.shape[0]+M, axis=0)\n",
    "        dset[-M:] = units\n",
    "        \n",
    "        print(dset.shape)\n",
    "\n",
    "    print(dset[:])"
   ]
  }
 ],
 "metadata": {
  "kernelspec": {
   "display_name": "Python 2",
   "language": "python",
   "name": "python2"
  },
  "language_info": {
   "codemirror_mode": {
    "name": "ipython",
    "version": 2
   },
   "file_extension": ".py",
   "mimetype": "text/x-python",
   "name": "python",
   "nbconvert_exporter": "python",
   "pygments_lexer": "ipython2",
   "version": "2.7.12"
  }
 },
 "nbformat": 4,
 "nbformat_minor": 2
}
