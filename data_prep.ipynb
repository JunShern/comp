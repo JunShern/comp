{
 "cells": [
  {
   "cell_type": "markdown",
   "metadata": {},
   "source": [
    "# Data Preparation\n",
    "This notebook details the data preparation steps for Comper."
   ]
  },
  {
   "cell_type": "markdown",
   "metadata": {},
   "source": [
    "## 1. Grab the dataset\n",
    "1. Go to [https://salu133445.github.io/musegan/dataset](https://salu133445.github.io/musegan/dataset)\n",
    "2. Download the `lpd-5-cleansed.tgz` dataset.\n",
    "3. Extract it into a folder `lpd-5-cleansed`.\n",
    "4. You should see three layers of subfolders labelled 'A'-'J', and then leaf folders named something like `TRJJFLV128F92FC46E/`, each containing a file which looks something like `c28d6d22cf7298890c5cc5f21ac2244d.npz` (this is a numpy zip file, more information [here](https://salu133445.github.io/pypianoroll/save_load.html))"
   ]
  },
  {
   "cell_type": "markdown",
   "metadata": {},
   "source": [
    "## 2. Flatten all files into one folder\n",
    "\n",
    "1. `cd` to the root of your dataset.\n",
    "2. Check that there are 24474 .npz files using \n",
    "```bash\n",
    "find . -mindepth 2 -type f | wc -l\n",
    "```\n",
    "3. Move all files to the current directory for easier access later: \n",
    "```bash\n",
    "find . -mindepth 2 -type f -print -exec mv --backup=numbered {} . \\;\n",
    "``` \n",
    "([What?](https://askubuntu.com/questions/146634/shell-script-to-move-all-files-from-subfolders-to-parent-folder))\n",
    "4. Rename all \"~#~\" extensions to \"~#.npz\" so that numpy doesn't reject the file later on.\n",
    "```bash\n",
    "rename 's/\\~$/\\.npz/' *~\n",
    "```\n",
    "4. Remove the empty folders `rm -r */` (Don't forget the slash!)\n",
    "5. Confirm that you have the correct number of files using `ls | wc -l`.\n"
   ]
  },
  {
   "cell_type": "markdown",
   "metadata": {},
   "source": [
    "## 3. Grab a random subset of files to play with\n",
    "We'll use 100 files to start. "
   ]
  },
  {
   "cell_type": "code",
   "execution_count": 1,
   "metadata": {},
   "outputs": [],
   "source": [
    "import os, shutil\n",
    "import random\n",
    "import sys\n",
    "import numpy as np\n",
    "import pypianoroll\n",
    "from matplotlib import pyplot as plt\n",
    "import cPickle as pickle\n",
    "import pianoroll_utils\n",
    "\n",
    "LPD5_DIR = \"/media/junshern/s_drive/FYP/MIDI/lpd_5_cleansed_copy\"\n",
    "DATA_DIR = \"./pianorolls\"\n",
    "NUM_FILES = 50\n",
    "PICKLE_FILE = './pickle_jar/units_50_songs.pkl'"
   ]
  },
  {
   "cell_type": "code",
   "execution_count": 2,
   "metadata": {},
   "outputs": [
    {
     "name": "stdout",
     "output_type": "stream",
     "text": [
      "Directory already exists.\n",
      "['82d301e5a595ea741183f694bf5333c5.npz', 'f3e8ec774bf6a416355aa7554db571d9.npz', 'e50e5161e6ebf992fc6cbc03407a59ba.npz', 'd78ea7a9cc48779c717d84f46afa1263.npz.~1.npz', '143ee97082008e4f8781979fe2e42d76.npz.~1.npz', '028f242a4573a4fa2373480618591140.npz', 'fb1c1d20de77b9619b6ec2bebd9a49ee.npz.~1.npz', '7ae9810f15c6da1b35bf98428fa66b3c.npz', '57b45416770340f660095e4388e43d8a.npz', 'a552450902e407fd0d47149582562860.npz']\n"
     ]
    }
   ],
   "source": [
    "\n",
    "# Create a new directory for our pianorolls\n",
    "if not os.path.isdir(DATA_DIR):\n",
    "    os.mkdir(DATA_DIR)\n",
    "    # Grab a random subset of files from our LPD5 dataset to play with\n",
    "    files_subset = random.sample(os.listdir(LPD5_DIR), NUM_FILES) # Sampling without replacement\n",
    "    for filename in files_subset:\n",
    "        src = os.path.join(LPD5_DIR, filename)\n",
    "        dest = os.path.join(DATA_DIR, filename)\n",
    "        shutil.copyfile(src, dest)\n",
    "    print \"Copied\", NUM_FILES, \"files to\", DATA_DIR, \".\"\n",
    "else:\n",
    "    print \"Directory already exists.\"\n",
    "\n",
    "# Print the first 10 files of our chosen subset\n",
    "print(os.listdir(DATA_DIR)[:10])"
   ]
  },
  {
   "cell_type": "markdown",
   "metadata": {},
   "source": [
    "## 4. Inspect the data\n",
    "\n",
    "From the MuseGAN page:\n",
    "\n",
    "> In LPD-5, the tracks of each multi-track piano-rolls are merged into five common categories: bass, drums, piano, guitar and strings according to the program numbers provided in the MIDI files. Note that instruments out of the list are considered as part of the strings\n",
    "\n",
    "We use [pypianoroll](https://github.com/salu133445/pypianoroll), created by the authors of MuseGAN to manipulate the data. The pypianoroll library gives us a ton of helpful methods which makes it easy to find out more about each file. (pypianoroll [docs](https://salu133445.github.io/pypianoroll/index.html))"
   ]
  },
  {
   "cell_type": "code",
   "execution_count": 3,
   "metadata": {},
   "outputs": [
    {
     "name": "stdout",
     "output_type": "stream",
     "text": [
      "cac23620967feace539694f5f1b2bf5a.npz\n",
      "Tempo:  [93.00004185 93.00004185 93.00004185 ... 93.00004185 93.00004185\n",
      " 93.00004185]\n",
      "Beat resolution:  24\n",
      "\n",
      "#####################\n",
      "Name:  Guitar\n",
      "isDrum:  False\n",
      "Program:  24\n",
      "Active length:  2577\n",
      "Active pitch range:  (46, 68)\n",
      "\n",
      "\n",
      "#####################\n",
      "Name:  Piano\n",
      "isDrum:  False\n",
      "Program:  0\n",
      "Active length:  2580\n",
      "Active pitch range:  (29, 41)\n",
      "\n",
      "\n",
      "#####################\n",
      "Name:  Bass\n",
      "isDrum:  False\n",
      "Program:  32\n",
      "Empty pianoroll.\n",
      "\n",
      "\n",
      "#####################\n",
      "Name:  Drums\n",
      "isDrum:  True\n",
      "Program:  0\n",
      "Active length:  2580\n",
      "Active pitch range:  (35, 82)\n",
      "\n",
      "\n",
      "#####################\n",
      "Name:  Strings\n",
      "isDrum:  False\n",
      "Program:  48\n",
      "Active length:  2380\n",
      "Active pitch range:  (70, 73)\n",
      "\n"
     ]
    }
   ],
   "source": [
    "\n",
    "def printInfo(track):\n",
    "    print \"\\n#####################\"\n",
    "    print \"Name: \", track.name\n",
    "    print \"isDrum: \", track.is_drum\n",
    "    print \"Program: \", track.program\n",
    "    if len(track.pianoroll):\n",
    "        print \"Active length: \", track.get_active_length()\n",
    "        print \"Active pitch range: \", track.get_active_pitch_range()\n",
    "    else:\n",
    "        print \"Empty pianoroll.\"\n",
    "    print \"\"\n",
    "\n",
    "# Pick a file to look at\n",
    "filename = random.choice(os.listdir(DATA_DIR))\n",
    "print(filename)\n",
    "# Load pianoroll file as a multitrack object\n",
    "multi = pypianoroll.Multitrack(os.path.join(DATA_DIR, filename))\n",
    "print \"Tempo: \", multi.tempo\n",
    "print \"Beat resolution: \", multi.beat_resolution\n",
    "# Show some info about the pianoroll\n",
    "for track in multi.tracks:\n",
    "    printInfo(track)\n"
   ]
  },
  {
   "cell_type": "markdown",
   "metadata": {},
   "source": [
    "## 5. Extract pianorolls from the Piano track of all files\n",
    "\n",
    "- At this step, very importantly we also clip the velocity values between 0-127. This is essential since later we assume the maximum to be 127 when normalizing the vectors before training/testing. It is not very clear why the values are not already contained within 0-127, but the original dataset appears to have some velocity values up to 500, so we simply clamp all values to be certain."
   ]
  },
  {
   "cell_type": "code",
   "execution_count": 4,
   "metadata": {},
   "outputs": [
    {
     "name": "stdout",
     "output_type": "stream",
     "text": [
      "Complete. Number of pianorolls collected:  33\n"
     ]
    }
   ],
   "source": [
    "pianorolls = [] # List to hold all our piano rolls\n",
    "for filename in os.listdir(DATA_DIR):\n",
    "    # Load pianoroll file as a multitrack object\n",
    "    multi = pypianoroll.Multitrack(os.path.join(DATA_DIR, filename))\n",
    "    for track in multi.tracks:\n",
    "        # Non-empty piano pianoroll\n",
    "        if track.name == \"Piano\" and track.pianoroll.shape[0] > 0:\n",
    "            proll = track.pianoroll\n",
    "            proll = proll.clip(0, 127) # Make sure velocities are between 0-127\n",
    "            pianorolls.append(proll) \n",
    "print \"Complete. Number of pianorolls collected: \", len(pianorolls)"
   ]
  },
  {
   "cell_type": "markdown",
   "metadata": {},
   "source": [
    "\n",
    "## 6. Unit sampling\n",
    "\n",
    "Our model deals with predicting musical _units_ of a pianoroll, which can be for example 4 beats of a pianoroll depending on the chosen `BEATS_PER_UNIT`. The datasets we prepare must then correspond to input/output pairs of musical units.\n",
    "\n",
    "### Model objectives\n",
    "\n",
    "Given an input unit at time $t$, predict an output unit which may be either (depending on a user-selected prediction mode)\n",
    "1. The following unit at time $t+1$\n",
    "2. An accompaniment unit at time $t$\n",
    "3. An accompaniment unit at time $t+1$\n",
    "\n",
    "In the 1st case, the output is simply the _next-step prediction_, used commonly by most composition algorithms. \n",
    "\n",
    "In the 2nd case, the output is an _accompanying pianoroll of the current unit_, either the left-accompaniment or right-accompaniment. For example, given an input pianoroll which is a right-accompaniment, the model will be expected to predict the left-accompaniment for that input.\n",
    "\n",
    "In the 3rd (expectedly most difficult) case, the output is an _accompanying pianoroll of the next unit_, either the left-accompaniment or right-accompaniment. For example, given an input pianoroll which is a right-accompaniment, the model will be expected to predict the left-accompaniment at the next time step.\n",
    "\n",
    "### Unit creation\n",
    "\n",
    "To help the model learn accompaniments, we split each pianoroll from our dataset into two complementary pianorolls which serve as accompaniments for each other. This is done in a naive way, using the `PARTITION_NOTE` as the splitting point to divide the pianoroll along the pitch axis into left- and right- accompaniments (as in left and right hand of a piano player). This approach was inspired by \\[Bretan et al\\]. \n",
    "\n",
    "Each of these pianoroll segments (of fixed tick-length and only containing notes for either left- or right- accompaniments) will be used as a single unit, and is represented by a matrix of shape `[TICKS_PER_UNIT, NUM_PITCHES=128]`. \n",
    "\n",
    "The input and output matrices of our model will have the same shape.\n",
    "\n",
    "### Data structure\n",
    "\n",
    "Since all units have the same shape, this makes it easy to store the data as a 3-dimensional matrix of depth $M$, where $M$ is the number of units (data points).\n",
    "\n",
    "We will create 4 matrices comprising of: the input units, the next step units, the accompaniment units, and the next step accompaniment units. \n",
    "\n",
    "```\n",
    "input_units.shape = [M, TICKS_PER_UNIT, NUM_PITCHES=128]\n",
    "input_units_next.shape = [M, TICKS_PER_UNIT, NUM_PITCHES=128]\n",
    "comp_units.shape = [M, TICKS_PER_UNIT, NUM_PITCHES=128]\n",
    "comp_units_next.shape = [M, TICKS_PER_UNIT, NUM_PITCHES=128]\n",
    "```\n",
    "\n",
    "The unit dimension is ordered are ordered such that the $i$-th input has an output at the $i$-th element of each output matrix. (eg. given `input_units[i,:,:]`, the model should predict `input_units_next[i,:,:]`, `comp_units[i,:,:]`, or `comp_units_next[i,:,:]`)"
   ]
  },
  {
   "cell_type": "code",
   "execution_count": 5,
   "metadata": {},
   "outputs": [],
   "source": [
    "# Dataset definitions\n",
    "NUM_PITCHES = 128\n",
    "PARTITION_NOTE = 60 # Break into left- and right-accompaniments at middle C\n",
    "BEAT_RESOLUTION = 24 # This is set by the encoding of the lpd-5 dataset, corresponds to number of ticks per beat\n",
    "BEATS_PER_UNIT = 4\n",
    "TICKS_PER_UNIT = BEATS_PER_UNIT * BEAT_RESOLUTION\n",
    "MEAN_THRESHOLD = 0.5 # Filter out units with mean values less than 0.5\n",
    "NUM_TRANSPOSITIONS = 3 # Number of transpositions to perform (maximum 12)\n"
   ]
  },
  {
   "cell_type": "code",
   "execution_count": 6,
   "metadata": {},
   "outputs": [],
   "source": [
    "def chop_to_unit_multiple(pianoroll, ticks_per_unit):\n",
    "    \"\"\"\n",
    "    Given an input pianoroll matrix of shape [NUM_TICKS, NUM_PITCHES],\n",
    "    truncate the matrix so that it can be evenly divided into M units.\n",
    "    \n",
    "    Returns [M, pianoroll_truncated]\n",
    "    where M is the largest integer such that M*ticks_per_unit <= NUM_TICKS\n",
    "    and pianoroll_truncated is of shape [M*ticks_per_unit, NUM_PITCHES]\n",
    "    \"\"\"\n",
    "    \n",
    "    num_ticks = pianoroll.shape[0]\n",
    "    num_pitches = pianoroll.shape[1]\n",
    "    \n",
    "    # Get M\n",
    "    M = int(num_ticks / ticks_per_unit) # Floor\n",
    "    # Truncate\n",
    "    pianoroll_truncated = pianoroll[:M*ticks_per_unit, :]\n",
    "    \n",
    "    # Debug assertions\n",
    "    assert(M*ticks_per_unit <= num_ticks)\n",
    "    assert(pianoroll_truncated.shape == (M*ticks_per_unit, num_pitches))\n",
    "    \n",
    "    return [M, pianoroll_truncated]\n",
    "\n",
    "\n",
    "def shuffle_left_right(left_units, left_units_next, right_units, right_units_next):\n",
    "    \"\"\"\n",
    "    Given 4 matrices left, left_next, right, and right_next\n",
    "    return 4 matrices which have left and right randomly exchanged\n",
    "    while maintaining index order, eg:\n",
    "    \n",
    "    [a1,a2,a3,a4]      [a1,b2,b3,a4]\n",
    "    [a2,a3,a4,a5]  ->  [a2,b3,b4,a5]\n",
    "    [b1,b2,b3,b4]      [b1,a2,a3,b4]\n",
    "    [b2,b3,b4,b5]      [b2,a3,a4,b5]\n",
    "    \"\"\"\n",
    "    \n",
    "    bool_array = np.random.randint(0, 2, left_units.shape[0], dtype=bool) # Random True/False\n",
    "    \n",
    "    # Initialize as copies of one side of the accompaniment\n",
    "    input_units = left_units.copy()\n",
    "    input_units_next = left_units_next.copy()\n",
    "    comp_units = right_units.copy()\n",
    "    comp_units_next = right_units_next.copy()\n",
    "\n",
    "    # Replace half of array with elements from the other side\n",
    "    input_units[bool_array, ...] = right_units[bool_array, ...]\n",
    "    input_units_next[bool_array, ...] = right_units_next[bool_array, ...]\n",
    "    comp_units[bool_array, ...] = left_units[bool_array, ...]\n",
    "    comp_units_next[bool_array, ...] = left_units_next[bool_array, ...]\n",
    "    \n",
    "    return [input_units, input_units_next, comp_units, comp_units_next]\n",
    "\n",
    "\n",
    "def create_units(pianoroll, filter_threshold=0):\n",
    "    \"\"\"\n",
    "    Given an input pianoroll matrix of shape [NUM_TICKS, NUM_PITCHES], \n",
    "    return input_units, input_units_next, comp_units, comp_units_next_shape\n",
    "    all of the same shape [M, TICKS PER UNIT, NUM_PITCHES]\n",
    "    \"\"\"\n",
    "    assert(pianoroll.shape[1] == NUM_PITCHES)\n",
    "    \n",
    "    # Truncate pianoroll so it can be evenly divided into units\n",
    "    # Pianoroll is divided into M+1, not M \n",
    "    # since we can only get M next-units for M+1 input units\n",
    "    [M_plus_one, pianoroll] = chop_to_unit_multiple(pianoroll, TICKS_PER_UNIT)\n",
    "    M = M_plus_one - 1\n",
    "    \n",
    "    # Prepare outputs\n",
    "    input_units = np.zeros([M, TICKS_PER_UNIT, NUM_PITCHES])\n",
    "    input_units_next = np.zeros([M, TICKS_PER_UNIT, NUM_PITCHES])\n",
    "    comp_units = np.zeros([M, TICKS_PER_UNIT, NUM_PITCHES])\n",
    "    comp_units_next = np.zeros([M, TICKS_PER_UNIT, NUM_PITCHES])\n",
    "    \n",
    "    # Split pianoroll into left- and right- accompaniments\n",
    "    left_comp = pianoroll.copy()\n",
    "    left_comp[:, PARTITION_NOTE:] = 0\n",
    "    right_comp = pianoroll.copy()\n",
    "    right_comp[:, :PARTITION_NOTE] = 0\n",
    "    \n",
    "    # Get the units by reshaping left_comp and right_comp\n",
    "    all_left_units = left_comp.reshape(M_plus_one, TICKS_PER_UNIT, NUM_PITCHES)\n",
    "    all_right_units = right_comp.reshape(M_plus_one, TICKS_PER_UNIT, NUM_PITCHES)\n",
    "    left_units = all_left_units[:-1,:,:] # All but the last unit\n",
    "    left_units_next = all_left_units[1:,:,:] # Skip the first unit\n",
    "    right_units = all_right_units[:-1,:,:] # All but the last unit\n",
    "    right_units_next = all_right_units[1:,:,:] # Skip the first unit\n",
    "    \n",
    "    # Randomly choose between left/right for input/comp units, \n",
    "    # so the model learns both sides of the accompaniment\n",
    "    [input_units, input_units_next, comp_units, comp_units_next] = \\\n",
    "        shuffle_left_right(left_units, left_units_next, right_units, right_units_next)\n",
    "    \n",
    "    # Filter out near-empty units\n",
    "    input_units_means = np.mean(input_units, axis=(1,2)).squeeze()\n",
    "    filter_array = input_units_means > filter_threshold\n",
    "    input_units = input_units[filter_array, ...]\n",
    "    input_units_next = input_units_next[filter_array, ...]\n",
    "    comp_units = comp_units[filter_array, ...]\n",
    "    comp_units_next = comp_units_next[filter_array, ...]\n",
    "    \n",
    "    # Filter out duplicate units\n",
    "    if input_units.shape[0] > 0: # In case previous step filtered everything out\n",
    "        _, unique_inds = np.unique(input_units, axis=0, return_index=True)\n",
    "        input_units = input_units[unique_inds, ...]\n",
    "        input_units_next = input_units_next[unique_inds, ...]\n",
    "        comp_units = comp_units[unique_inds, ...]\n",
    "        comp_units_next = comp_units_next[unique_inds, ...]\n",
    "    \n",
    "    M = input_units.shape[0] # Recount M after filtering\n",
    "    \n",
    "    # Debug assertions\n",
    "    assert(input_units.shape == (M, TICKS_PER_UNIT, NUM_PITCHES))\n",
    "    assert(input_units_next.shape == (M, TICKS_PER_UNIT, NUM_PITCHES))\n",
    "    assert(comp_units.shape == (M, TICKS_PER_UNIT, NUM_PITCHES))\n",
    "    assert(comp_units_next.shape == (M, TICKS_PER_UNIT, NUM_PITCHES))\n",
    "    \n",
    "    return [input_units, input_units_next, comp_units, comp_units_next]\n"
   ]
  },
  {
   "cell_type": "markdown",
   "metadata": {},
   "source": [
    "## 7. Filtering out near-empty units\n",
    "\n",
    "When we plot a full pianoroll, it becomes clear that many of the units we extract from the roll will be close to empty. Since these units don't hold any useful information, we discard them by filtering out any units with a mean value smaller than `MEAN_THRESHOLD`. It is expected that the mean of a non-empty unit will have a value comparable to 1, since non-normalized pianorolls have values between $[0,127]$, and there are 127 pitch classes. Hence a full-velocity single note at one tick instance will have a mean value of 1.\n",
    "\n",
    "For example, a `MEAN_THRESHOLD` of 0.5 means that we wish to keep only units that on average, have at least a half-velocity note at each tick."
   ]
  },
  {
   "cell_type": "code",
   "execution_count": 7,
   "metadata": {},
   "outputs": [
    {
     "name": "stdout",
     "output_type": "stream",
     "text": [
      "Overall unit means:  1.1374984859496122\n",
      "Before filtering:  (43, 96, 128)\n",
      "Filter threshold:  0.5\n",
      "After filtering:  (42, 96, 128)\n"
     ]
    },
    {
     "data": {
      "image/png": "[encoded data removed]",
      "text/plain": [
       "<Figure size 432x288 with 1 Axes>"
      ]
     },
     "metadata": {},
     "output_type": "display_data"
    }
   ],
   "source": [
    "# Inspect pianoroll\n",
    "pianoroll = random.choice(pianorolls)\n",
    "fig, ax = plt.subplots()\n",
    "ax.set_title(\"Example of a full pianoroll\")\n",
    "pypianoroll.plot_pianoroll(ax, pianoroll)\n",
    "\n",
    "# Without filtering\n",
    "[input_units, input_units_next, comp_units, comp_units_next] = create_units(pianoroll)\n",
    "input_units_means = np.mean(input_units, axis=(1,2)).squeeze()\n",
    "print \"Overall unit means: \", np.mean(input_units_means)\n",
    "print \"Before filtering: \", input_units.shape\n",
    "\n",
    "# Filter out empty units\n",
    "print \"Filter threshold: \", MEAN_THRESHOLD\n",
    "[input_units, input_units_next, comp_units, comp_units_next] = create_units(pianoroll, MEAN_THRESHOLD)\n",
    "print \"After filtering: \", input_units.shape"
   ]
  },
  {
   "cell_type": "markdown",
   "metadata": {},
   "source": [
    "## 8. Data augmentation - transpose to all keys\n",
    "Melody and harmony are portable - in the sense that so long as relative intervals are maintained, the starting pitch, or the key of the music, can be transposed freely. In that sense, using for instance a 127-pitch system, each song in our dataset can actually be transposed into 127 equally valid songs. However, in most cases pianists tend to stick around the center of the keyboard, so we are only interested in teaching our model the concept of key-invariance, for which we need to represent each song in 12 different keys (the number of semitones in an octave).\n",
    "\n",
    "Transposition is achieved quite simply in a pianoroll representation. For a key shift of 1 semitone, we simply shift all data in the pianoroll matrix up by one row (along the pitch axis). We perform data augmentation by shifting each pianoroll between -5 and +6 semitones, to create 12\\* copies of each song in different keys (including the original key). \n",
    "\n",
    "\\* <i>An option NUM\\_TRANSPOSITIONS is given to allow for fewer transpositions to be made, to save space/computation time.</i>\n"
   ]
  },
  {
   "cell_type": "code",
   "execution_count": 8,
   "metadata": {},
   "outputs": [
    {
     "name": "stdout",
     "output_type": "stream",
     "text": [
      "Transposing 33 pianorolls. This might take a while...\n",
      ". . . . . . . . . . . . . . . . . . . . . . . . . . . . . . . . . Done.\n",
      "New pianorolls has 99 items.\n"
     ]
    }
   ],
   "source": [
    "\n",
    "# This will take a while...\n",
    "pianorolls_original = pianorolls # Store this somewhere else\n",
    "print \"Transposing\", len(pianorolls_original), \"pianorolls. This might take a while...\"\n",
    "pianorolls = []\n",
    "for pianoroll in pianorolls_original:\n",
    "    print \".\",\n",
    "    # Transpose each pianoroll NUM_TRANSPOSITIONS times\n",
    "    for i in np.random.choice(range(-5,7), NUM_TRANSPOSITIONS, replace=False):\n",
    "        transposed_pianoroll = pianoroll_utils.get_transposed_pianoroll(pianoroll, i)\n",
    "        pianorolls.append(transposed_pianoroll)\n",
    "print \"Done.\"\n",
    "print \"New pianorolls has\", len(pianorolls), \"items.\"\n"
   ]
  },
  {
   "cell_type": "markdown",
   "metadata": {},
   "source": [
    "## 9. Take units from all pianorolls"
   ]
  },
  {
   "cell_type": "code",
   "execution_count": 9,
   "metadata": {},
   "outputs": [
    {
     "name": "stdout",
     "output_type": "stream",
     "text": [
      ". . . . . . . . . . . . . . . . . . . . . . . . . . . . . . . . . . . . . . . . . . . . . . . . . . . . . . . . . . . . . . . . . . . . . . . . . . . . . . . . . . . . . . . . . . . . . . . . . . . Done extracting units.\n",
      "Collected 3268 units from 99 pianorolls.\n",
      "input_units.shape:  (3268, 96, 128)\n",
      "input_units_next.shape:  (3268, 96, 128)\n",
      "comp_units.shape:  (3268, 96, 128)\n",
      "comp_units_next.shape:  (3268, 96, 128)\n",
      "Pickled units to ./pickle_jar/units_50_songs.pkl\n"
     ]
    }
   ],
   "source": [
    "units = {} # Dictionary to store all data\n",
    "units[\"input\"] = np.array([]).reshape(0, TICKS_PER_UNIT, NUM_PITCHES)\n",
    "units[\"input_next\"] = np.array([]).reshape(0, TICKS_PER_UNIT, NUM_PITCHES)\n",
    "units[\"comp\"] = np.array([]).reshape(0, TICKS_PER_UNIT, NUM_PITCHES)\n",
    "units[\"comp_next\"] = np.array([]).reshape(0, TICKS_PER_UNIT, NUM_PITCHES)\n",
    "\n",
    "for pianoroll in pianorolls:\n",
    "    print \".\",\n",
    "    # Get the units for this pianoroll\n",
    "    [input_units, input_units_next, comp_units, comp_units_next] = create_units(pianoroll, MEAN_THRESHOLD)\n",
    "    # Append it to the full dataset\n",
    "    units[\"input\"] = np.concatenate([units[\"input\"], input_units], axis=0)\n",
    "    units[\"input_next\"] = np.concatenate([units[\"input_next\"], input_units_next], axis=0)\n",
    "    units[\"comp\"] = np.concatenate([units[\"comp\"], comp_units], axis=0)\n",
    "    units[\"comp_next\"] = np.concatenate([units[\"comp_next\"], comp_units_next], axis=0)\n",
    "print(\"Done extracting units.\")\n",
    "\n",
    "# Print info\n",
    "print \"Collected\", units[\"input\"].shape[0], \"units from\", len(pianorolls), \"pianorolls.\"\n",
    "print \"input_units.shape: \", units[\"input\"].shape\n",
    "print \"input_units_next.shape: \", units[\"input_next\"].shape\n",
    "print \"comp_units.shape: \", units[\"comp\"].shape\n",
    "print \"comp_units_next.shape: \", units[\"comp_next\"].shape\n",
    "\n",
    "# Save data in a pickle file\n",
    "with open(PICKLE_FILE, 'wb') as outfile:\n",
    "    pickle.dump(units, outfile, protocol=pickle.HIGHEST_PROTOCOL)\n",
    "print \"Pickled units to\", PICKLE_FILE"
   ]
  },
  {
   "cell_type": "code",
   "execution_count": 10,
   "metadata": {},
   "outputs": [
    {
     "name": "stdout",
     "output_type": "stream",
     "text": [
      "Loaded 3268 units from ./pickle_jar/units_50_songs.pkl\n",
      "input_units.shape:  (3268, 96, 128)\n",
      "input_units_next.shape:  (3268, 96, 128)\n",
      "comp_units.shape:  (3268, 96, 128)\n",
      "comp_units_next.shape:  (3268, 96, 128)\n"
     ]
    }
   ],
   "source": [
    "# Load pickled units\n",
    "units = {}\n",
    "with open(PICKLE_FILE, 'rb') as infile:\n",
    "    units = pickle.load( infile )\n",
    "\n",
    "# Print info\n",
    "print \"Loaded\", units[\"input\"].shape[0], \"units from\", PICKLE_FILE\n",
    "print \"input_units.shape: \", units[\"input\"].shape\n",
    "print \"input_units_next.shape: \", units[\"input_next\"].shape\n",
    "print \"comp_units.shape: \", units[\"comp\"].shape\n",
    "print \"comp_units_next.shape: \", units[\"comp_next\"].shape"
   ]
  },
  {
   "cell_type": "markdown",
   "metadata": {},
   "source": [
    "## 10. Visualize and listen to our units!"
   ]
  },
  {
   "cell_type": "code",
   "execution_count": 19,
   "metadata": {},
   "outputs": [
    {
     "data": {
      "image/png": "[encoded data removed]",
      "text/plain": [
       "<Figure size 720x432 with 4 Axes>"
      ]
     },
     "metadata": {},
     "output_type": "display_data"
    }
   ],
   "source": [
    "\n",
    "# Plot random input unit along with corresponding next and comp units\n",
    "unit_index = np.random.randint(units[\"input\"].shape[0])\n",
    "pianoroll_utils.plot_four_units(units, unit_index)\n"
   ]
  },
  {
   "cell_type": "code",
   "execution_count": 20,
   "metadata": {},
   "outputs": [
    {
     "data": {
      "text/plain": [
       "0"
      ]
     },
     "execution_count": 20,
     "metadata": {},
     "output_type": "execute_result"
    }
   ],
   "source": [
    "\n",
    "# Listen to the MIDI files\n",
    "pianoroll_utils.playPianoroll(units[\"input\"][unit_index])\n",
    "pianoroll_utils.playPianoroll(units[\"input_next\"][unit_index])\n",
    "pianoroll_utils.playPianoroll(units[\"comp\"][unit_index])\n",
    "pianoroll_utils.playPianoroll(units[\"comp_next\"][unit_index])\n",
    "\n",
    "# Listen to the input with the comp\n",
    "pianoroll_utils.playPianoroll(units[\"input\"][unit_index] + units[\"comp\"][unit_index])\n",
    "pianoroll_utils.playPianoroll(units[\"input_next\"][unit_index] + units[\"comp_next\"][unit_index])\n"
   ]
  }
 ],
 "metadata": {
  "kernelspec": {
   "display_name": "Python 2",
   "language": "python",
   "name": "python2"
  },
  "language_info": {
   "codemirror_mode": {
    "name": "ipython",
    "version": 2
   },
   "file_extension": ".py",
   "mimetype": "text/x-python",
   "name": "python",
   "nbconvert_exporter": "python",
   "pygments_lexer": "ipython2",
   "version": "2.7.12"
  }
 },
 "nbformat": 4,
 "nbformat_minor": 2
}
