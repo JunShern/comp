{
 "cells": [
  {
   "cell_type": "markdown",
   "metadata": {},
   "source": [
    "# Data Preparation\n",
    "This notebook details the data preparation steps for Comper."
   ]
  },
  {
   "cell_type": "markdown",
   "metadata": {
    "heading_collapsed": true
   },
   "source": [
    "#### Before you start - libraries and user variables"
   ]
  },
  {
   "cell_type": "code",
   "execution_count": 5,
   "metadata": {
    "hidden": true
   },
   "outputs": [],
   "source": [
    "import os, shutil\n",
    "import random\n",
    "import sys\n",
    "import numpy as np\n",
    "import pypianoroll\n",
    "from matplotlib import pyplot as plt\n",
    "import cPickle as pickle\n",
    "import pianoroll_utils\n",
    "from __future__ import print_function\n",
    "\n",
    "# User paths\n",
    "LPD5_DIR = \"/home/human/Projects/comper_dataset/lpd_5_cleansed\"\n",
    "DATA_DIR = \"./pianorolls_200\"\n",
    "NUM_FILES = 200\n",
    "PICKLE_FILE = './pickle_jar/units_50_songs_clipped88.pkl'\n",
    "NORM_PICKLE_FILE = './pickle_jar/norm_units_50_songs_clipped88.pkl'\n",
    "\n",
    "# Music shape\n",
    "MIN_PITCH = 21 # A-1 (MIDI 21)\n",
    "MAX_PITCH = 108 # C7 (MIDI 108)\n",
    "BEATS_PER_UNIT = 4\n",
    "NUM_TRANSPOSITIONS = 3 # Number of transpositions to perform (maximum 12)\n",
    "\n",
    "# Don't change unless you know what you're doing\n",
    "BEAT_RESOLUTION = 24 # This is set by the encoding of the lpd-5 dataset, corresponds to number of ticks per beat\n",
    "PARTITION_NOTE = 60 # Break into left- and right-accompaniments at middle C\n",
    "NUM_PITCHES = MAX_PITCH - MIN_PITCH + 1\n",
    "TICKS_PER_UNIT = BEATS_PER_UNIT * BEAT_RESOLUTION\n",
    "MEAN_THRESHOLD = 0.5 # Filter out units with mean values less than 0.5"
   ]
  },
  {
   "cell_type": "markdown",
   "metadata": {
    "heading_collapsed": true
   },
   "source": [
    "## 1. File preparation"
   ]
  },
  {
   "cell_type": "markdown",
   "metadata": {
    "heading_collapsed": true,
    "hidden": true
   },
   "source": [
    "### 1.1 Download the dataset"
   ]
  },
  {
   "cell_type": "markdown",
   "metadata": {
    "hidden": true
   },
   "source": [
    "1. Go to [https://salu133445.github.io/musegan/dataset](https://salu133445.github.io/musegan/dataset)\n",
    "2. Download the `lpd-5-cleansed.tgz` dataset.\n",
    "3. Extract it into a folder `lpd-5-cleansed`.\n",
    "4. You should see three layers of subfolders labelled 'A'-'J', and then leaf folders named something like `TRJJFLV128F92FC46E/`, each containing a file which looks something like `c28d6d22cf7298890c5cc5f21ac2244d.npz` (this is a numpy zip file, more information [here](https://salu133445.github.io/pypianoroll/save_load.html))"
   ]
  },
  {
   "cell_type": "markdown",
   "metadata": {
    "heading_collapsed": true,
    "hidden": true
   },
   "source": [
    "### 1.2 Flatten all files into one folder"
   ]
  },
  {
   "cell_type": "code",
   "execution_count": 15,
   "metadata": {
    "hidden": true
   },
   "outputs": [],
   "source": [
    "%%bash\n",
    "DATASET_PATH = \"/media/junshern/s_drive/FYP/MIDI/lpd_5_cleansed\"\n",
    "\n",
    "# `cd` to the root of your dataset.\n",
    "cd $DATASET_PATH\n",
    "\n",
    "# Check that there are 24474 .npz files\n",
    "find . -mindepth 2 -type f | wc -l\n",
    "\n",
    "# Move all files to the current directory for easier access later\n",
    "# What? https://askubuntu.com/questions/146634/shell-script-to-move-all-files-from-subfolders-to-parent-folder\n",
    "find . -mindepth 2 -type f -print -exec mv --backup=numbered {} . \\;\n",
    "\n",
    "# Rename all \"~#~\" extensions to \"~#.npz\" so that numpy doesn't reject the file later on.\n",
    "rename 's/\\~$/\\.npz/' *~\n",
    "\n",
    "# Remove the empty folders `rm -r */` (Don't forget the slash!)\n",
    "rm -r */\n",
    "\n",
    "# Confirm that you have the correct number of files using `ls | wc -l`.\n",
    "ls | wc -l"
   ]
  },
  {
   "cell_type": "markdown",
   "metadata": {
    "heading_collapsed": true,
    "hidden": true
   },
   "source": [
    "### 1.3 Grab a random subset of files to play with"
   ]
  },
  {
   "cell_type": "code",
   "execution_count": 2,
   "metadata": {
    "hidden": true
   },
   "outputs": [
    {
     "name": "stdout",
     "output_type": "stream",
     "text": [
      "Copied 200 files to ./pianorolls_200 .\n",
      "['7070bae9a829c96b2412340ae6ce890c.npz', '45920614bd3142da383f8b6a583b9ebd.npz.~1.npz', 'c2081845e1c633afe6ef43db10574a2c.npz', '70a54e8b989321aa6544587fdadd91e6.npz.~1.npz', 'c95691cdb995ff18ed327ab73d548503.npz', '2c49fbc1548bc49b5bec2703763c1622.npz', '09ecccd34acbbe01a0a438a314a4d35d.npz.~1.npz', '9f96135bcc87cb059bf13cfd0847d3fe.npz.~8.npz', 'e6a45119fa4e8a891fb0fbede49cbad9.npz', 'ff98877f1aa0e94007c79738edf96851.npz.~1.npz']\n"
     ]
    }
   ],
   "source": [
    "# Create a new directory for our pianorolls\n",
    "if not os.path.isdir(DATA_DIR):\n",
    "    os.mkdir(DATA_DIR)\n",
    "    # Grab a random subset of files from our LPD5 dataset to play with\n",
    "    files_subset = random.sample(os.listdir(LPD5_DIR), NUM_FILES) # Sampling without replacement\n",
    "    for filename in files_subset:\n",
    "        src = os.path.join(LPD5_DIR, filename)\n",
    "        dest = os.path.join(DATA_DIR, filename)\n",
    "        shutil.copyfile(src, dest)\n",
    "    print(\"Copied\", NUM_FILES, \"files to\", DATA_DIR, \".\")\n",
    "else:\n",
    "    print(\"Directory already exists.\")\n",
    "\n",
    "# Print the first 10 files of our chosen subset\n",
    "print(os.listdir(DATA_DIR)[:10])"
   ]
  },
  {
   "cell_type": "markdown",
   "metadata": {
    "heading_collapsed": true,
    "hidden": true
   },
   "source": [
    "### 1.4 [Optional] Inspect the data"
   ]
  },
  {
   "cell_type": "markdown",
   "metadata": {
    "hidden": true
   },
   "source": [
    "From the MuseGAN page:\n",
    "\n",
    "> In LPD-5, the tracks of each multi-track piano-rolls are merged into five common categories: bass, drums, piano, guitar and strings according to the program numbers provided in the MIDI files. Note that instruments out of the list are considered as part of the strings\n",
    "\n",
    "We use [pypianoroll](https://github.com/salu133445/pypianoroll), created by the authors of MuseGAN to manipulate the data. The pypianoroll library gives us a ton of helpful methods which makes it easy to find out more about each file. (pypianoroll [docs](https://salu133445.github.io/pypianoroll/index.html))"
   ]
  },
  {
   "cell_type": "code",
   "execution_count": 2,
   "metadata": {
    "hidden": true
   },
   "outputs": [
    {
     "name": "stdout",
     "output_type": "stream",
     "text": [
      "2c63c935caabecb8b9ed9dae191ec4b0.npz\n",
      "Tempo:  [113.00009605 113.00009605 113.00009605 ... 113.00009605 113.00009605\n",
      " 113.00009605]\n",
      "Beat resolution:  24\n",
      "\n",
      "#####################\n",
      "Name:  Guitar\n",
      "isDrum:  False\n",
      "Program:  24\n",
      "Empty pianoroll.\n",
      "\n",
      "\n",
      "#####################\n",
      "Name:  Piano\n",
      "isDrum:  False\n",
      "Program:  0\n",
      "Active length:  11815\n",
      "Active pitch range:  (46, 84)\n",
      "\n",
      "\n",
      "#####################\n",
      "Name:  Bass\n",
      "isDrum:  False\n",
      "Program:  32\n",
      "Active length:  11818\n",
      "Active pitch range:  (36, 58)\n",
      "\n",
      "\n",
      "#####################\n",
      "Name:  Drums\n",
      "isDrum:  True\n",
      "Program:  0\n",
      "Active length:  11425\n",
      "Active pitch range:  (36, 57)\n",
      "\n",
      "\n",
      "#####################\n",
      "Name:  Strings\n",
      "isDrum:  False\n",
      "Program:  48\n",
      "Active length:  11525\n",
      "Active pitch range:  (48, 81)\n",
      "\n"
     ]
    }
   ],
   "source": [
    "\n",
    "def printInfo(track):\n",
    "    print(\"\\n#####################\")\n",
    "    print(\"Name: \", track.name)\n",
    "    print(\"isDrum: \", track.is_drum)\n",
    "    print(\"Program: \", track.program)\n",
    "    if len(track.pianoroll):\n",
    "        print(\"Active length: \", track.get_active_length())\n",
    "        print(\"Active pitch range: \", track.get_active_pitch_range())\n",
    "    else:\n",
    "        print(\"Empty pianoroll.\")\n",
    "    print(\"\")\n",
    "\n",
    "# Pick a file to look at\n",
    "filename = random.choice(os.listdir(DATA_DIR))\n",
    "print(filename)\n",
    "# Load pianoroll file as a multitrack object\n",
    "multi = pypianoroll.Multitrack(os.path.join(DATA_DIR, filename))\n",
    "print(\"Tempo: \", multi.tempo)\n",
    "print(\"Beat resolution: \", multi.beat_resolution)\n",
    "# Show some info about the pianoroll\n",
    "for track in multi.tracks:\n",
    "    printInfo(track)\n"
   ]
  },
  {
   "cell_type": "markdown",
   "metadata": {
    "heading_collapsed": true
   },
   "source": [
    "## 2. Load pianorolls"
   ]
  },
  {
   "cell_type": "markdown",
   "metadata": {
    "hidden": true
   },
   "source": [
    "In the following, we extract pianoroll matrices from each of the .npz files we obtained during file preparation. We will also apply some data preprocessing and augmentation steps:\n",
    "\n",
    "### Data preprocessing\n",
    "- We clip the velocity values between 0-127. This is essential since later we assume the maximum to be 127 when normalizing the vectors before training/testing. It is not very clear why the values are not already contained within 0-127, but the original dataset appears to have some velocity values up to 500, so we simply clamp all values to be certain.\n",
    "- Also, we \"crop\" the matrices to match the MIN_PITCH, MAX_PITCH parameters defined above. This reduces the pitch space from 128 to something smaller, since in most songs there will not be notes at the extreme ends of the MIDI pitch spectrum (for comparison, standard pianos only have 88 pitches).\n",
    "\n",
    "### Data augmentation\n",
    "Melody and harmony are portable - in the sense that so long as relative intervals are maintained, the starting pitch, or the key of the music, can be transposed freely. In that sense, using for instance a 127-pitch system, each song in our dataset can actually be transposed into 127 equally valid songs. However, in most cases pianists tend to stick around the center of the keyboard, so we are only interested in teaching our model the concept of key-invariance, for which we need to represent each song in 12 different keys (the number of semitones in an octave).\n",
    "\n",
    "Transposition is achieved quite simply in a pianoroll representation. For a key shift of 1 semitone, we simply shift all data in the pianoroll matrix up by one row (along the pitch axis). We perform data augmentation by shifting each pianoroll between -5 and +6 semitones, to create 12\\* copies of each song in different keys (including the original key). \n",
    "\n",
    "\\* <i>An option NUM\\_TRANSPOSITIONS is given to allow for fewer transpositions to be made, to save space/computation time.</i>\n"
   ]
  },
  {
   "cell_type": "code",
   "execution_count": 3,
   "metadata": {
    "hidden": true
   },
   "outputs": [
    {
     "name": "stdout",
     "output_type": "stream",
     "text": [
      "........................................................................................................................................................................................................Complete.\n",
      "Collected 136 pianorolls of shape (ticks, 88)\n"
     ]
    }
   ],
   "source": [
    "print(\"Collecting pianorolls from {} files. This might take a few minutes...\".format(len(os.listdir(DATA_DIR))))\n",
    "\n",
    "pianorolls = [] # List to hold all our piano rolls\n",
    "\n",
    "for filename in os.listdir(DATA_DIR):\n",
    "    # Load pianoroll file as a multitrack object\n",
    "    multi = pypianoroll.Multitrack(os.path.join(DATA_DIR, filename))\n",
    "    for track in multi.tracks:\n",
    "        # Non-empty piano pianoroll\n",
    "        if track.name == \"Piano\" and track.pianoroll.shape[0] > 0:\n",
    "            proll = track.pianoroll\n",
    "            # Make sure velocities are between 0-127\n",
    "            proll = proll.clip(0, 127)\n",
    "            # Crop pitch range of pianoroll\n",
    "            proll = pianoroll_utils.crop_pianoroll(proll, MIN_PITCH, MAX_PITCH)\n",
    "            # Transpose each pianoroll NUM_TRANSPOSITIONS times\n",
    "            for i in np.random.choice(range(-5,7), NUM_TRANSPOSITIONS, replace=False):\n",
    "                transposed_proll = pianoroll_utils.get_transposed_pianoroll(proll, i)\n",
    "                pianorolls.append(transposed_proll)\n",
    "    # Print status\n",
    "    print(\".\", end='')\n",
    "    if len(pianorolls) % 50 == 0:\n",
    "        print(len(pianorolls))\n",
    "\n",
    "print(\"Done.\")\n",
    "print(\"Collected {} pianorolls of shape (ticks, {})\".format(len(pianorolls), pianorolls[0].shape[1]))"
   ]
  },
  {
   "cell_type": "code",
   "execution_count": 4,
   "metadata": {
    "hidden": true
   },
   "outputs": [
    {
     "data": {
      "image/png": "[encoded data removed]",
      "text/plain": [
       "<Figure size 432x288 with 1 Axes>"
      ]
     },
     "metadata": {},
     "output_type": "display_data"
    }
   ],
   "source": [
    "# Visualize a random pianoroll\n",
    "pianoroll = random.choice(pianorolls)\n",
    "fig1, ax1 = plt.subplots()\n",
    "pianoroll_utils.plot_pianoroll(ax1, pianoroll, MIN_PITCH, MAX_PITCH)"
   ]
  },
  {
   "cell_type": "code",
   "execution_count": 5,
   "metadata": {
    "hidden": true
   },
   "outputs": [
    {
     "name": "stdout",
     "output_type": "stream",
     "text": [
      "Transposing 136 pianorolls. This might take a while...\n",
      "........................................................................................................................................Done.\n",
      "New pianorolls has 408 items.\n"
     ]
    }
   ],
   "source": [
    "\n",
    "# This will take a while...\n",
    "pianorolls_original = pianorolls # Store this somewhere else\n",
    "print(\"Transposing\", len(pianorolls_original), \"pianorolls. This might take a while...\")\n",
    "pianorolls = []\n",
    "for pianoroll in pianorolls_original:\n",
    "    print(\".\", end='')\n",
    "    # Transpose each pianoroll NUM_TRANSPOSITIONS times\n",
    "    for i in np.random.choice(range(-5,7), NUM_TRANSPOSITIONS, replace=False):\n",
    "        transposed_pianoroll = pianoroll_utils.get_transposed_pianoroll(pianoroll, i)\n",
    "        pianorolls.append(transposed_pianoroll)\n",
    "print(\"Done.\")\n",
    "print(\"New pianorolls has\", len(pianorolls), \"items.\")\n"
   ]
  },
  {
   "cell_type": "markdown",
   "metadata": {
    "heading_collapsed": true
   },
   "source": [
    "## 3. Unit sampling"
   ]
  },
  {
   "cell_type": "markdown",
   "metadata": {
    "heading_collapsed": true,
    "hidden": true
   },
   "source": [
    "### 3.1 Overview"
   ]
  },
  {
   "cell_type": "markdown",
   "metadata": {
    "hidden": true
   },
   "source": [
    "\n",
    "Our model deals with predicting musical _units_ of a pianoroll, which can be for example 4 beats of a pianoroll depending on the chosen `BEATS_PER_UNIT`. The datasets we prepare must then correspond to input/output pairs of musical units.\n",
    "\n",
    "#### Model objectives\n",
    "\n",
    "Given an input unit at time $t$, predict an output unit which may be either (depending on a user-selected prediction mode)\n",
    "1. The following unit at time $t+1$\n",
    "2. An accompaniment unit at time $t$\n",
    "3. An accompaniment unit at time $t+1$\n",
    "\n",
    "In the 1st case, the output is simply the _next-step prediction_, used commonly by most composition algorithms. \n",
    "\n",
    "In the 2nd case, the output is an _accompanying pianoroll of the current unit_, either the left-accompaniment or right-accompaniment. For example, given an input pianoroll which is a right-accompaniment, the model will be expected to predict the left-accompaniment for that input.\n",
    "\n",
    "In the 3rd (expectedly most difficult) case, the output is an _accompanying pianoroll of the next unit_, either the left-accompaniment or right-accompaniment. For example, given an input pianoroll which is a right-accompaniment, the model will be expected to predict the left-accompaniment at the next time step.\n",
    "\n",
    "#### Unit creation\n",
    "\n",
    "To help the model learn accompaniments, we split each pianoroll from our dataset into two complementary pianorolls which serve as accompaniments for each other. This is done in a naive way, using the `PARTITION_NOTE` as the splitting point to divide the pianoroll along the pitch axis into left- and right- accompaniments (as in left and right hand of a piano player). This approach was inspired by \\[Bretan et al\\]. \n",
    "\n",
    "Each of these pianoroll segments (of fixed tick-length and only containing notes for either left- or right- accompaniments) will be used as a single unit, and is represented by a matrix of shape `[TICKS_PER_UNIT, NUM_PITCHES=128]`. \n",
    "\n",
    "The input and output matrices of our model will have the same shape.\n",
    "\n",
    "#### Data structure\n",
    "\n",
    "Since all units have the same shape, this makes it easy to store the data as a 3-dimensional matrix of depth $M$, where $M$ is the number of units (data points).\n",
    "\n",
    "We will create 4 matrices comprising of: the input units, the next step units, the accompaniment units, and the next step accompaniment units. \n",
    "\n",
    "```\n",
    "input_units.shape = [M, TICKS_PER_UNIT, NUM_PITCHES]\n",
    "input_units_next.shape = [M, TICKS_PER_UNIT, NUM_PITCHES]\n",
    "comp_units.shape = [M, TICKS_PER_UNIT, NUM_PITCHES]\n",
    "comp_units_next.shape = [M, TICKS_PER_UNIT, NUM_PITCHES]\n",
    "```\n",
    "\n",
    "The unit dimension is ordered are ordered such that the $i$-th input has an output at the $i$-th element of each output matrix. (eg. given `input_units[i,:,:]`, the model should predict `input_units_next[i,:,:]`, `comp_units[i,:,:]`, or `comp_units_next[i,:,:]`)\n",
    "\n",
    "#### Filtering out near-empty units\n",
    "\n",
    "When we plot a full pianoroll, it becomes clear that many of the units we extract from the roll will be close to empty. Since these units don't hold any useful information, we discard them by filtering out any units with a mean value smaller than `MEAN_THRESHOLD`. It is expected that the mean of a non-empty unit will have a value comparable to 1, since non-normalized pianorolls have values between $[0,127]$, and there are 127 pitch classes. Hence a full-velocity single note at one tick instance will have a mean value of 1.\n",
    "\n",
    "For example, a `MEAN_THRESHOLD` of 0.5 means that we wish to keep only units that on average, have at least a half-velocity note at each tick."
   ]
  },
  {
   "cell_type": "code",
   "execution_count": 4,
   "metadata": {
    "hidden": true
   },
   "outputs": [
    {
     "name": "stdout",
     "output_type": "stream",
     "text": [
      "Overall unit means:  1.0631003111471862\n",
      "Before filtering:  (56, 96, 88)\n",
      "Filter threshold:  0.5\n",
      "After filtering:  (41, 96, 88)\n"
     ]
    },
    {
     "data": {
      "image/png": "[encoded data removed]",
      "text/plain": [
       "<Figure size 432x288 with 1 Axes>"
      ]
     },
     "metadata": {},
     "output_type": "display_data"
    }
   ],
   "source": [
    "# Inspect pianoroll\n",
    "pianoroll = random.choice(pianorolls)\n",
    "fig, ax = plt.subplots()\n",
    "ax.set_title(\"Example of a full pianoroll\")\n",
    "pianoroll_utils.plot_pianoroll(ax, pianoroll, MIN_PITCH, MAX_PITCH)\n",
    "\n",
    "# Without filtering\n",
    "[input_units, input_units_next, comp_units, comp_units_next] = pianoroll_utils.create_units(pianoroll,\n",
    "                                                                                            NUM_PITCHES,\n",
    "                                                                                            TICKS_PER_UNIT,\n",
    "                                                                                            PARTITION_NOTE)\n",
    "input_units_means = np.mean(input_units, axis=(1,2)).squeeze()\n",
    "print(\"Overall unit means: \", np.mean(input_units_means))\n",
    "print(\"Before filtering: \", input_units.shape)\n",
    "\n",
    "# Filter out empty units\n",
    "print(\"Filter threshold: \", MEAN_THRESHOLD)\n",
    "[input_units, input_units_next, comp_units, comp_units_next] = pianoroll_utils.create_units(pianoroll,\n",
    "                                                                                            NUM_PITCHES,\n",
    "                                                                                            TICKS_PER_UNIT,\n",
    "                                                                                            PARTITION_NOTE,\n",
    "                                                                                            MEAN_THRESHOLD)\n",
    "print(\"After filtering: \", input_units.shape)"
   ]
  },
  {
   "cell_type": "markdown",
   "metadata": {
    "heading_collapsed": true,
    "hidden": true
   },
   "source": [
    "### 3.2 Take units from all pianorolls"
   ]
  },
  {
   "cell_type": "code",
   "execution_count": 8,
   "metadata": {
    "hidden": true
   },
   "outputs": [
    {
     "name": "stdout",
     "output_type": "stream",
     "text": [
      "...................................................................................................Done extracting units.\n",
      "Collected 3728 units from 99 pianorolls.\n",
      "input_units.shape:  (3728, 96, 88)\n",
      "input_units_next.shape:  (3728, 96, 88)\n",
      "comp_units.shape:  (3728, 96, 88)\n",
      "comp_units_next.shape:  (3728, 96, 88)\n",
      "Pickled units to ./pickle_jar/units_50_songs_clipped88.pkl\n"
     ]
    }
   ],
   "source": [
    "units = {} # Dictionary to store all data\n",
    "units[\"input\"] = np.array([]).reshape(0, TICKS_PER_UNIT, NUM_PITCHES)\n",
    "units[\"input_next\"] = np.array([]).reshape(0, TICKS_PER_UNIT, NUM_PITCHES)\n",
    "units[\"comp\"] = np.array([]).reshape(0, TICKS_PER_UNIT, NUM_PITCHES)\n",
    "units[\"comp_next\"] = np.array([]).reshape(0, TICKS_PER_UNIT, NUM_PITCHES)\n",
    "\n",
    "for pianoroll in pianorolls:\n",
    "    print(\".\", end='')\n",
    "    # Get the units for this pianoroll\n",
    "    [input_units, input_units_next, comp_units, comp_units_next] = pianoroll_utils.create_units(pianoroll,\n",
    "                                                                                                NUM_PITCHES,\n",
    "                                                                                                TICKS_PER_UNIT,\n",
    "                                                                                                PARTITION_NOTE,\n",
    "                                                                                                MEAN_THRESHOLD)\n",
    "    # Append it to the full dataset\n",
    "    units[\"input\"] = np.concatenate([units[\"input\"], input_units], axis=0)\n",
    "    units[\"input_next\"] = np.concatenate([units[\"input_next\"], input_units_next], axis=0)\n",
    "    units[\"comp\"] = np.concatenate([units[\"comp\"], comp_units], axis=0)\n",
    "    units[\"comp_next\"] = np.concatenate([units[\"comp_next\"], comp_units_next], axis=0)\n",
    "print(\"Done extracting units.\")\n",
    "\n",
    "# Print info\n",
    "print(\"Collected {} units from {} pianorolls.\".format(units[\"input\"].shape[0], len(pianorolls)))\n",
    "print(\"input_units.shape: \", units[\"input\"].shape)\n",
    "print(\"input_units_next.shape: \", units[\"input_next\"].shape)\n",
    "print(\"comp_units.shape: \", units[\"comp\"].shape)\n",
    "print(\"comp_units_next.shape: \", units[\"comp_next\"].shape)\n",
    "\n",
    "# Save data in a pickle file\n",
    "if not os.path.isdir(os.path.dirname(PICKLE_FILE)):\n",
    "    os.mkdir(os.path.dirname(PICKLE_FILE))\n",
    "with open(PICKLE_FILE, 'wb') as outfile:\n",
    "    pickle.dump(units, outfile, protocol=pickle.HIGHEST_PROTOCOL)\n",
    "print(\"Pickled units to\", PICKLE_FILE)"
   ]
  },
  {
   "cell_type": "markdown",
   "metadata": {
    "heading_collapsed": true,
    "hidden": true
   },
   "source": [
    "### 3.3 Save an alternate set for deep learning tasks (normalized and axes swapped)"
   ]
  },
  {
   "cell_type": "code",
   "execution_count": 10,
   "metadata": {
    "hidden": true
   },
   "outputs": [
    {
     "name": "stdout",
     "output_type": "stream",
     "text": [
      "Reshaped: (3728, 88, 96)\n",
      "Pickled units to ./pickle_jar/norm_units_50_songs_clipped88.pkl\n"
     ]
    }
   ],
   "source": [
    "norm_units = {}\n",
    "# Change from [M, ticks, pitches] to [M, pitches, ticks, channels=1]\n",
    "norm_units[\"input\"] = units[\"input\"].swapaxes(1,2).reshape(len(units[\"input\"]), NUM_PITCHES, TICKS_PER_UNIT)\n",
    "norm_units[\"comp\"] = units[\"comp\"].swapaxes(1,2).reshape(len(units[\"comp\"]), NUM_PITCHES, TICKS_PER_UNIT)\n",
    "# Normalize values between 0 and 1\n",
    "norm_units[\"input\"] = norm_units[\"input\"].astype('float32') / 127. # 0-127 is the unnormalized velocity range\n",
    "norm_units[\"comp\"] = norm_units[\"comp\"].astype('float32') / 127. # 0-127 is the unnormalized velocity range\n",
    "print(\"Reshaped:\", norm_units[\"input\"].shape)\n",
    "\n",
    "# Save data in a pickle file\n",
    "if not os.path.isdir(os.path.dirname(NORM_PICKLE_FILE)):\n",
    "    os.mkdir(os.path.dirname(NORM_PICKLE_FILE))\n",
    "with open(NORM_PICKLE_FILE, 'wb') as outfile:\n",
    "    pickle.dump(norm_units, outfile, protocol=pickle.HIGHEST_PROTOCOL)\n",
    "print(\"Pickled units to\", NORM_PICKLE_FILE)"
   ]
  },
  {
   "cell_type": "code",
   "execution_count": 2,
   "metadata": {
    "hidden": true
   },
   "outputs": [
    {
     "name": "stdout",
     "output_type": "stream",
     "text": [
      "Loaded 3728 units from ./pickle_jar/units_50_songs_clipped88.pkl\n",
      "input_units.shape:  (3728, 96, 88)\n",
      "input_units_next.shape:  (3728, 96, 88)\n",
      "comp_units.shape:  (3728, 96, 88)\n",
      "comp_units_next.shape:  (3728, 96, 88)\n"
     ]
    }
   ],
   "source": [
    "# Load pickled units\n",
    "units = {}\n",
    "with open(PICKLE_FILE, 'rb') as infile:\n",
    "    units = pickle.load( infile )\n",
    "\n",
    "# Print info\n",
    "print(\"Loaded\", units[\"input\"].shape[0], \"units from\", PICKLE_FILE)\n",
    "print(\"input_units.shape: \", units[\"input\"].shape)\n",
    "print(\"input_units_next.shape: \", units[\"input_next\"].shape)\n",
    "print(\"comp_units.shape: \", units[\"comp\"].shape)\n",
    "print(\"comp_units_next.shape: \", units[\"comp_next\"].shape)"
   ]
  },
  {
   "cell_type": "markdown",
   "metadata": {
    "heading_collapsed": true,
    "hidden": true
   },
   "source": [
    "### 3.4 Visualize and listen to our units!"
   ]
  },
  {
   "cell_type": "code",
   "execution_count": 8,
   "metadata": {
    "hidden": true
   },
   "outputs": [
    {
     "data": {
      "image/png": "[encoded data removed]",
      "text/plain": [
       "<Figure size 720x432 with 4 Axes>"
      ]
     },
     "metadata": {},
     "output_type": "display_data"
    }
   ],
   "source": [
    "\n",
    "# Plot random input unit along with corresponding next and comp units\n",
    "unit_index = np.random.randint(units[\"input\"].shape[0])\n",
    "pianoroll_utils.plot_four_units(units, unit_index, MIN_PITCH, MAX_PITCH)\n"
   ]
  },
  {
   "cell_type": "code",
   "execution_count": 9,
   "metadata": {
    "hidden": true
   },
   "outputs": [
    {
     "data": {
      "text/plain": [
       "0"
      ]
     },
     "execution_count": 9,
     "metadata": {},
     "output_type": "execute_result"
    }
   ],
   "source": [
    "\n",
    "# Listen to the MIDI files\n",
    "pianoroll_utils.play_pianoroll(units[\"input\"][unit_index], MIN_PITCH, MAX_PITCH)\n",
    "pianoroll_utils.play_pianoroll(units[\"input_next\"][unit_index], MIN_PITCH, MAX_PITCH)\n",
    "pianoroll_utils.play_pianoroll(units[\"comp\"][unit_index], MIN_PITCH, MAX_PITCH)\n",
    "pianoroll_utils.play_pianoroll(units[\"comp_next\"][unit_index], MIN_PITCH, MAX_PITCH)\n",
    "\n",
    "# Listen to the input with the comp\n",
    "pianoroll_utils.play_pianoroll(units[\"input\"][unit_index] + units[\"comp\"][unit_index], MIN_PITCH, MAX_PITCH)\n",
    "pianoroll_utils.play_pianoroll(units[\"input_next\"][unit_index] + units[\"comp_next\"][unit_index], MIN_PITCH, MAX_PITCH)\n"
   ]
  },
  {
   "cell_type": "markdown",
   "metadata": {},
   "source": [
    "## 4. Tokenization"
   ]
  },
  {
   "cell_type": "markdown",
   "metadata": {},
   "source": [
    "Look into the possibility of treating every unique pianoroll tick (column) as a token \"word\". This clearly has unimaginably large (2^128) possibilities, but only a small subset of those are used in practice. This is comparable to tokenization of english words, for which the number of alphabet possibilities are infinite but you can still use one-hot encodings successfully."
   ]
  },
  {
   "cell_type": "markdown",
   "metadata": {},
   "source": [
    "### 4.1 Investigate the number of tokens required"
   ]
  },
  {
   "cell_type": "code",
   "execution_count": 7,
   "metadata": {},
   "outputs": [
    {
     "name": "stdout",
     "output_type": "stream",
     "text": [
      "........................................................................................................................................................................................................................................................................................................................................................................................................................"
     ]
    }
   ],
   "source": [
    "from __future__ import print_function\n",
    "\n",
    "def get_tokens(pianoroll, num_pitches=128):\n",
    "    \"\"\"\n",
    "    Given a pianoroll matrix of shape (128, N),\n",
    "    returns a Python set of M tuples corresponding \n",
    "    to M unique columns in the matrix.\n",
    "    \"\"\"\n",
    "    assert pianoroll.shape[0] == num_pitches\n",
    "    tokens = np.unique(pianoroll, axis=1).T\n",
    "    tokens = tuple(map(tuple, tokens))\n",
    "    assert len(tokens[0]) == num_pitches\n",
    "    return set(tokens)\n",
    "\n",
    "all_tokens = set()\n",
    "num_tokens = []\n",
    "new_tokens = 0\n",
    "num_new_tokens = []\n",
    "for i, proll in enumerate(pianorolls):\n",
    "    # Change to shape (128, N)\n",
    "    proll = proll.T\n",
    "    # Change to binary (0 or 1) velocity\n",
    "    proll[proll > 0] = 1\n",
    "    # Return set of unique tokens\n",
    "    tokens = get_tokens(proll, num_pitches=NUM_PITCHES)\n",
    "    # Union with the set of all tokens\n",
    "    all_tokens = all_tokens.union(tokens)\n",
    "\n",
    "    num_tokens.append(len(all_tokens))\n",
    "    new_tokens += len(tokens)\n",
    "    num_new_tokens.append(new_tokens)\n",
    "    # Print status\n",
    "    print(\".\", end='')\n",
    "    if i % 50 == 0:\n",
    "        print(i)\n",
    "\n",
    "print(\"New tokens = {}\".format(len(tokens)))\n",
    "print(\"Total unique tokens = {}\".format(len(all_tokens)))"
   ]
  },
  {
   "cell_type": "code",
   "execution_count": 8,
   "metadata": {},
   "outputs": [
    {
     "data": {
      "image/png": "[encoded data removed]",
      "text/plain": [
       "<Figure size 432x288 with 1 Axes>"
      ]
     },
     "metadata": {},
     "output_type": "display_data"
    }
   ],
   "source": [
    "plt.plot(np.arange(1, len(pianorolls)+1), num_new_tokens, 'r')\n",
    "plt.plot(np.arange(1, len(pianorolls)+1), num_tokens)\n",
    "plt.axis([1, len(pianorolls), 0, new_tokens])\n",
    "plt.title('Growth of unique tokens set vs tokenized pianorolls')\n",
    "plt.xlabel('Number of pianorolls')\n",
    "plt.ylabel('Number of unique tokens')\n",
    "plt.show()"
   ]
  },
  {
   "cell_type": "markdown",
   "metadata": {},
   "source": [
    "### 4.2 Convert pianorolls to tokenized pianorolls"
   ]
  },
  {
   "cell_type": "markdown",
   "metadata": {},
   "source": [
    "Tutorials on word embeddings (word2vec):\n",
    "- deeplearning4j [tutorial](https://deeplearning4j.org/word2vec.html)\n",
    "- Keras [tutorial](http://adventuresinmachinelearning.com/word2vec-keras-tutorial/) on Adventures In Machine Learning blog"
   ]
  }
 ],
 "metadata": {
  "kernelspec": {
   "display_name": "Python 2",
   "language": "python",
   "name": "python2"
  },
  "language_info": {
   "codemirror_mode": {
    "name": "ipython",
    "version": 2
   },
   "file_extension": ".py",
   "mimetype": "text/x-python",
   "name": "python",
   "nbconvert_exporter": "python",
   "pygments_lexer": "ipython2",
   "version": "2.7.12"
  }
 },
 "nbformat": 4,
 "nbformat_minor": 2
}
