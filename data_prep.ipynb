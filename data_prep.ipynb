{
 "cells": [
  {
   "cell_type": "markdown",
   "metadata": {},
   "source": [
    "# Data Preparation\n",
    "This notebook details the data preparation steps for Comper."
   ]
  },
  {
   "cell_type": "markdown",
   "metadata": {},
   "source": [
    "## 1. Grab the dataset\n",
    "1. Go to [https://salu133445.github.io/musegan/dataset](https://salu133445.github.io/musegan/dataset)\n",
    "2. Download the `lpd-5-cleansed.tgz` dataset.\n",
    "3. Extract it into a folder `lpd-5-cleansed`.\n",
    "4. You should see three layers of subfolders labelled 'A'-'J', and then leaf folders named something like `TRJJFLV128F92FC46E/`, each containing a file which looks something like `c28d6d22cf7298890c5cc5f21ac2244d.npz` (this is a numpy zip file, more information [here](https://salu133445.github.io/pypianoroll/save_load.html))"
   ]
  },
  {
   "cell_type": "markdown",
   "metadata": {},
   "source": [
    "## 2. Flatten all files into one folder\n",
    "\n",
    "1. `cd` to the root of your dataset.\n",
    "2. Check that there are 24474 .npz files using \n",
    "```bash\n",
    "find . -mindepth 2 -type f | wc -l\n",
    "```\n",
    "3. Move all files to the current directory for easier access later: \n",
    "```bash\n",
    "find . -mindepth 2 -type f -print -exec mv --backup=numbered {} . \\;\n",
    "``` \n",
    "([What?](https://askubuntu.com/questions/146634/shell-script-to-move-all-files-from-subfolders-to-parent-folder))\n",
    "4. Rename all \"~#~\" extensions to \"~#.npz\" so that numpy doesn't reject the file later on.\n",
    "```bash\n",
    "rename 's/\\~$/\\.npz/' *~\n",
    "```\n",
    "4. Remove the empty folders `rm -r */` (Don't forget the slash!)\n",
    "5. Confirm that you have the correct number of files using `ls | wc -l`.\n"
   ]
  },
  {
   "cell_type": "markdown",
   "metadata": {},
   "source": [
    "## 3. Grab a random subset of files to play with\n",
    "We'll use 100 files to start. "
   ]
  },
  {
   "cell_type": "code",
   "execution_count": 25,
   "metadata": {},
   "outputs": [],
   "source": [
    "import os, shutil\n",
    "import random\n",
    "import sys\n",
    "import numpy as np\n",
    "import pypianoroll\n",
    "from matplotlib import pyplot as plt\n",
    "\n",
    "LPD5_DIR = \"/media/junshern/s_drive/FYP/MIDI/lpd_5_cleansed_copy\"\n",
    "DATA_DIR = \"./pianorolls\"\n",
    "NUM_FILES = 100\n"
   ]
  },
  {
   "cell_type": "code",
   "execution_count": 26,
   "metadata": {},
   "outputs": [
    {
     "name": "stdout",
     "output_type": "stream",
     "text": [
      "Copied 100 files to ./pianorolls .\n",
      "['825743bc60816514d61574b44abc4d22.npz', '035d2131e824eb51878007013786806a.npz', 'c7523bfd41d67de23b7e1d7575284821.npz', 'bc11aedb9c44074c732f6aac7ac9a3a3.npz.~4.npz', 'ee98ebdda35b94d0d6ba19c194db9911.npz', 'e9bfc85ab76f224f686b8a142570ab6e.npz', 'd1002f0b1b1e687baa750467113e219c.npz', '1fc99c6776860dbec8fe64dd4cc52e73.npz', '9e1d04631b8ad65addff1a9f755132aa.npz.~1.npz', 'c016f976fb71e75d8fcd931e08f64ae6.npz.~1.npz']\n"
     ]
    }
   ],
   "source": [
    "\n",
    "# Create a new directory for our pianorolls\n",
    "if not os.path.isdir(DATA_DIR):\n",
    "    os.mkdir(DATA_DIR)\n",
    "    # Grab a random subset of files from our LPD5 dataset to play with\n",
    "    files_subset = random.sample(os.listdir(LPD5_DIR), NUM_FILES) # Sampling without replacement\n",
    "    for filename in files_subset:\n",
    "        src = os.path.join(LPD5_DIR, filename)\n",
    "        dest = os.path.join(DATA_DIR, filename)\n",
    "        shutil.copyfile(src, dest)\n",
    "    print \"Copied\", NUM_FILES, \"files to\", DATA_DIR, \".\"\n",
    "else:\n",
    "    print \"Directory already exists.\"\n",
    "\n",
    "# Print the first 10 files of our chosen subset\n",
    "print(os.listdir(DEST_DIR)[:10])"
   ]
  },
  {
   "cell_type": "markdown",
   "metadata": {},
   "source": [
    "## 4. Inspect the data\n",
    "\n",
    "From the MuseGAN page:\n",
    "\n",
    "> In LPD-5, the tracks of each multi-track piano-rolls are merged into five common categories: bass, drums, piano, guitar and strings according to the program numbers provided in the MIDI files. Note that instruments out of the list are considered as part of the strings\n",
    "\n",
    "We use [pypianoroll](https://github.com/salu133445/pypianoroll), created by the authors of MuseGAN to manipulate the data. The pypianoroll library gives us a ton of helpful methods which makes it easy to find out more about each file. (pypianoroll [docs](https://salu133445.github.io/pypianoroll/index.html))"
   ]
  },
  {
   "cell_type": "code",
   "execution_count": 29,
   "metadata": {},
   "outputs": [
    {
     "name": "stdout",
     "output_type": "stream",
     "text": [
      "bf385f3d5fe91e20bbe42194757e7ef1.npz\n",
      "\n",
      "#####################\n",
      "Name:  Guitar\n",
      "isDrum:  False\n",
      "Program:  24\n",
      "Empty pianoroll.\n",
      "\n",
      "\n",
      "#####################\n",
      "Name:  Piano\n",
      "isDrum:  False\n",
      "Program:  0\n",
      "Active length:  5808\n",
      "Active pitch range:  (50, 73)\n",
      "\n",
      "\n",
      "#####################\n",
      "Name:  Bass\n",
      "isDrum:  False\n",
      "Program:  32\n",
      "Active length:  7340\n",
      "Active pitch range:  (20, 37)\n",
      "\n",
      "\n",
      "#####################\n",
      "Name:  Drums\n",
      "isDrum:  True\n",
      "Program:  0\n",
      "Active length:  7945\n",
      "Active pitch range:  (28, 72)\n",
      "\n",
      "\n",
      "#####################\n",
      "Name:  Strings\n",
      "isDrum:  False\n",
      "Program:  48\n",
      "Active length:  7952\n",
      "Active pitch range:  (40, 78)\n",
      "\n"
     ]
    }
   ],
   "source": [
    "\n",
    "def printInfo(track):\n",
    "    print \"\\n#####################\"\n",
    "    print \"Name: \", track.name\n",
    "    print \"isDrum: \", track.is_drum\n",
    "    print \"Program: \", track.program\n",
    "    if len(track.pianoroll):\n",
    "        print \"Active length: \", track.get_active_length()\n",
    "        print \"Active pitch range: \", track.get_active_pitch_range()\n",
    "    else:\n",
    "        print \"Empty pianoroll.\"\n",
    "    print \"\"\n",
    "\n",
    "# Pick a file to look at\n",
    "filename = random.choice(os.listdir(DATA_DIR))\n",
    "print(filename)\n",
    "# Load pianoroll file as a multitrack object\n",
    "multi = pypianoroll.Multitrack(os.path.join(DATA_DIR, filename))\n",
    "# Show some info about the pianoroll\n",
    "for track in multi.tracks:\n",
    "    printInfo(track)\n"
   ]
  },
  {
   "cell_type": "markdown",
   "metadata": {},
   "source": [
    "## 5. Extract pianorolls from the Piano track of all files"
   ]
  },
  {
   "cell_type": "code",
   "execution_count": 48,
   "metadata": {},
   "outputs": [
    {
     "name": "stdout",
     "output_type": "stream",
     "text": [
      "(22912, 128)\n",
      "[[0 0 0 ... 0 0 0]\n",
      " [0 0 0 ... 0 0 0]\n",
      " [0 0 0 ... 0 0 0]\n",
      " ...\n",
      " [0 0 0 ... 0 0 0]\n",
      " [0 0 0 ... 0 0 0]\n",
      " [0 0 0 ... 0 0 0]]\n",
      "[[36 36 36 ... 36 36 36]\n",
      " [36 36 36 ... 36 36 36]\n",
      " [36 36 36 ... 36 36 36]\n",
      " ...\n",
      " [36 36 36 ... 36 36 36]\n",
      " [36 36 36 ... 36 36 36]\n",
      " [36 36 36 ... 36 36 36]]\n",
      "(22912, 128)\n"
     ]
    },
    {
     "data": {
      "image/png": "[encoded data removed]",
      "text/plain": [
       "<Figure size 432x288 with 1 Axes>"
      ]
     },
     "metadata": {},
     "output_type": "display_data"
    }
   ],
   "source": [
    "# pianorolls = [] # List to hold all our piano rolls\n",
    "filename = random.choice(os.listdir(DATA_DIR))\n",
    "# Load pianoroll file as a multitrack object\n",
    "multi = pypianoroll.Multitrack(os.path.join(DATA_DIR, filename))\n",
    "for track in multi.tracks:\n",
    "    # Non-empty piano pianoroll\n",
    "    if track.name == \"Piano\" and len(track.pianoroll):\n",
    "        track.pianoroll = track.pianoroll.clip()\n",
    "        print(track.pianoroll.shape)\n",
    "        print(track.pianoroll[:,:10])\n",
    "        print(track.pianoroll.clip(36,96)[:,:10])\n",
    "        print(track.pianoroll.shape)\n",
    "        fig, ax = track.plot()\n",
    "        plt.show()"
   ]
  }
 ],
 "metadata": {
  "kernelspec": {
   "display_name": "Python 2",
   "language": "python",
   "name": "python2"
  },
  "language_info": {
   "codemirror_mode": {
    "name": "ipython",
    "version": 2
   },
   "file_extension": ".py",
   "mimetype": "text/x-python",
   "name": "python",
   "nbconvert_exporter": "python",
   "pygments_lexer": "ipython2",
   "version": "2.7.12"
  }
 },
 "nbformat": 4,
 "nbformat_minor": 2
}
