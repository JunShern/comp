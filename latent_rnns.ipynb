{
 "cells": [
  {
   "cell_type": "markdown",
   "metadata": {},
   "source": [
    "# Sequence models"
   ]
  },
  {
   "cell_type": "markdown",
   "metadata": {},
   "source": [
    "Resources:\n",
    "1. One-to-many, many-to-one and other variants on [StackOVerflow](https://stackoverflow.com/questions/43034960/many-to-one-and-many-to-many-lstm-examples-in-keras)."
   ]
  },
  {
   "cell_type": "markdown",
   "metadata": {
    "heading_collapsed": true
   },
   "source": [
    "#### Imports and user variables"
   ]
  },
  {
   "cell_type": "code",
   "execution_count": 1,
   "metadata": {
    "hidden": true
   },
   "outputs": [
    {
     "name": "stderr",
     "output_type": "stream",
     "text": [
      "Using TensorFlow backend.\n"
     ]
    },
    {
     "name": "stdout",
     "output_type": "stream",
     "text": [
      "Imports and variable definitions successful, using 1000 files.\n"
     ]
    }
   ],
   "source": [
    "%run -i imports_and_user_variables.py 1000\n",
    "from __future__ import print_function # Strange bug, this function can't be imported"
   ]
  },
  {
   "cell_type": "code",
   "execution_count": 4,
   "metadata": {
    "hidden": true
   },
   "outputs": [],
   "source": [
    "import os, shutil\n",
    "import random\n",
    "import sys\n",
    "import numpy as np\n",
    "import pypianoroll\n",
    "from matplotlib import pyplot as plt\n",
    "import cPickle as pickle\n",
    "import pianoroll_utils\n",
    "import IPython\n",
    "import h5py\n",
    "\n",
    "from keras.layers import Input, Dense, Conv2D, Conv2DTranspose, BatchNormalization, MaxPooling2D, UpSampling2D\n",
    "from keras.models import Model, Sequential\n",
    "from keras.callbacks import TensorBoard\n",
    "from keras.models import load_model\n",
    "from keras.preprocessing.sequence import TimeseriesGenerator\n",
    "from keras.layers import Activation, LSTM, RNN, Concatenate, concatenate, Dropout\n",
    "from keras import optimizers\n",
    "\n",
    "from __future__ import print_function\n",
    "from keras.models import Sequential\n",
    "from keras import layers\n",
    "from six.moves import range\n",
    "\n",
    "NUM_FILES = 1000\n",
    "SEQ_FILE = './pickle_jar/seq_{}_songs_clipped96.h5'.format(NUM_FILES)\n",
    "WINDOW_LENGTH = 4\n",
    "\n",
    "PICKLE_FILE = './pickle_jar/norm_units_50_songs.pkl'\n",
    "SEQ_PICKLE_FILE = './pickle_jar/seq_units_200_songs_clipped96.pkl'\n",
    "SEQ_EMBED_PICKLE_FILE = './pickle_jar/seq_embed_units_200_songs_clipped96_vaev5.pkl'\n",
    "\n",
    "# Music shape\n",
    "MIN_PITCH = 13 # C-1\n",
    "MAX_PITCH = 108 # C7 (MIDI 108)\n",
    "BEATS_PER_UNIT = 4\n",
    "NUM_TRANSPOSITIONS = 3 # Number of transpositions to perform (maximum 12)\n",
    "\n",
    "# Don't change unless you know what you're doing\n",
    "BEAT_RESOLUTION = 24 # This is set by the encoding of the lpd-5 dataset, corresponds to number of ticks per beat\n",
    "PARTITION_NOTE = 60 # Break into left- and right-accompaniments at middle C\n",
    "NUM_PITCHES = MAX_PITCH - MIN_PITCH + 1\n",
    "NUM_TICKS = BEATS_PER_UNIT * BEAT_RESOLUTION"
   ]
  },
  {
   "cell_type": "code",
   "execution_count": 2,
   "metadata": {
    "hidden": true
   },
   "outputs": [],
   "source": [
    "from keras.utils import Sequence\n",
    "\n",
    "class TimeseriesGeneratorTwoInputs(Sequence):\n",
    "    \"\"\"Keras data reading class\n",
    "    Utility class for generating batches of temporal data.\n",
    "    This class takes in a sequence of data-points gathered at\n",
    "    equal intervals, along with time series parameters such as\n",
    "    stride, length of history, etc., to produce batches for\n",
    "    training/validation.\n",
    "    \n",
    "    Adapted from the TimeseriesGenerator class:\n",
    "    https://github.com/keras-team/keras/blob/master/keras/utils/data_utils.py#L302\n",
    "    \"\"\"\n",
    "\n",
    "    def __init__(self, data1, data2, targets, length,\n",
    "                 sampling_rate=1,\n",
    "                 stride=1,\n",
    "                 start_index=0,\n",
    "                 end_index=None,\n",
    "                 shuffle=False,\n",
    "                 reverse=False,\n",
    "                 batch_size=128):\n",
    "        self.data1 = data1\n",
    "        self.data2 = data2\n",
    "        assert len(data1) == len(data2)\n",
    "        self.targets = targets\n",
    "        self.length = length\n",
    "        self.sampling_rate = sampling_rate\n",
    "        self.stride = stride\n",
    "        self.start_index = start_index + length\n",
    "        if end_index is None:\n",
    "            end_index = len(data1) - 1\n",
    "        self.end_index = end_index\n",
    "        self.shuffle = shuffle\n",
    "        self.reverse = reverse\n",
    "        self.batch_size = batch_size\n",
    "\n",
    "        if self.start_index > self.end_index:\n",
    "            raise ValueError('`start_index+length=%i > end_index=%i` '\n",
    "                             'is disallowed, as no part of the sequence '\n",
    "                             'would be left to be used as current step.'\n",
    "                             % (self.start_index, self.end_index))\n",
    "\n",
    "    def __len__(self):\n",
    "        return int(np.ceil(\n",
    "            (self.end_index - self.start_index + 1) /\n",
    "            (self.batch_size * self.stride)))\n",
    "\n",
    "    def _empty_batch(self, num_rows):\n",
    "        samples_shape = [num_rows, self.length // self.sampling_rate]\n",
    "        samples_shape.extend(self.data1.shape[1:])\n",
    "        targets_shape = [num_rows]\n",
    "        targets_shape.extend(self.targets.shape[1:])\n",
    "        return np.empty(samples_shape), np.empty(samples_shape), np.empty(targets_shape)\n",
    "\n",
    "    def __getitem__(self, index):\n",
    "        if self.shuffle:\n",
    "            rows = np.random.randint(\n",
    "                self.start_index, self.end_index + 1, size=self.batch_size)\n",
    "        else:\n",
    "            i = self.start_index + self.batch_size * self.stride * index\n",
    "            rows = np.arange(i, min(i + self.batch_size *\n",
    "                                    self.stride, self.end_index + 1), self.stride)\n",
    "\n",
    "        samples1, samples2, targets = self._empty_batch(len(rows))\n",
    "        for j, row in enumerate(rows):\n",
    "            indices = range(rows[j] - self.length, rows[j], self.sampling_rate)\n",
    "            samples1[j] = self.data1[indices]\n",
    "            samples2[j] = self.data2[indices]\n",
    "            targets[j] = self.targets[rows[j]]\n",
    "        if self.reverse:\n",
    "            return [samples1[:, ::-1, ...], samples2[:, ::-1, ...]], targets\n",
    "        return [samples1, samples2], targets\n"
   ]
  },
  {
   "cell_type": "markdown",
   "metadata": {
    "heading_collapsed": true
   },
   "source": [
    "#### Load datasets"
   ]
  },
  {
   "cell_type": "markdown",
   "metadata": {
    "heading_collapsed": true,
    "hidden": true
   },
   "source": [
    "##### RAM dataset"
   ]
  },
  {
   "cell_type": "code",
   "execution_count": 36,
   "metadata": {
    "hidden": true
   },
   "outputs": [
    {
     "name": "stdout",
     "output_type": "stream",
     "text": [
      "Loaded units from ./pickle_jar/seq_units_200_songs_clipped96.pkl\n",
      "seq_units['input_train'].shape: (36812, 96, 96)\n",
      "seq_units['comp_train'].shape: (36812, 96, 96)\n",
      "seq_units['input_test'].shape: (4260, 96, 96)\n",
      "seq_units['comp_test'].shape: (4260, 96, 96)\n"
     ]
    }
   ],
   "source": [
    "# Sequence data\n",
    "seq_units = {}\n",
    "with open(SEQ_PICKLE_FILE, 'rb') as infile:\n",
    "    seq_units = pickle.load( infile )\n",
    "\n",
    "# Print info\n",
    "print(\"Loaded units from\", SEQ_PICKLE_FILE)\n",
    "print(\"seq_units['input_train'].shape:\", seq_units[\"input_train\"].shape)\n",
    "print(\"seq_units['comp_train'].shape:\", seq_units[\"comp_train\"].shape)\n",
    "print(\"seq_units['input_test'].shape:\", seq_units[\"input_test\"].shape)\n",
    "print(\"seq_units['comp_test'].shape:\", seq_units[\"comp_test\"].shape)"
   ]
  },
  {
   "cell_type": "code",
   "execution_count": 35,
   "metadata": {
    "hidden": true
   },
   "outputs": [
    {
     "name": "stdout",
     "output_type": "stream",
     "text": [
      "Loaded units from ./pickle_jar/seq_embed_units_200_songs_clipped96_vaev5.pkl\n",
      "seq_embed['input_train'].shape:  (36812, 500)\n",
      "seq_embed['comp_train'].shape:  (36812, 500)\n",
      "seq_embed['input_test'].shape:  (4260, 500)\n",
      "seq_embed['comp_test'].shape:  (4260, 500)\n"
     ]
    }
   ],
   "source": [
    "# Embedded sequence data\n",
    "seq_embed = {}\n",
    "with open(SEQ_EMBED_PICKLE_FILE, 'rb') as infile:\n",
    "    seq_embed = pickle.load( infile )\n",
    "\n",
    "# Print info\n",
    "print(\"Loaded units from\", SEQ_EMBED_PICKLE_FILE)\n",
    "print(\"seq_embed['input_train'].shape: \", seq_embed[\"input_train\"].shape)\n",
    "print(\"seq_embed['comp_train'].shape: \", seq_embed[\"comp_train\"].shape)\n",
    "print(\"seq_embed['input_test'].shape: \", seq_embed[\"input_test\"].shape)\n",
    "print(\"seq_embed['comp_test'].shape: \", seq_embed[\"comp_test\"].shape)"
   ]
  },
  {
   "cell_type": "code",
   "execution_count": 37,
   "metadata": {
    "hidden": true
   },
   "outputs": [
    {
     "name": "stdout",
     "output_type": "stream",
     "text": [
      "(34991, 4, 500)\n",
      "(34991, 4, 500)\n",
      "(34991, 500)\n",
      "(1817, 4, 500)\n",
      "(1817, 4, 500)\n",
      "(1817, 500)\n"
     ]
    }
   ],
   "source": [
    "# Create dataset for sequence training\n",
    "\n",
    "num_data = len(seq_embed['input_train']) - WINDOW_LENGTH\n",
    "x_input = np.zeros((num_data, WINDOW_LENGTH, latent_dim))\n",
    "x_comp = np.zeros((num_data, WINDOW_LENGTH, latent_dim))\n",
    "y_comp = np.zeros((num_data, latent_dim))\n",
    "for i in range(num_data):\n",
    "    x_input[i] = seq_embed['input_train'][i:i+WINDOW_LENGTH]\n",
    "    x_comp[i] = seq_embed['comp_train'][i:i+WINDOW_LENGTH]\n",
    "    y_comp[i] = seq_embed['comp_train'][i+WINDOW_LENGTH]\n",
    "\n",
    "train_test_indices = np.random.choice([True, False], size=len(x_input), p=[.95, .05])\n",
    "# Training data\n",
    "x_input_train = x_input[train_test_indices, ...]\n",
    "x_comp_train = x_comp[train_test_indices, ...]\n",
    "y_comp_train = y_comp[train_test_indices, ...]\n",
    "# Testing data\n",
    "x_input_test = x_input[np.invert(train_test_indices), ...]\n",
    "x_comp_test = x_comp[np.invert(train_test_indices), ...]\n",
    "y_comp_test = y_comp[np.invert(train_test_indices), ...]\n",
    "\n",
    "# Delete unecessary memory hogs\n",
    "del x_input\n",
    "del x_comp\n",
    "del y_comp\n",
    "\n",
    "print(x_input_train.shape)\n",
    "print(x_comp_train.shape)\n",
    "print(y_comp_train.shape)\n",
    "\n",
    "print(x_input_test.shape)\n",
    "print(x_comp_test.shape)\n",
    "print(y_comp_test.shape)"
   ]
  },
  {
   "cell_type": "markdown",
   "metadata": {
    "heading_collapsed": true,
    "hidden": true
   },
   "source": [
    "##### h5py dataset"
   ]
  },
  {
   "cell_type": "code",
   "execution_count": 3,
   "metadata": {
    "hidden": true
   },
   "outputs": [
    {
     "name": "stdout",
     "output_type": "stream",
     "text": [
      "(441738, 96, 96, 1)\n",
      "(441738, 96, 96, 1)\n",
      "(441738, 50)\n",
      "(441738, 50)\n",
      "3451\n",
      "410\n"
     ]
    }
   ],
   "source": [
    "# Load dataset\n",
    "f = h5py.File(ONSETS_SEQ_FILE, 'r')\n",
    "seq_units_input = f['input_train']\n",
    "seq_units_comp = f['comp_train']\n",
    "seq_embed_input = f['input_embed_train']\n",
    "seq_embed_comp = f['comp_embed_train']\n",
    "data_gen_train = TimeseriesGeneratorTwoInputs(f['input_embed_train'], f['comp_embed_train'], f['comp_embed_train'], \n",
    "                                              length=WINDOW_LENGTH, sampling_rate=1, batch_size=128)\n",
    "data_gen_test = TimeseriesGeneratorTwoInputs(f['input_embed_test'], f['comp_embed_test'], f['comp_embed_test'], \n",
    "                                              length=WINDOW_LENGTH, sampling_rate=1, batch_size=128)\n",
    "print(seq_units_input.shape)\n",
    "print(seq_units_comp.shape)\n",
    "print(seq_embed_input.shape)\n",
    "print(seq_embed_comp.shape)\n",
    "print(len(data_gen_train))\n",
    "print(len(data_gen_test))"
   ]
  },
  {
   "cell_type": "markdown",
   "metadata": {
    "heading_collapsed": true
   },
   "source": [
    "# Unit autoencoders"
   ]
  },
  {
   "cell_type": "markdown",
   "metadata": {
    "heading_collapsed": true,
    "hidden": true
   },
   "source": [
    "## 1. Unit autoencoder using RNN"
   ]
  },
  {
   "cell_type": "markdown",
   "metadata": {
    "hidden": true
   },
   "source": [
    "```\n",
    "Input: pianoroll-unit (128, 96)\n",
    "Output: pianoroll-unit (128, 96)\n",
    "```\n",
    "\n",
    "### Layers = 1, Hidden Size = 128\n",
    "Epoch 50: `loss: 0.0022 - acc: 0.5142 - val_loss: 0.0026 - val_acc: 0.4837`\n",
    "\n",
    "### Layers = 2, Hidden Size = 128\n",
    "Epoch 50: `loss: 0.0027 - acc: 0.4919 - val_loss: 0.0031 - val_acc: 0.4702`\n",
    "\n",
    "### Layers = 1, Hidden Size = 256\n",
    "Epoch 50: `loss: 0.0023 - acc: 0.5242 - val_loss: 0.0027 - val_acc: 0.4984`\n",
    "\n",
    "Code adapted from: https://github.com/keras-team/keras/blob/master/examples/addition_rnn.py"
   ]
  },
  {
   "cell_type": "code",
   "execution_count": 4,
   "metadata": {
    "hidden": true
   },
   "outputs": [
    {
     "name": "stdout",
     "output_type": "stream",
     "text": [
      "('Loaded', 3831, 'units from', './pickle_jar/norm_units_50_songs.pkl')\n",
      "('input_units.shape: ', (3831, 128, 96))\n",
      "('comp_units.shape: ', (3831, 128, 96))\n",
      "('full_units.shape: ', (3831, 128, 96))\n",
      "('Train:', (3480, 96, 128))\n",
      "('Test:', (351, 96, 128))\n"
     ]
    }
   ],
   "source": [
    "units = {}\n",
    "with open(PICKLE_FILE, 'rb') as infile:\n",
    "    units = pickle.load( infile )\n",
    "units['full'] = units['input'] + units['comp']\n",
    "\n",
    "# Print info\n",
    "print(\"Loaded\", units[\"input\"].shape[0], \"units from\", PICKLE_FILE)\n",
    "print(\"input_units.shape: \", units[\"input\"].shape)\n",
    "print(\"comp_units.shape: \", units[\"comp\"].shape)\n",
    "print(\"full_units.shape: \", units[\"full\"].shape)\n",
    "\n",
    "# Create an array of True (train) and False (test) to split the dataset\n",
    "train_test_indices = np.random.choice([True, False], size=len(units[\"input\"]), p=[.9, .1])\n",
    "# Training data\n",
    "input_train = units[\"input\"][train_test_indices, ...].swapaxes(1,2)\n",
    "comp_train = units[\"comp\"][train_test_indices, ...].swapaxes(1,2)\n",
    "full_train = units[\"full\"][train_test_indices, ...].swapaxes(1,2)\n",
    "# Testing data\n",
    "input_test = units[\"input\"][np.invert(train_test_indices), ...].swapaxes(1,2)\n",
    "comp_test = units[\"comp\"][np.invert(train_test_indices), ...].swapaxes(1,2)\n",
    "full_test = units[\"full\"][np.invert(train_test_indices), ...].swapaxes(1,2)\n",
    "print(\"Train:\", input_train.shape)\n",
    "print(\"Test:\", input_test.shape)"
   ]
  },
  {
   "cell_type": "code",
   "execution_count": null,
   "metadata": {
    "hidden": true
   },
   "outputs": [],
   "source": [
    "\n",
    "# Parameters for the model and dataset.\n",
    "TRAINING_SIZE = 50000\n",
    "NUM_TICKS = 96\n",
    "NUM_PITCHES = 128\n",
    "REVERSE = True\n",
    "\n",
    "MAXLEN = NUM_TICKS\n",
    "\n",
    "# Try replacing GRU, or SimpleRNN.\n",
    "RNN = layers.LSTM\n",
    "HIDDEN_SIZE = 128\n",
    "LAYERS = 1\n",
    "\n",
    "print('Build model...')\n",
    "model = Sequential()\n",
    "# \"Encode\" the input sequence using an RNN, producing an output of HIDDEN_SIZE.\n",
    "# Note: In a situation where your input sequences have a variable length,\n",
    "# use input_shape=(None, num_feature).\n",
    "model.add(RNN(HIDDEN_SIZE, input_shape=(MAXLEN, NUM_PITCHES)))\n",
    "# As the decoder RNN's input, repeatedly provide with the last hidden state of\n",
    "# RNN for each time step. Repeat 'DIGITS + 1' times as that's the maximum\n",
    "# length of output, e.g., when DIGITS=3, max output is 999+999=1998.\n",
    "model.add(layers.RepeatVector(MAXLEN))\n",
    "# The decoder RNN could be multiple layers stacked or a single layer.\n",
    "for _ in range(LAYERS):\n",
    "    # By setting return_sequences to True, return not only the last output but\n",
    "    # all the outputs so far in the form of (num_samples, timesteps,\n",
    "    # output_dim). This is necessary as TimeDistributed in the below expects\n",
    "    # the first dimension to be the timesteps.\n",
    "    model.add(RNN(HIDDEN_SIZE, return_sequences=True))\n",
    "\n",
    "# Apply a dense layer to the every temporal slice of an input. For each of step\n",
    "# of the output sequence, decide which character should be chosen.\n",
    "model.add(layers.TimeDistributed(layers.Dense(NUM_PITCHES)))\n",
    "model.add(layers.Activation('tanh'))\n",
    "model.compile(loss='mean_squared_error',\n",
    "              optimizer='adam',\n",
    "              metrics=['accuracy'])\n",
    "model.summary()"
   ]
  },
  {
   "cell_type": "code",
   "execution_count": 38,
   "metadata": {
    "hidden": true,
    "scrolled": true
   },
   "outputs": [
    {
     "name": "stdout",
     "output_type": "stream",
     "text": [
      "Train on 2935 samples, validate on 333 samples\n",
      "Epoch 1/50\n",
      "2935/2935 [==============================] - 21s 7ms/step - loss: 0.0046 - acc: 0.3970 - val_loss: 0.0046 - val_acc: 0.4170\n",
      "Epoch 2/50\n",
      "2935/2935 [==============================] - 21s 7ms/step - loss: 0.0044 - acc: 0.4097 - val_loss: 0.0045 - val_acc: 0.4245\n",
      "Epoch 3/50\n",
      "2935/2935 [==============================] - 21s 7ms/step - loss: 0.0043 - acc: 0.4138 - val_loss: 0.0044 - val_acc: 0.4282\n",
      "Epoch 4/50\n",
      "2935/2935 [==============================] - 21s 7ms/step - loss: 0.0042 - acc: 0.4242 - val_loss: 0.0043 - val_acc: 0.3930\n",
      "Epoch 5/50\n",
      "2935/2935 [==============================] - 21s 7ms/step - loss: 0.0041 - acc: 0.4273 - val_loss: 0.0043 - val_acc: 0.4511\n",
      "Epoch 6/50\n",
      "2935/2935 [==============================] - 21s 7ms/step - loss: 0.0040 - acc: 0.4344 - val_loss: 0.0042 - val_acc: 0.3932\n",
      "Epoch 7/50\n",
      "2935/2935 [==============================] - 21s 7ms/step - loss: 0.0040 - acc: 0.4361 - val_loss: 0.0041 - val_acc: 0.4113\n",
      "Epoch 8/50\n",
      "2935/2935 [==============================] - 21s 7ms/step - loss: 0.0039 - acc: 0.4382 - val_loss: 0.0040 - val_acc: 0.4545\n",
      "Epoch 9/50\n",
      "2935/2935 [==============================] - 21s 7ms/step - loss: 0.0039 - acc: 0.4439 - val_loss: 0.0041 - val_acc: 0.4541\n",
      "Epoch 10/50\n",
      "2935/2935 [==============================] - 21s 7ms/step - loss: 0.0038 - acc: 0.4446 - val_loss: 0.0040 - val_acc: 0.4346\n",
      "Epoch 11/50\n",
      "2935/2935 [==============================] - 21s 7ms/step - loss: 0.0038 - acc: 0.4462 - val_loss: 0.0039 - val_acc: 0.4612\n",
      "Epoch 12/50\n",
      "2935/2935 [==============================] - 21s 7ms/step - loss: 0.0038 - acc: 0.4498 - val_loss: 0.0039 - val_acc: 0.4107\n",
      "Epoch 13/50\n",
      "2935/2935 [==============================] - 21s 7ms/step - loss: 0.0037 - acc: 0.4478 - val_loss: 0.0038 - val_acc: 0.4593\n",
      "Epoch 14/50\n",
      "2935/2935 [==============================] - 21s 7ms/step - loss: 0.0037 - acc: 0.4480 - val_loss: 0.0039 - val_acc: 0.4387\n",
      "Epoch 15/50\n",
      "2935/2935 [==============================] - 21s 7ms/step - loss: 0.0037 - acc: 0.4558 - val_loss: 0.0039 - val_acc: 0.4230\n",
      "Epoch 16/50\n",
      "2935/2935 [==============================] - 21s 7ms/step - loss: 0.0037 - acc: 0.4525 - val_loss: 0.0038 - val_acc: 0.4536\n",
      "Epoch 17/50\n",
      "2935/2935 [==============================] - 21s 7ms/step - loss: 0.0036 - acc: 0.4514 - val_loss: 0.0038 - val_acc: 0.4589\n",
      "Epoch 18/50\n",
      "2935/2935 [==============================] - 21s 7ms/step - loss: 0.0036 - acc: 0.4513 - val_loss: 0.0038 - val_acc: 0.4657\n",
      "Epoch 19/50\n",
      "2935/2935 [==============================] - 21s 7ms/step - loss: 0.0036 - acc: 0.4552 - val_loss: 0.0037 - val_acc: 0.4606\n",
      "Epoch 20/50\n",
      "2935/2935 [==============================] - 21s 7ms/step - loss: 0.0036 - acc: 0.4602 - val_loss: 0.0038 - val_acc: 0.4362\n",
      "Epoch 21/50\n",
      "2935/2935 [==============================] - 21s 7ms/step - loss: 0.0036 - acc: 0.4616 - val_loss: 0.0037 - val_acc: 0.4439\n",
      "Epoch 22/50\n",
      "2935/2935 [==============================] - 21s 7ms/step - loss: 0.0035 - acc: 0.4595 - val_loss: 0.0037 - val_acc: 0.4618\n",
      "Epoch 23/50\n",
      "2935/2935 [==============================] - 21s 7ms/step - loss: 0.0035 - acc: 0.4582 - val_loss: 0.0037 - val_acc: 0.4462\n",
      "Epoch 24/50\n",
      "2935/2935 [==============================] - 21s 7ms/step - loss: 0.0035 - acc: 0.4636 - val_loss: 0.0037 - val_acc: 0.4576\n",
      "Epoch 25/50\n",
      "2935/2935 [==============================] - 21s 7ms/step - loss: 0.0035 - acc: 0.4642 - val_loss: 0.0037 - val_acc: 0.4665\n",
      "Epoch 26/50\n",
      "2935/2935 [==============================] - 21s 7ms/step - loss: 0.0035 - acc: 0.4619 - val_loss: 0.0037 - val_acc: 0.4522\n",
      "Epoch 27/50\n",
      "2935/2935 [==============================] - 21s 7ms/step - loss: 0.0035 - acc: 0.4615 - val_loss: 0.0036 - val_acc: 0.4559\n",
      "Epoch 28/50\n",
      "2935/2935 [==============================] - 21s 7ms/step - loss: 0.0034 - acc: 0.4611 - val_loss: 0.0036 - val_acc: 0.4362\n",
      "Epoch 29/50\n",
      "2935/2935 [==============================] - 21s 7ms/step - loss: 0.0034 - acc: 0.4654 - val_loss: 0.0037 - val_acc: 0.4589\n",
      "Epoch 30/50\n",
      "2935/2935 [==============================] - 21s 7ms/step - loss: 0.0034 - acc: 0.4641 - val_loss: 0.0036 - val_acc: 0.4450\n",
      "Epoch 31/50\n",
      "2935/2935 [==============================] - 21s 7ms/step - loss: 0.0034 - acc: 0.4646 - val_loss: 0.0036 - val_acc: 0.4552\n",
      "Epoch 32/50\n",
      "2935/2935 [==============================] - 21s 7ms/step - loss: 0.0034 - acc: 0.4639 - val_loss: 0.0036 - val_acc: 0.4552\n",
      "Epoch 33/50\n",
      "2935/2935 [==============================] - 21s 7ms/step - loss: 0.0034 - acc: 0.4670 - val_loss: 0.0036 - val_acc: 0.4455\n",
      "Epoch 34/50\n",
      "2935/2935 [==============================] - 21s 7ms/step - loss: 0.0034 - acc: 0.4638 - val_loss: 0.0036 - val_acc: 0.4607\n",
      "Epoch 35/50\n",
      "2935/2935 [==============================] - 21s 7ms/step - loss: 0.0034 - acc: 0.4631 - val_loss: 0.0036 - val_acc: 0.4540\n",
      "Epoch 36/50\n",
      "2935/2935 [==============================] - 21s 7ms/step - loss: 0.0034 - acc: 0.4679 - val_loss: 0.0036 - val_acc: 0.4518\n",
      "Epoch 37/50\n",
      "2935/2935 [==============================] - 21s 7ms/step - loss: 0.0034 - acc: 0.4727 - val_loss: 0.0036 - val_acc: 0.4394\n",
      "Epoch 38/50\n",
      "2935/2935 [==============================] - 21s 7ms/step - loss: 0.0033 - acc: 0.4649 - val_loss: 0.0036 - val_acc: 0.4667\n",
      "Epoch 39/50\n",
      "2935/2935 [==============================] - 21s 7ms/step - loss: 0.0033 - acc: 0.4667 - val_loss: 0.0035 - val_acc: 0.4303\n",
      "Epoch 40/50\n",
      "2935/2935 [==============================] - 21s 7ms/step - loss: 0.0033 - acc: 0.4725 - val_loss: 0.0035 - val_acc: 0.4664\n",
      "Epoch 41/50\n",
      "2935/2935 [==============================] - 21s 7ms/step - loss: 0.0033 - acc: 0.4677 - val_loss: 0.0035 - val_acc: 0.4481\n",
      "Epoch 42/50\n",
      "2935/2935 [==============================] - 21s 7ms/step - loss: 0.0033 - acc: 0.4685 - val_loss: 0.0035 - val_acc: 0.4603\n",
      "Epoch 43/50\n",
      "2935/2935 [==============================] - 21s 7ms/step - loss: 0.0033 - acc: 0.4767 - val_loss: 0.0035 - val_acc: 0.4592\n",
      "Epoch 44/50\n",
      "2935/2935 [==============================] - 21s 7ms/step - loss: 0.0033 - acc: 0.4706 - val_loss: 0.0035 - val_acc: 0.4641\n",
      "Epoch 45/50\n",
      "2935/2935 [==============================] - 21s 7ms/step - loss: 0.0033 - acc: 0.4757 - val_loss: 0.0035 - val_acc: 0.4446\n",
      "Epoch 46/50\n",
      "2935/2935 [==============================] - 21s 7ms/step - loss: 0.0033 - acc: 0.4741 - val_loss: 0.0035 - val_acc: 0.4526\n",
      "Epoch 47/50\n",
      "2935/2935 [==============================] - 21s 7ms/step - loss: 0.0033 - acc: 0.4736 - val_loss: 0.0035 - val_acc: 0.4593\n",
      "Epoch 48/50\n",
      "2935/2935 [==============================] - 21s 7ms/step - loss: 0.0033 - acc: 0.4760 - val_loss: 0.0035 - val_acc: 0.4706\n",
      "Epoch 49/50\n",
      "2935/2935 [==============================] - 21s 7ms/step - loss: 0.0032 - acc: 0.4696 - val_loss: 0.0035 - val_acc: 0.4911\n",
      "Epoch 50/50\n",
      "2935/2935 [==============================] - 22s 7ms/step - loss: 0.0032 - acc: 0.4715 - val_loss: 0.0035 - val_acc: 0.4483\n",
      "Saved Keras model to ./models/rnn_v1.h5\n"
     ]
    }
   ],
   "source": [
    "# Train the model each generation and show predictions against the validation\n",
    "# dataset.\n",
    "\n",
    "model.fit(input_train, input_train,\n",
    "                epochs=50,\n",
    "                batch_size=32,\n",
    "                shuffle=True,\n",
    "                validation_data=(input_test, input_test),\n",
    "                callbacks=[TensorBoard(log_dir='/tmp/rnn')])\n",
    "\n",
    "MODEL_RNN_V1_FILE = './models/rnn_v1.h5'\n",
    "model.save(MODEL_RNN_V1_FILE)# creates a HDF5 file\n",
    "print(\"Saved Keras model to\", MODEL_RNN_V1_FILE)"
   ]
  },
  {
   "cell_type": "code",
   "execution_count": 3,
   "metadata": {
    "hidden": true
   },
   "outputs": [],
   "source": [
    "MODEL_RNN_V1_FILE = './models/rnn_v1.h5'\n",
    "model = load_model(MODEL_RNN_V1_FILE)"
   ]
  },
  {
   "cell_type": "code",
   "execution_count": 4,
   "metadata": {
    "hidden": true
   },
   "outputs": [
    {
     "name": "stdout",
     "output_type": "stream",
     "text": [
      "(351, 96, 128)\n"
     ]
    }
   ],
   "source": [
    "# Run test inputs through the autoencoder\n",
    "decoded_test = model.predict(input_test)\n",
    "print(decoded_test.shape)"
   ]
  },
  {
   "cell_type": "code",
   "execution_count": 14,
   "metadata": {
    "hidden": true
   },
   "outputs": [
    {
     "name": "stdout",
     "output_type": "stream",
     "text": [
      "(96, 128)\n",
      "(96, 128)\n",
      "(96, 128)\n"
     ]
    },
    {
     "ename": "ValueError",
     "evalue": "data byte must be in range 0..127",
     "output_type": "error",
     "traceback": [
      "\u001b[0;31m---------------------------------------------------------------------------\u001b[0m",
      "\u001b[0;31mValueError\u001b[0m                                Traceback (most recent call last)",
      "\u001b[0;32m<ipython-input-41-539ddc14e404>\u001b[0m in \u001b[0;36m<module>\u001b[0;34m()\u001b[0m\n\u001b[1;32m     27\u001b[0m \u001b[0;31m# pianoroll_utils.playPianoroll(sample_full)\u001b[0m\u001b[0;34m\u001b[0m\u001b[0;34m\u001b[0m\u001b[0m\n\u001b[1;32m     28\u001b[0m \u001b[0;31m# pianoroll_utils.playPianoroll(sample_output)\u001b[0m\u001b[0;34m\u001b[0m\u001b[0;34m\u001b[0m\u001b[0m\n\u001b[0;32m---> 29\u001b[0;31m \u001b[0mpianoroll_utils\u001b[0m\u001b[0;34m.\u001b[0m\u001b[0mplayPianoroll_events\u001b[0m\u001b[0;34m(\u001b[0m\u001b[0msample_output\u001b[0m\u001b[0;34m.\u001b[0m\u001b[0mswapaxes\u001b[0m\u001b[0;34m(\u001b[0m\u001b[0;36m0\u001b[0m\u001b[0;34m,\u001b[0m\u001b[0;36m1\u001b[0m\u001b[0;34m)\u001b[0m\u001b[0;34m)\u001b[0m\u001b[0;34m\u001b[0m\u001b[0m\n\u001b[0m\u001b[1;32m     30\u001b[0m \u001b[0;34m\u001b[0m\u001b[0m\n",
      "\u001b[0;32m/media/junshern/s_drive/FYP/comper/pianoroll_utils.py\u001b[0m in \u001b[0;36mplayPianoroll_events\u001b[0;34m(pianoroll)\u001b[0m\n\u001b[1;32m     51\u001b[0m \u001b[0;34m\u001b[0m\u001b[0m\n\u001b[1;32m     52\u001b[0m \u001b[0;32mdef\u001b[0m \u001b[0mplayPianoroll_events\u001b[0m\u001b[0;34m(\u001b[0m\u001b[0mpianoroll\u001b[0m\u001b[0;34m)\u001b[0m\u001b[0;34m:\u001b[0m\u001b[0;34m\u001b[0m\u001b[0m\n\u001b[0;32m---> 53\u001b[0;31m     \u001b[0;32mreturn\u001b[0m \u001b[0mplay_midi_events\u001b[0m\u001b[0;34m(\u001b[0m\u001b[0mpianoroll_2_events\u001b[0m\u001b[0;34m(\u001b[0m\u001b[0mpianoroll\u001b[0m\u001b[0;34m)\u001b[0m\u001b[0;34m)\u001b[0m\u001b[0;34m\u001b[0m\u001b[0m\n\u001b[0m\u001b[1;32m     54\u001b[0m \u001b[0;34m\u001b[0m\u001b[0m\n\u001b[1;32m     55\u001b[0m \u001b[0;32mdef\u001b[0m \u001b[0mplay_midi_events\u001b[0m\u001b[0;34m(\u001b[0m\u001b[0mevents\u001b[0m\u001b[0;34m)\u001b[0m\u001b[0;34m:\u001b[0m\u001b[0;34m\u001b[0m\u001b[0m\n",
      "\u001b[0;32m/media/junshern/s_drive/FYP/comper/pianoroll_utils.py\u001b[0m in \u001b[0;36mpianoroll_2_events\u001b[0;34m(pianoroll)\u001b[0m\n\u001b[1;32m     98\u001b[0m             \u001b[0mvelocity\u001b[0m \u001b[0;34m=\u001b[0m \u001b[0mnp\u001b[0m\u001b[0;34m.\u001b[0m\u001b[0mmean\u001b[0m\u001b[0;34m(\u001b[0m\u001b[0mclipped\u001b[0m\u001b[0;34m[\u001b[0m\u001b[0mnote_on\u001b[0m\u001b[0;34m:\u001b[0m\u001b[0mnote_offs\u001b[0m\u001b[0;34m[\u001b[0m\u001b[0midx\u001b[0m\u001b[0;34m]\u001b[0m\u001b[0;34m,\u001b[0m \u001b[0mpitch\u001b[0m\u001b[0;34m]\u001b[0m\u001b[0;34m)\u001b[0m\u001b[0;34m\u001b[0m\u001b[0m\n\u001b[1;32m     99\u001b[0m             \u001b[0;31m# Create message events\u001b[0m\u001b[0;34m\u001b[0m\u001b[0;34m\u001b[0m\u001b[0m\n\u001b[0;32m--> 100\u001b[0;31m             \u001b[0mon_msg\u001b[0m \u001b[0;34m=\u001b[0m \u001b[0mmido\u001b[0m\u001b[0;34m.\u001b[0m\u001b[0mMessage\u001b[0m\u001b[0;34m(\u001b[0m\u001b[0;34m'note_on'\u001b[0m\u001b[0;34m,\u001b[0m \u001b[0mnote\u001b[0m\u001b[0;34m=\u001b[0m\u001b[0mpitch\u001b[0m\u001b[0;34m,\u001b[0m \u001b[0mvelocity\u001b[0m\u001b[0;34m=\u001b[0m\u001b[0mint\u001b[0m\u001b[0;34m(\u001b[0m\u001b[0mvelocity\u001b[0m\u001b[0;34m)\u001b[0m\u001b[0;34m,\u001b[0m \u001b[0mtime\u001b[0m\u001b[0;34m=\u001b[0m\u001b[0;36m0\u001b[0m\u001b[0;34m)\u001b[0m\u001b[0;34m\u001b[0m\u001b[0m\n\u001b[0m\u001b[1;32m    101\u001b[0m             \u001b[0mevents\u001b[0m\u001b[0;34m[\u001b[0m\u001b[0mnote_ons\u001b[0m\u001b[0;34m[\u001b[0m\u001b[0midx\u001b[0m\u001b[0;34m]\u001b[0m\u001b[0;34m]\u001b[0m\u001b[0;34m.\u001b[0m\u001b[0mappend\u001b[0m\u001b[0;34m(\u001b[0m\u001b[0mon_msg\u001b[0m\u001b[0;34m)\u001b[0m\u001b[0;34m\u001b[0m\u001b[0m\n\u001b[1;32m    102\u001b[0m             \u001b[0;32mif\u001b[0m \u001b[0mnote_offs\u001b[0m\u001b[0;34m[\u001b[0m\u001b[0midx\u001b[0m\u001b[0;34m]\u001b[0m \u001b[0;34m<\u001b[0m \u001b[0;36m96\u001b[0m\u001b[0;34m:\u001b[0m\u001b[0;34m\u001b[0m\u001b[0m\n",
      "\u001b[0;32m/home/junshern/Scripts/fyp-virtualenv/local/lib/python2.7/site-packages/mido/messages/messages.pyc\u001b[0m in \u001b[0;36m__init__\u001b[0;34m(self, type, **args)\u001b[0m\n\u001b[1;32m     86\u001b[0m         \u001b[0;32mif\u001b[0m \u001b[0mtype\u001b[0m \u001b[0;34m==\u001b[0m \u001b[0;34m'sysex'\u001b[0m\u001b[0;34m:\u001b[0m\u001b[0;34m\u001b[0m\u001b[0m\n\u001b[1;32m     87\u001b[0m             \u001b[0mmsgdict\u001b[0m\u001b[0;34m[\u001b[0m\u001b[0;34m'data'\u001b[0m\u001b[0;34m]\u001b[0m \u001b[0;34m=\u001b[0m \u001b[0mSysexData\u001b[0m\u001b[0;34m(\u001b[0m\u001b[0mconvert_py2_bytes\u001b[0m\u001b[0;34m(\u001b[0m\u001b[0mmsgdict\u001b[0m\u001b[0;34m[\u001b[0m\u001b[0;34m'data'\u001b[0m\u001b[0;34m]\u001b[0m\u001b[0;34m)\u001b[0m\u001b[0;34m)\u001b[0m\u001b[0;34m\u001b[0m\u001b[0m\n\u001b[0;32m---> 88\u001b[0;31m         \u001b[0mcheck_msgdict\u001b[0m\u001b[0;34m(\u001b[0m\u001b[0mmsgdict\u001b[0m\u001b[0;34m)\u001b[0m\u001b[0;34m\u001b[0m\u001b[0m\n\u001b[0m\u001b[1;32m     89\u001b[0m         \u001b[0mvars\u001b[0m\u001b[0;34m(\u001b[0m\u001b[0mself\u001b[0m\u001b[0;34m)\u001b[0m\u001b[0;34m.\u001b[0m\u001b[0mupdate\u001b[0m\u001b[0;34m(\u001b[0m\u001b[0mmsgdict\u001b[0m\u001b[0;34m)\u001b[0m\u001b[0;34m\u001b[0m\u001b[0m\n\u001b[1;32m     90\u001b[0m \u001b[0;34m\u001b[0m\u001b[0m\n",
      "\u001b[0;32m/home/junshern/Scripts/fyp-virtualenv/local/lib/python2.7/site-packages/mido/messages/checks.pyc\u001b[0m in \u001b[0;36mcheck_msgdict\u001b[0;34m(msgdict)\u001b[0m\n\u001b[1;32m     96\u001b[0m                 '{} message has no attribute {}'.format(spec['type'], name))\n\u001b[1;32m     97\u001b[0m \u001b[0;34m\u001b[0m\u001b[0m\n\u001b[0;32m---> 98\u001b[0;31m         \u001b[0mcheck_value\u001b[0m\u001b[0;34m(\u001b[0m\u001b[0mname\u001b[0m\u001b[0;34m,\u001b[0m \u001b[0mvalue\u001b[0m\u001b[0;34m)\u001b[0m\u001b[0;34m\u001b[0m\u001b[0m\n\u001b[0m",
      "\u001b[0;32m/home/junshern/Scripts/fyp-virtualenv/local/lib/python2.7/site-packages/mido/messages/checks.pyc\u001b[0m in \u001b[0;36mcheck_value\u001b[0;34m(name, value)\u001b[0m\n\u001b[1;32m     83\u001b[0m \u001b[0;34m\u001b[0m\u001b[0m\n\u001b[1;32m     84\u001b[0m \u001b[0;32mdef\u001b[0m \u001b[0mcheck_value\u001b[0m\u001b[0;34m(\u001b[0m\u001b[0mname\u001b[0m\u001b[0;34m,\u001b[0m \u001b[0mvalue\u001b[0m\u001b[0;34m)\u001b[0m\u001b[0;34m:\u001b[0m\u001b[0;34m\u001b[0m\u001b[0m\n\u001b[0;32m---> 85\u001b[0;31m     \u001b[0m_CHECKS\u001b[0m\u001b[0;34m[\u001b[0m\u001b[0mname\u001b[0m\u001b[0;34m]\u001b[0m\u001b[0;34m(\u001b[0m\u001b[0mvalue\u001b[0m\u001b[0;34m)\u001b[0m\u001b[0;34m\u001b[0m\u001b[0m\n\u001b[0m\u001b[1;32m     86\u001b[0m \u001b[0;34m\u001b[0m\u001b[0m\n\u001b[1;32m     87\u001b[0m \u001b[0;34m\u001b[0m\u001b[0m\n",
      "\u001b[0;32m/home/junshern/Scripts/fyp-virtualenv/local/lib/python2.7/site-packages/mido/messages/checks.pyc\u001b[0m in \u001b[0;36mcheck_data_byte\u001b[0;34m(value)\u001b[0m\n\u001b[1;32m     55\u001b[0m         \u001b[0;32mraise\u001b[0m \u001b[0mTypeError\u001b[0m\u001b[0;34m(\u001b[0m\u001b[0;34m'data byte must be int'\u001b[0m\u001b[0;34m)\u001b[0m\u001b[0;34m\u001b[0m\u001b[0m\n\u001b[1;32m     56\u001b[0m     \u001b[0;32melif\u001b[0m \u001b[0;32mnot\u001b[0m \u001b[0;36m0\u001b[0m \u001b[0;34m<=\u001b[0m \u001b[0mvalue\u001b[0m \u001b[0;34m<=\u001b[0m \u001b[0;36m127\u001b[0m\u001b[0;34m:\u001b[0m\u001b[0;34m\u001b[0m\u001b[0m\n\u001b[0;32m---> 57\u001b[0;31m         \u001b[0;32mraise\u001b[0m \u001b[0mValueError\u001b[0m\u001b[0;34m(\u001b[0m\u001b[0;34m'data byte must be in range 0..127'\u001b[0m\u001b[0;34m)\u001b[0m\u001b[0;34m\u001b[0m\u001b[0m\n\u001b[0m\u001b[1;32m     58\u001b[0m \u001b[0;34m\u001b[0m\u001b[0m\n\u001b[1;32m     59\u001b[0m \u001b[0;34m\u001b[0m\u001b[0m\n",
      "\u001b[0;31mValueError\u001b[0m: data byte must be in range 0..127"
     ]
    },
    {
     "data": {
      "text/plain": [
       "0"
      ]
     },
     "execution_count": 14,
     "metadata": {},
     "output_type": "execute_result"
    },
    {
     "data": {
      "image/png": "[encoded data removed]",
      "text/plain": [
       "<Figure size 720x432 with 3 Axes>"
      ]
     },
     "metadata": {},
     "output_type": "display_data"
    }
   ],
   "source": [
    "# Inspect a random input-output sample\n",
    "sample_index = np.random.randint(len(input_test))\n",
    "sample_input = input_test[sample_index] * 127\n",
    "sample_full = full_test[sample_index] * 127\n",
    "sample_output = decoded_test[sample_index] * 127\n",
    "\n",
    "# Set all velocity values < threshold to zero\n",
    "threshold = 10\n",
    "sample_output[sample_output < threshold] = 0\n",
    "sample_output[sample_output >= threshold] = 100\n",
    "\n",
    "print(sample_input.shape)\n",
    "print(sample_full.shape)\n",
    "print(sample_output.shape)\n",
    "\n",
    "# Plot comparison\n",
    "fig, ax = plt.subplots(1,3)\n",
    "fig.set_size_inches(10, 6, forward=True)\n",
    "ax[0].set_title('Input')\n",
    "ax[1].set_title('Target')\n",
    "ax[2].set_title('Output')\n",
    "pypianoroll.plot_pianoroll(ax[0], sample_input, beat_resolution=24, cmap='inferno')\n",
    "pypianoroll.plot_pianoroll(ax[1], sample_full, beat_resolution=24, cmap='inferno')\n",
    "pypianoroll.plot_pianoroll(ax[2], sample_output, beat_resolution=24, cmap='inferno')\n",
    "fig.tight_layout()\n",
    "\n",
    "# Play comparison\n",
    "pianoroll_utils.playPianoroll(sample_input)\n",
    "# pianoroll_utils.playPianoroll(sample_full)\n",
    "# pianoroll_utils.playPianoroll(sample_output)\n",
    "pianoroll_utils.playPianoroll_events(sample_output.swapaxes(0,1))\n",
    "\n"
   ]
  },
  {
   "cell_type": "markdown",
   "metadata": {
    "heading_collapsed": true,
    "hidden": true
   },
   "source": [
    "## Sequence-to-sequence model"
   ]
  },
  {
   "cell_type": "code",
   "execution_count": null,
   "metadata": {
    "hidden": true
   },
   "outputs": [],
   "source": [
    "'''Sequence to sequence example in Keras (character-level).\n",
    "This script demonstrates how to implement a basic character-level\n",
    "sequence-to-sequence model. We apply it to translating\n",
    "short English sentences into short French sentences,\n",
    "character-by-character. Note that it is fairly unusual to\n",
    "do character-level machine translation, as word-level\n",
    "models are more common in this domain.\n",
    "# Summary of the algorithm\n",
    "- We start with input sequences from a domain (e.g. English sentences)\n",
    "    and correspding target sequences from another domain\n",
    "    (e.g. French sentences).\n",
    "- An encoder LSTM turns input sequences to 2 state vectors\n",
    "    (we keep the last LSTM state and discard the outputs).\n",
    "- A decoder LSTM is trained to turn the target sequences into\n",
    "    the same sequence but offset by one timestep in the future,\n",
    "    a training process called \"teacher forcing\" in this context.\n",
    "    Is uses as initial state the state vectors from the encoder.\n",
    "    Effectively, the decoder learns to generate `targets[t+1...]`\n",
    "    given `targets[...t]`, conditioned on the input sequence.\n",
    "- In inference mode, when we want to decode unknown input sequences, we:\n",
    "    - Encode the input sequence into state vectors\n",
    "    - Start with a target sequence of size 1\n",
    "        (just the start-of-sequence character)\n",
    "    - Feed the state vectors and 1-char target sequence\n",
    "        to the decoder to produce predictions for the next character\n",
    "    - Sample the next character using these predictions\n",
    "        (we simply use argmax).\n",
    "    - Append the sampled character to the target sequence\n",
    "    - Repeat until we generate the end-of-sequence character or we\n",
    "        hit the character limit.\n",
    "# Data download\n",
    "English to French sentence pairs.\n",
    "http://www.manythings.org/anki/fra-eng.zip\n",
    "Lots of neat sentence pairs datasets can be found at:\n",
    "http://www.manythings.org/anki/\n",
    "# References\n",
    "- Sequence to Sequence Learning with Neural Networks\n",
    "    https://arxiv.org/abs/1409.3215\n",
    "- Learning Phrase Representations using\n",
    "    RNN Encoder-Decoder for Statistical Machine Translation\n",
    "    https://arxiv.org/abs/1406.1078\n",
    "'''\n",
    "from __future__ import print_function\n",
    "\n",
    "from keras.models import Model\n",
    "from keras.layers import Input, LSTM, Dense\n",
    "import numpy as np\n",
    "\n",
    "batch_size = 64  # Batch size for training.\n",
    "epochs = 100  # Number of epochs to train for.\n",
    "latent_dim = 256  # Latent dimensionality of the encoding space.\n",
    "num_samples = 10000  # Number of samples to train on.\n",
    "# Path to the data txt file on disk.\n",
    "data_path = 'fra-eng/fra.txt'\n",
    "\n",
    "# Vectorize the data.\n",
    "input_texts = []\n",
    "target_texts = []\n",
    "input_characters = set()\n",
    "target_characters = set()\n",
    "with open(data_path, 'r', encoding='utf-8') as f:\n",
    "    lines = f.read().split('\\n')\n",
    "for line in lines[: min(num_samples, len(lines) - 1)]:\n",
    "    input_text, target_text = line.split('\\t')\n",
    "    # We use \"tab\" as the \"start sequence\" character\n",
    "    # for the targets, and \"\\n\" as \"end sequence\" character.\n",
    "    target_text = '\\t' + target_text + '\\n'\n",
    "    input_texts.append(input_text)\n",
    "    target_texts.append(target_text)\n",
    "    for char in input_text:\n",
    "        if char not in input_characters:\n",
    "            input_characters.add(char)\n",
    "    for char in target_text:\n",
    "        if char not in target_characters:\n",
    "            target_characters.add(char)\n",
    "\n",
    "input_characters = sorted(list(input_characters))\n",
    "target_characters = sorted(list(target_characters))\n",
    "num_encoder_tokens = len(input_characters)\n",
    "num_decoder_tokens = len(target_characters)\n",
    "max_encoder_seq_length = max([len(txt) for txt in input_texts])\n",
    "max_decoder_seq_length = max([len(txt) for txt in target_texts])\n",
    "\n",
    "print('Number of samples:', len(input_texts))\n",
    "print('Number of unique input tokens:', num_encoder_tokens)\n",
    "print('Number of unique output tokens:', num_decoder_tokens)\n",
    "print('Max sequence length for inputs:', max_encoder_seq_length)\n",
    "print('Max sequence length for outputs:', max_decoder_seq_length)\n",
    "\n",
    "input_token_index = dict(\n",
    "    [(char, i) for i, char in enumerate(input_characters)])\n",
    "target_token_index = dict(\n",
    "    [(char, i) for i, char in enumerate(target_characters)])\n",
    "\n",
    "encoder_input_data = np.zeros(\n",
    "    (len(input_texts), max_encoder_seq_length, num_encoder_tokens),\n",
    "    dtype='float32')\n",
    "decoder_input_data = np.zeros(\n",
    "    (len(input_texts), max_decoder_seq_length, num_decoder_tokens),\n",
    "    dtype='float32')\n",
    "decoder_target_data = np.zeros(\n",
    "    (len(input_texts), max_decoder_seq_length, num_decoder_tokens),\n",
    "    dtype='float32')\n",
    "\n",
    "for i, (input_text, target_text) in enumerate(zip(input_texts, target_texts)):\n",
    "    for t, char in enumerate(input_text):\n",
    "        encoder_input_data[i, t, input_token_index[char]] = 1.\n",
    "    for t, char in enumerate(target_text):\n",
    "        # decoder_target_data is ahead of decoder_input_data by one timestep\n",
    "        decoder_input_data[i, t, target_token_index[char]] = 1.\n",
    "        if t > 0:\n",
    "            # decoder_target_data will be ahead by one timestep\n",
    "            # and will not include the start character.\n",
    "            decoder_target_data[i, t - 1, target_token_index[char]] = 1.\n",
    "\n",
    "\n",
    "\n",
    "\n",
    "\n",
    "\n",
    "\n",
    "# START HERE\n",
    "\n",
    "# Define an input sequence and process it.\n",
    "encoder_inputs = Input(shape=(None, NUM_PITCHES))\n",
    "encoder = LSTM(latent_dim, return_state=True)\n",
    "encoder_outputs, state_h, state_c = encoder(encoder_inputs)\n",
    "# We discard `encoder_outputs` and only keep the states.\n",
    "encoder_states = [state_h, state_c]\n",
    "\n",
    "# Set up the decoder, using `encoder_states` as initial state.\n",
    "decoder_inputs = Input(shape=(None, NUM_PITCHES))\n",
    "# We set up our decoder to return full output sequences,\n",
    "# and to return internal states as well. We don't use the\n",
    "# return states in the training model, but we will use them in inference.\n",
    "decoder_lstm = LSTM(latent_dim, return_sequences=True, return_state=True)\n",
    "decoder_outputs, _, _ = decoder_lstm(decoder_inputs,\n",
    "                                     initial_state=encoder_states)\n",
    "decoder_dense = Dense(num_decoder_tokens, activation='relu')\n",
    "decoder_outputs = decoder_dense(decoder_outputs)\n",
    "\n",
    "# Define the model that will turn\n",
    "# `encoder_input_data` & `decoder_input_data` into `decoder_target_data`\n",
    "model = Model([encoder_inputs, decoder_inputs], decoder_outputs)\n",
    "\n",
    "# Run training\n",
    "model.compile(optimizer='rmsprop', loss='categorical_crossentropy')\n",
    "model.fit([encoder_input_data, decoder_input_data], decoder_target_data,\n",
    "          batch_size=batch_size,\n",
    "          epochs=epochs,\n",
    "          validation_split=0.2)\n",
    "# Save model\n",
    "model.save('s2s.h5')\n",
    "\n",
    "# Next: inference mode (sampling).\n",
    "# Here's the drill:\n",
    "# 1) encode input and retrieve initial decoder state\n",
    "# 2) run one step of decoder with this initial state\n",
    "# and a \"start of sequence\" token as target.\n",
    "# Output will be the next target token\n",
    "# 3) Repeat with the current target token and current states\n",
    "\n",
    "# Define sampling models\n",
    "encoder_model = Model(encoder_inputs, encoder_states)\n",
    "\n",
    "decoder_state_input_h = Input(shape=(latent_dim,))\n",
    "decoder_state_input_c = Input(shape=(latent_dim,))\n",
    "decoder_states_inputs = [decoder_state_input_h, decoder_state_input_c]\n",
    "decoder_outputs, state_h, state_c = decoder_lstm(\n",
    "    decoder_inputs, initial_state=decoder_states_inputs)\n",
    "decoder_states = [state_h, state_c]\n",
    "decoder_outputs = decoder_dense(decoder_outputs)\n",
    "decoder_model = Model(\n",
    "    [decoder_inputs] + decoder_states_inputs,\n",
    "    [decoder_outputs] + decoder_states)\n",
    "\n",
    "# Reverse-lookup token index to decode sequences back to\n",
    "# something readable.\n",
    "reverse_input_char_index = dict(\n",
    "    (i, char) for char, i in input_token_index.items())\n",
    "reverse_target_char_index = dict(\n",
    "    (i, char) for char, i in target_token_index.items())\n",
    "\n",
    "\n",
    "def decode_sequence(input_seq):\n",
    "    # Encode the input as state vectors.\n",
    "    states_value = encoder_model.predict(input_seq)\n",
    "\n",
    "    # Generate empty target sequence of length 1.\n",
    "    target_seq = np.zeros((1, 1, num_decoder_tokens))\n",
    "    # Populate the first character of target sequence with the start character.\n",
    "    target_seq[0, 0, target_token_index['\\t']] = 1.\n",
    "\n",
    "    # Sampling loop for a batch of sequences\n",
    "    # (to simplify, here we assume a batch of size 1).\n",
    "    stop_condition = False\n",
    "    decoded_sentence = ''\n",
    "    while not stop_condition:\n",
    "        output_tokens, h, c = decoder_model.predict(\n",
    "            [target_seq] + states_value)\n",
    "\n",
    "        # Sample a token\n",
    "        sampled_token_index = np.argmax(output_tokens[0, -1, :])\n",
    "        sampled_char = reverse_target_char_index[sampled_token_index]\n",
    "        decoded_sentence += sampled_char\n",
    "\n",
    "        # Exit condition: either hit max length\n",
    "        # or find stop character.\n",
    "        if (sampled_char == '\\n' or\n",
    "           len(decoded_sentence) > max_decoder_seq_length):\n",
    "            stop_condition = True\n",
    "\n",
    "        # Update the target sequence (of length 1).\n",
    "        target_seq = np.zeros((1, 1, num_decoder_tokens))\n",
    "        target_seq[0, 0, sampled_token_index] = 1.\n",
    "\n",
    "        # Update states\n",
    "        states_value = [h, c]\n",
    "\n",
    "    return decoded_sentence\n",
    "\n",
    "\n",
    "for seq_index in range(100):\n",
    "    # Take one sequence (part of the training set)\n",
    "    # for trying out decoding.\n",
    "    input_seq = encoder_input_data[seq_index: seq_index + 1]\n",
    "    decoded_sentence = decode_sequence(input_seq)\n",
    "    print('-')\n",
    "    print('Input sentence:', input_texts[seq_index])\n",
    "    print('Decoded sentence:', decoded_sentence)"
   ]
  },
  {
   "cell_type": "markdown",
   "metadata": {},
   "source": [
    "# Unit predictors"
   ]
  },
  {
   "cell_type": "markdown",
   "metadata": {
    "heading_collapsed": true
   },
   "source": [
    "## README"
   ]
  },
  {
   "cell_type": "markdown",
   "metadata": {
    "hidden": true
   },
   "source": [
    "The broad objective is to learn a sequence predictor which, given a arbitrary sequence of units (of arbitrary length, in the form of embedding vectors), predicts a new unit (in equivalent vector form). \n",
    "\n",
    "One key consideration is what **input length** to consider. We could use a fixed input length (sliding window), or a variable input length - which is ideal because we want to be able to predict when the song first starts, up to the end of the song. Fixed input lengths can still work for these cases (by padding and truncating), but this may have detrimental effects on the results.\n",
    "\n",
    "Beyond that, we also need to consider several approaches to the problem:\n",
    "\n",
    "### Regression - using VAEs\n",
    "\n",
    "The prediction will be a latent vector. For this latent vector to be decoded back into an acceptable musical unit, we use a variational autoencoder which has trained a latent space (as corresponding encoder/decoder) of musical units.\n",
    "\n",
    "### Classification - using word embeddings\n",
    "\n",
    "Alternatively, we can build a vocabulary of units and learn word embeddings of these units, then use standard NLP-type word prediction methods to choose the best new unit from our vocabulary. This shares a similar strength to unit-selection methods, in that our vocabulary will consist of \"musicality-guaranteed\" units.\n",
    "\n",
    "#### Resources\n",
    "- Multiple input RNN [video](https://www.youtube.com/watch?v=FlVJo7LbOzY)\n",
    "- Useful [Stack Overflow post](https://datascience.stackexchange.com/questions/26366/training-an-rnn-with-examples-of-different-lengths-in-keras) on variable input lengths"
   ]
  },
  {
   "cell_type": "markdown",
   "metadata": {},
   "source": [
    "## Regression"
   ]
  },
  {
   "cell_type": "markdown",
   "metadata": {
    "heading_collapsed": true
   },
   "source": [
    "### RegressionLSTM V1"
   ]
  },
  {
   "cell_type": "markdown",
   "metadata": {
    "heading_collapsed": true,
    "hidden": true
   },
   "source": [
    "#### Overview\n",
    "\n",
    "First attempt at creating a unit-predictor. \n",
    "\n",
    "Sources:\n",
    "- Keras [docs](https://keras.io/preprocessing/sequence/#timeseriesgenerator) for TimeSeriesGenerator\n",
    "- [StackOverflow](https://stackoverflow.com/questions/49555701/timeseriesgenerator-for-two-or-more-inputs) question on multiple input timeseriesgenerator\n",
    "\n",
    "#### Notes\n",
    "\n",
    "The output is not any good; it seems to favor consistent and non-commital predictions, simply banging out some middle-octave chord at the start and continuing the same kind of unit throughout.\n",
    "\n",
    "On the bright side, it knows when to keep quiet - it predicts true positive silences pretty well haha.\n",
    "\n",
    "One important thing to consider is that the loss/accuracy are not improving. Why? One thing to think about: **Shouldn't we be able to at least overfit the training data?** I thought it should always be possible to overfit training data, and that it's only generalization to test set which would be difficult here.\n",
    "\n",
    "PS. We don't even have a validation set yet. Welp.\n",
    "\n",
    "#### Next steps\n",
    "Hard to say exactly. But some thoughts:\n",
    "1. Simplify: word2vec, and predict directly on single ticks instead of 96-tick units.\n",
    "2. Building the embeddings by itself may not be as useful as training the embeddings simultaneously with the prediction model. Training both models in conjunction with each other might be the best way to go.\n",
    "3. Find out if it's possible to get better results by forcing the model to overfit the training data. I thought this should be possible.\n",
    "4. We might be able to make this prediction task easier if we reduce the latent dimension (intuitively, a smaller latent dimension means fewer ways to get it wrong).\n",
    "5. ~~Try a (much) larger window length?~~ Tried with WINDOW_LENGTH=39. It seems to help add confidence (velocity) to the output, but only barely. Not much difference in way of loss/accuracy, and anyways it should be possible to make predictions based on a small number of units (and even instantaneously based on the current input).\n",
    "6. To increase reliance on input (rather than comp), add a dropout layer to the comp LSTM."
   ]
  },
  {
   "cell_type": "markdown",
   "metadata": {
    "heading_collapsed": true,
    "hidden": true
   },
   "source": [
    "#### Model training"
   ]
  },
  {
   "cell_type": "code",
   "execution_count": 146,
   "metadata": {
    "hidden": true
   },
   "outputs": [],
   "source": [
    "WINDOW_LENGTH = 3"
   ]
  },
  {
   "cell_type": "code",
   "execution_count": 147,
   "metadata": {
    "hidden": true
   },
   "outputs": [],
   "source": [
    "latent_dim = 1600\n",
    "epsilon_std = 1.0\n",
    "# We need to have our encoder and decoder ready\n",
    "MODEL_FILE = './models/vae_v3_encoder.h5'\n",
    "encoder = load_model(MODEL_FILE, \n",
    "                         custom_objects={'latent_dim': latent_dim, 'epsilon_std': epsilon_std})\n",
    "MODEL_FILE = './models/vae_v3_generator.h5'\n",
    "decoder = load_model(MODEL_FILE, \n",
    "                         custom_objects={'latent_dim': latent_dim, 'epsilon_std': epsilon_std})"
   ]
  },
  {
   "cell_type": "code",
   "execution_count": 148,
   "metadata": {
    "hidden": true
   },
   "outputs": [],
   "source": [
    "# Create a data generator\n",
    "def get_multiple_generator(data1, data2, targets, window_length = 5, batch_size = 32):\n",
    "    data1_gen = TimeseriesGenerator(data1, targets,\n",
    "                               length=window_length, sampling_rate=1,\n",
    "                               batch_size=batch_size)\n",
    "\n",
    "    data2_gen = TimeseriesGenerator(data2, targets,\n",
    "                               length=window_length, sampling_rate=1,\n",
    "                               batch_size=batch_size)\n",
    "    while True:\n",
    "        for x in range(len(data1_gen)):\n",
    "            x_1, y = data1_gen[x]\n",
    "            x_2, _ = data2_gen[x]\n",
    "            yield [x_1, x_2], y\n",
    "\n",
    "data_gen = get_multiple_generator(seq_embed['input'], seq_embed['comp'], seq_embed['comp'], \n",
    "                                  window_length=WINDOW_LENGTH, batch_size=32)"
   ]
  },
  {
   "cell_type": "code",
   "execution_count": 149,
   "metadata": {
    "hidden": true
   },
   "outputs": [
    {
     "name": "stdout",
     "output_type": "stream",
     "text": [
      "__________________________________________________________________________________________________\n",
      "Layer (type)                    Output Shape         Param #     Connected to                     \n",
      "==================================================================================================\n",
      "input_27 (InputLayer)           (None, 3, 1600)      0                                            \n",
      "__________________________________________________________________________________________________\n",
      "input_28 (InputLayer)           (None, 3, 1600)      0                                            \n",
      "__________________________________________________________________________________________________\n",
      "lstm_27 (LSTM)                  (None, 500)          4202000     input_27[0][0]                   \n",
      "__________________________________________________________________________________________________\n",
      "lstm_28 (LSTM)                  (None, 500)          4202000     input_28[0][0]                   \n",
      "__________________________________________________________________________________________________\n",
      "concatenate_14 (Concatenate)    (None, 1000)         0           lstm_27[0][0]                    \n",
      "                                                                 lstm_28[0][0]                    \n",
      "__________________________________________________________________________________________________\n",
      "dense_27 (Dense)                (None, 1600)         1601600     concatenate_14[0][0]             \n",
      "__________________________________________________________________________________________________\n",
      "dense_28 (Dense)                (None, 1600)         2561600     dense_27[0][0]                   \n",
      "==================================================================================================\n",
      "Total params: 12,567,200\n",
      "Trainable params: 12,567,200\n",
      "Non-trainable params: 0\n",
      "__________________________________________________________________________________________________\n"
     ]
    }
   ],
   "source": [
    "data_dim = latent_dim # Our model predicts embeddings, so our data is the size of the embedding\n",
    "\n",
    "# First layer\n",
    "input1 = Input(shape=(WINDOW_LENGTH, data_dim))\n",
    "input2 = Input(shape=(WINDOW_LENGTH, data_dim))\n",
    "lstm1 = LSTM(500)(input1)\n",
    "lstm2 = LSTM(500)(input2)\n",
    "\n",
    "# Second layer\n",
    "merged = concatenate([lstm1, lstm2])\n",
    "\n",
    "# Third layer\n",
    "hidden = Dense(data_dim, activation='relu')(merged)\n",
    "output = Dense(data_dim, activation='linear')(hidden)\n",
    "\n",
    "model = Model(inputs=[input1, input2], outputs=output)\n",
    "model.compile(loss='mse', optimizer='rmsprop', metrics=['accuracy'])\n",
    "model.summary()"
   ]
  },
  {
   "cell_type": "code",
   "execution_count": 150,
   "metadata": {
    "hidden": true,
    "scrolled": true
   },
   "outputs": [
    {
     "name": "stdout",
     "output_type": "stream",
     "text": [
      "Epoch 1/10\n",
      "32/32 [==============================] - 5s 146ms/step - loss: 0.0357 - acc: 0.1719\n",
      "Epoch 2/10\n",
      "32/32 [==============================] - 1s 37ms/step - loss: 0.0257 - acc: 0.1748\n",
      "Epoch 3/10\n",
      "32/32 [==============================] - 1s 37ms/step - loss: 0.0211 - acc: 0.3135\n",
      "Epoch 4/10\n",
      "32/32 [==============================] - 1s 38ms/step - loss: 0.0260 - acc: 0.2744\n",
      "Epoch 5/10\n",
      "32/32 [==============================] - 1s 38ms/step - loss: 0.0278 - acc: 0.1787\n",
      "Epoch 6/10\n",
      "32/32 [==============================] - 1s 37ms/step - loss: 0.0261 - acc: 0.4346\n",
      "Epoch 7/10\n",
      "32/32 [==============================] - 1s 37ms/step - loss: 0.0270 - acc: 0.3564\n",
      "Epoch 8/10\n",
      "32/32 [==============================] - 1s 37ms/step - loss: 0.0223 - acc: 0.4541\n",
      "Epoch 9/10\n",
      "32/32 [==============================] - 1s 37ms/step - loss: 0.0288 - acc: 0.3770\n",
      "Epoch 10/10\n",
      "32/32 [==============================] - 1s 37ms/step - loss: 0.0165 - acc: 0.4111\n",
      "Saved Keras model to ./models/rlstm_v1.h5\n"
     ]
    }
   ],
   "source": [
    "# and now train the model\n",
    "# batch_size should be appropriate to your memory size\n",
    "# number of epochs should be higher for real world problems\n",
    "model.fit_generator(generator=data_gen,\n",
    "                    steps_per_epoch=32,\n",
    "                    epochs=10)\n",
    "\n",
    "MODEL_FILE = './models/rlstm_v1.h5'\n",
    "model.save(MODEL_FILE)# creates a HDF5 file\n",
    "print(\"Saved Keras model to\", MODEL_FILE)"
   ]
  },
  {
   "cell_type": "markdown",
   "metadata": {
    "heading_collapsed": true
   },
   "source": [
    "### RegressionLSTM V2"
   ]
  },
  {
   "cell_type": "markdown",
   "metadata": {
    "heading_collapsed": true,
    "hidden": true
   },
   "source": [
    "#### Overview\n",
    "\n",
    "Trying the rlstm again, but on a much smaller latent dimension than before (10 instead of 1600).\n",
    "\n",
    "From the _Next steps_ suggestion in RLSTM V1:\n",
    "\n",
    "> \"4. We might be able to make this prediction task easier if we reduce the latent dimension (intuitively, a smaller latent dimension means fewer ways to get it wrong).\"\n",
    "\n",
    "#### Notes\n",
    "\n",
    "It feels like the main problem here is a code problem, not an approach/model problem. The loss is still behaving erratically, going up and going down unpredictably. Trying to reduce the learning rate, and trying different optimizers did not seem to help. Current suspicion (based on [this](https://github.com/keras-team/keras/issues/5818)) is that training issues are due to the data generator, which may well be the issue since I don't understand it properly.\n",
    "\n",
    "Let's move away from the data generator for now, try make a traditional dataset to train on.\n",
    "\n",
    "#### Next steps\n",
    "Hard to say exactly. But some thoughts:\n",
    "1. Simplify: word2vec, and predict directly on single ticks instead of 96-tick units.\n",
    "2. Building the embeddings by itself may not be as useful as training the embeddings simultaneously with the prediction model. Training both models in conjunction with each other might be the best way to go.\n",
    "3. Find out if it's possible to get better results by forcing the model to overfit the training data. I thought this should be possible.\n",
    "4. ~~We might be able to make this prediction task easier if we reduce the latent dimension (intuitively, a smaller latent dimension means fewer ways to get it wrong).~~ Just did this with 10 dimensions, prediction doesn't seem any better than the 1600-dimension one.\n",
    "5. ~~Try a (much) larger window length?~~ Tried with WINDOW_LENGTH=39. It seems to help add confidence (velocity) to the output, but only barely. Not much difference in way of loss/accuracy, and anyways it should be possible to make predictions based on a small number of units (and even instantaneously based on the current input).\n",
    "6. ~~To increase reliance on input (rather than comp), add a dropout layer to the comp LSTM.~~ Tried this using variations of dropout and recurrent_dropout as LSTM parameters, but didn't have much effect. Probably need to solve some underlying problem first before applying dropout.\n",
    "7. Troubleshoot / don't use data generator, which may be causing all these problems."
   ]
  },
  {
   "cell_type": "markdown",
   "metadata": {
    "heading_collapsed": true,
    "hidden": true
   },
   "source": [
    "#### Model training"
   ]
  },
  {
   "cell_type": "code",
   "execution_count": 6,
   "metadata": {
    "hidden": true
   },
   "outputs": [],
   "source": [
    "latent_dim = 10\n",
    "epsilon_std = 1.0\n",
    "# We need to have our encoder and decoder ready\n",
    "MODEL_FILE = './models/vae_v4_encoder.h5'\n",
    "encoder = load_model(MODEL_FILE, \n",
    "                         custom_objects={'latent_dim': latent_dim, 'epsilon_std': epsilon_std})\n",
    "MODEL_FILE = './models/vae_v4_generator.h5'\n",
    "decoder = load_model(MODEL_FILE, \n",
    "                         custom_objects={'latent_dim': latent_dim, 'epsilon_std': epsilon_std})"
   ]
  },
  {
   "cell_type": "code",
   "execution_count": 103,
   "metadata": {
    "hidden": true
   },
   "outputs": [],
   "source": [
    "WINDOW_LENGTH = 3\n",
    "\n",
    "# Create a data generator\n",
    "def get_multiple_generator(data1, data2, targets, window_length = 5, batch_size = 128):\n",
    "    data1_gen = TimeseriesGenerator(data1, targets,\n",
    "                               length=window_length, sampling_rate=1,\n",
    "                               batch_size=batch_size)\n",
    "\n",
    "    data2_gen = TimeseriesGenerator(data2, targets,\n",
    "                               length=window_length, sampling_rate=1,\n",
    "                               batch_size=batch_size)\n",
    "    while True:\n",
    "        for x in range(len(data1_gen)):\n",
    "            x_1, y = data1_gen[x]\n",
    "            x_2, _ = data2_gen[x]\n",
    "            yield [x_1, x_2], y\n",
    "\n",
    "data_gen = get_multiple_generator(seq_embed['input'], seq_embed['comp'], seq_embed['comp'], \n",
    "                                  window_length=WINDOW_LENGTH, batch_size=128)"
   ]
  },
  {
   "cell_type": "code",
   "execution_count": 104,
   "metadata": {
    "hidden": true
   },
   "outputs": [
    {
     "name": "stdout",
     "output_type": "stream",
     "text": [
      "__________________________________________________________________________________________________\n",
      "Layer (type)                    Output Shape         Param #     Connected to                     \n",
      "==================================================================================================\n",
      "input_35 (InputLayer)           (None, 3, 10)        0                                            \n",
      "__________________________________________________________________________________________________\n",
      "input_36 (InputLayer)           (None, 3, 10)        0                                            \n",
      "__________________________________________________________________________________________________\n",
      "lstm_35 (LSTM)                  (None, 200)          168800      input_35[0][0]                   \n",
      "__________________________________________________________________________________________________\n",
      "lstm_36 (LSTM)                  (None, 200)          168800      input_36[0][0]                   \n",
      "__________________________________________________________________________________________________\n",
      "concatenate_18 (Concatenate)    (None, 400)          0           lstm_35[0][0]                    \n",
      "                                                                 lstm_36[0][0]                    \n",
      "__________________________________________________________________________________________________\n",
      "dense_35 (Dense)                (None, 1000)         401000      concatenate_18[0][0]             \n",
      "__________________________________________________________________________________________________\n",
      "dropout_5 (Dropout)             (None, 1000)         0           dense_35[0][0]                   \n",
      "__________________________________________________________________________________________________\n",
      "dense_36 (Dense)                (None, 10)           10010       dropout_5[0][0]                  \n",
      "==================================================================================================\n",
      "Total params: 748,610\n",
      "Trainable params: 748,610\n",
      "Non-trainable params: 0\n",
      "__________________________________________________________________________________________________\n"
     ]
    }
   ],
   "source": [
    "data_dim = latent_dim # Our model predicts embeddings, so our data is the size of the embedding\n",
    "\n",
    "# First layer\n",
    "input1 = Input(shape=(WINDOW_LENGTH, data_dim))\n",
    "input2 = Input(shape=(WINDOW_LENGTH, data_dim))\n",
    "lstm1 = LSTM(200)(input1)\n",
    "lstm2 = LSTM(200)(input2)\n",
    "\n",
    "# Second layer\n",
    "merged = concatenate([lstm1, lstm2])\n",
    "\n",
    "# Third layer\n",
    "hidden = Dense(1000, activation='relu')(merged)\n",
    "dropped = Dropout(0.2)(hidden)\n",
    "output = Dense(data_dim, activation='linear')(dropped)\n",
    "\n",
    "model = Model(inputs=[input1, input2], outputs=output)\n",
    "sgd = optimizers.SGD(lr=0.001)\n",
    "model.compile(loss='mse', optimizer=sgd, metrics=['accuracy'])\n",
    "model.summary()"
   ]
  },
  {
   "cell_type": "code",
   "execution_count": 105,
   "metadata": {
    "hidden": true,
    "scrolled": true
   },
   "outputs": [
    {
     "name": "stdout",
     "output_type": "stream",
     "text": [
      "Epoch 1/50\n"
     ]
    },
    {
     "ename": "TypeError",
     "evalue": "tuple object is not an iterator",
     "output_type": "error",
     "traceback": [
      "\u001b[0;31m---------------------------------------------------------------------------\u001b[0m",
      "\u001b[0;31mTypeError\u001b[0m                                 Traceback (most recent call last)",
      "\u001b[0;32m<ipython-input-105-9585c37ebfb2>\u001b[0m in \u001b[0;36m<module>\u001b[0;34m()\u001b[0m\n\u001b[1;32m      4\u001b[0m model.fit_generator(generator=data_gen,\n\u001b[1;32m      5\u001b[0m                     \u001b[0msteps_per_epoch\u001b[0m\u001b[0;34m=\u001b[0m\u001b[0;36m128\u001b[0m\u001b[0;34m,\u001b[0m\u001b[0;34m\u001b[0m\u001b[0m\n\u001b[0;32m----> 6\u001b[0;31m                     epochs=50)\n\u001b[0m\u001b[1;32m      7\u001b[0m \u001b[0;34m\u001b[0m\u001b[0m\n\u001b[1;32m      8\u001b[0m \u001b[0mMODEL_FILE\u001b[0m \u001b[0;34m=\u001b[0m \u001b[0;34m'./models/rlstm_v2.h5'\u001b[0m\u001b[0;34m\u001b[0m\u001b[0m\n",
      "\u001b[0;32m/home/chanjunshern/tensorflow/local/lib/python2.7/site-packages/keras/legacy/interfaces.pyc\u001b[0m in \u001b[0;36mwrapper\u001b[0;34m(*args, **kwargs)\u001b[0m\n\u001b[1;32m     89\u001b[0m                 warnings.warn('Update your `' + object_name +\n\u001b[1;32m     90\u001b[0m                               '` call to the Keras 2 API: ' + signature, stacklevel=2)\n\u001b[0;32m---> 91\u001b[0;31m             \u001b[0;32mreturn\u001b[0m \u001b[0mfunc\u001b[0m\u001b[0;34m(\u001b[0m\u001b[0;34m*\u001b[0m\u001b[0margs\u001b[0m\u001b[0;34m,\u001b[0m \u001b[0;34m**\u001b[0m\u001b[0mkwargs\u001b[0m\u001b[0;34m)\u001b[0m\u001b[0;34m\u001b[0m\u001b[0m\n\u001b[0m\u001b[1;32m     92\u001b[0m         \u001b[0mwrapper\u001b[0m\u001b[0;34m.\u001b[0m\u001b[0m_original_function\u001b[0m \u001b[0;34m=\u001b[0m \u001b[0mfunc\u001b[0m\u001b[0;34m\u001b[0m\u001b[0m\n\u001b[1;32m     93\u001b[0m         \u001b[0;32mreturn\u001b[0m \u001b[0mwrapper\u001b[0m\u001b[0;34m\u001b[0m\u001b[0m\n",
      "\u001b[0;32m/home/chanjunshern/tensorflow/local/lib/python2.7/site-packages/keras/engine/training.pyc\u001b[0m in \u001b[0;36mfit_generator\u001b[0;34m(self, generator, steps_per_epoch, epochs, verbose, callbacks, validation_data, validation_steps, class_weight, max_queue_size, workers, use_multiprocessing, shuffle, initial_epoch)\u001b[0m\n\u001b[1;32m   2190\u001b[0m                 \u001b[0mbatch_index\u001b[0m \u001b[0;34m=\u001b[0m \u001b[0;36m0\u001b[0m\u001b[0;34m\u001b[0m\u001b[0m\n\u001b[1;32m   2191\u001b[0m                 \u001b[0;32mwhile\u001b[0m \u001b[0msteps_done\u001b[0m \u001b[0;34m<\u001b[0m \u001b[0msteps_per_epoch\u001b[0m\u001b[0;34m:\u001b[0m\u001b[0;34m\u001b[0m\u001b[0m\n\u001b[0;32m-> 2192\u001b[0;31m                     \u001b[0mgenerator_output\u001b[0m \u001b[0;34m=\u001b[0m \u001b[0mnext\u001b[0m\u001b[0;34m(\u001b[0m\u001b[0moutput_generator\u001b[0m\u001b[0;34m)\u001b[0m\u001b[0;34m\u001b[0m\u001b[0m\n\u001b[0m\u001b[1;32m   2193\u001b[0m \u001b[0;34m\u001b[0m\u001b[0m\n\u001b[1;32m   2194\u001b[0m                     \u001b[0;32mif\u001b[0m \u001b[0;32mnot\u001b[0m \u001b[0mhasattr\u001b[0m\u001b[0;34m(\u001b[0m\u001b[0mgenerator_output\u001b[0m\u001b[0;34m,\u001b[0m \u001b[0;34m'__len__'\u001b[0m\u001b[0;34m)\u001b[0m\u001b[0;34m:\u001b[0m\u001b[0;34m\u001b[0m\u001b[0m\n",
      "\u001b[0;32m/home/chanjunshern/tensorflow/local/lib/python2.7/site-packages/keras/utils/data_utils.pyc\u001b[0m in \u001b[0;36mget\u001b[0;34m(self)\u001b[0m\n\u001b[1;32m    791\u001b[0m             \u001b[0msuccess\u001b[0m\u001b[0;34m,\u001b[0m \u001b[0mvalue\u001b[0m \u001b[0;34m=\u001b[0m \u001b[0mself\u001b[0m\u001b[0;34m.\u001b[0m\u001b[0mqueue\u001b[0m\u001b[0;34m.\u001b[0m\u001b[0mget\u001b[0m\u001b[0;34m(\u001b[0m\u001b[0;34m)\u001b[0m\u001b[0;34m\u001b[0m\u001b[0m\n\u001b[1;32m    792\u001b[0m             \u001b[0;32mif\u001b[0m \u001b[0;32mnot\u001b[0m \u001b[0msuccess\u001b[0m\u001b[0;34m:\u001b[0m\u001b[0;34m\u001b[0m\u001b[0m\n\u001b[0;32m--> 793\u001b[0;31m                 \u001b[0msix\u001b[0m\u001b[0;34m.\u001b[0m\u001b[0mreraise\u001b[0m\u001b[0;34m(\u001b[0m\u001b[0mvalue\u001b[0m\u001b[0;34m.\u001b[0m\u001b[0m__class__\u001b[0m\u001b[0;34m,\u001b[0m \u001b[0mvalue\u001b[0m\u001b[0;34m,\u001b[0m \u001b[0mvalue\u001b[0m\u001b[0;34m.\u001b[0m\u001b[0m__traceback__\u001b[0m\u001b[0;34m)\u001b[0m\u001b[0;34m\u001b[0m\u001b[0m\n\u001b[0m",
      "\u001b[0;32m/home/chanjunshern/tensorflow/local/lib/python2.7/site-packages/keras/utils/data_utils.pyc\u001b[0m in \u001b[0;36m_data_generator_task\u001b[0;34m(self)\u001b[0m\n\u001b[1;32m    656\u001b[0m                             \u001b[0;31m# => Serialize calls to\u001b[0m\u001b[0;34m\u001b[0m\u001b[0;34m\u001b[0m\u001b[0m\n\u001b[1;32m    657\u001b[0m                             \u001b[0;31m# infinite iterator/generator's next() function\u001b[0m\u001b[0;34m\u001b[0m\u001b[0;34m\u001b[0m\u001b[0m\n\u001b[0;32m--> 658\u001b[0;31m                             \u001b[0mgenerator_output\u001b[0m \u001b[0;34m=\u001b[0m \u001b[0mnext\u001b[0m\u001b[0;34m(\u001b[0m\u001b[0mself\u001b[0m\u001b[0;34m.\u001b[0m\u001b[0m_generator\u001b[0m\u001b[0;34m)\u001b[0m\u001b[0;34m\u001b[0m\u001b[0m\n\u001b[0m\u001b[1;32m    659\u001b[0m                             \u001b[0mself\u001b[0m\u001b[0;34m.\u001b[0m\u001b[0mqueue\u001b[0m\u001b[0;34m.\u001b[0m\u001b[0mput\u001b[0m\u001b[0;34m(\u001b[0m\u001b[0;34m(\u001b[0m\u001b[0mTrue\u001b[0m\u001b[0;34m,\u001b[0m \u001b[0mgenerator_output\u001b[0m\u001b[0;34m)\u001b[0m\u001b[0;34m)\u001b[0m\u001b[0;34m\u001b[0m\u001b[0m\n\u001b[1;32m    660\u001b[0m                         \u001b[0;32melse\u001b[0m\u001b[0;34m:\u001b[0m\u001b[0;34m\u001b[0m\u001b[0m\n",
      "\u001b[0;31mTypeError\u001b[0m: tuple object is not an iterator"
     ]
    }
   ],
   "source": [
    "# and now train the model\n",
    "# batch_size should be appropriate to your memory size\n",
    "# number of epochs should be higher for real world problems\n",
    "model.fit_generator(generator=data_gen,\n",
    "                    steps_per_epoch=128,\n",
    "                    epochs=50)\n",
    "\n",
    "MODEL_FILE = './models/rlstm_v2.h5'\n",
    "model.save(MODEL_FILE)# creates a HDF5 file\n",
    "print(\"Saved Keras model to\", MODEL_FILE)"
   ]
  },
  {
   "cell_type": "markdown",
   "metadata": {
    "heading_collapsed": true
   },
   "source": [
    "### RegressionLSTM V3"
   ]
  },
  {
   "cell_type": "markdown",
   "metadata": {
    "hidden": true
   },
   "source": [
    "#### Overview\n",
    "\n",
    "From previous attempt:\n",
    "\n",
    "> Current suspicion (based on [this](https://github.com/keras-team/keras/issues/5818)) is that training issues are due to the data generator, which may well be the issue since I don't understand it properly.\n",
    "\n",
    "And so in this model, we simply try again but instead of using a data generator, we create the standard dataset setup.\n",
    "\n",
    "#### Notes\n",
    "\n",
    "All experiments in this version use a latent dimension of 10, corresponding to vae_v4.\n",
    "\n",
    "Changing the data generator worked! The loss progression now makes sense, the predictor is actually making some decent predictions!\n",
    "\n",
    "#### Attempt 1\n",
    "```\n",
    "Window length = 3\n",
    "Recurrent node = LSTM\n",
    "Recurrent dim = 200\n",
    "Hidden dim = 1000\n",
    "After 10 epochs, loss: 0.2585 - val_loss: 0.3402\n",
    "```\n",
    "\n",
    "Let's change from window length of 3 to 4, since songs tend to repeat after 4 measures.\n",
    "\n",
    "#### Attempt 2\n",
    "```\n",
    "Window length = 4\n",
    "After 10 epochs, loss: 0.2565 - val_loss: 0.3066\n",
    "```\n",
    "\n",
    "No huge difference in loss, but validation is better. Let's play with some of the other parameters. \n",
    "\n",
    "#### Attempt 3\n",
    "```\n",
    "Window length = 4\n",
    "Recurrent node: LSTM\n",
    "Recurrent dim = 800\n",
    "Hidden dim = 1000\n",
    "After 10 epochs, loss: 0.1736 - val_loss: 0.2841\n",
    "```\n",
    "Both training and validation loss are much better after amping up the number of neurons! But validation is a lot worse. Might need to apply some regularization.\n",
    "\n",
    "#### Attempt 4\n",
    "```\n",
    "Window length = 4\n",
    "Recurrent node: LSTM\n",
    "Recurrent dim = 800\n",
    "Hidden dim = 1000\n",
    "Dropout = 0.2 after hidden dense layer\n",
    "Dropout = 0.1 in input LSTM\n",
    "Dropout = 0.7 in comp LSTM\n",
    "After 50 epochs, loss: 0.1399 - val_loss: 0.2778\n",
    "```\n",
    "Overall, the main problem with the prediction now is that it depends too strongly on the previous comp window. And so, the new predictions get weaker and weaker and eventually die off after roughly one WINDOW_LENGTH of predictions. We need to force the model to learn to predict based on the input (more than the previous comp).\n",
    "\n",
    "To do this, we focused on increasing dropout on the comp input LSTM. This seems to help! Crucially, **it appears that validation (as well as training) loss is not as good as the version without dropout, but in reality when we are predicting on top of old predictions, the dropout is so much better because it forces the model to rely on the input instead of the previous comp**. There might be a need here to reframe the training data so that the model takes into account the fact that it will be predicting based on its own imperfect input. **Perhaps add noise to the data to model an imperfect prediction being fed into the next input**?\n",
    "\n",
    "For now, the predicted comp tends to be quite repetitive and plain, barely even noticeable.\n",
    "\n",
    "And quite importantly, the problem of playing back blurred pianorolls is quite a big issue now. Taking the mean velocity of a contiguous non-zero pitch is not enough anymore because quite often multiple repeated notes across several measures tend to blur into one long note with a single onset.\n",
    "\n",
    "#### Next steps\n",
    "1. Try adding noise to the input data so that we model making predictions based on imperfect previous comp predictions.\n",
    "2. How to fix the problem of blurred pianorolls? Either fix the playback function, or fix the autoencoder. Or both."
   ]
  },
  {
   "cell_type": "markdown",
   "metadata": {
    "heading_collapsed": true,
    "hidden": true
   },
   "source": [
    "#### Model training"
   ]
  },
  {
   "cell_type": "code",
   "execution_count": 6,
   "metadata": {
    "hidden": true
   },
   "outputs": [],
   "source": [
    "latent_dim = 10\n",
    "epsilon_std = 1.0\n",
    "# We need to have our encoder and decoder ready\n",
    "MODEL_FILE = './models/vae_v4_encoder.h5'\n",
    "encoder = load_model(MODEL_FILE, \n",
    "                         custom_objects={'latent_dim': latent_dim, 'epsilon_std': epsilon_std})\n",
    "MODEL_FILE = './models/vae_v4_generator.h5'\n",
    "decoder = load_model(MODEL_FILE, \n",
    "                         custom_objects={'latent_dim': latent_dim, 'epsilon_std': epsilon_std})"
   ]
  },
  {
   "cell_type": "code",
   "execution_count": 135,
   "metadata": {
    "hidden": true
   },
   "outputs": [
    {
     "name": "stdout",
     "output_type": "stream",
     "text": [
      "__________________________________________________________________________________________________\n",
      "Layer (type)                    Output Shape         Param #     Connected to                     \n",
      "==================================================================================================\n",
      "input_51 (InputLayer)           (None, 4, 10)        0                                            \n",
      "__________________________________________________________________________________________________\n",
      "input_52 (InputLayer)           (None, 4, 10)        0                                            \n",
      "__________________________________________________________________________________________________\n",
      "lstm_47 (LSTM)                  (None, 800)          2595200     input_51[0][0]                   \n",
      "__________________________________________________________________________________________________\n",
      "lstm_48 (LSTM)                  (None, 800)          2595200     input_52[0][0]                   \n",
      "__________________________________________________________________________________________________\n",
      "concatenate_24 (Concatenate)    (None, 1600)         0           lstm_47[0][0]                    \n",
      "                                                                 lstm_48[0][0]                    \n",
      "__________________________________________________________________________________________________\n",
      "dense_47 (Dense)                (None, 1000)         1601000     concatenate_24[0][0]             \n",
      "__________________________________________________________________________________________________\n",
      "dropout_4 (Dropout)             (None, 1000)         0           dense_47[0][0]                   \n",
      "__________________________________________________________________________________________________\n",
      "dense_48 (Dense)                (None, 10)           10010       dropout_4[0][0]                  \n",
      "==================================================================================================\n",
      "Total params: 6,801,410\n",
      "Trainable params: 6,801,410\n",
      "Non-trainable params: 0\n",
      "__________________________________________________________________________________________________\n"
     ]
    }
   ],
   "source": [
    "data_dim = latent_dim # Our model predicts embeddings, so our data is the size of the embedding\n",
    "recurrent_dim = 800\n",
    "dense_hidden_dim = 1000\n",
    "\n",
    "# First layer\n",
    "input1 = Input(shape=(WINDOW_LENGTH, data_dim))\n",
    "input2 = Input(shape=(WINDOW_LENGTH, data_dim))\n",
    "lstm1 = LSTM(recurrent_dim, dropout=0.1)(input1)\n",
    "lstm2 = LSTM(recurrent_dim, dropout=0.7)(input2)\n",
    "\n",
    "# Second layer\n",
    "merged = concatenate([lstm1, lstm2])\n",
    "\n",
    "# Third layer\n",
    "hidden = Dense(dense_hidden_dim, activation='relu')(merged)\n",
    "dropped = Dropout(0.2)(hidden)\n",
    "output = Dense(data_dim, activation='linear')(dropped)\n",
    "\n",
    "model = Model(inputs=[input1, input2], outputs=output)\n",
    "model.compile(loss='mse', optimizer='rmsprop') #, metrics=['accuracy'])\n",
    "model.summary()"
   ]
  },
  {
   "cell_type": "code",
   "execution_count": 136,
   "metadata": {
    "hidden": true,
    "scrolled": true
   },
   "outputs": [
    {
     "name": "stdout",
     "output_type": "stream",
     "text": [
      "Train on 40044 samples, validate on 2082 samples\n",
      "Epoch 1/50\n",
      "40044/40044 [==============================] - 18s 441us/step - loss: 0.5800 - val_loss: 0.4897\n",
      "Epoch 2/50\n",
      "40044/40044 [==============================] - 12s 305us/step - loss: 0.5133 - val_loss: 0.4567\n",
      "Epoch 3/50\n",
      "40044/40044 [==============================] - 12s 307us/step - loss: 0.4841 - val_loss: 0.4309\n",
      "Epoch 4/50\n",
      "40044/40044 [==============================] - 12s 306us/step - loss: 0.4590 - val_loss: 0.4110\n",
      "Epoch 5/50\n",
      "40044/40044 [==============================] - 12s 307us/step - loss: 0.4363 - val_loss: 0.3932\n",
      "Epoch 6/50\n",
      "40044/40044 [==============================] - 12s 305us/step - loss: 0.4166 - val_loss: 0.3836\n",
      "Epoch 7/50\n",
      "40044/40044 [==============================] - 12s 304us/step - loss: 0.3972 - val_loss: 0.3681\n",
      "Epoch 8/50\n",
      "40044/40044 [==============================] - 12s 306us/step - loss: 0.3800 - val_loss: 0.3500\n",
      "Epoch 9/50\n",
      "40044/40044 [==============================] - 12s 306us/step - loss: 0.3630 - val_loss: 0.3390\n",
      "Epoch 10/50\n",
      "40044/40044 [==============================] - 12s 307us/step - loss: 0.3469 - val_loss: 0.3293\n",
      "Epoch 11/50\n",
      "40044/40044 [==============================] - 12s 306us/step - loss: 0.3356 - val_loss: 0.3233\n",
      "Epoch 12/50\n",
      "40044/40044 [==============================] - 12s 307us/step - loss: 0.3203 - val_loss: 0.3198\n",
      "Epoch 13/50\n",
      "40044/40044 [==============================] - 12s 306us/step - loss: 0.3070 - val_loss: 0.3156\n",
      "Epoch 14/50\n",
      "40044/40044 [==============================] - 12s 307us/step - loss: 0.2962 - val_loss: 0.3117\n",
      "Epoch 15/50\n",
      "40044/40044 [==============================] - 12s 306us/step - loss: 0.2843 - val_loss: 0.3020\n",
      "Epoch 16/50\n",
      "40044/40044 [==============================] - 12s 308us/step - loss: 0.2742 - val_loss: 0.3022\n",
      "Epoch 17/50\n",
      "40044/40044 [==============================] - 12s 307us/step - loss: 0.2634 - val_loss: 0.2989\n",
      "Epoch 18/50\n",
      "40044/40044 [==============================] - 12s 308us/step - loss: 0.2542 - val_loss: 0.2943\n",
      "Epoch 19/50\n",
      "40044/40044 [==============================] - 12s 307us/step - loss: 0.2438 - val_loss: 0.2918\n",
      "Epoch 20/50\n",
      "40044/40044 [==============================] - 12s 302us/step - loss: 0.2372 - val_loss: 0.2918\n",
      "Epoch 21/50\n",
      "40044/40044 [==============================] - 12s 305us/step - loss: 0.2297 - val_loss: 0.2898\n",
      "Epoch 22/50\n",
      "40044/40044 [==============================] - 12s 307us/step - loss: 0.2222 - val_loss: 0.2859\n",
      "Epoch 23/50\n",
      "40044/40044 [==============================] - 12s 308us/step - loss: 0.2170 - val_loss: 0.2835\n",
      "Epoch 24/50\n",
      "40044/40044 [==============================] - 12s 307us/step - loss: 0.2101 - val_loss: 0.2838\n",
      "Epoch 25/50\n",
      "40044/40044 [==============================] - 12s 307us/step - loss: 0.2038 - val_loss: 0.2784\n",
      "Epoch 26/50\n",
      "40044/40044 [==============================] - 12s 306us/step - loss: 0.2000 - val_loss: 0.2848\n",
      "Epoch 27/50\n",
      "40044/40044 [==============================] - 12s 304us/step - loss: 0.1957 - val_loss: 0.2814\n",
      "Epoch 28/50\n",
      "40044/40044 [==============================] - 12s 307us/step - loss: 0.1911 - val_loss: 0.2833\n",
      "Epoch 29/50\n",
      "40044/40044 [==============================] - 12s 306us/step - loss: 0.1867 - val_loss: 0.2833\n",
      "Epoch 30/50\n",
      "40044/40044 [==============================] - 12s 304us/step - loss: 0.1836 - val_loss: 0.2800\n",
      "Epoch 31/50\n",
      "40044/40044 [==============================] - 12s 304us/step - loss: 0.1799 - val_loss: 0.2806\n",
      "Epoch 32/50\n",
      "40044/40044 [==============================] - 12s 306us/step - loss: 0.1766 - val_loss: 0.2818\n",
      "Epoch 33/50\n",
      "40044/40044 [==============================] - 12s 306us/step - loss: 0.1730 - val_loss: 0.2795\n",
      "Epoch 34/50\n",
      "40044/40044 [==============================] - 12s 307us/step - loss: 0.1700 - val_loss: 0.2786\n",
      "Epoch 35/50\n",
      "40044/40044 [==============================] - 12s 305us/step - loss: 0.1666 - val_loss: 0.2800\n",
      "Epoch 36/50\n",
      "40044/40044 [==============================] - 12s 306us/step - loss: 0.1650 - val_loss: 0.2813\n",
      "Epoch 37/50\n",
      "40044/40044 [==============================] - 12s 306us/step - loss: 0.1624 - val_loss: 0.2800\n",
      "Epoch 38/50\n",
      "40044/40044 [==============================] - 12s 307us/step - loss: 0.1605 - val_loss: 0.2799\n",
      "Epoch 39/50\n",
      "40044/40044 [==============================] - 12s 306us/step - loss: 0.1591 - val_loss: 0.2789\n",
      "Epoch 40/50\n",
      "40044/40044 [==============================] - 12s 306us/step - loss: 0.1555 - val_loss: 0.2806\n",
      "Epoch 41/50\n",
      "40044/40044 [==============================] - 12s 307us/step - loss: 0.1541 - val_loss: 0.2824\n",
      "Epoch 42/50\n",
      "40044/40044 [==============================] - 12s 307us/step - loss: 0.1522 - val_loss: 0.2804\n",
      "Epoch 43/50\n",
      "40044/40044 [==============================] - 12s 306us/step - loss: 0.1506 - val_loss: 0.2812\n",
      "Epoch 44/50\n",
      "40044/40044 [==============================] - 12s 306us/step - loss: 0.1491 - val_loss: 0.2788\n",
      "Epoch 45/50\n",
      "40044/40044 [==============================] - 12s 305us/step - loss: 0.1464 - val_loss: 0.2820\n",
      "Epoch 46/50\n",
      "40044/40044 [==============================] - 12s 303us/step - loss: 0.1459 - val_loss: 0.2807\n",
      "Epoch 47/50\n",
      "40044/40044 [==============================] - 12s 304us/step - loss: 0.1447 - val_loss: 0.2762\n",
      "Epoch 48/50\n",
      "40044/40044 [==============================] - 12s 306us/step - loss: 0.1431 - val_loss: 0.2802\n",
      "Epoch 49/50\n",
      "40044/40044 [==============================] - 12s 308us/step - loss: 0.1415 - val_loss: 0.2780\n",
      "Epoch 50/50\n",
      "40044/40044 [==============================] - 12s 307us/step - loss: 0.1399 - val_loss: 0.2778\n",
      "Saved Keras model to ./models/rlstm_v3.h5\n"
     ]
    }
   ],
   "source": [
    "# and now train the model\n",
    "# batch_size should be appropriate to your memory size\n",
    "# number of epochs should be higher for real world problems\n",
    "model.fit([x_input_train, x_comp_train], y_comp_train,\n",
    "          epochs=50,\n",
    "          batch_size=128,\n",
    "          shuffle=True,\n",
    "          validation_data=([x_input_test, x_comp_test], y_comp_test))\n",
    "\n",
    "MODEL_FILE = './models/rlstm_v3.h5'\n",
    "model.save(MODEL_FILE)# creates a HDF5 file\n",
    "print(\"Saved Keras model to\", MODEL_FILE)"
   ]
  },
  {
   "cell_type": "markdown",
   "metadata": {
    "heading_collapsed": true
   },
   "source": [
    "### RegressionLSTM V4"
   ]
  },
  {
   "cell_type": "markdown",
   "metadata": {
    "heading_collapsed": true,
    "hidden": true
   },
   "source": [
    "#### Overview\n",
    "\n",
    "Carried forward from previous model, with some new tests:\n",
    "- Uses VAE_V5, latent dimension of 500 and pianorolls with NUM_PITCHES = 96\n",
    "- Add noise to the training comp embeddings, to model imperfect predictions\n",
    "\n",
    "#### Notes\n",
    "\n",
    "All experiments in this version use a latent dimension of 500, corresponding to vae_v5.\n",
    "\n",
    "#### Attempt 1\n",
    "```\n",
    "Window length = 4\n",
    "Recurrent node: LSTM\n",
    "Recurrent dim = 800\n",
    "Hidden dim = 1000\n",
    "Dropout = 0.2 after hidden dense layer\n",
    "Dropout = 0.1 in input LSTM\n",
    "Dropout = 0.7 in comp LSTM\n",
    "After 50 epochs, \n",
    "```\n",
    "Loss from previous model was `loss: 0.1399 - val_loss: 0.2778`, but apparently that's not comparable, I'm guessing because the latent dimension size has changed? But why would the dimension affect the _mean_ squared error?\n",
    "\n",
    "But frankly, the predicted output looks pretty _perfect_. This is almost certainly a case of overfitting, unfortunately. We need to prepare a test set of sequence data to properly visualize against (we cannot use the same test data we used to get the validation error because those are not in sequence).\n",
    "\n",
    "#### Update\n",
    "\n",
    "Yes, after testing on a completely separate test dataset, I can indeed confirm that the model was just totally overfitting, and the predictions on the test dataset are mostly ghost notes. But now we have a proper target to aim for. Onwards!\n",
    "\n",
    "#### Next steps\n",
    "1. "
   ]
  },
  {
   "cell_type": "markdown",
   "metadata": {
    "heading_collapsed": true,
    "hidden": true
   },
   "source": [
    "#### Model training"
   ]
  },
  {
   "cell_type": "code",
   "execution_count": 7,
   "metadata": {
    "hidden": true
   },
   "outputs": [],
   "source": [
    "latent_dim = 500\n",
    "epsilon_std = 1.0\n",
    "# We need to have our encoder and decoder ready\n",
    "MODEL_FILE = './models/vae_v5_encoder_denoise.h5'\n",
    "encoder = load_model(MODEL_FILE, \n",
    "                         custom_objects={'latent_dim': latent_dim, 'epsilon_std': epsilon_std})\n",
    "MODEL_FILE = './models/vae_v5_generator_denoise.h5'\n",
    "decoder = load_model(MODEL_FILE, \n",
    "                         custom_objects={'latent_dim': latent_dim, 'epsilon_std': epsilon_std})"
   ]
  },
  {
   "cell_type": "code",
   "execution_count": 8,
   "metadata": {
    "hidden": true
   },
   "outputs": [
    {
     "name": "stdout",
     "output_type": "stream",
     "text": [
      "__________________________________________________________________________________________________\n",
      "Layer (type)                    Output Shape         Param #     Connected to                     \n",
      "==================================================================================================\n",
      "input_1 (InputLayer)            (None, 4, 500)       0                                            \n",
      "__________________________________________________________________________________________________\n",
      "input_2 (InputLayer)            (None, 4, 500)       0                                            \n",
      "__________________________________________________________________________________________________\n",
      "lstm_1 (LSTM)                   (None, 800)          4163200     input_1[0][0]                    \n",
      "__________________________________________________________________________________________________\n",
      "lstm_2 (LSTM)                   (None, 800)          4163200     input_2[0][0]                    \n",
      "__________________________________________________________________________________________________\n",
      "concatenate_1 (Concatenate)     (None, 1600)         0           lstm_1[0][0]                     \n",
      "                                                                 lstm_2[0][0]                     \n",
      "__________________________________________________________________________________________________\n",
      "dense_1 (Dense)                 (None, 1000)         1601000     concatenate_1[0][0]              \n",
      "__________________________________________________________________________________________________\n",
      "dropout_1 (Dropout)             (None, 1000)         0           dense_1[0][0]                    \n",
      "__________________________________________________________________________________________________\n",
      "dense_2 (Dense)                 (None, 500)          500500      dropout_1[0][0]                  \n",
      "==================================================================================================\n",
      "Total params: 10,427,900\n",
      "Trainable params: 10,427,900\n",
      "Non-trainable params: 0\n",
      "__________________________________________________________________________________________________\n"
     ]
    }
   ],
   "source": [
    "data_dim = latent_dim # Our model predicts embeddings, so our data is the size of the embedding\n",
    "recurrent_dim = 800\n",
    "dense_hidden_dim = 1000\n",
    "\n",
    "# First layer\n",
    "input1 = Input(shape=(WINDOW_LENGTH, data_dim))\n",
    "input2 = Input(shape=(WINDOW_LENGTH, data_dim))\n",
    "lstm1 = LSTM(recurrent_dim, dropout=0.1)(input1)\n",
    "lstm2 = LSTM(recurrent_dim, dropout=0.7)(input2)\n",
    "\n",
    "# Second layer\n",
    "merged = concatenate([lstm1, lstm2])\n",
    "\n",
    "# Third layer\n",
    "hidden = Dense(dense_hidden_dim, activation='relu')(merged)\n",
    "dropped = Dropout(0.2)(hidden)\n",
    "output = Dense(data_dim, activation='linear')(dropped)\n",
    "\n",
    "model = Model(inputs=[input1, input2], outputs=output)\n",
    "model.compile(loss='mse', optimizer='rmsprop') #, metrics=['accuracy'])\n",
    "model.summary()"
   ]
  },
  {
   "cell_type": "code",
   "execution_count": 38,
   "metadata": {
    "hidden": true,
    "scrolled": true
   },
   "outputs": [
    {
     "name": "stdout",
     "output_type": "stream",
     "text": [
      "Train on 34991 samples, validate on 1817 samples\n",
      "Epoch 1/50\n",
      "34991/34991 [==============================] - 14s 399us/step - loss: 0.0348 - val_loss: 0.0309\n",
      "Epoch 2/50\n",
      "34991/34991 [==============================] - 14s 394us/step - loss: 0.0275 - val_loss: 0.0289\n",
      "Epoch 3/50\n",
      "34991/34991 [==============================] - 14s 394us/step - loss: 0.0237 - val_loss: 0.0279\n",
      "Epoch 4/50\n",
      "34991/34991 [==============================] - 14s 398us/step - loss: 0.0213 - val_loss: 0.0273\n",
      "Epoch 5/50\n",
      "34991/34991 [==============================] - 14s 397us/step - loss: 0.0195 - val_loss: 0.0269\n",
      "Epoch 6/50\n",
      "34991/34991 [==============================] - 14s 394us/step - loss: 0.0182 - val_loss: 0.0266\n",
      "Epoch 7/50\n",
      "34991/34991 [==============================] - 14s 395us/step - loss: 0.0171 - val_loss: 0.0264\n",
      "Epoch 8/50\n",
      "34991/34991 [==============================] - 14s 394us/step - loss: 0.0163 - val_loss: 0.0265\n",
      "Epoch 9/50\n",
      "34991/34991 [==============================] - 14s 394us/step - loss: 0.0156 - val_loss: 0.0267\n",
      "Epoch 10/50\n",
      "34991/34991 [==============================] - 14s 396us/step - loss: 0.0151 - val_loss: 0.0262\n",
      "Epoch 11/50\n",
      "34991/34991 [==============================] - 14s 398us/step - loss: 0.0145 - val_loss: 0.0262\n",
      "Epoch 12/50\n",
      "34991/34991 [==============================] - 14s 395us/step - loss: 0.0142 - val_loss: 0.0262\n",
      "Epoch 13/50\n",
      "34991/34991 [==============================] - 14s 396us/step - loss: 0.0139 - val_loss: 0.0260\n",
      "Epoch 14/50\n",
      "34991/34991 [==============================] - 14s 397us/step - loss: 0.0135 - val_loss: 0.0261\n",
      "Epoch 15/50\n",
      "34991/34991 [==============================] - 14s 399us/step - loss: 0.0132 - val_loss: 0.0263\n",
      "Epoch 16/50\n",
      "34991/34991 [==============================] - 14s 399us/step - loss: 0.0130 - val_loss: 0.0263\n",
      "Epoch 17/50\n",
      "34991/34991 [==============================] - 14s 397us/step - loss: 0.0127 - val_loss: 0.0261\n",
      "Epoch 18/50\n",
      "34991/34991 [==============================] - 14s 397us/step - loss: 0.0126 - val_loss: 0.0262\n",
      "Epoch 19/50\n",
      "34991/34991 [==============================] - 14s 394us/step - loss: 0.0124 - val_loss: 0.0260\n",
      "Epoch 20/50\n",
      "34991/34991 [==============================] - 14s 395us/step - loss: 0.0122 - val_loss: 0.0263\n",
      "Epoch 21/50\n",
      "34991/34991 [==============================] - 14s 397us/step - loss: 0.0120 - val_loss: 0.0262\n",
      "Epoch 22/50\n",
      "34991/34991 [==============================] - 14s 399us/step - loss: 0.0119 - val_loss: 0.0263\n",
      "Epoch 23/50\n",
      "34991/34991 [==============================] - 14s 398us/step - loss: 0.0117 - val_loss: 0.0264\n",
      "Epoch 24/50\n",
      "34991/34991 [==============================] - 14s 397us/step - loss: 0.0116 - val_loss: 0.0264\n",
      "Epoch 25/50\n",
      "34991/34991 [==============================] - 14s 395us/step - loss: 0.0115 - val_loss: 0.0265\n",
      "Epoch 26/50\n",
      "34991/34991 [==============================] - 14s 394us/step - loss: 0.0114 - val_loss: 0.0266\n",
      "Epoch 27/50\n",
      "34991/34991 [==============================] - 14s 397us/step - loss: 0.0113 - val_loss: 0.0262\n",
      "Epoch 28/50\n",
      "34991/34991 [==============================] - 14s 397us/step - loss: 0.0112 - val_loss: 0.0264\n",
      "Epoch 29/50\n",
      "34991/34991 [==============================] - 14s 397us/step - loss: 0.0111 - val_loss: 0.0263\n",
      "Epoch 30/50\n",
      "34991/34991 [==============================] - 14s 398us/step - loss: 0.0110 - val_loss: 0.0263\n",
      "Epoch 31/50\n",
      "34991/34991 [==============================] - 14s 398us/step - loss: 0.0109 - val_loss: 0.0264\n",
      "Epoch 32/50\n",
      "34991/34991 [==============================] - 14s 398us/step - loss: 0.0108 - val_loss: 0.0264\n",
      "Epoch 33/50\n",
      "34991/34991 [==============================] - 14s 398us/step - loss: 0.0107 - val_loss: 0.0264\n",
      "Epoch 34/50\n",
      "34991/34991 [==============================] - 14s 397us/step - loss: 0.0106 - val_loss: 0.0264\n",
      "Epoch 35/50\n",
      "34991/34991 [==============================] - 14s 397us/step - loss: 0.0106 - val_loss: 0.0266\n",
      "Epoch 36/50\n",
      "34991/34991 [==============================] - 14s 394us/step - loss: 0.0105 - val_loss: 0.0264\n",
      "Epoch 37/50\n",
      "34991/34991 [==============================] - 14s 392us/step - loss: 0.0104 - val_loss: 0.0265\n",
      "Epoch 38/50\n",
      "34991/34991 [==============================] - 14s 395us/step - loss: 0.0103 - val_loss: 0.0267\n",
      "Epoch 39/50\n",
      "34991/34991 [==============================] - 14s 397us/step - loss: 0.0103 - val_loss: 0.0267\n",
      "Epoch 40/50\n",
      "34991/34991 [==============================] - 14s 395us/step - loss: 0.0102 - val_loss: 0.0266\n",
      "Epoch 41/50\n",
      "34991/34991 [==============================] - 14s 397us/step - loss: 0.0102 - val_loss: 0.0266\n",
      "Epoch 42/50\n",
      "34991/34991 [==============================] - 14s 395us/step - loss: 0.0101 - val_loss: 0.0265\n",
      "Epoch 43/50\n",
      "34991/34991 [==============================] - 14s 397us/step - loss: 0.0101 - val_loss: 0.0265\n",
      "Epoch 44/50\n",
      "34991/34991 [==============================] - 14s 396us/step - loss: 0.0100 - val_loss: 0.0265\n",
      "Epoch 45/50\n",
      "34991/34991 [==============================] - 14s 399us/step - loss: 0.0099 - val_loss: 0.0267\n",
      "Epoch 46/50\n",
      "34991/34991 [==============================] - 14s 398us/step - loss: 0.0099 - val_loss: 0.0267\n",
      "Epoch 47/50\n",
      "34991/34991 [==============================] - 14s 399us/step - loss: 0.0099 - val_loss: 0.0266\n",
      "Epoch 48/50\n",
      "34991/34991 [==============================] - 14s 392us/step - loss: 0.0098 - val_loss: 0.0266\n",
      "Epoch 49/50\n",
      "34991/34991 [==============================] - 14s 393us/step - loss: 0.0098 - val_loss: 0.0267\n",
      "Epoch 50/50\n",
      "34991/34991 [==============================] - 14s 396us/step - loss: 0.0097 - val_loss: 0.0267\n",
      "Saved Keras model to ./models/rlstm_v4.h5\n"
     ]
    }
   ],
   "source": [
    "# and now train the model\n",
    "# batch_size should be appropriate to your memory size\n",
    "# number of epochs should be higher for real world problems\n",
    "model.fit([x_input_train, x_comp_train], y_comp_train,\n",
    "          epochs=50,\n",
    "          batch_size=128,\n",
    "          shuffle=True,\n",
    "          validation_data=([x_input_test, x_comp_test], y_comp_test))\n",
    "\n",
    "MODEL_FILE = './models/rlstm_v4.h5'\n",
    "model.save(MODEL_FILE)# creates a HDF5 file\n",
    "print(\"Saved Keras model to\", MODEL_FILE)"
   ]
  },
  {
   "cell_type": "markdown",
   "metadata": {
    "heading_collapsed": true
   },
   "source": [
    "### RegressionLSTM V5"
   ]
  },
  {
   "cell_type": "markdown",
   "metadata": {
    "heading_collapsed": true,
    "hidden": true
   },
   "source": [
    "#### Overview\n",
    "\n",
    "Building on top of V4 model, but with crucial new changes:\n",
    "- Uses VAE_V7 (latent dimension of 500 and pianorolls with NUM_PITCHES = 96)\n",
    "- Trying something new: using `fit_generator` to generate windowed data on the fly for data efficiency\n",
    "\n",
    "#### Notes\n",
    "\n",
    "All experiments in this version use a latent dimension of 500, corresponding to vae_v7.\n",
    "\n",
    "#### Attempt 1\n",
    "```\n",
    "Num pianorolls: 1000\n",
    "input.shape == comp.shape: (23086, 500)\n",
    "Time: ~7 minutes per epoch\n",
    "Time per step: 453s 264ms/step\n",
    "Best error: loss: 0.0235 - val_loss: 0.0317\n",
    "```\n",
    "Validation loss is quite disappointing, it scarcely improves at all from epoch 1 to epoch 50. Training loss goes down nicely, and we can confirm that testing on training data we get pretty perfect results, but on test data it is mostly ghost output (but very slightly better than the previous model?).\n",
    "\n",
    "#### Attempt 1.b\n",
    "\n",
    "Use Attempt 1's model to predict accompaniments with a unit-selection scheme. Unforunately, output is very poor. Selected units don't seem to be in the same key as the input. On the bright side, at least it does something.\n",
    "\n",
    "#### Next steps\n",
    "1. Try using the predicted output with unit selection!"
   ]
  },
  {
   "cell_type": "markdown",
   "metadata": {
    "heading_collapsed": true,
    "hidden": true
   },
   "source": [
    "#### Model training"
   ]
  },
  {
   "cell_type": "code",
   "execution_count": 4,
   "metadata": {
    "hidden": true
   },
   "outputs": [],
   "source": [
    "latent_dim = 500\n",
    "epsilon_std = 1.0\n",
    "# We need to have our encoder and decoder ready\n",
    "MODEL_FILE = './models/vae_v7_encoder.h5'\n",
    "encoder = load_model(MODEL_FILE, \n",
    "                         custom_objects={'latent_dim': latent_dim, 'epsilon_std': epsilon_std})\n",
    "MODEL_FILE = './models/vae_v7_decoder.h5'\n",
    "decoder = load_model(MODEL_FILE, \n",
    "                         custom_objects={'latent_dim': latent_dim, 'epsilon_std': epsilon_std})"
   ]
  },
  {
   "cell_type": "code",
   "execution_count": 5,
   "metadata": {
    "hidden": true
   },
   "outputs": [
    {
     "name": "stdout",
     "output_type": "stream",
     "text": [
      "__________________________________________________________________________________________________\n",
      "Layer (type)                    Output Shape         Param #     Connected to                     \n",
      "==================================================================================================\n",
      "input_1 (InputLayer)            (None, 4, 500)       0                                            \n",
      "__________________________________________________________________________________________________\n",
      "input_2 (InputLayer)            (None, 4, 500)       0                                            \n",
      "__________________________________________________________________________________________________\n",
      "lstm_1 (LSTM)                   (None, 800)          4163200     input_1[0][0]                    \n",
      "__________________________________________________________________________________________________\n",
      "lstm_2 (LSTM)                   (None, 800)          4163200     input_2[0][0]                    \n",
      "__________________________________________________________________________________________________\n",
      "concatenate_1 (Concatenate)     (None, 1600)         0           lstm_1[0][0]                     \n",
      "                                                                 lstm_2[0][0]                     \n",
      "__________________________________________________________________________________________________\n",
      "dense_1 (Dense)                 (None, 1000)         1601000     concatenate_1[0][0]              \n",
      "__________________________________________________________________________________________________\n",
      "dropout_1 (Dropout)             (None, 1000)         0           dense_1[0][0]                    \n",
      "__________________________________________________________________________________________________\n",
      "dense_2 (Dense)                 (None, 500)          500500      dropout_1[0][0]                  \n",
      "==================================================================================================\n",
      "Total params: 10,427,900\n",
      "Trainable params: 10,427,900\n",
      "Non-trainable params: 0\n",
      "__________________________________________________________________________________________________\n"
     ]
    }
   ],
   "source": [
    "data_dim = latent_dim # Our model predicts embeddings, so our data is the size of the embedding\n",
    "recurrent_dim = 800\n",
    "dense_hidden_dim = 1000\n",
    "\n",
    "# First layer\n",
    "input1 = Input(shape=(WINDOW_LENGTH, data_dim))\n",
    "input2 = Input(shape=(WINDOW_LENGTH, data_dim))\n",
    "lstm1 = LSTM(recurrent_dim, dropout=0.1)(input1)\n",
    "lstm2 = LSTM(recurrent_dim, dropout=0.7)(input2)\n",
    "\n",
    "# Second layer\n",
    "merged = concatenate([lstm1, lstm2])\n",
    "\n",
    "# Third layer\n",
    "hidden = Dense(dense_hidden_dim, activation='relu')(merged)\n",
    "dropped = Dropout(0.2)(hidden)\n",
    "output = Dense(data_dim, activation='linear')(dropped)\n",
    "\n",
    "model = Model(inputs=[input1, input2], outputs=output)\n",
    "model.compile(loss='mse', optimizer='rmsprop') #, metrics=['accuracy'])\n",
    "model.summary()"
   ]
  },
  {
   "cell_type": "code",
   "execution_count": 6,
   "metadata": {
    "hidden": true,
    "scrolled": true
   },
   "outputs": [
    {
     "name": "stdout",
     "output_type": "stream",
     "text": [
      "Epoch 1/10\n",
      "1716/1716 [==============================] - 461s 269ms/step - loss: 0.0342 - val_loss: 0.0305\n",
      "Epoch 2/10\n",
      "1716/1716 [==============================] - 459s 267ms/step - loss: 0.0312 - val_loss: 0.0300\n",
      "Epoch 3/10\n",
      "1716/1716 [==============================] - 455s 265ms/step - loss: 0.0302 - val_loss: 0.0299\n",
      "Epoch 4/10\n",
      "1716/1716 [==============================] - 455s 265ms/step - loss: 0.0294 - val_loss: 0.0301\n",
      "Epoch 5/10\n",
      "1716/1716 [==============================] - 456s 266ms/step - loss: 0.0285 - val_loss: 0.0303\n",
      "Epoch 6/10\n",
      "1716/1716 [==============================] - 455s 265ms/step - loss: 0.0276 - val_loss: 0.0304\n",
      "Epoch 7/10\n",
      "1716/1716 [==============================] - 451s 263ms/step - loss: 0.0266 - val_loss: 0.0305\n",
      "Epoch 8/10\n",
      "1716/1716 [==============================] - 455s 265ms/step - loss: 0.0255 - val_loss: 0.0309\n",
      "Epoch 9/10\n",
      "1716/1716 [==============================] - 454s 265ms/step - loss: 0.0245 - val_loss: 0.0313\n",
      "Epoch 10/10\n",
      "1716/1716 [==============================] - 453s 264ms/step - loss: 0.0235 - val_loss: 0.0317\n",
      "Saved Keras model to ./models/rlstm_v5.h5\n"
     ]
    }
   ],
   "source": [
    "# and now train the model\n",
    "# batch_size should be appropriate to your memory size\n",
    "# number of epochs should be higher for real world problems\n",
    "\n",
    "batch_size=128\n",
    "model.fit_generator(generator=data_gen_train,\n",
    "                    steps_per_epoch=len(data_gen_train),#/batch_size,\n",
    "                    epochs=10,\n",
    "                    validation_data=data_gen_test)\n",
    "\n",
    "MODEL_FILE = './models/rlstm_v5.h5'\n",
    "model.save(MODEL_FILE)# creates a HDF5 file\n",
    "print(\"Saved Keras model to\", MODEL_FILE)"
   ]
  },
  {
   "cell_type": "markdown",
   "metadata": {
    "heading_collapsed": true
   },
   "source": [
    "### RegressionLSTM V6"
   ]
  },
  {
   "cell_type": "markdown",
   "metadata": {
    "heading_collapsed": true,
    "hidden": true
   },
   "source": [
    "#### Overview\n",
    "\n",
    "Onsets-only variation of V5 model:\n",
    "- Uses VAE_V9 (latent dimension of 50 and pianorolls with NUM_PITCHES = 96)\n",
    "- MUUCH smaller network since latent dimension is also much smaller (dropped from 10,427,900 to )\n",
    "- Add Gaussian Noise to input_2\n",
    "\n",
    "#### Attempt 1\n",
    "```\n",
    "Num pianorolls: 1000\n",
    "input.shape == comp.shape: (52540, 50)\n",
    "\n",
    "GaussianNoise@input_2: 0.2\n",
    "\n",
    "After 10 epochs,\n",
    "loss: 0.4549 - val_loss: 0.5434\n",
    "\n",
    "Saved Keras model to ./models/rlstm_v6.h5\n",
    "CPU times: user 1h 15min 56s, sys: 42min 14s, total: 1h 58min 10s\n",
    "Wall time: 1h 35min 30s\n",
    "```\n",
    "Like in previous models, validation loss scarcely improves at all from epoch 1 to epoch 10. Training loss goes down slowly.\n",
    "\n",
    "#### Next steps\n",
    "1. Try using the predicted output with unit selection!"
   ]
  },
  {
   "cell_type": "markdown",
   "metadata": {
    "heading_collapsed": true,
    "hidden": true
   },
   "source": [
    "#### Model training"
   ]
  },
  {
   "cell_type": "code",
   "execution_count": 4,
   "metadata": {
    "hidden": true
   },
   "outputs": [],
   "source": [
    "latent_dim = 50\n",
    "epsilon_std = 1.0\n",
    "# We need to have our encoder and decoder ready\n",
    "MODEL_FILE = './models/vae_v9_encoder_latent50.h5'\n",
    "encoder = load_model(MODEL_FILE, \n",
    "                         custom_objects={'latent_dim': latent_dim, 'epsilon_std': epsilon_std})\n",
    "MODEL_FILE = './models/vae_v9_decoder_latent50.h5'\n",
    "decoder = load_model(MODEL_FILE, \n",
    "                         custom_objects={'latent_dim': latent_dim, 'epsilon_std': epsilon_std})"
   ]
  },
  {
   "cell_type": "code",
   "execution_count": 12,
   "metadata": {
    "hidden": true
   },
   "outputs": [
    {
     "name": "stdout",
     "output_type": "stream",
     "text": [
      "__________________________________________________________________________________________________\n",
      "Layer (type)                    Output Shape         Param #     Connected to                     \n",
      "==================================================================================================\n",
      "input_10 (InputLayer)           (None, 4, 50)        0                                            \n",
      "__________________________________________________________________________________________________\n",
      "input_9 (InputLayer)            (None, 4, 50)        0                                            \n",
      "__________________________________________________________________________________________________\n",
      "gaussian_noise_4 (GaussianNoise (None, 4, 50)        0           input_10[0][0]                   \n",
      "__________________________________________________________________________________________________\n",
      "lstm_7 (LSTM)                   (None, 200)          200800      input_9[0][0]                    \n",
      "__________________________________________________________________________________________________\n",
      "lstm_8 (LSTM)                   (None, 200)          200800      gaussian_noise_4[0][0]           \n",
      "__________________________________________________________________________________________________\n",
      "concatenate_3 (Concatenate)     (None, 400)          0           lstm_7[0][0]                     \n",
      "                                                                 lstm_8[0][0]                     \n",
      "__________________________________________________________________________________________________\n",
      "dense_5 (Dense)                 (None, 500)          200500      concatenate_3[0][0]              \n",
      "__________________________________________________________________________________________________\n",
      "dense_6 (Dense)                 (None, 50)           25050       dense_5[0][0]                    \n",
      "==================================================================================================\n",
      "Total params: 627,150\n",
      "Trainable params: 627,150\n",
      "Non-trainable params: 0\n",
      "__________________________________________________________________________________________________\n"
     ]
    }
   ],
   "source": [
    "WINDOW_LENGTH = 4\n",
    "data_dim = latent_dim # Our model predicts embeddings, so our data is the size of the embedding\n",
    "recurrent_dim = 200\n",
    "dense_hidden_dim = 500\n",
    "\n",
    "# First layer\n",
    "input1 = Input(shape=(WINDOW_LENGTH, data_dim))\n",
    "input2 = Input(shape=(WINDOW_LENGTH, data_dim))\n",
    "input2_noisy = GaussianNoise(0.2)(input2)\n",
    "lstm1 = LSTM(recurrent_dim)(input1)\n",
    "lstm2 = LSTM(recurrent_dim)(input2_noisy)\n",
    "\n",
    "# Second layer\n",
    "merged = concatenate([lstm1, lstm2])\n",
    "\n",
    "# Third layer\n",
    "hidden = Dense(dense_hidden_dim, activation='relu')(merged)\n",
    "output = Dense(data_dim, activation='linear')(hidden)\n",
    "\n",
    "model = Model(inputs=[input1, input2], outputs=output)\n",
    "model.compile(loss='mse', optimizer='adam') #, metrics=['accuracy'])\n",
    "model.summary()"
   ]
  },
  {
   "cell_type": "code",
   "execution_count": 13,
   "metadata": {
    "hidden": true,
    "scrolled": true
   },
   "outputs": [
    {
     "name": "stdout",
     "output_type": "stream",
     "text": [
      "Epoch 1/10\n",
      "3451/3451 [==============================] - 563s 163ms/step - loss: 0.5571 - val_loss: 0.5323\n",
      "Epoch 2/10\n",
      "3451/3451 [==============================] - 569s 165ms/step - loss: 0.5254 - val_loss: 0.5345\n",
      "Epoch 3/10\n",
      "3451/3451 [==============================] - 568s 165ms/step - loss: 0.5090 - val_loss: 0.5301\n",
      "Epoch 4/10\n",
      "3451/3451 [==============================] - 560s 162ms/step - loss: 0.4975 - val_loss: 0.5325\n",
      "Epoch 5/10\n",
      "3451/3451 [==============================] - 560s 162ms/step - loss: 0.4884 - val_loss: 0.5318\n",
      "Epoch 6/10\n",
      "3451/3451 [==============================] - 582s 169ms/step - loss: 0.4801 - val_loss: 0.5343\n",
      "Epoch 7/10\n",
      "3451/3451 [==============================] - 583s 169ms/step - loss: 0.4726 - val_loss: 0.5377\n",
      "Epoch 8/10\n",
      "3451/3451 [==============================] - 586s 170ms/step - loss: 0.4666 - val_loss: 0.5393\n",
      "Epoch 9/10\n",
      "3451/3451 [==============================] - 585s 170ms/step - loss: 0.4612 - val_loss: 0.5398\n",
      "Epoch 10/10\n",
      "3451/3451 [==============================] - 573s 166ms/step - loss: 0.4549 - val_loss: 0.5434\n",
      "Saved Keras model to ./models/rlstm_v6.h5\n",
      "CPU times: user 1h 15min 56s, sys: 42min 14s, total: 1h 58min 10s\n",
      "Wall time: 1h 35min 30s\n"
     ]
    }
   ],
   "source": [
    "%%time\n",
    "# and now train the model\n",
    "# batch_size should be appropriate to your memory size\n",
    "# number of epochs should be higher for real world problems\n",
    "\n",
    "batch_size=128\n",
    "model.fit_generator(generator=data_gen_train,\n",
    "                    steps_per_epoch=len(data_gen_train),#/batch_size,\n",
    "                    epochs=10,\n",
    "                    validation_data=data_gen_test)\n",
    "\n",
    "MODEL_FILE = './models/rlstm_v6.h5'\n",
    "model.save(MODEL_FILE)# creates a HDF5 file\n",
    "print(\"Saved Keras model to\", MODEL_FILE)"
   ]
  },
  {
   "cell_type": "code",
   "execution_count": 8,
   "metadata": {
    "hidden": true
   },
   "outputs": [],
   "source": [
    "MODEL_FILE = './models/rlstm_v6.h5'\n",
    "model = load_model(MODEL_FILE)"
   ]
  },
  {
   "cell_type": "markdown",
   "metadata": {
    "heading_collapsed": true
   },
   "source": [
    "### Prediction and results"
   ]
  },
  {
   "cell_type": "markdown",
   "metadata": {
    "hidden": true
   },
   "source": [
    "Use the models trained above to predict an accompanying sequence.\n",
    "\n",
    "#### DEPRECATED\n",
    "The dataset used in this section are completely separated from the model training processes above. \n",
    "\n",
    "Model training had their own training/validation dataset, but here we actually have a previously unseen dataset `seq_units['input_test']` and `seq_units['comp_test']` and their corresponding embeddings dataset for prediction. \n",
    "\n",
    "The reason we cannot use the train/validation set here is because the order beyond a fixed window size is not respected in the train/validation dataset. This test set retains the full order of many songs together."
   ]
  },
  {
   "cell_type": "code",
   "execution_count": 5,
   "metadata": {
    "hidden": true
   },
   "outputs": [
    {
     "name": "stdout",
     "output_type": "stream",
     "text": [
      "knn_units: (220409, 96, 96, 1)\n"
     ]
    }
   ],
   "source": [
    "from sklearn.neighbors import NearestNeighbors\n",
    "import sklearn.externals\n",
    "\n",
    "# Load up the embeddings prediction model\n",
    "MODEL_FILE = './models/rlstm_v5.h5'\n",
    "model = load_model(MODEL_FILE)\n",
    "\n",
    "# Load up the KNN model\n",
    "KNN_MODEL_FILENAME = \"./models/vae_v7_unit_selector_knn.pkl\"\n",
    "knn_model, UNITS_FILE = sklearn.externals.joblib.load(KNN_MODEL_FILENAME)\n",
    "# Load KNN units\n",
    "units_f = h5py.File(UNITS_FILE, 'r')\n",
    "knn_units = units_f['units_train']\n",
    "print(\"knn_units:\", knn_units.shape)"
   ]
  },
  {
   "cell_type": "code",
   "execution_count": 31,
   "metadata": {
    "hidden": true
   },
   "outputs": [],
   "source": [
    "# If not using HDF5\n",
    "seq_units_input = seq_units['input_train']\n",
    "seq_units_comp = seq_units['comp_train']\n",
    "seq_embed_input = seq_embed['input_train']\n",
    "seq_embed_comp = seq_embed['comp_train']"
   ]
  },
  {
   "cell_type": "code",
   "execution_count": 12,
   "metadata": {
    "hidden": true,
    "scrolled": true
   },
   "outputs": [
    {
     "name": "stdout",
     "output_type": "stream",
     "text": [
      "0.011178691864\n",
      "CPU times: user 15.6 s, sys: 3.22 s, total: 18.8 s\n",
      "Wall time: 11.2 s\n"
     ]
    }
   ],
   "source": [
    "NUM_PREDICTIONS = 8\n",
    "num_units = WINDOW_LENGTH + NUM_PREDICTIONS\n",
    "# Grab a random sequence of embeddings as input\n",
    "unit_index = np.random.randint(seq_embed_comp.shape[0] - num_units)\n",
    "\n",
    "# Take the full WINDOW_LENGTH + 1 embeddings for reference\n",
    "decoded_comp_embed = seq_embed_comp[unit_index:unit_index + num_units]\n",
    "\n",
    "# Predict NUM_PREDICTIONS embeddings\n",
    "predicted_comp_embed = seq_embed_input[unit_index:unit_index + WINDOW_LENGTH].copy() #seq_embed_comp[unit_index:unit_index + WINDOW_LENGTH].copy()\n",
    "# knn_comp = np.zeros((WINDOW_LENGTH, NUM_PITCHES, NUM_TICKS)) #seq_units_comp[unit_index:unit_index + WINDOW_LENGTH].copy().squeeze()\n",
    "for i, _ in enumerate(range(NUM_PREDICTIONS)):\n",
    "    input1 = np.array([\n",
    "        seq_embed_input[unit_index + i : unit_index + WINDOW_LENGTH + i]\n",
    "    ])\n",
    "    input2 = np.array([\n",
    "        predicted_comp_embed[-WINDOW_LENGTH:] # The WINDOW_LENGTH latest units\n",
    "    ])\n",
    "    # Predict new embedding\n",
    "    y_comp_embed = model.predict([input1,input2])\n",
    "    # Append predicted embedding\n",
    "    predicted_comp_embed = np.concatenate([predicted_comp_embed, y_comp_embed], axis=0)\n",
    "    \n",
    "    # Get nearest neighbor\n",
    "#     knn_index = knn_model.kneighbors(y_comp_embed, return_distance = False)[0][0]\n",
    "#     sample_knn = knn_units[knn_index].squeeze()[np.newaxis, ...]\n",
    "#     knn_comp = np.concatenate([knn_comp, sample_knn], axis=0)\n",
    "\n",
    "# knn_comp = np.concatenate(knn_comp, axis=1)\n",
    "print(predicted_comp_embed.shape)\n",
    "# print(knn_comp.shape)"
   ]
  },
  {
   "cell_type": "code",
   "execution_count": 155,
   "metadata": {
    "hidden": true,
    "scrolled": false
   },
   "outputs": [
    {
     "data": {
      "image/png": "[encoded data removed]",
      "text/plain": [
       "<Figure size 720x475.2 with 3 Axes>"
      ]
     },
     "metadata": {},
     "output_type": "display_data"
    }
   ],
   "source": [
    "reload(pianoroll_utils)\n",
    "# Decode the embeddings\n",
    "predicted_comp_probs = np.concatenate(decoder.predict(predicted_comp_embed), axis=1).squeeze()\n",
    "# predicted_comp = np.clip(predicted_comp * 0.2, 0, 1)\n",
    "predicted_comp = pianoroll_utils.pianoroll_preprocess(predicted_comp_probs, MIN_PITCH, MAX_PITCH, is_onsets_matrix=True)\n",
    "predicted_comp[:43] = 0\n",
    "predicted_comp[:,:16*24] = 0\n",
    "# Original embeddings for reference\n",
    "decoded_comp = np.concatenate(decoder.predict(decoded_comp_embed), axis=1).squeeze()\n",
    "# Also grab the original units for comparison\n",
    "model_comp = np.concatenate(seq_units_comp[unit_index:unit_index + num_units], axis=1).squeeze()\n",
    "model_input = np.concatenate(seq_units_input[unit_index:unit_index + num_units], axis=1).squeeze()\n",
    "\n",
    "# Plot comparison\n",
    "fig, ax = plt.subplots(3,1)\n",
    "fig.set_size_inches(10, 3*2.2, forward=True)\n",
    "ax[0].set_title('Input')\n",
    "ax[1].set_title('True Comp')\n",
    "# ax[2].set_title('Decoded Comp')\n",
    "ax[2].set_title('Predicted Comp')\n",
    "# ax[4].set_title('KNN Comp')\n",
    "\n",
    "min_pitch = 36\n",
    "max_pitch = 72\n",
    "model_input_zoom = pianoroll_utils.crop_pianoroll(pianoroll_utils.pad_pianoroll(model_input, MIN_PITCH, MAX_PITCH), min_pitch, max_pitch)\n",
    "model_comp_zoom = pianoroll_utils.crop_pianoroll(pianoroll_utils.pad_pianoroll(model_comp, MIN_PITCH, MAX_PITCH), min_pitch, max_pitch)\n",
    "predicted_comp_zoom = pianoroll_utils.crop_pianoroll(pianoroll_utils.pad_pianoroll(predicted_comp, MIN_PITCH, MAX_PITCH), min_pitch, max_pitch)\n",
    "\n",
    "pianoroll_utils.plot_pianoroll(ax[0], model_input_zoom, min_pitch, max_pitch, cmap='bone_r')\n",
    "pianoroll_utils.plot_pianoroll(ax[1], model_comp_zoom, min_pitch, max_pitch, cmap='bone_r')\n",
    "# pianoroll_utils.plot_pianoroll(ax[2], decoded_comp, MIN_PITCH, MAX_PITCH, cmap='bone_r')\n",
    "pianoroll_utils.plot_pianoroll(ax[2], predicted_comp_zoom, min_pitch, max_pitch, cmap='bone_r')\n",
    "# pianoroll_utils.plot_pianoroll(ax[4], knn_comp, MIN_PITCH, MAX_PITCH, beat_resolution=24, cmap='Blues')\n",
    "fig.tight_layout()\n",
    "plt.savefig('fig/latent_rnn_traindata.eps', format='eps', dpi=1000)\n",
    "\n",
    "# Listen to the MIDI files\n",
    "# pianoroll_utils.play_pianoroll(model_input, MIN_PITCH, MAX_PITCH, 'ori', is_onsets_matrix=True, program_number=13)\n",
    "# # pianoroll_utils.play_pianoroll(model_comp, MIN_PITCH, MAX_PITCH, '0', is_onsets_matrix=True, program_number=13)\n",
    "# # pianoroll_utils.play_pianoroll(decoded_comp, MIN_PITCH, MAX_PITCH, '1', is_onsets_matrix=True, program_number=13)\n",
    "# pianoroll_utils.play_pianoroll(predicted_comp, MIN_PITCH, MAX_PITCH, '2', is_onsets_matrix=True, program_number=13)\n",
    "# # pianoroll_utils.play_pianoroll(knn_comp, MIN_PITCH, MAX_PITCH, '3', is_onsets_matrix=True, program_number=13)\n",
    "# pianoroll_utils.play_pianoroll( (model_comp + model_input).clip(0,1), MIN_PITCH, MAX_PITCH, '4', is_onsets_matrix=True, program_number=13)\n",
    "# # pianoroll_utils.play_pianoroll( (decoded_comp + model_input).clip(0,1), MIN_PITCH, MAX_PITCH, '5', is_onsets_matrix=True, program_number=13)\n",
    "# pianoroll_utils.play_pianoroll( (predicted_comp + model_input).clip(0,1), MIN_PITCH, MAX_PITCH, '6', is_onsets_matrix=True, program_number=13)\n",
    "# # pianoroll_utils.play_pianoroll( (knn_comp + model_input).clip(0,1), MIN_PITCH, MAX_PITCH, '7', is_onsets_matrix=True, program_number=13)"
   ]
  },
  {
   "cell_type": "code",
   "execution_count": 151,
   "metadata": {
    "hidden": true
   },
   "outputs": [],
   "source": [
    "unit_index = 148868"
   ]
  }
 ],
 "metadata": {
  "kernelspec": {
   "display_name": "Python 2",
   "language": "python",
   "name": "python2"
  },
  "language_info": {
   "codemirror_mode": {
    "name": "ipython",
    "version": 2
   },
   "file_extension": ".py",
   "mimetype": "text/x-python",
   "name": "python",
   "nbconvert_exporter": "python",
   "pygments_lexer": "ipython2",
   "version": "2.7.12"
  }
 },
 "nbformat": 4,
 "nbformat_minor": 2
}
