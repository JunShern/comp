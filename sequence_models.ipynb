{
 "cells": [
  {
   "cell_type": "markdown",
   "metadata": {},
   "source": [
    "# Sequence models\n",
    "\n",
    "Finally, we arrive a sequence models. Hopefully this will serve us better than the convolutional approach (but why would it?)."
   ]
  },
  {
   "cell_type": "markdown",
   "metadata": {},
   "source": [
    "## 1. RNN for input-output with equal length\n",
    "```\n",
    "Input: pianoroll-unit (128, 96)\n",
    "Output: pianoroll-unit (128, 96)\n",
    "```\n",
    "\n",
    "### Layers = 1, Hidden Size = 128\n",
    "Epoch 50: `loss: 0.0022 - acc: 0.5142 - val_loss: 0.0026 - val_acc: 0.4837`\n",
    "\n",
    "### Layers = 2, Hidden Size = 128\n",
    "Epoch 50: `loss: 0.0027 - acc: 0.4919 - val_loss: 0.0031 - val_acc: 0.4702`\n",
    "\n",
    "### Layers = 1, Hidden Size = 256\n",
    "Epoch 50: `loss: 0.0023 - acc: 0.5242 - val_loss: 0.0027 - val_acc: 0.4984`\n",
    "\n",
    "Code adapted from: https://github.com/keras-team/keras/blob/master/examples/addition_rnn.py"
   ]
  },
  {
   "cell_type": "code",
   "execution_count": 3,
   "metadata": {},
   "outputs": [],
   "source": [
    "import os, shutil\n",
    "import random\n",
    "import sys\n",
    "import numpy as np\n",
    "import pypianoroll\n",
    "from matplotlib import pyplot as plt\n",
    "import cPickle as pickle\n",
    "import pianoroll_utils\n",
    "\n",
    "from keras.layers import Input, Dense, Conv2D, Conv2DTranspose, BatchNormalization, MaxPooling2D, UpSampling2D\n",
    "from keras.models import Model\n",
    "from keras.callbacks import TensorBoard\n",
    "from keras.models import load_model\n",
    "\n",
    "PICKLE_FILE = './pickle_jar/norm_units_50_songs.pkl'"
   ]
  },
  {
   "cell_type": "code",
   "execution_count": 4,
   "metadata": {},
   "outputs": [
    {
     "name": "stdout",
     "output_type": "stream",
     "text": [
      "('Loaded', 3268, 'units from', './pickle_jar/norm_units_50_songs.pkl')\n",
      "('input_units.shape: ', (3268, 128, 96))\n",
      "('comp_units.shape: ', (3268, 128, 96))\n",
      "('full_units.shape: ', (3268, 128, 96))\n",
      "('Train:', (2935, 96, 128))\n",
      "('Test:', (333, 96, 128))\n"
     ]
    }
   ],
   "source": [
    "units = {}\n",
    "with open(PICKLE_FILE, 'rb') as infile:\n",
    "    units = pickle.load( infile )\n",
    "units['full'] = units['input'] + units['comp']\n",
    "\n",
    "# Print info\n",
    "print(\"Loaded\", units[\"input\"].shape[0], \"units from\", PICKLE_FILE)\n",
    "print(\"input_units.shape: \", units[\"input\"].shape)\n",
    "print(\"comp_units.shape: \", units[\"comp\"].shape)\n",
    "print(\"full_units.shape: \", units[\"full\"].shape)\n",
    "\n",
    "# Create an array of True (train) and False (test) to split the dataset\n",
    "train_test_indices = np.random.choice([True, False], size=len(units[\"input\"]), p=[.9, .1])\n",
    "# Training data\n",
    "input_train = units[\"input\"][train_test_indices, ...].swapaxes(1,2)\n",
    "comp_train = units[\"comp\"][train_test_indices, ...].swapaxes(1,2)\n",
    "full_train = units[\"full\"][train_test_indices, ...].swapaxes(1,2)\n",
    "# Testing data\n",
    "input_test = units[\"input\"][np.invert(train_test_indices), ...].swapaxes(1,2)\n",
    "comp_test = units[\"comp\"][np.invert(train_test_indices), ...].swapaxes(1,2)\n",
    "full_test = units[\"full\"][np.invert(train_test_indices), ...].swapaxes(1,2)\n",
    "print(\"Train:\", input_train.shape)\n",
    "print(\"Test:\", input_test.shape)"
   ]
  },
  {
   "cell_type": "code",
   "execution_count": null,
   "metadata": {},
   "outputs": [],
   "source": [
    "from __future__ import print_function\n",
    "from keras.models import Sequential\n",
    "from keras import layers\n",
    "import numpy as np\n",
    "from six.moves import range\n",
    "\n",
    "# Parameters for the model and dataset.\n",
    "TRAINING_SIZE = 50000\n",
    "NUM_TICKS = 96\n",
    "NUM_PITCHES = 128\n",
    "REVERSE = True\n",
    "\n",
    "MAXLEN = NUM_TICKS\n",
    "\n",
    "# Try replacing GRU, or SimpleRNN.\n",
    "RNN = layers.LSTM\n",
    "HIDDEN_SIZE = 128\n",
    "LAYERS = 1\n",
    "\n",
    "print('Build model...')\n",
    "model = Sequential()\n",
    "# \"Encode\" the input sequence using an RNN, producing an output of HIDDEN_SIZE.\n",
    "# Note: In a situation where your input sequences have a variable length,\n",
    "# use input_shape=(None, num_feature).\n",
    "model.add(RNN(HIDDEN_SIZE, input_shape=(MAXLEN, NUM_PITCHES)))\n",
    "# As the decoder RNN's input, repeatedly provide with the last hidden state of\n",
    "# RNN for each time step. Repeat 'DIGITS + 1' times as that's the maximum\n",
    "# length of output, e.g., when DIGITS=3, max output is 999+999=1998.\n",
    "model.add(layers.RepeatVector(MAXLEN))\n",
    "# The decoder RNN could be multiple layers stacked or a single layer.\n",
    "for _ in range(LAYERS):\n",
    "    # By setting return_sequences to True, return not only the last output but\n",
    "    # all the outputs so far in the form of (num_samples, timesteps,\n",
    "    # output_dim). This is necessary as TimeDistributed in the below expects\n",
    "    # the first dimension to be the timesteps.\n",
    "    model.add(RNN(HIDDEN_SIZE, return_sequences=True))\n",
    "\n",
    "# Apply a dense layer to the every temporal slice of an input. For each of step\n",
    "# of the output sequence, decide which character should be chosen.\n",
    "model.add(layers.TimeDistributed(layers.Dense(NUM_PITCHES)))\n",
    "model.add(layers.Activation('tanh'))\n",
    "model.compile(loss='mean_squared_error',\n",
    "              optimizer='adam',\n",
    "              metrics=['accuracy'])\n",
    "model.summary()"
   ]
  },
  {
   "cell_type": "code",
   "execution_count": 38,
   "metadata": {
    "scrolled": true
   },
   "outputs": [
    {
     "name": "stdout",
     "output_type": "stream",
     "text": [
      "Train on 2935 samples, validate on 333 samples\n",
      "Epoch 1/50\n",
      "2935/2935 [==============================] - 21s 7ms/step - loss: 0.0046 - acc: 0.3970 - val_loss: 0.0046 - val_acc: 0.4170\n",
      "Epoch 2/50\n",
      "2935/2935 [==============================] - 21s 7ms/step - loss: 0.0044 - acc: 0.4097 - val_loss: 0.0045 - val_acc: 0.4245\n",
      "Epoch 3/50\n",
      "2935/2935 [==============================] - 21s 7ms/step - loss: 0.0043 - acc: 0.4138 - val_loss: 0.0044 - val_acc: 0.4282\n",
      "Epoch 4/50\n",
      "2935/2935 [==============================] - 21s 7ms/step - loss: 0.0042 - acc: 0.4242 - val_loss: 0.0043 - val_acc: 0.3930\n",
      "Epoch 5/50\n",
      "2935/2935 [==============================] - 21s 7ms/step - loss: 0.0041 - acc: 0.4273 - val_loss: 0.0043 - val_acc: 0.4511\n",
      "Epoch 6/50\n",
      "2935/2935 [==============================] - 21s 7ms/step - loss: 0.0040 - acc: 0.4344 - val_loss: 0.0042 - val_acc: 0.3932\n",
      "Epoch 7/50\n",
      "2935/2935 [==============================] - 21s 7ms/step - loss: 0.0040 - acc: 0.4361 - val_loss: 0.0041 - val_acc: 0.4113\n",
      "Epoch 8/50\n",
      "2935/2935 [==============================] - 21s 7ms/step - loss: 0.0039 - acc: 0.4382 - val_loss: 0.0040 - val_acc: 0.4545\n",
      "Epoch 9/50\n",
      "2935/2935 [==============================] - 21s 7ms/step - loss: 0.0039 - acc: 0.4439 - val_loss: 0.0041 - val_acc: 0.4541\n",
      "Epoch 10/50\n",
      "2935/2935 [==============================] - 21s 7ms/step - loss: 0.0038 - acc: 0.4446 - val_loss: 0.0040 - val_acc: 0.4346\n",
      "Epoch 11/50\n",
      "2935/2935 [==============================] - 21s 7ms/step - loss: 0.0038 - acc: 0.4462 - val_loss: 0.0039 - val_acc: 0.4612\n",
      "Epoch 12/50\n",
      "2935/2935 [==============================] - 21s 7ms/step - loss: 0.0038 - acc: 0.4498 - val_loss: 0.0039 - val_acc: 0.4107\n",
      "Epoch 13/50\n",
      "2935/2935 [==============================] - 21s 7ms/step - loss: 0.0037 - acc: 0.4478 - val_loss: 0.0038 - val_acc: 0.4593\n",
      "Epoch 14/50\n",
      "2935/2935 [==============================] - 21s 7ms/step - loss: 0.0037 - acc: 0.4480 - val_loss: 0.0039 - val_acc: 0.4387\n",
      "Epoch 15/50\n",
      "2935/2935 [==============================] - 21s 7ms/step - loss: 0.0037 - acc: 0.4558 - val_loss: 0.0039 - val_acc: 0.4230\n",
      "Epoch 16/50\n",
      "2935/2935 [==============================] - 21s 7ms/step - loss: 0.0037 - acc: 0.4525 - val_loss: 0.0038 - val_acc: 0.4536\n",
      "Epoch 17/50\n",
      "2935/2935 [==============================] - 21s 7ms/step - loss: 0.0036 - acc: 0.4514 - val_loss: 0.0038 - val_acc: 0.4589\n",
      "Epoch 18/50\n",
      "2935/2935 [==============================] - 21s 7ms/step - loss: 0.0036 - acc: 0.4513 - val_loss: 0.0038 - val_acc: 0.4657\n",
      "Epoch 19/50\n",
      "2935/2935 [==============================] - 21s 7ms/step - loss: 0.0036 - acc: 0.4552 - val_loss: 0.0037 - val_acc: 0.4606\n",
      "Epoch 20/50\n",
      "2935/2935 [==============================] - 21s 7ms/step - loss: 0.0036 - acc: 0.4602 - val_loss: 0.0038 - val_acc: 0.4362\n",
      "Epoch 21/50\n",
      "2935/2935 [==============================] - 21s 7ms/step - loss: 0.0036 - acc: 0.4616 - val_loss: 0.0037 - val_acc: 0.4439\n",
      "Epoch 22/50\n",
      "2935/2935 [==============================] - 21s 7ms/step - loss: 0.0035 - acc: 0.4595 - val_loss: 0.0037 - val_acc: 0.4618\n",
      "Epoch 23/50\n",
      "2935/2935 [==============================] - 21s 7ms/step - loss: 0.0035 - acc: 0.4582 - val_loss: 0.0037 - val_acc: 0.4462\n",
      "Epoch 24/50\n",
      "2935/2935 [==============================] - 21s 7ms/step - loss: 0.0035 - acc: 0.4636 - val_loss: 0.0037 - val_acc: 0.4576\n",
      "Epoch 25/50\n",
      "2935/2935 [==============================] - 21s 7ms/step - loss: 0.0035 - acc: 0.4642 - val_loss: 0.0037 - val_acc: 0.4665\n",
      "Epoch 26/50\n",
      "2935/2935 [==============================] - 21s 7ms/step - loss: 0.0035 - acc: 0.4619 - val_loss: 0.0037 - val_acc: 0.4522\n",
      "Epoch 27/50\n",
      "2935/2935 [==============================] - 21s 7ms/step - loss: 0.0035 - acc: 0.4615 - val_loss: 0.0036 - val_acc: 0.4559\n",
      "Epoch 28/50\n",
      "2935/2935 [==============================] - 21s 7ms/step - loss: 0.0034 - acc: 0.4611 - val_loss: 0.0036 - val_acc: 0.4362\n",
      "Epoch 29/50\n",
      "2935/2935 [==============================] - 21s 7ms/step - loss: 0.0034 - acc: 0.4654 - val_loss: 0.0037 - val_acc: 0.4589\n",
      "Epoch 30/50\n",
      "2935/2935 [==============================] - 21s 7ms/step - loss: 0.0034 - acc: 0.4641 - val_loss: 0.0036 - val_acc: 0.4450\n",
      "Epoch 31/50\n",
      "2935/2935 [==============================] - 21s 7ms/step - loss: 0.0034 - acc: 0.4646 - val_loss: 0.0036 - val_acc: 0.4552\n",
      "Epoch 32/50\n",
      "2935/2935 [==============================] - 21s 7ms/step - loss: 0.0034 - acc: 0.4639 - val_loss: 0.0036 - val_acc: 0.4552\n",
      "Epoch 33/50\n",
      "2935/2935 [==============================] - 21s 7ms/step - loss: 0.0034 - acc: 0.4670 - val_loss: 0.0036 - val_acc: 0.4455\n",
      "Epoch 34/50\n",
      "2935/2935 [==============================] - 21s 7ms/step - loss: 0.0034 - acc: 0.4638 - val_loss: 0.0036 - val_acc: 0.4607\n",
      "Epoch 35/50\n",
      "2935/2935 [==============================] - 21s 7ms/step - loss: 0.0034 - acc: 0.4631 - val_loss: 0.0036 - val_acc: 0.4540\n",
      "Epoch 36/50\n",
      "2935/2935 [==============================] - 21s 7ms/step - loss: 0.0034 - acc: 0.4679 - val_loss: 0.0036 - val_acc: 0.4518\n",
      "Epoch 37/50\n",
      "2935/2935 [==============================] - 21s 7ms/step - loss: 0.0034 - acc: 0.4727 - val_loss: 0.0036 - val_acc: 0.4394\n",
      "Epoch 38/50\n",
      "2935/2935 [==============================] - 21s 7ms/step - loss: 0.0033 - acc: 0.4649 - val_loss: 0.0036 - val_acc: 0.4667\n",
      "Epoch 39/50\n",
      "2935/2935 [==============================] - 21s 7ms/step - loss: 0.0033 - acc: 0.4667 - val_loss: 0.0035 - val_acc: 0.4303\n",
      "Epoch 40/50\n",
      "2935/2935 [==============================] - 21s 7ms/step - loss: 0.0033 - acc: 0.4725 - val_loss: 0.0035 - val_acc: 0.4664\n",
      "Epoch 41/50\n",
      "2935/2935 [==============================] - 21s 7ms/step - loss: 0.0033 - acc: 0.4677 - val_loss: 0.0035 - val_acc: 0.4481\n",
      "Epoch 42/50\n",
      "2935/2935 [==============================] - 21s 7ms/step - loss: 0.0033 - acc: 0.4685 - val_loss: 0.0035 - val_acc: 0.4603\n",
      "Epoch 43/50\n",
      "2935/2935 [==============================] - 21s 7ms/step - loss: 0.0033 - acc: 0.4767 - val_loss: 0.0035 - val_acc: 0.4592\n",
      "Epoch 44/50\n",
      "2935/2935 [==============================] - 21s 7ms/step - loss: 0.0033 - acc: 0.4706 - val_loss: 0.0035 - val_acc: 0.4641\n",
      "Epoch 45/50\n",
      "2935/2935 [==============================] - 21s 7ms/step - loss: 0.0033 - acc: 0.4757 - val_loss: 0.0035 - val_acc: 0.4446\n",
      "Epoch 46/50\n",
      "2935/2935 [==============================] - 21s 7ms/step - loss: 0.0033 - acc: 0.4741 - val_loss: 0.0035 - val_acc: 0.4526\n",
      "Epoch 47/50\n",
      "2935/2935 [==============================] - 21s 7ms/step - loss: 0.0033 - acc: 0.4736 - val_loss: 0.0035 - val_acc: 0.4593\n",
      "Epoch 48/50\n",
      "2935/2935 [==============================] - 21s 7ms/step - loss: 0.0033 - acc: 0.4760 - val_loss: 0.0035 - val_acc: 0.4706\n",
      "Epoch 49/50\n",
      "2935/2935 [==============================] - 21s 7ms/step - loss: 0.0032 - acc: 0.4696 - val_loss: 0.0035 - val_acc: 0.4911\n",
      "Epoch 50/50\n",
      "2935/2935 [==============================] - 22s 7ms/step - loss: 0.0032 - acc: 0.4715 - val_loss: 0.0035 - val_acc: 0.4483\n",
      "Saved Keras model to ./models/rnn_v1.h5\n"
     ]
    }
   ],
   "source": [
    "# Train the model each generation and show predictions against the validation\n",
    "# dataset.\n",
    "\n",
    "model.fit(input_train, input_train,\n",
    "                epochs=50,\n",
    "                batch_size=32,\n",
    "                shuffle=True,\n",
    "                validation_data=(input_test, input_test),\n",
    "                callbacks=[TensorBoard(log_dir='/tmp/rnn')])\n",
    "\n",
    "MODEL_RNN_V1_FILE = './models/rnn_v1.h5'\n",
    "model.save(MODEL_RNN_V1_FILE)# creates a HDF5 file\n",
    "print(\"Saved Keras model to\", MODEL_RNN_V1_FILE)"
   ]
  },
  {
   "cell_type": "code",
   "execution_count": 5,
   "metadata": {},
   "outputs": [],
   "source": [
    "MODEL_RNN_V1_FILE = './models/rnn_v1.h5'\n",
    "model = load_model(MODEL_RNN_V1_FILE)"
   ]
  },
  {
   "cell_type": "code",
   "execution_count": 39,
   "metadata": {},
   "outputs": [
    {
     "name": "stdout",
     "output_type": "stream",
     "text": [
      "(333, 96, 128)\n"
     ]
    }
   ],
   "source": [
    "# Run test inputs through the autoencoder\n",
    "decoded_test = model.predict(input_test)\n",
    "print(decoded_test.shape)"
   ]
  },
  {
   "cell_type": "code",
   "execution_count": 41,
   "metadata": {},
   "outputs": [
    {
     "name": "stdout",
     "output_type": "stream",
     "text": [
      "(96, 128)\n",
      "(96, 128)\n",
      "(96, 128)\n"
     ]
    },
    {
     "ename": "ValueError",
     "evalue": "data byte must be in range 0..127",
     "output_type": "error",
     "traceback": [
      "\u001b[0;31m---------------------------------------------------------------------------\u001b[0m",
      "\u001b[0;31mValueError\u001b[0m                                Traceback (most recent call last)",
      "\u001b[0;32m<ipython-input-41-539ddc14e404>\u001b[0m in \u001b[0;36m<module>\u001b[0;34m()\u001b[0m\n\u001b[1;32m     27\u001b[0m \u001b[0;31m# pianoroll_utils.playPianoroll(sample_full)\u001b[0m\u001b[0;34m\u001b[0m\u001b[0;34m\u001b[0m\u001b[0m\n\u001b[1;32m     28\u001b[0m \u001b[0;31m# pianoroll_utils.playPianoroll(sample_output)\u001b[0m\u001b[0;34m\u001b[0m\u001b[0;34m\u001b[0m\u001b[0m\n\u001b[0;32m---> 29\u001b[0;31m \u001b[0mpianoroll_utils\u001b[0m\u001b[0;34m.\u001b[0m\u001b[0mplayPianoroll_events\u001b[0m\u001b[0;34m(\u001b[0m\u001b[0msample_output\u001b[0m\u001b[0;34m.\u001b[0m\u001b[0mswapaxes\u001b[0m\u001b[0;34m(\u001b[0m\u001b[0;36m0\u001b[0m\u001b[0;34m,\u001b[0m\u001b[0;36m1\u001b[0m\u001b[0;34m)\u001b[0m\u001b[0;34m)\u001b[0m\u001b[0;34m\u001b[0m\u001b[0m\n\u001b[0m\u001b[1;32m     30\u001b[0m \u001b[0;34m\u001b[0m\u001b[0m\n",
      "\u001b[0;32m/media/junshern/s_drive/FYP/comper/pianoroll_utils.py\u001b[0m in \u001b[0;36mplayPianoroll_events\u001b[0;34m(pianoroll)\u001b[0m\n\u001b[1;32m     51\u001b[0m \u001b[0;34m\u001b[0m\u001b[0m\n\u001b[1;32m     52\u001b[0m \u001b[0;32mdef\u001b[0m \u001b[0mplayPianoroll_events\u001b[0m\u001b[0;34m(\u001b[0m\u001b[0mpianoroll\u001b[0m\u001b[0;34m)\u001b[0m\u001b[0;34m:\u001b[0m\u001b[0;34m\u001b[0m\u001b[0m\n\u001b[0;32m---> 53\u001b[0;31m     \u001b[0;32mreturn\u001b[0m \u001b[0mplay_midi_events\u001b[0m\u001b[0;34m(\u001b[0m\u001b[0mpianoroll_2_events\u001b[0m\u001b[0;34m(\u001b[0m\u001b[0mpianoroll\u001b[0m\u001b[0;34m)\u001b[0m\u001b[0;34m)\u001b[0m\u001b[0;34m\u001b[0m\u001b[0m\n\u001b[0m\u001b[1;32m     54\u001b[0m \u001b[0;34m\u001b[0m\u001b[0m\n\u001b[1;32m     55\u001b[0m \u001b[0;32mdef\u001b[0m \u001b[0mplay_midi_events\u001b[0m\u001b[0;34m(\u001b[0m\u001b[0mevents\u001b[0m\u001b[0;34m)\u001b[0m\u001b[0;34m:\u001b[0m\u001b[0;34m\u001b[0m\u001b[0m\n",
      "\u001b[0;32m/media/junshern/s_drive/FYP/comper/pianoroll_utils.py\u001b[0m in \u001b[0;36mpianoroll_2_events\u001b[0;34m(pianoroll)\u001b[0m\n\u001b[1;32m     98\u001b[0m             \u001b[0mvelocity\u001b[0m \u001b[0;34m=\u001b[0m \u001b[0mnp\u001b[0m\u001b[0;34m.\u001b[0m\u001b[0mmean\u001b[0m\u001b[0;34m(\u001b[0m\u001b[0mclipped\u001b[0m\u001b[0;34m[\u001b[0m\u001b[0mnote_on\u001b[0m\u001b[0;34m:\u001b[0m\u001b[0mnote_offs\u001b[0m\u001b[0;34m[\u001b[0m\u001b[0midx\u001b[0m\u001b[0;34m]\u001b[0m\u001b[0;34m,\u001b[0m \u001b[0mpitch\u001b[0m\u001b[0;34m]\u001b[0m\u001b[0;34m)\u001b[0m\u001b[0;34m\u001b[0m\u001b[0m\n\u001b[1;32m     99\u001b[0m             \u001b[0;31m# Create message events\u001b[0m\u001b[0;34m\u001b[0m\u001b[0;34m\u001b[0m\u001b[0m\n\u001b[0;32m--> 100\u001b[0;31m             \u001b[0mon_msg\u001b[0m \u001b[0;34m=\u001b[0m \u001b[0mmido\u001b[0m\u001b[0;34m.\u001b[0m\u001b[0mMessage\u001b[0m\u001b[0;34m(\u001b[0m\u001b[0;34m'note_on'\u001b[0m\u001b[0;34m,\u001b[0m \u001b[0mnote\u001b[0m\u001b[0;34m=\u001b[0m\u001b[0mpitch\u001b[0m\u001b[0;34m,\u001b[0m \u001b[0mvelocity\u001b[0m\u001b[0;34m=\u001b[0m\u001b[0mint\u001b[0m\u001b[0;34m(\u001b[0m\u001b[0mvelocity\u001b[0m\u001b[0;34m)\u001b[0m\u001b[0;34m,\u001b[0m \u001b[0mtime\u001b[0m\u001b[0;34m=\u001b[0m\u001b[0;36m0\u001b[0m\u001b[0;34m)\u001b[0m\u001b[0;34m\u001b[0m\u001b[0m\n\u001b[0m\u001b[1;32m    101\u001b[0m             \u001b[0mevents\u001b[0m\u001b[0;34m[\u001b[0m\u001b[0mnote_ons\u001b[0m\u001b[0;34m[\u001b[0m\u001b[0midx\u001b[0m\u001b[0;34m]\u001b[0m\u001b[0;34m]\u001b[0m\u001b[0;34m.\u001b[0m\u001b[0mappend\u001b[0m\u001b[0;34m(\u001b[0m\u001b[0mon_msg\u001b[0m\u001b[0;34m)\u001b[0m\u001b[0;34m\u001b[0m\u001b[0m\n\u001b[1;32m    102\u001b[0m             \u001b[0;32mif\u001b[0m \u001b[0mnote_offs\u001b[0m\u001b[0;34m[\u001b[0m\u001b[0midx\u001b[0m\u001b[0;34m]\u001b[0m \u001b[0;34m<\u001b[0m \u001b[0;36m96\u001b[0m\u001b[0;34m:\u001b[0m\u001b[0;34m\u001b[0m\u001b[0m\n",
      "\u001b[0;32m/home/junshern/Scripts/fyp-virtualenv/local/lib/python2.7/site-packages/mido/messages/messages.pyc\u001b[0m in \u001b[0;36m__init__\u001b[0;34m(self, type, **args)\u001b[0m\n\u001b[1;32m     86\u001b[0m         \u001b[0;32mif\u001b[0m \u001b[0mtype\u001b[0m \u001b[0;34m==\u001b[0m \u001b[0;34m'sysex'\u001b[0m\u001b[0;34m:\u001b[0m\u001b[0;34m\u001b[0m\u001b[0m\n\u001b[1;32m     87\u001b[0m             \u001b[0mmsgdict\u001b[0m\u001b[0;34m[\u001b[0m\u001b[0;34m'data'\u001b[0m\u001b[0;34m]\u001b[0m \u001b[0;34m=\u001b[0m \u001b[0mSysexData\u001b[0m\u001b[0;34m(\u001b[0m\u001b[0mconvert_py2_bytes\u001b[0m\u001b[0;34m(\u001b[0m\u001b[0mmsgdict\u001b[0m\u001b[0;34m[\u001b[0m\u001b[0;34m'data'\u001b[0m\u001b[0;34m]\u001b[0m\u001b[0;34m)\u001b[0m\u001b[0;34m)\u001b[0m\u001b[0;34m\u001b[0m\u001b[0m\n\u001b[0;32m---> 88\u001b[0;31m         \u001b[0mcheck_msgdict\u001b[0m\u001b[0;34m(\u001b[0m\u001b[0mmsgdict\u001b[0m\u001b[0;34m)\u001b[0m\u001b[0;34m\u001b[0m\u001b[0m\n\u001b[0m\u001b[1;32m     89\u001b[0m         \u001b[0mvars\u001b[0m\u001b[0;34m(\u001b[0m\u001b[0mself\u001b[0m\u001b[0;34m)\u001b[0m\u001b[0;34m.\u001b[0m\u001b[0mupdate\u001b[0m\u001b[0;34m(\u001b[0m\u001b[0mmsgdict\u001b[0m\u001b[0;34m)\u001b[0m\u001b[0;34m\u001b[0m\u001b[0m\n\u001b[1;32m     90\u001b[0m \u001b[0;34m\u001b[0m\u001b[0m\n",
      "\u001b[0;32m/home/junshern/Scripts/fyp-virtualenv/local/lib/python2.7/site-packages/mido/messages/checks.pyc\u001b[0m in \u001b[0;36mcheck_msgdict\u001b[0;34m(msgdict)\u001b[0m\n\u001b[1;32m     96\u001b[0m                 '{} message has no attribute {}'.format(spec['type'], name))\n\u001b[1;32m     97\u001b[0m \u001b[0;34m\u001b[0m\u001b[0m\n\u001b[0;32m---> 98\u001b[0;31m         \u001b[0mcheck_value\u001b[0m\u001b[0;34m(\u001b[0m\u001b[0mname\u001b[0m\u001b[0;34m,\u001b[0m \u001b[0mvalue\u001b[0m\u001b[0;34m)\u001b[0m\u001b[0;34m\u001b[0m\u001b[0m\n\u001b[0m",
      "\u001b[0;32m/home/junshern/Scripts/fyp-virtualenv/local/lib/python2.7/site-packages/mido/messages/checks.pyc\u001b[0m in \u001b[0;36mcheck_value\u001b[0;34m(name, value)\u001b[0m\n\u001b[1;32m     83\u001b[0m \u001b[0;34m\u001b[0m\u001b[0m\n\u001b[1;32m     84\u001b[0m \u001b[0;32mdef\u001b[0m \u001b[0mcheck_value\u001b[0m\u001b[0;34m(\u001b[0m\u001b[0mname\u001b[0m\u001b[0;34m,\u001b[0m \u001b[0mvalue\u001b[0m\u001b[0;34m)\u001b[0m\u001b[0;34m:\u001b[0m\u001b[0;34m\u001b[0m\u001b[0m\n\u001b[0;32m---> 85\u001b[0;31m     \u001b[0m_CHECKS\u001b[0m\u001b[0;34m[\u001b[0m\u001b[0mname\u001b[0m\u001b[0;34m]\u001b[0m\u001b[0;34m(\u001b[0m\u001b[0mvalue\u001b[0m\u001b[0;34m)\u001b[0m\u001b[0;34m\u001b[0m\u001b[0m\n\u001b[0m\u001b[1;32m     86\u001b[0m \u001b[0;34m\u001b[0m\u001b[0m\n\u001b[1;32m     87\u001b[0m \u001b[0;34m\u001b[0m\u001b[0m\n",
      "\u001b[0;32m/home/junshern/Scripts/fyp-virtualenv/local/lib/python2.7/site-packages/mido/messages/checks.pyc\u001b[0m in \u001b[0;36mcheck_data_byte\u001b[0;34m(value)\u001b[0m\n\u001b[1;32m     55\u001b[0m         \u001b[0;32mraise\u001b[0m \u001b[0mTypeError\u001b[0m\u001b[0;34m(\u001b[0m\u001b[0;34m'data byte must be int'\u001b[0m\u001b[0;34m)\u001b[0m\u001b[0;34m\u001b[0m\u001b[0m\n\u001b[1;32m     56\u001b[0m     \u001b[0;32melif\u001b[0m \u001b[0;32mnot\u001b[0m \u001b[0;36m0\u001b[0m \u001b[0;34m<=\u001b[0m \u001b[0mvalue\u001b[0m \u001b[0;34m<=\u001b[0m \u001b[0;36m127\u001b[0m\u001b[0;34m:\u001b[0m\u001b[0;34m\u001b[0m\u001b[0m\n\u001b[0;32m---> 57\u001b[0;31m         \u001b[0;32mraise\u001b[0m \u001b[0mValueError\u001b[0m\u001b[0;34m(\u001b[0m\u001b[0;34m'data byte must be in range 0..127'\u001b[0m\u001b[0;34m)\u001b[0m\u001b[0;34m\u001b[0m\u001b[0m\n\u001b[0m\u001b[1;32m     58\u001b[0m \u001b[0;34m\u001b[0m\u001b[0m\n\u001b[1;32m     59\u001b[0m \u001b[0;34m\u001b[0m\u001b[0m\n",
      "\u001b[0;31mValueError\u001b[0m: data byte must be in range 0..127"
     ]
    },
    {
     "data": {
      "image/png": "[encoded data removed]",
      "text/plain": [
       "<Figure size 720x432 with 3 Axes>"
      ]
     },
     "metadata": {},
     "output_type": "display_data"
    }
   ],
   "source": [
    "# Inspect a random input-output sample\n",
    "sample_index = np.random.randint(len(input_test))\n",
    "sample_input = input_test[sample_index] * 127\n",
    "sample_full = full_test[sample_index] * 127\n",
    "sample_output = decoded_test[sample_index] * 127\n",
    "\n",
    "# Set all velocity values < threshold to zero\n",
    "# sample_output[sample_output < 10] = 0\n",
    "\n",
    "print(sample_input.shape)\n",
    "print(sample_full.shape)\n",
    "print(sample_output.shape)\n",
    "\n",
    "# Plot comparison\n",
    "fig, ax = plt.subplots(1,3)\n",
    "fig.set_size_inches(10, 6, forward=True)\n",
    "ax[0].set_title('Input')\n",
    "ax[1].set_title('Target')\n",
    "ax[2].set_title('Output')\n",
    "pypianoroll.plot_pianoroll(ax[0], sample_input, beat_resolution=24, cmap='inferno')\n",
    "pypianoroll.plot_pianoroll(ax[1], sample_full, beat_resolution=24, cmap='inferno')\n",
    "pypianoroll.plot_pianoroll(ax[2], sample_output, beat_resolution=24, cmap='inferno')\n",
    "fig.tight_layout()\n",
    "\n",
    "# Play comparison\n",
    "pianoroll_utils.playPianoroll(sample_input)\n",
    "# pianoroll_utils.playPianoroll(sample_full)\n",
    "# pianoroll_utils.playPianoroll(sample_output)\n",
    "pianoroll_utils.playPianoroll_events(sample_output.swapaxes(0,1))\n",
    "\n"
   ]
  }
 ],
 "metadata": {
  "kernelspec": {
   "display_name": "Python 2",
   "language": "python",
   "name": "python2"
  },
  "language_info": {
   "codemirror_mode": {
    "name": "ipython",
    "version": 2
   },
   "file_extension": ".py",
   "mimetype": "text/x-python",
   "name": "python",
   "nbconvert_exporter": "python",
   "pygments_lexer": "ipython2",
   "version": "2.7.12"
  }
 },
 "nbformat": 4,
 "nbformat_minor": 2
}
