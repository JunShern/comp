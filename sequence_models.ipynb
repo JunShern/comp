{
 "cells": [
  {
   "cell_type": "markdown",
   "metadata": {},
   "source": [
    "# Sequence models\n",
    "\n",
    "Finally, we arrive a sequence models. Hopefully this will serve us better than the convolutional approach (but why would it?)."
   ]
  },
  {
   "cell_type": "markdown",
   "metadata": {},
   "source": [
    "## 1. RNN for input-output with equal length\n",
    "```\n",
    "Input: pianoroll-unit (128, 96)\n",
    "Output: pianoroll-unit (128, 96)\n",
    "```\n",
    "\n",
    "Code adapted from: https://github.com/keras-team/keras/blob/master/examples/addition_rnn.py"
   ]
  },
  {
   "cell_type": "code",
   "execution_count": 1,
   "metadata": {},
   "outputs": [
    {
     "name": "stderr",
     "output_type": "stream",
     "text": [
      "Using TensorFlow backend.\n"
     ]
    }
   ],
   "source": [
    "import os, shutil\n",
    "import random\n",
    "import sys\n",
    "import numpy as np\n",
    "import pypianoroll\n",
    "from matplotlib import pyplot as plt\n",
    "import cPickle as pickle\n",
    "import pianoroll_utils\n",
    "\n",
    "from keras.layers import Input, Dense, Conv2D, Conv2DTranspose, BatchNormalization, MaxPooling2D, UpSampling2D\n",
    "from keras.models import Model\n",
    "from keras.callbacks import TensorBoard\n",
    "from keras.models import load_model\n",
    "\n",
    "PICKLE_FILE = './pickle_jar/norm_units_50_songs.pkl'"
   ]
  },
  {
   "cell_type": "code",
   "execution_count": 2,
   "metadata": {},
   "outputs": [
    {
     "name": "stdout",
     "output_type": "stream",
     "text": [
      "('Loaded', 3831, 'units from', './pickle_jar/norm_units_50_songs.pkl')\n",
      "('input_units.shape: ', (3831, 128, 96))\n",
      "('comp_units.shape: ', (3831, 128, 96))\n",
      "('full_units.shape: ', (3831, 128, 96))\n",
      "('Train:', (3433, 96, 128))\n",
      "('Test:', (398, 96, 128))\n"
     ]
    }
   ],
   "source": [
    "units = {}\n",
    "with open(PICKLE_FILE, 'rb') as infile:\n",
    "    units = pickle.load( infile )\n",
    "units['full'] = units['input'] + units['comp']\n",
    "\n",
    "# Print info\n",
    "print(\"Loaded\", units[\"input\"].shape[0], \"units from\", PICKLE_FILE)\n",
    "print(\"input_units.shape: \", units[\"input\"].shape)\n",
    "print(\"comp_units.shape: \", units[\"comp\"].shape)\n",
    "print(\"full_units.shape: \", units[\"full\"].shape)\n",
    "\n",
    "# Create an array of True (train) and False (test) to split the dataset\n",
    "train_test_indices = np.random.choice([True, False], size=len(units[\"input\"]), p=[.9, .1])\n",
    "# Training data\n",
    "input_train = units[\"input\"][train_test_indices, ...].swapaxes(1,2)\n",
    "comp_train = units[\"comp\"][train_test_indices, ...].swapaxes(1,2)\n",
    "full_train = units[\"full\"][train_test_indices, ...].swapaxes(1,2)\n",
    "# Testing data\n",
    "input_test = units[\"input\"][np.invert(train_test_indices), ...].swapaxes(1,2)\n",
    "comp_test = units[\"comp\"][np.invert(train_test_indices), ...].swapaxes(1,2)\n",
    "full_test = units[\"full\"][np.invert(train_test_indices), ...].swapaxes(1,2)\n",
    "print(\"Train:\", input_train.shape)\n",
    "print(\"Test:\", input_test.shape)"
   ]
  },
  {
   "cell_type": "code",
   "execution_count": 3,
   "metadata": {},
   "outputs": [
    {
     "name": "stdout",
     "output_type": "stream",
     "text": [
      "Build model...\n",
      "_________________________________________________________________\n",
      "Layer (type)                 Output Shape              Param #   \n",
      "=================================================================\n",
      "lstm_1 (LSTM)                (None, 128)               131584    \n",
      "_________________________________________________________________\n",
      "repeat_vector_1 (RepeatVecto (None, 96, 128)           0         \n",
      "_________________________________________________________________\n",
      "lstm_2 (LSTM)                (None, 96, 128)           131584    \n",
      "_________________________________________________________________\n",
      "time_distributed_1 (TimeDist (None, 96, 128)           16512     \n",
      "_________________________________________________________________\n",
      "activation_1 (Activation)    (None, 96, 128)           0         \n",
      "=================================================================\n",
      "Total params: 279,680\n",
      "Trainable params: 279,680\n",
      "Non-trainable params: 0\n",
      "_________________________________________________________________\n"
     ]
    }
   ],
   "source": [
    "from __future__ import print_function\n",
    "from keras.models import Sequential\n",
    "from keras import layers\n",
    "import numpy as np\n",
    "from six.moves import range\n",
    "\n",
    "# Parameters for the model and dataset.\n",
    "TRAINING_SIZE = 50000\n",
    "NUM_TICKS = 96\n",
    "NUM_PITCHES = 128\n",
    "REVERSE = True\n",
    "\n",
    "MAXLEN = NUM_TICKS\n",
    "\n",
    "# Try replacing GRU, or SimpleRNN.\n",
    "RNN = layers.LSTM\n",
    "HIDDEN_SIZE = 128\n",
    "LAYERS = 1\n",
    "\n",
    "print('Build model...')\n",
    "model = Sequential()\n",
    "# \"Encode\" the input sequence using an RNN, producing an output of HIDDEN_SIZE.\n",
    "# Note: In a situation where your input sequences have a variable length,\n",
    "# use input_shape=(None, num_feature).\n",
    "model.add(RNN(HIDDEN_SIZE, input_shape=(MAXLEN, NUM_PITCHES)))\n",
    "# As the decoder RNN's input, repeatedly provide with the last hidden state of\n",
    "# RNN for each time step. Repeat 'DIGITS + 1' times as that's the maximum\n",
    "# length of output, e.g., when DIGITS=3, max output is 999+999=1998.\n",
    "model.add(layers.RepeatVector(MAXLEN))\n",
    "# The decoder RNN could be multiple layers stacked or a single layer.\n",
    "for _ in range(LAYERS):\n",
    "    # By setting return_sequences to True, return not only the last output but\n",
    "    # all the outputs so far in the form of (num_samples, timesteps,\n",
    "    # output_dim). This is necessary as TimeDistributed in the below expects\n",
    "    # the first dimension to be the timesteps.\n",
    "    model.add(RNN(HIDDEN_SIZE, return_sequences=True))\n",
    "\n",
    "# Apply a dense layer to the every temporal slice of an input. For each of step\n",
    "# of the output sequence, decide which character should be chosen.\n",
    "model.add(layers.TimeDistributed(layers.Dense(NUM_PITCHES)))\n",
    "model.add(layers.Activation('relu'))\n",
    "model.compile(loss='mean_squared_error',\n",
    "              optimizer='adam',\n",
    "              metrics=['accuracy'])\n",
    "model.summary()"
   ]
  },
  {
   "cell_type": "code",
   "execution_count": 4,
   "metadata": {},
   "outputs": [
    {
     "name": "stdout",
     "output_type": "stream",
     "text": [
      "WARNING:tensorflow:From /home/human/tensorflow/local/lib/python2.7/site-packages/tensorflow/contrib/learn/python/learn/datasets/base.py:198: retry (from tensorflow.contrib.learn.python.learn.datasets.base) is deprecated and will be removed in a future version.\n",
      "Instructions for updating:\n",
      "Use the retry module or similar alternatives.\n",
      "Train on 3433 samples, validate on 398 samples\n",
      "Epoch 1/50\n",
      "3433/3433 [==============================] - 30s 9ms/step - loss: 0.0058 - acc: 0.2666 - val_loss: 0.0049 - val_acc: 0.3286\n",
      "Epoch 2/50\n",
      "3433/3433 [==============================] - 29s 8ms/step - loss: 0.0044 - acc: 0.3638 - val_loss: 0.0044 - val_acc: 0.3616\n",
      "Epoch 3/50\n",
      "3433/3433 [==============================] - 29s 8ms/step - loss: 0.0041 - acc: 0.3969 - val_loss: 0.0042 - val_acc: 0.3625\n",
      "Epoch 4/50\n",
      "3433/3433 [==============================] - 29s 8ms/step - loss: 0.0039 - acc: 0.4053 - val_loss: 0.0041 - val_acc: 0.4004\n",
      "Epoch 5/50\n",
      "3433/3433 [==============================] - 29s 8ms/step - loss: 0.0037 - acc: 0.4117 - val_loss: 0.0039 - val_acc: 0.4092\n",
      "Epoch 6/50\n",
      "3433/3433 [==============================] - 29s 8ms/step - loss: 0.0037 - acc: 0.4179 - val_loss: 0.0039 - val_acc: 0.4028\n",
      "Epoch 7/50\n",
      "3433/3433 [==============================] - 29s 8ms/step - loss: 0.0036 - acc: 0.4178 - val_loss: 0.0040 - val_acc: 0.4128\n",
      "Epoch 8/50\n",
      "3433/3433 [==============================] - 29s 8ms/step - loss: 0.0035 - acc: 0.4267 - val_loss: 0.0037 - val_acc: 0.4014\n",
      "Epoch 9/50\n",
      "3433/3433 [==============================] - 29s 8ms/step - loss: 0.0035 - acc: 0.4189 - val_loss: 0.0037 - val_acc: 0.4128\n",
      "Epoch 10/50\n",
      "3433/3433 [==============================] - 29s 8ms/step - loss: 0.0034 - acc: 0.4358 - val_loss: 0.0037 - val_acc: 0.4025\n",
      "Epoch 11/50\n",
      "3433/3433 [==============================] - 29s 8ms/step - loss: 0.0034 - acc: 0.4236 - val_loss: 0.0036 - val_acc: 0.4126\n",
      "Epoch 12/50\n",
      "3433/3433 [==============================] - 29s 8ms/step - loss: 0.0033 - acc: 0.4357 - val_loss: 0.0037 - val_acc: 0.4244\n",
      "Epoch 13/50\n",
      "3433/3433 [==============================] - 29s 8ms/step - loss: 0.0033 - acc: 0.4296 - val_loss: 0.0035 - val_acc: 0.4163\n",
      "Epoch 14/50\n",
      "3433/3433 [==============================] - 29s 8ms/step - loss: 0.0033 - acc: 0.4401 - val_loss: 0.0036 - val_acc: 0.4334\n",
      "Epoch 15/50\n",
      "3433/3433 [==============================] - 29s 8ms/step - loss: 0.0032 - acc: 0.4355 - val_loss: 0.0035 - val_acc: 0.4000\n",
      "Epoch 16/50\n",
      "3433/3433 [==============================] - 29s 8ms/step - loss: 0.0032 - acc: 0.4337 - val_loss: 0.0034 - val_acc: 0.4278\n",
      "Epoch 17/50\n",
      "3433/3433 [==============================] - 29s 8ms/step - loss: 0.0031 - acc: 0.4466 - val_loss: 0.0034 - val_acc: 0.4308\n",
      "Epoch 18/50\n",
      "3433/3433 [==============================] - 29s 8ms/step - loss: 0.0031 - acc: 0.4466 - val_loss: 0.0034 - val_acc: 0.4312\n",
      "Epoch 19/50\n",
      "3433/3433 [==============================] - 29s 9ms/step - loss: 0.0031 - acc: 0.4419 - val_loss: 0.0034 - val_acc: 0.4129\n",
      "Epoch 20/50\n",
      "3433/3433 [==============================] - 29s 8ms/step - loss: 0.0031 - acc: 0.4446 - val_loss: 0.0034 - val_acc: 0.4295\n",
      "Epoch 21/50\n",
      "3433/3433 [==============================] - 29s 8ms/step - loss: 0.0031 - acc: 0.4401 - val_loss: 0.0034 - val_acc: 0.4322\n",
      "Epoch 22/50\n",
      "3433/3433 [==============================] - 29s 8ms/step - loss: 0.0031 - acc: 0.4441 - val_loss: 0.0034 - val_acc: 0.4277\n",
      "Epoch 23/50\n",
      "3433/3433 [==============================] - 29s 8ms/step - loss: 0.0031 - acc: 0.4488 - val_loss: 0.0033 - val_acc: 0.4500\n",
      "Epoch 24/50\n",
      "3433/3433 [==============================] - 29s 8ms/step - loss: 0.0031 - acc: 0.4430 - val_loss: 0.0033 - val_acc: 0.4021\n",
      "Epoch 25/50\n",
      "3433/3433 [==============================] - 29s 8ms/step - loss: 0.0030 - acc: 0.4465 - val_loss: 0.0033 - val_acc: 0.4081\n",
      "Epoch 26/50\n",
      "3433/3433 [==============================] - 29s 8ms/step - loss: 0.0030 - acc: 0.4477 - val_loss: 0.0033 - val_acc: 0.4422\n",
      "Epoch 27/50\n",
      "3433/3433 [==============================] - 29s 8ms/step - loss: 0.0030 - acc: 0.4472 - val_loss: 0.0032 - val_acc: 0.4402\n",
      "Epoch 28/50\n",
      "3433/3433 [==============================] - 29s 8ms/step - loss: 0.0030 - acc: 0.4555 - val_loss: 0.0033 - val_acc: 0.4256\n",
      "Epoch 29/50\n",
      "3433/3433 [==============================] - 29s 9ms/step - loss: 0.0030 - acc: 0.4542 - val_loss: 0.0033 - val_acc: 0.4410\n",
      "Epoch 30/50\n",
      "3433/3433 [==============================] - 29s 8ms/step - loss: 0.0030 - acc: 0.4438 - val_loss: 0.0032 - val_acc: 0.4380\n",
      "Epoch 31/50\n",
      "3433/3433 [==============================] - 29s 8ms/step - loss: 0.0030 - acc: 0.4482 - val_loss: 0.0033 - val_acc: 0.4000\n",
      "Epoch 32/50\n",
      "3433/3433 [==============================] - 29s 8ms/step - loss: 0.0030 - acc: 0.4523 - val_loss: 0.0032 - val_acc: 0.4235\n",
      "Epoch 33/50\n",
      "3433/3433 [==============================] - 29s 8ms/step - loss: 0.0029 - acc: 0.4500 - val_loss: 0.0032 - val_acc: 0.4264\n",
      "Epoch 34/50\n",
      "3433/3433 [==============================] - 29s 8ms/step - loss: 0.0029 - acc: 0.4476 - val_loss: 0.0033 - val_acc: 0.4403\n",
      "Epoch 35/50\n",
      "3433/3433 [==============================] - 29s 9ms/step - loss: 0.0029 - acc: 0.4488 - val_loss: 0.0032 - val_acc: 0.4326\n",
      "Epoch 36/50\n",
      "3433/3433 [==============================] - 29s 8ms/step - loss: 0.0029 - acc: 0.4595 - val_loss: 0.0032 - val_acc: 0.4344\n",
      "Epoch 37/50\n",
      "3433/3433 [==============================] - 29s 9ms/step - loss: 0.0028 - acc: 0.4578 - val_loss: 0.0032 - val_acc: 0.4297\n",
      "Epoch 38/50\n",
      "3433/3433 [==============================] - 29s 8ms/step - loss: 0.0028 - acc: 0.4692 - val_loss: 0.0031 - val_acc: 0.4424\n",
      "Epoch 39/50\n",
      "3433/3433 [==============================] - 29s 9ms/step - loss: 0.0027 - acc: 0.4683 - val_loss: 0.0030 - val_acc: 0.4563\n",
      "Epoch 40/50\n",
      "3433/3433 [==============================] - 29s 9ms/step - loss: 0.0027 - acc: 0.4698 - val_loss: 0.0031 - val_acc: 0.4436\n",
      "Epoch 41/50\n",
      "3433/3433 [==============================] - 29s 9ms/step - loss: 0.0027 - acc: 0.4706 - val_loss: 0.0029 - val_acc: 0.4584\n",
      "Epoch 42/50\n",
      "3433/3433 [==============================] - 29s 9ms/step - loss: 0.0026 - acc: 0.4820 - val_loss: 0.0029 - val_acc: 0.4509\n",
      "Epoch 43/50\n",
      "3433/3433 [==============================] - 29s 8ms/step - loss: 0.0025 - acc: 0.4799 - val_loss: 0.0029 - val_acc: 0.4606\n",
      "Epoch 44/50\n",
      "3433/3433 [==============================] - 29s 9ms/step - loss: 0.0025 - acc: 0.4856 - val_loss: 0.0028 - val_acc: 0.4495\n",
      "Epoch 45/50\n",
      "3433/3433 [==============================] - 29s 9ms/step - loss: 0.0024 - acc: 0.4891 - val_loss: 0.0027 - val_acc: 0.4733\n",
      "Epoch 46/50\n",
      "3433/3433 [==============================] - 29s 9ms/step - loss: 0.0024 - acc: 0.5032 - val_loss: 0.0027 - val_acc: 0.4618\n",
      "Epoch 47/50\n",
      "3433/3433 [==============================] - 29s 9ms/step - loss: 0.0023 - acc: 0.5081 - val_loss: 0.0027 - val_acc: 0.4822\n",
      "Epoch 48/50\n",
      "3433/3433 [==============================] - 30s 9ms/step - loss: 0.0023 - acc: 0.5042 - val_loss: 0.0026 - val_acc: 0.4897\n",
      "Epoch 49/50\n",
      "3433/3433 [==============================] - 29s 9ms/step - loss: 0.0022 - acc: 0.5121 - val_loss: 0.0026 - val_acc: 0.4852\n",
      "Epoch 50/50\n",
      "3433/3433 [==============================] - 30s 9ms/step - loss: 0.0022 - acc: 0.5142 - val_loss: 0.0026 - val_acc: 0.4837\n"
     ]
    },
    {
     "ename": "NameError",
     "evalue": "name 'autoencoder' is not defined",
     "output_type": "error",
     "traceback": [
      "\u001b[0;31m---------------------------------------------------------------------------\u001b[0m",
      "\u001b[0;31mNameError\u001b[0m                                 Traceback (most recent call last)",
      "\u001b[0;32m<ipython-input-4-32557f8c9e08>\u001b[0m in \u001b[0;36m<module>\u001b[0;34m()\u001b[0m\n\u001b[1;32m     10\u001b[0m \u001b[0;34m\u001b[0m\u001b[0m\n\u001b[1;32m     11\u001b[0m \u001b[0mMODEL_RNN_V1_FILE\u001b[0m \u001b[0;34m=\u001b[0m \u001b[0;34m'./models/rnn_v1.h5'\u001b[0m\u001b[0;34m\u001b[0m\u001b[0m\n\u001b[0;32m---> 12\u001b[0;31m \u001b[0mautoencoder\u001b[0m\u001b[0;34m.\u001b[0m\u001b[0msave\u001b[0m\u001b[0;34m(\u001b[0m\u001b[0mMODEL_RNN_V1_FILE\u001b[0m\u001b[0;34m)\u001b[0m\u001b[0;31m# creates a HDF5 file\u001b[0m\u001b[0;34m\u001b[0m\u001b[0m\n\u001b[0m\u001b[1;32m     13\u001b[0m \u001b[0;32mprint\u001b[0m\u001b[0;34m(\u001b[0m\u001b[0;34m\"Saved Keras model to\"\u001b[0m\u001b[0;34m,\u001b[0m \u001b[0mMODEL_RNN_V1_FILE\u001b[0m\u001b[0;34m)\u001b[0m\u001b[0;34m\u001b[0m\u001b[0m\n",
      "\u001b[0;31mNameError\u001b[0m: name 'autoencoder' is not defined"
     ]
    }
   ],
   "source": [
    "# Train the model each generation and show predictions against the validation\n",
    "# dataset.\n",
    "\n",
    "model.fit(input_train, input_train,\n",
    "                epochs=50,\n",
    "                batch_size=32,\n",
    "                shuffle=True,\n",
    "                validation_data=(input_test, input_test),\n",
    "                callbacks=[TensorBoard(log_dir='/tmp/rnn')])\n",
    "\n",
    "MODEL_RNN_V1_FILE = './models/rnn_v1.h5'\n",
    "model.save(MODEL_RNN_V1_FILE)# creates a HDF5 file\n",
    "print(\"Saved Keras model to\", MODEL_RNN_V1_FILE)"
   ]
  },
  {
   "cell_type": "code",
   "execution_count": 6,
   "metadata": {},
   "outputs": [],
   "source": [
    "MODEL_RNN_V1_FILE = './models/rnn_v1.h5'\n",
    "model = load_model(MODEL_RNN_V1_FILE)"
   ]
  },
  {
   "cell_type": "code",
   "execution_count": 8,
   "metadata": {},
   "outputs": [
    {
     "name": "stdout",
     "output_type": "stream",
     "text": [
      "(398, 96, 128)\n"
     ]
    }
   ],
   "source": [
    "# Run test inputs through the autoencoder\n",
    "decoded_test = model.predict(input_test)\n",
    "print(decoded_test.shape)"
   ]
  },
  {
   "cell_type": "code",
   "execution_count": 10,
   "metadata": {},
   "outputs": [
    {
     "name": "stdout",
     "output_type": "stream",
     "text": [
      "(96, 128)\n",
      "(96, 128)\n",
      "(96, 128)\n"
     ]
    },
    {
     "data": {
      "image/png": "[encoded data removed]",
      "text/plain": [
       "<Figure size 720x432 with 3 Axes>"
      ]
     },
     "metadata": {},
     "output_type": "display_data"
    }
   ],
   "source": [
    "# Inspect a random input-output sample\n",
    "sample_index = np.random.randint(len(input_test))\n",
    "sample_input = input_test[sample_index] * 127\n",
    "sample_full = full_test[sample_index] * 127\n",
    "sample_output = decoded_test[sample_index] * 127\n",
    "\n",
    "# Set all velocity values < threshold to zero\n",
    "# sample_output[sample_output < 10] = 0\n",
    "\n",
    "print(sample_input.shape)\n",
    "print(sample_full.shape)\n",
    "print(sample_output.shape)\n",
    "\n",
    "# Plot comparison\n",
    "fig, ax = plt.subplots(1,3)\n",
    "fig.set_size_inches(10, 6, forward=True)\n",
    "ax[0].set_title('Input')\n",
    "ax[1].set_title('Target')\n",
    "ax[2].set_title('Output')\n",
    "pypianoroll.plot_pianoroll(ax[0], sample_input, beat_resolution=24, cmap='inferno')\n",
    "pypianoroll.plot_pianoroll(ax[1], sample_full, beat_resolution=24, cmap='inferno')\n",
    "pypianoroll.plot_pianoroll(ax[2], sample_output, beat_resolution=24, cmap='inferno')\n",
    "fig.tight_layout()\n",
    "\n",
    "# Play comparison\n",
    "# pianoroll_utils.playPianoroll(sample_input)\n",
    "# pianoroll_utils.playPianoroll(sample_full)\n",
    "# pianoroll_utils.playPianoroll(sample_output)\n",
    "# pianoroll_utils.playPianoroll_events(sample_output.swapaxes(0,1))\n",
    "\n"
   ]
  }
 ],
 "metadata": {
  "kernelspec": {
   "display_name": "Python 2",
   "language": "python",
   "name": "python2"
  },
  "language_info": {
   "codemirror_mode": {
    "name": "ipython",
    "version": 2
   },
   "file_extension": ".py",
   "mimetype": "text/x-python",
   "name": "python",
   "nbconvert_exporter": "python",
   "pygments_lexer": "ipython2",
   "version": "2.7.12"
  }
 },
 "nbformat": 4,
 "nbformat_minor": 2
}
