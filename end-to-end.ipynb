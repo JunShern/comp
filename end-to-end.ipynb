{
 "cells": [
  {
   "cell_type": "markdown",
   "metadata": {
    "heading_collapsed": true
   },
   "source": [
    "#### README"
   ]
  },
  {
   "cell_type": "markdown",
   "metadata": {
    "hidden": true
   },
   "source": [
    "Resources:\n",
    "1. Tutorial on TimeDistributed layer: [machinelearningmastery blog](https://machinelearningmastery.com/timedistributed-layer-for-long-short-term-memory-networks-in-python/)\n",
    "2. Hints on [StackOverflow](https://stackoverflow.com/questions/47671732/keras-input-a-3-channel-image-into-lstm) about how to deal with image-LSTMs."
   ]
  },
  {
   "cell_type": "markdown",
   "metadata": {},
   "source": [
    "#### Imports and user variables"
   ]
  },
  {
   "cell_type": "code",
   "execution_count": 6,
   "metadata": {},
   "outputs": [
    {
     "name": "stdout",
     "output_type": "stream",
     "text": [
      "Imports and variable definitions successful, using 1000 files.\n"
     ]
    }
   ],
   "source": [
    "from __future__ import print_function\n",
    "%run imports_and_user_variables.py 1000"
   ]
  },
  {
   "cell_type": "code",
   "execution_count": 1,
   "metadata": {},
   "outputs": [
    {
     "name": "stderr",
     "output_type": "stream",
     "text": [
      "Using TensorFlow backend.\n"
     ]
    }
   ],
   "source": [
    "import os, shutil\n",
    "import random\n",
    "import sys\n",
    "import numpy as np\n",
    "import pypianoroll\n",
    "from matplotlib import pyplot as plt\n",
    "import cPickle as pickle\n",
    "import pianoroll_utils\n",
    "import IPython\n",
    "import h5py\n",
    "\n",
    "from keras.layers import Input, Dense, Conv2D, Conv2DTranspose, BatchNormalization, MaxPooling2D, UpSampling2D\n",
    "from keras.models import Model, Sequential\n",
    "from keras.callbacks import TensorBoard\n",
    "from keras.models import load_model\n",
    "from keras.preprocessing.sequence import TimeseriesGenerator\n",
    "from keras.layers import Activation, LSTM, RNN, Concatenate, concatenate, Dropout\n",
    "from keras import optimizers\n",
    "from keras.layers import TimeDistributed, Flatten, Reshape\n",
    "from keras.layers import merge\n",
    "\n",
    "from __future__ import print_function\n",
    "from keras.models import Sequential\n",
    "from keras import layers\n",
    "from six.moves import range\n",
    "\n",
    "NUM_FILES = 1000\n",
    "WINDOW_LENGTH = 4\n",
    "SEQ_FILE = './pickle_jar/seq_{}_songs_clipped96.h5'.format(NUM_FILES)\n",
    "MONO_SEQ_FILE = './pickle_jar/mono_seq_{}_songs_clipped96.h5'.format(NUM_FILES)\n",
    "\n",
    "# Music shape\n",
    "MIN_PITCH = 13 # C-1\n",
    "MAX_PITCH = 108 # C7 (MIDI 108)\n",
    "BEATS_PER_UNIT = 4\n",
    "NUM_TRANSPOSITIONS = 3 # Number of transpositions to perform (maximum 12)\n",
    "\n",
    "# Don't change unless you know what you're doing\n",
    "BEAT_RESOLUTION = 24 # This is set by the encoding of the lpd-5 dataset, corresponds to number of ticks per beat\n",
    "PARTITION_NOTE = 60 # Break into left- and right-accompaniments at middle C\n",
    "NUM_PITCHES = MAX_PITCH - MIN_PITCH + 1\n",
    "NUM_TICKS = BEATS_PER_UNIT * BEAT_RESOLUTION"
   ]
  },
  {
   "cell_type": "markdown",
   "metadata": {},
   "source": [
    "#### Load dataset"
   ]
  },
  {
   "cell_type": "markdown",
   "metadata": {},
   "source": [
    "##### Full input datasets"
   ]
  },
  {
   "cell_type": "code",
   "execution_count": 4,
   "metadata": {},
   "outputs": [],
   "source": [
    "from keras.utils import Sequence\n",
    "\n",
    "class TimeseriesGeneratorTwoInputs(Sequence):\n",
    "    \"\"\"Keras data reading class\n",
    "    Utility class for generating batches of temporal data.\n",
    "    This class takes in a sequence of data-points gathered at\n",
    "    equal intervals, along with time series parameters such as\n",
    "    stride, length of history, etc., to produce batches for\n",
    "    training/validation.\n",
    "    \n",
    "    Adapted from the TimeseriesGenerator class:\n",
    "    https://github.com/keras-team/keras/blob/master/keras/utils/data_utils.py#L302\n",
    "    \"\"\"\n",
    "\n",
    "    def __init__(self, data1, data2, targets, length,\n",
    "                 sampling_rate=1,\n",
    "                 stride=1,\n",
    "                 start_index=0,\n",
    "                 end_index=None,\n",
    "                 shuffle=False,\n",
    "                 reverse=False,\n",
    "                 batch_size=128):\n",
    "        self.data1 = data1\n",
    "        self.data2 = data2\n",
    "        assert len(data1) == len(data2)\n",
    "        self.targets = targets\n",
    "        self.length = length\n",
    "        self.sampling_rate = sampling_rate\n",
    "        self.stride = stride\n",
    "        self.start_index = start_index + length\n",
    "        if end_index is None:\n",
    "            end_index = len(data1) - 1\n",
    "        self.end_index = end_index\n",
    "        self.shuffle = shuffle\n",
    "        self.reverse = reverse\n",
    "        self.batch_size = batch_size\n",
    "\n",
    "        if self.start_index > self.end_index:\n",
    "            raise ValueError('`start_index+length=%i > end_index=%i` '\n",
    "                             'is disallowed, as no part of the sequence '\n",
    "                             'would be left to be used as current step.'\n",
    "                             % (self.start_index, self.end_index))\n",
    "\n",
    "    def __len__(self):\n",
    "        return int(np.ceil(\n",
    "            (self.end_index - self.start_index + 1) /\n",
    "            (self.batch_size * self.stride)))\n",
    "\n",
    "    def _empty_batch(self, num_rows):\n",
    "        samples_shape = [num_rows, self.length // self.sampling_rate]\n",
    "        samples_shape.extend(self.data1.shape[1:])\n",
    "        targets_shape = [num_rows]\n",
    "        targets_shape.extend(self.targets.shape[1:])\n",
    "        return np.empty(samples_shape), np.empty(samples_shape), np.empty(targets_shape)\n",
    "\n",
    "    def __getitem__(self, index):\n",
    "        if self.shuffle:\n",
    "            rows = np.random.randint(\n",
    "                self.start_index, self.end_index + 1, size=self.batch_size)\n",
    "        else:\n",
    "            i = self.start_index + self.batch_size * self.stride * index\n",
    "            rows = np.arange(i, min(i + self.batch_size *\n",
    "                                    self.stride, self.end_index + 1), self.stride)\n",
    "\n",
    "        samples1, samples2, targets = self._empty_batch(len(rows))\n",
    "        for j, row in enumerate(rows):\n",
    "            indices = range(rows[j] - self.length, rows[j], self.sampling_rate)\n",
    "            samples1[j] = self.data1[indices]\n",
    "            samples2[j] = self.data2[indices]\n",
    "            # targets[j] = self.targets[rows[j]] # Comp\n",
    "            targets[j] = np.clip(self.data1[rows[j]] + self.data2[rows[j]], 0, 1) # Full\n",
    "        if self.reverse:\n",
    "            return [samples1[:, ::-1, ...], samples2[:, ::-1, ...]], targets\n",
    "        return [samples1, samples2], targets"
   ]
  },
  {
   "cell_type": "code",
   "execution_count": 7,
   "metadata": {},
   "outputs": [
    {
     "name": "stdout",
     "output_type": "stream",
     "text": [
      "(23086, 96, 96, 1)\n",
      "(23086, 96, 96, 1)\n",
      "(23086, 500)\n",
      "(23086, 500)\n",
      "1716\n",
      "180\n"
     ]
    }
   ],
   "source": [
    "# Load dataset\n",
    "f = h5py.File(SEQ_FILE, 'r')\n",
    "seq_units_input = f['input_test']\n",
    "seq_units_comp = f['comp_test']\n",
    "seq_embed_input = f['input_embed_test']\n",
    "seq_embed_comp = f['comp_embed_test']\n",
    "data_gen_train = TimeseriesGeneratorTwoInputs(f['input_train'], f['comp_train'], f['comp_train'], \n",
    "                                              length=WINDOW_LENGTH, sampling_rate=1, batch_size=128, shuffle=True)\n",
    "data_gen_test = TimeseriesGeneratorTwoInputs(f['input_test'], f['comp_test'], f['comp_test'], \n",
    "                                              length=WINDOW_LENGTH, sampling_rate=1, batch_size=128, shuffle=True)\n",
    "print(seq_units_input.shape)\n",
    "print(seq_units_comp.shape)\n",
    "print(seq_embed_input.shape)\n",
    "print(seq_embed_comp.shape)\n",
    "print(len(data_gen_train))\n",
    "print(len(data_gen_test))"
   ]
  },
  {
   "cell_type": "markdown",
   "metadata": {
    "heading_collapsed": true
   },
   "source": [
    "##### Monophonic bassline prediction datasets"
   ]
  },
  {
   "cell_type": "markdown",
   "metadata": {
    "hidden": true
   },
   "source": [
    "We use a sequence-to-sequence with teacher forcing, which requires the following datasets:\n",
    "\n",
    "- `encoder_input_data` is a 3D array of shape `(M, WINDOW_LENGTH, NUM_PITCHES, NUM_TICKS, 1)` containing input units (full units without bass line)\n",
    "- `decoder_input_data` is a 3D array of shape `(M, NUM_TICKS, NUM_PITCHES)` containing a one-hot vectorization of the bassline pianorolls.\n",
    "- `decoder_target_data` is the same as `decoder_input_data` but offset by one timestep. ie. `decoder_target_data[:, t, :]` will be the same as `decoder_input_data[:, t + 1, :]`."
   ]
  },
  {
   "cell_type": "code",
   "execution_count": 2,
   "metadata": {
    "hidden": true
   },
   "outputs": [],
   "source": [
    "from keras.utils import Sequence\n",
    "\n",
    "class TimeseriesGeneratorThreeInputs_OneHotOutput(Sequence):\n",
    "    \"\"\"Keras data reading class\n",
    "    Utility class for generating batches of temporal data.\n",
    "    This class takes in a sequence of data-points gathered at\n",
    "    equal intervals, along with time series parameters such as\n",
    "    stride, length of history, etc., to produce batches for\n",
    "    training/validation.\n",
    "    \n",
    "    Adapted from the TimeseriesGenerator class:\n",
    "    https://github.com/keras-team/keras/blob/master/keras/utils/data_utils.py#L302\n",
    "    \"\"\"\n",
    "\n",
    "    def __init__(self, data1, data2, targets, length,\n",
    "                 sampling_rate=1,\n",
    "                 stride=1,\n",
    "                 start_index=0,\n",
    "                 end_index=None,\n",
    "                 shuffle=False,\n",
    "                 reverse=False,\n",
    "                 batch_size=128):\n",
    "        self.data1 = data1\n",
    "        self.data2 = data2\n",
    "        assert len(data1) == len(data2)\n",
    "        self.targets = targets\n",
    "        self.length = length\n",
    "        self.sampling_rate = sampling_rate\n",
    "        self.stride = stride\n",
    "        self.start_index = start_index + length\n",
    "        if end_index is None:\n",
    "            end_index = len(data1) - 1\n",
    "        self.end_index = end_index\n",
    "        self.shuffle = shuffle\n",
    "        self.reverse = reverse\n",
    "        self.batch_size = batch_size\n",
    "\n",
    "        if self.start_index > self.end_index:\n",
    "            raise ValueError('`start_index+length=%i > end_index=%i` '\n",
    "                             'is disallowed, as no part of the sequence '\n",
    "                             'would be left to be used as current step.'\n",
    "                             % (self.start_index, self.end_index))\n",
    "\n",
    "    def __len__(self):\n",
    "        return int(np.ceil(\n",
    "            (self.end_index - self.start_index + 1) /\n",
    "            (self.batch_size * self.stride)))\n",
    "\n",
    "    def _empty_batch(self, num_rows):\n",
    "        samples_shape = [num_rows, self.length // self.sampling_rate]\n",
    "        samples_shape.extend(self.data1.shape[1:])\n",
    "        targets_shape = [num_rows]\n",
    "        targets_shape.extend(self.targets.shape[1:-1]) # Exclude the last channel dimension for OHE targets\n",
    "        return np.empty(samples_shape), np.empty(samples_shape), np.empty(targets_shape), np.empty(targets_shape)\n",
    "\n",
    "    def __getitem__(self, index):\n",
    "        if self.shuffle:\n",
    "            rows = np.random.randint(\n",
    "                self.start_index, self.end_index + 1, size=self.batch_size)\n",
    "        else:\n",
    "            i = self.start_index + self.batch_size * self.stride * index\n",
    "            rows = np.arange(i, min(i + self.batch_size *\n",
    "                                    self.stride, self.end_index + 1), self.stride)\n",
    "\n",
    "        samples1, samples2, targets_prev, targets = self._empty_batch(len(rows))\n",
    "        for j, row in enumerate(rows):\n",
    "            indices = range(rows[j] - self.length, rows[j], self.sampling_rate)\n",
    "            samples1[j] = self.data1[indices]\n",
    "            samples2[j] = self.data2[indices]\n",
    "            \n",
    "            # Change from (NUM_PITCHES, NUM_TICKS, 1) to (NUM_TICKS, NUM_PITCHES)\n",
    "            assert len(targets.shape) == 3\n",
    "            targets_prev[j] = self.targets[rows[j]].swapaxes(0,1).squeeze()\n",
    "            targets[j,:-1,:] = targets_prev[j,1:,:] # Copy all columns shifted by one\n",
    "            targets[j,-1,:] = targets_prev[j,-1,:] # Last column remains the same\n",
    "        if self.reverse:\n",
    "            return [samples1[:, ::-1, ...], samples2[:, ::-1, ...]], targets\n",
    "        return [samples1, samples2, targets_prev], targets"
   ]
  },
  {
   "cell_type": "code",
   "execution_count": 3,
   "metadata": {
    "hidden": true
   },
   "outputs": [
    {
     "name": "stdout",
     "output_type": "stream",
     "text": [
      "(14661, 96, 96, 1)\n",
      "(14661, 96, 96, 1)\n",
      "1054\n",
      "114\n"
     ]
    }
   ],
   "source": [
    "# Load dataset\n",
    "f = h5py.File(MONO_SEQ_FILE, 'r')\n",
    "seq_units_input = f['input_test']\n",
    "seq_units_comp = f['bass_test']\n",
    "data_gen_train = TimeseriesGeneratorThreeInputs_OneHotOutput(f['input_train'], f['bass_train'], f['bass_train'], \n",
    "                                              length=WINDOW_LENGTH, sampling_rate=1, batch_size=128, shuffle=True)\n",
    "data_gen_test = TimeseriesGeneratorThreeInputs_OneHotOutput(f['input_test'], f['bass_test'], f['bass_test'], \n",
    "                                              length=WINDOW_LENGTH, sampling_rate=1, batch_size=128, shuffle=True)\n",
    "print(seq_units_input.shape)\n",
    "print(seq_units_comp.shape)\n",
    "print(len(data_gen_train))\n",
    "print(len(data_gen_test))"
   ]
  },
  {
   "cell_type": "markdown",
   "metadata": {
    "heading_collapsed": true
   },
   "source": [
    "## V1: Fully-connected LSTM "
   ]
  },
  {
   "cell_type": "markdown",
   "metadata": {
    "hidden": true
   },
   "source": [
    "This model skips any convolutional steps, diving straight into LSTM on whole units.\n",
    "\n",
    "#### Attempt 1\n",
    "```\n",
    "recurrent_dim = 800\n",
    "dense_hidden_dim = 1000\n",
    "CPU times: user 2h 46s, sys: 1h 4min 33s, total: 3h 5min 19s\n",
    "Wall time: 2h 10min 1s\n",
    "Best error: loss: 0.0059 - val_loss: 0.0058 (after 10 epochs)\n",
    "Time/step: 735s 428ms/step\n",
    "```\n",
    "Prediction is quite poor once again, no different from the ghost-notes we were already used to getting previously. Even on training data, predictions are not very strong. Maybe needs more training.\n",
    "\n",
    "#### Attempt 1 (continued)\n",
    "```\n",
    "CPU times: user 2h 1min 59s, sys: 1h 4min 49s, total: 3h 6min 48s\n",
    "Wall time: 2h 5min 13s\n",
    "Best error: loss: 0.0037 - val_loss: 0.0061 (after an additional 10 epochs)\n",
    "Time/step: 750s 437ms/step\n",
    "```\n",
    "Now there is clearly overfitting; the training data predictions are perfect, and the test data predictions very poor. BUT, not as poor as it was before!! The notes are less ghost-y now, and looking at the plot it looks believable. But unfortunately upon listening it is clear that the notes are not very right. Hmm but we do know already from the denoising autoencoder that learning harmony and chords is not so difficult when dealing with de-noising. How can we reproduce that kind of results here?\n",
    "\n",
    "#### Attempt 2\n",
    "```\n",
    "Dropout: - 0.3 after hidden layer\n",
    "         - 0.1 on LSTM1\n",
    "         - 0.7 on LSTM2\n",
    "CPU times: user 2h 2min 56s, sys: 1h 4min 38s, total: 3h 7min 35s\n",
    "Wall time: 2h 5min 3s\n",
    "Best error: loss: 0.0051 - val_loss: 0.0058 (after 10 epochs)\n",
    "Time/step: 757s 441ms/step\n",
    "```\n",
    "This was actually like shit. Hmmm. Don't use dropout as your magic bullet. Remember that dropout is NOT the same thing as adding noise. Next: Try adding proper noise to the training data..\n",
    "\n",
    "#### Attempt 3\n",
    "```\n",
    "Dropout: - 0.3 after hidden layer\n",
    "         - 0.1 on LSTM1\n",
    "         - 0.1 on LSTM2\n",
    "CPU times: user 2h 36min 7s, sys: 1h 38min 55s, total: 4h 15min 2s\n",
    "Wall time: 3h 15min 47s\n",
    "Best error: loss: 0.0060 - val_loss: 0.0121 (after 10 epochs)\n",
    "Time/step: 1127s 657ms/step\n",
    "Mean IOU: 0.525428932179\n",
    "Mean onset score: 0.357185741925567\n",
    "```\n",
    "Modified TimeseriesGeneratorTwoInputs so that we aim to predict `full` units instead of `comp` units.\n",
    "\n",
    "This was actually surprisingly better than the previous attempts! The predicted output is no longer wispy ghost notes, but actual playable notes - except that there are way too many. Also, validation loss plateaus after just the second epoch, then doesn't improve anymore. Training loss continues to get better, easily overfits."
   ]
  },
  {
   "cell_type": "code",
   "execution_count": 13,
   "metadata": {
    "hidden": true
   },
   "outputs": [
    {
     "name": "stdout",
     "output_type": "stream",
     "text": [
      "__________________________________________________________________________________________________\n",
      "Layer (type)                    Output Shape         Param #     Connected to                     \n",
      "==================================================================================================\n",
      "input_5 (InputLayer)            (None, 4, 96, 96, 1) 0                                            \n",
      "__________________________________________________________________________________________________\n",
      "input_6 (InputLayer)            (None, 4, 96, 96, 1) 0                                            \n",
      "__________________________________________________________________________________________________\n",
      "time_distributed_5 (TimeDistrib (None, 4, 9216)      0           input_5[0][0]                    \n",
      "__________________________________________________________________________________________________\n",
      "time_distributed_6 (TimeDistrib (None, 4, 9216)      0           input_6[0][0]                    \n",
      "__________________________________________________________________________________________________\n",
      "lstm_5 (LSTM)                   (None, 800)          32054400    time_distributed_5[0][0]         \n",
      "__________________________________________________________________________________________________\n",
      "lstm_6 (LSTM)                   (None, 800)          32054400    time_distributed_6[0][0]         \n",
      "__________________________________________________________________________________________________\n",
      "concatenate_3 (Concatenate)     (None, 1600)         0           lstm_5[0][0]                     \n",
      "                                                                 lstm_6[0][0]                     \n",
      "__________________________________________________________________________________________________\n",
      "dense_5 (Dense)                 (None, 1000)         1601000     concatenate_3[0][0]              \n",
      "__________________________________________________________________________________________________\n",
      "dropout_3 (Dropout)             (None, 1000)         0           dense_5[0][0]                    \n",
      "__________________________________________________________________________________________________\n",
      "dense_6 (Dense)                 (None, 9216)         9225216     dropout_3[0][0]                  \n",
      "__________________________________________________________________________________________________\n",
      "reshape_3 (Reshape)             (None, 96, 96, 1)    0           dense_6[0][0]                    \n",
      "==================================================================================================\n",
      "Total params: 74,935,016\n",
      "Trainable params: 74,935,016\n",
      "Non-trainable params: 0\n",
      "__________________________________________________________________________________________________\n"
     ]
    }
   ],
   "source": [
    "# data_dim = latent_dim # Our model predicts embeddings, so our data is the size of the embedding\n",
    "recurrent_dim = 800\n",
    "dense_hidden_dim = 1000\n",
    "\n",
    "# Inputs\n",
    "input1 = Input(shape=(WINDOW_LENGTH, NUM_PITCHES, NUM_TICKS, 1))\n",
    "input2 = Input(shape=(WINDOW_LENGTH, NUM_PITCHES, NUM_TICKS, 1))\n",
    "# For each time slice\n",
    "timeDist1 = TimeDistributed(Flatten())(input1)\n",
    "timeDist2 = TimeDistributed(Flatten())(input2)\n",
    "# LSTM\n",
    "lstm1 = LSTM(recurrent_dim, dropout=0.1)(timeDist1)\n",
    "lstm2 = LSTM(recurrent_dim, dropout=0.1)(timeDist2)\n",
    "# Dense\n",
    "merged = concatenate([lstm1, lstm2])\n",
    "hidden = Dense(dense_hidden_dim, activation='relu')(merged)\n",
    "hidden_dropped = Dropout(0.3)(hidden)\n",
    "# Output\n",
    "flat_output = Dense(NUM_PITCHES*NUM_TICKS, activation='sigmoid')(hidden_dropped)\n",
    "output = Reshape((NUM_PITCHES, NUM_TICKS, 1))(flat_output)\n",
    "\n",
    "model = Model(inputs=[input1, input2], outputs=output)\n",
    "model.compile(loss='mse', optimizer='rmsprop') #, metrics=['accuracy'])\n",
    "model.summary()"
   ]
  },
  {
   "cell_type": "code",
   "execution_count": 14,
   "metadata": {
    "hidden": true
   },
   "outputs": [
    {
     "name": "stdout",
     "output_type": "stream",
     "text": [
      "Epoch 1/10\n",
      "1716/1716 [==============================] - 1369s 798ms/step - loss: 0.0163 - val_loss: 0.0148\n",
      "Epoch 2/10\n",
      "1716/1716 [==============================] - 1137s 663ms/step - loss: 0.0136 - val_loss: 0.0117\n",
      "Epoch 3/10\n",
      "1716/1716 [==============================] - 1136s 662ms/step - loss: 0.0103 - val_loss: 0.0115\n",
      "Epoch 4/10\n",
      "1716/1716 [==============================] - 1133s 660ms/step - loss: 0.0089 - val_loss: 0.0117\n",
      "Epoch 5/10\n",
      "1716/1716 [==============================] - 1166s 679ms/step - loss: 0.0080 - val_loss: 0.0118\n",
      "Epoch 6/10\n",
      "1716/1716 [==============================] - 1178s 686ms/step - loss: 0.0074 - val_loss: 0.0118\n",
      "Epoch 7/10\n",
      "1716/1716 [==============================] - 1168s 681ms/step - loss: 0.0070 - val_loss: 0.0119\n",
      "Epoch 8/10\n",
      "1716/1716 [==============================] - 1174s 684ms/step - loss: 0.0066 - val_loss: 0.0121\n",
      "Epoch 9/10\n",
      "1716/1716 [==============================] - 1152s 671ms/step - loss: 0.0063 - val_loss: 0.0120\n",
      "Epoch 10/10\n",
      "1716/1716 [==============================] - 1127s 657ms/step - loss: 0.0060 - val_loss: 0.0121\n",
      "Saved Keras model to ./models/end2end_v1.h5\n",
      "CPU times: user 2h 36min 7s, sys: 1h 38min 55s, total: 4h 15min 2s\n",
      "Wall time: 3h 15min 47s\n"
     ]
    }
   ],
   "source": [
    "%%time\n",
    "# and now train the model\n",
    "# batch_size should be appropriate to your memory size\n",
    "# number of epochs should be higher for real world problems\n",
    "\n",
    "model.fit_generator(generator=data_gen_train,\n",
    "                    steps_per_epoch=len(data_gen_train),#/batch_size,\n",
    "                    epochs=10,\n",
    "                    validation_data=data_gen_test)\n",
    "\n",
    "MODEL_FILE = './models/end2end_v1.h5'\n",
    "model.save(MODEL_FILE)# creates a HDF5 file\n",
    "print(\"Saved Keras model to\", MODEL_FILE)"
   ]
  },
  {
   "cell_type": "code",
   "execution_count": null,
   "metadata": {
    "hidden": true
   },
   "outputs": [],
   "source": [
    "MODEL_FILE = './models/end2end_v1.h5'\n",
    "model = load_model(MODEL_FILE)"
   ]
  },
  {
   "cell_type": "markdown",
   "metadata": {
    "heading_collapsed": true
   },
   "source": [
    "## V2: CVAE + LSTM"
   ]
  },
  {
   "cell_type": "markdown",
   "metadata": {
    "hidden": true
   },
   "source": [
    "This model builds directly off of VAE_V7 and RLSTM_V5, simply joining them together to train the whole system at once. Let's see how it goes.\n",
    "\n",
    "#### Attempt 1\n",
    "```\n",
    "Time/step: 1183s 690ms/step\n",
    "Best error: loss: 0.0104 - val_loss: 0.0118 (after 5 epochs - aborted)\n",
    "Mean IOU: 0.5256504329\n",
    "Mean onset score: 0.1143908280778305\n",
    "```\n",
    "The metrics don't seem to look any better, but sometimes the music actually sounds quite decent?! I mean, my standards at this point are really low but it performs slightly better on test data than any of the previous models, I think."
   ]
  },
  {
   "cell_type": "code",
   "execution_count": 4,
   "metadata": {
    "hidden": true
   },
   "outputs": [],
   "source": [
    "def encoder(pianoroll_mat):\n",
    "    kernel1 = (12, 1)\n",
    "    kernel2 = (8, 4)\n",
    "    kernel3 = (1, 4)\n",
    "    # Encoder stuff\n",
    "    x = TimeDistributed(Conv2D(50, kernel1, strides=kernel1, activation='relu', padding='valid'))(pianoroll_mat)\n",
    "    x = TimeDistributed(BatchNormalization())(x)\n",
    "    x = TimeDistributed(Conv2D(200, kernel2, strides=kernel2, activation='relu', padding='valid'))(x)\n",
    "    x = TimeDistributed(BatchNormalization())(x)\n",
    "    x = TimeDistributed(Conv2D(500, kernel3, strides=kernel3, activation='relu', padding='valid'))(x)\n",
    "    x = TimeDistributed(BatchNormalization())(x)\n",
    "    x = TimeDistributed(Flatten())(x)\n",
    "#     x = TimeDistributed(Dropout(0.1))(x)\n",
    "#     x = TimeDistributed(Dense(intermediate_dim, activation='relu'))(x)\n",
    "    x = TimeDistributed(BatchNormalization())(x)\n",
    "    return x\n",
    "\n",
    "def decoder(input_vector):\n",
    "    kernel1 = (12, 1)\n",
    "    kernel2 = (8, 4)\n",
    "    kernel3 = (1, 4)\n",
    "    x = Reshape((1, 6, 500))(input_vector)\n",
    "    x = BatchNormalization()(x)\n",
    "    x = Conv2DTranspose(200, kernel3, strides=kernel3, activation='relu', padding='valid')(x)\n",
    "    x = BatchNormalization()(x)\n",
    "    x = Conv2DTranspose(50, kernel2, strides=kernel2, activation='relu', padding='valid')(x)\n",
    "    x = BatchNormalization()(x)\n",
    "    x = Conv2DTranspose(1, kernel1, strides=kernel1, activation='sigmoid', padding='valid')(x)\n",
    "    return x"
   ]
  },
  {
   "cell_type": "code",
   "execution_count": 16,
   "metadata": {
    "hidden": true,
    "scrolled": true
   },
   "outputs": [
    {
     "name": "stdout",
     "output_type": "stream",
     "text": [
      "__________________________________________________________________________________________________\n",
      "Layer (type)                    Output Shape         Param #     Connected to                     \n",
      "==================================================================================================\n",
      "input_3 (InputLayer)            (None, 4, 96, 96, 1) 0                                            \n",
      "__________________________________________________________________________________________________\n",
      "input_4 (InputLayer)            (None, 4, 96, 96, 1) 0                                            \n",
      "__________________________________________________________________________________________________\n",
      "time_distributed_17 (TimeDistri (None, 4, 8, 96, 50) 650         input_3[0][0]                    \n",
      "__________________________________________________________________________________________________\n",
      "time_distributed_25 (TimeDistri (None, 4, 8, 96, 50) 650         input_4[0][0]                    \n",
      "__________________________________________________________________________________________________\n",
      "time_distributed_18 (TimeDistri (None, 4, 8, 96, 50) 200         time_distributed_17[0][0]        \n",
      "__________________________________________________________________________________________________\n",
      "time_distributed_26 (TimeDistri (None, 4, 8, 96, 50) 200         time_distributed_25[0][0]        \n",
      "__________________________________________________________________________________________________\n",
      "time_distributed_19 (TimeDistri (None, 4, 1, 24, 200 320200      time_distributed_18[0][0]        \n",
      "__________________________________________________________________________________________________\n",
      "time_distributed_27 (TimeDistri (None, 4, 1, 24, 200 320200      time_distributed_26[0][0]        \n",
      "__________________________________________________________________________________________________\n",
      "time_distributed_20 (TimeDistri (None, 4, 1, 24, 200 800         time_distributed_19[0][0]        \n",
      "__________________________________________________________________________________________________\n",
      "time_distributed_28 (TimeDistri (None, 4, 1, 24, 200 800         time_distributed_27[0][0]        \n",
      "__________________________________________________________________________________________________\n",
      "time_distributed_21 (TimeDistri (None, 4, 1, 6, 500) 400500      time_distributed_20[0][0]        \n",
      "__________________________________________________________________________________________________\n",
      "time_distributed_29 (TimeDistri (None, 4, 1, 6, 500) 400500      time_distributed_28[0][0]        \n",
      "__________________________________________________________________________________________________\n",
      "time_distributed_22 (TimeDistri (None, 4, 1, 6, 500) 2000        time_distributed_21[0][0]        \n",
      "__________________________________________________________________________________________________\n",
      "time_distributed_30 (TimeDistri (None, 4, 1, 6, 500) 2000        time_distributed_29[0][0]        \n",
      "__________________________________________________________________________________________________\n",
      "time_distributed_23 (TimeDistri (None, 4, 3000)      0           time_distributed_22[0][0]        \n",
      "__________________________________________________________________________________________________\n",
      "time_distributed_31 (TimeDistri (None, 4, 3000)      0           time_distributed_30[0][0]        \n",
      "__________________________________________________________________________________________________\n",
      "time_distributed_24 (TimeDistri (None, 4, 3000)      12000       time_distributed_23[0][0]        \n",
      "__________________________________________________________________________________________________\n",
      "time_distributed_32 (TimeDistri (None, 4, 3000)      12000       time_distributed_31[0][0]        \n",
      "__________________________________________________________________________________________________\n",
      "lstm_3 (LSTM)                   (None, 800)          12163200    time_distributed_24[0][0]        \n",
      "__________________________________________________________________________________________________\n",
      "lstm_4 (LSTM)                   (None, 800)          12163200    time_distributed_32[0][0]        \n",
      "__________________________________________________________________________________________________\n",
      "concatenate_2 (Concatenate)     (None, 1600)         0           lstm_3[0][0]                     \n",
      "                                                                 lstm_4[0][0]                     \n",
      "__________________________________________________________________________________________________\n",
      "dense_2 (Dense)                 (None, 3000)         4803000     concatenate_2[0][0]              \n",
      "__________________________________________________________________________________________________\n",
      "dropout_2 (Dropout)             (None, 3000)         0           dense_2[0][0]                    \n",
      "__________________________________________________________________________________________________\n",
      "reshape_1 (Reshape)             (None, 1, 6, 500)    0           dropout_2[0][0]                  \n",
      "__________________________________________________________________________________________________\n",
      "batch_normalization_17 (BatchNo (None, 1, 6, 500)    2000        reshape_1[0][0]                  \n",
      "__________________________________________________________________________________________________\n",
      "conv2d_transpose_1 (Conv2DTrans (None, 1, 24, 200)   400200      batch_normalization_17[0][0]     \n",
      "__________________________________________________________________________________________________\n",
      "batch_normalization_18 (BatchNo (None, 1, 24, 200)   800         conv2d_transpose_1[0][0]         \n",
      "__________________________________________________________________________________________________\n",
      "conv2d_transpose_2 (Conv2DTrans (None, 8, 96, 50)    320050      batch_normalization_18[0][0]     \n",
      "__________________________________________________________________________________________________\n",
      "batch_normalization_19 (BatchNo (None, 8, 96, 50)    200         conv2d_transpose_2[0][0]         \n",
      "__________________________________________________________________________________________________\n",
      "conv2d_transpose_3 (Conv2DTrans (None, 96, 96, 1)    601         batch_normalization_19[0][0]     \n",
      "==================================================================================================\n",
      "Total params: 31,325,951\n",
      "Trainable params: 31,309,451\n",
      "Non-trainable params: 16,500\n",
      "__________________________________________________________________________________________________\n"
     ]
    }
   ],
   "source": [
    "kernel1 = (12, 1)\n",
    "kernel2 = (8, 4)\n",
    "kernel3 = (1, 4)\n",
    "# data_dim = latent_dim # Our model predicts embeddings, so our data is the size of the embedding\n",
    "recurrent_dim = 800\n",
    "# dense_hidden_dim = 1000\n",
    "\n",
    "# Inputs\n",
    "input1 = Input(shape=(WINDOW_LENGTH, NUM_PITCHES, NUM_TICKS, 1))\n",
    "input2 = Input(shape=(WINDOW_LENGTH, NUM_PITCHES, NUM_TICKS, 1))\n",
    "# For each time slice\n",
    "timeDist1 = encoder(input1)\n",
    "timeDist2 = encoder(input2)\n",
    "# LSTM\n",
    "lstm1 = LSTM(recurrent_dim, dropout=0.1)(timeDist1)\n",
    "lstm2 = LSTM(recurrent_dim, dropout=0.1)(timeDist2)\n",
    "# Dense\n",
    "merged = concatenate([lstm1, lstm2])\n",
    "# hidden = Dense(dense_hidden_dim, activation='relu')(merged)\n",
    "dense_vector = Dense(3000, activation='relu')(merged)\n",
    "dropped_vector = Dropout(0.3)(dense_vector)\n",
    "# Output\n",
    "output = decoder(dropped_vector)\n",
    "\n",
    "model = Model(inputs=[input1, input2], outputs=output)\n",
    "model.compile(loss='mse', optimizer='rmsprop') #, metrics=['accuracy'])\n",
    "model.summary()"
   ]
  },
  {
   "cell_type": "code",
   "execution_count": 125,
   "metadata": {
    "hidden": true
   },
   "outputs": [
    {
     "name": "stdout",
     "output_type": "stream",
     "text": [
      "Saved Keras model to ./models/end2end_v2.h5\n",
      "CPU times: user 7.41 s, sys: 225 ms, total: 7.64 s\n",
      "Wall time: 7.54 s\n"
     ]
    }
   ],
   "source": [
    "%%time\n",
    "# and now train the model\n",
    "# batch_size should be appropriate to your memory size\n",
    "# number of epochs should be higher for real world problems\n",
    "\n",
    "model.fit_generator(generator=data_gen_train,\n",
    "                    steps_per_epoch=len(data_gen_train),#/batch_size,\n",
    "                    epochs=10,\n",
    "                    validation_data=data_gen_test)\n",
    "\n",
    "MODEL_FILE = './models/end2end_v2.h5'\n",
    "model.save(MODEL_FILE)# creates a HDF5 file\n",
    "print(\"Saved Keras model to\", MODEL_FILE)"
   ]
  },
  {
   "cell_type": "code",
   "execution_count": 9,
   "metadata": {
    "hidden": true
   },
   "outputs": [],
   "source": [
    "MODEL_FILE = './models/end2end_v2.h5'\n",
    "model = load_model(MODEL_FILE)"
   ]
  },
  {
   "cell_type": "markdown",
   "metadata": {},
   "source": [
    "## V3: CVAE + LSTM"
   ]
  },
  {
   "cell_type": "markdown",
   "metadata": {},
   "source": [
    "This model builds directly off of VAE_V7 and RLSTM_V5, simply joining them together to train the whole system at once. Let's see how it goes.\n",
    "\n",
    "#### Attempt 1\n",
    "```\n",
    "loss: 0.0092 - val_loss: 0.0115\n",
    "Saved Keras model to ./models/end2end_v3.h5\n",
    "CPU times: user 2h 18min 21s, sys: 1h 26min 18s, total: 3h 44min 40s\n",
    "Wall time: 3h 1min 55s\n",
    "\n",
    "Mean IOU: 0.520527777778\n",
    "Mean onset score: 0.14268947096105117\n",
    "```\n",
    "The metrics look pretty much identical to the previous attempts. And the output sounds pretty terrible (though after amplification, the pianoroll plot at least doesn't look like ghost town. But notes are all off key and onsets have no regard for their counterpart.\n",
    "\n",
    "The key observation from observing training and validation loss (and also observed during previous models) is that while training loss does go down, validation loss plateaus pretty quickly. Which makes a lot of sense, but is not encouraging.\n",
    "\n",
    "Starting to feel like end-to-end is not the way to go."
   ]
  },
  {
   "cell_type": "code",
   "execution_count": 5,
   "metadata": {},
   "outputs": [],
   "source": [
    "def encoder(pianoroll_mat):\n",
    "    kernel1 = (12, 1)\n",
    "    kernel2 = (8, 4)\n",
    "    kernel3 = (1, 4)\n",
    "    # Encoder stuff\n",
    "    x = TimeDistributed(Conv2D(50, kernel1, strides=kernel1, activation='relu', padding='valid'))(pianoroll_mat)\n",
    "    x = TimeDistributed(Conv2D(100, kernel2, strides=kernel2, activation='relu', padding='valid'))(x)\n",
    "    x = TimeDistributed(Conv2D(200, kernel3, strides=kernel3, activation='relu', padding='valid'))(x)\n",
    "    x = TimeDistributed(Flatten())(x)\n",
    "    x = TimeDistributed(Dense(dense_hidden_dim, activation='relu'))(x)\n",
    "    x = TimeDistributed(BatchNormalization())(x)\n",
    "    return x\n",
    "\n",
    "def decoder(input_vector):\n",
    "    kernel1 = (12, 1)\n",
    "    kernel2 = (8, 4)\n",
    "    kernel3 = (1, 4)\n",
    "    x = Reshape((1, 6, 200))(input_vector)\n",
    "    x = Conv2DTranspose(100, kernel3, strides=kernel3, activation='relu', padding='valid')(x)\n",
    "    x = Conv2DTranspose(50, kernel2, strides=kernel2, activation='relu', padding='valid')(x)\n",
    "    x = Conv2DTranspose(1, kernel1, strides=kernel1, activation='sigmoid', padding='valid')(x)\n",
    "    return x"
   ]
  },
  {
   "cell_type": "code",
   "execution_count": 6,
   "metadata": {
    "scrolled": false
   },
   "outputs": [
    {
     "name": "stdout",
     "output_type": "stream",
     "text": [
      "__________________________________________________________________________________________________\n",
      "Layer (type)                    Output Shape         Param #     Connected to                     \n",
      "==================================================================================================\n",
      "input_1 (InputLayer)            (None, 4, 96, 96, 1) 0                                            \n",
      "__________________________________________________________________________________________________\n",
      "input_2 (InputLayer)            (None, 4, 96, 96, 1) 0                                            \n",
      "__________________________________________________________________________________________________\n",
      "time_distributed_1 (TimeDistrib (None, 4, 8, 96, 50) 650         input_1[0][0]                    \n",
      "__________________________________________________________________________________________________\n",
      "time_distributed_7 (TimeDistrib (None, 4, 8, 96, 50) 650         input_2[0][0]                    \n",
      "__________________________________________________________________________________________________\n",
      "time_distributed_2 (TimeDistrib (None, 4, 1, 24, 100 160100      time_distributed_1[0][0]         \n",
      "__________________________________________________________________________________________________\n",
      "time_distributed_8 (TimeDistrib (None, 4, 1, 24, 100 160100      time_distributed_7[0][0]         \n",
      "__________________________________________________________________________________________________\n",
      "time_distributed_3 (TimeDistrib (None, 4, 1, 6, 200) 80200       time_distributed_2[0][0]         \n",
      "__________________________________________________________________________________________________\n",
      "time_distributed_9 (TimeDistrib (None, 4, 1, 6, 200) 80200       time_distributed_8[0][0]         \n",
      "__________________________________________________________________________________________________\n",
      "time_distributed_4 (TimeDistrib (None, 4, 1200)      0           time_distributed_3[0][0]         \n",
      "__________________________________________________________________________________________________\n",
      "time_distributed_10 (TimeDistri (None, 4, 1200)      0           time_distributed_9[0][0]         \n",
      "__________________________________________________________________________________________________\n",
      "time_distributed_5 (TimeDistrib (None, 4, 1000)      1201000     time_distributed_4[0][0]         \n",
      "__________________________________________________________________________________________________\n",
      "time_distributed_11 (TimeDistri (None, 4, 1000)      1201000     time_distributed_10[0][0]        \n",
      "__________________________________________________________________________________________________\n",
      "time_distributed_6 (TimeDistrib (None, 4, 1000)      4000        time_distributed_5[0][0]         \n",
      "__________________________________________________________________________________________________\n",
      "time_distributed_12 (TimeDistri (None, 4, 1000)      4000        time_distributed_11[0][0]        \n",
      "__________________________________________________________________________________________________\n",
      "lstm_1 (LSTM)                   (None, 20)           81680       time_distributed_6[0][0]         \n",
      "__________________________________________________________________________________________________\n",
      "lstm_2 (LSTM)                   (None, 20)           81680       time_distributed_12[0][0]        \n",
      "__________________________________________________________________________________________________\n",
      "concatenate_1 (Concatenate)     (None, 40)           0           lstm_1[0][0]                     \n",
      "                                                                 lstm_2[0][0]                     \n",
      "__________________________________________________________________________________________________\n",
      "dense_3 (Dense)                 (None, 1000)         41000       concatenate_1[0][0]              \n",
      "__________________________________________________________________________________________________\n",
      "batch_normalization_3 (BatchNor (None, 1000)         4000        dense_3[0][0]                    \n",
      "__________________________________________________________________________________________________\n",
      "dense_4 (Dense)                 (None, 1200)         1201200     batch_normalization_3[0][0]      \n",
      "__________________________________________________________________________________________________\n",
      "batch_normalization_4 (BatchNor (None, 1200)         4800        dense_4[0][0]                    \n",
      "__________________________________________________________________________________________________\n",
      "reshape_1 (Reshape)             (None, 1, 6, 200)    0           batch_normalization_4[0][0]      \n",
      "__________________________________________________________________________________________________\n",
      "conv2d_transpose_1 (Conv2DTrans (None, 1, 24, 100)   80100       reshape_1[0][0]                  \n",
      "__________________________________________________________________________________________________\n",
      "conv2d_transpose_2 (Conv2DTrans (None, 8, 96, 50)    160050      conv2d_transpose_1[0][0]         \n",
      "__________________________________________________________________________________________________\n",
      "conv2d_transpose_3 (Conv2DTrans (None, 96, 96, 1)    601         conv2d_transpose_2[0][0]         \n",
      "==================================================================================================\n",
      "Total params: 4,547,011\n",
      "Trainable params: 4,538,611\n",
      "Non-trainable params: 8,400\n",
      "__________________________________________________________________________________________________\n"
     ]
    }
   ],
   "source": [
    "kernel1 = (12, 1)\n",
    "kernel2 = (8, 4)\n",
    "kernel3 = (1, 4)\n",
    "# data_dim = latent_dim # Our model predicts embeddings, so our data is the size of the embedding\n",
    "recurrent_dim = 20\n",
    "dense_hidden_dim = 1000\n",
    "\n",
    "# Inputs\n",
    "input1 = Input(shape=(WINDOW_LENGTH, NUM_PITCHES, NUM_TICKS, 1))\n",
    "input2 = Input(shape=(WINDOW_LENGTH, NUM_PITCHES, NUM_TICKS, 1))\n",
    "# For each time slice\n",
    "timeDist1 = encoder(input1)\n",
    "timeDist2 = encoder(input2)\n",
    "# LSTM\n",
    "lstm1 = LSTM(recurrent_dim)(timeDist1)\n",
    "lstm2 = LSTM(recurrent_dim)(timeDist2)\n",
    "# Dense\n",
    "merged = concatenate([lstm1, lstm2])\n",
    "hidden = Dense(dense_hidden_dim, activation='relu')(merged)\n",
    "norm_hidden = BatchNormalization()(hidden)\n",
    "dense_vector = Dense(1200, activation='relu')(norm_hidden)\n",
    "norm_dense_vector = BatchNormalization()(dense_vector)\n",
    "# Output\n",
    "output = decoder(norm_dense_vector)\n",
    "\n",
    "model = Model(inputs=[input1, input2], outputs=output)\n",
    "model.compile(loss='mse', optimizer='rmsprop') #, metrics=['accuracy'])\n",
    "model.summary()"
   ]
  },
  {
   "cell_type": "code",
   "execution_count": 7,
   "metadata": {},
   "outputs": [
    {
     "name": "stdout",
     "output_type": "stream",
     "text": [
      "Epoch 1/10\n",
      "1716/1716 [==============================] - 1174s 684ms/step - loss: 0.0142 - val_loss: 0.0121\n",
      "Epoch 2/10\n",
      "1716/1716 [==============================] - 1082s 630ms/step - loss: 0.0122 - val_loss: 0.0119\n",
      "Epoch 3/10\n",
      "1716/1716 [==============================] - 1079s 629ms/step - loss: 0.0115 - val_loss: 0.0116\n",
      "Epoch 4/10\n",
      "1716/1716 [==============================] - 1082s 630ms/step - loss: 0.0110 - val_loss: 0.0116\n",
      "Epoch 5/10\n",
      "1716/1716 [==============================] - 1084s 632ms/step - loss: 0.0105 - val_loss: 0.0114\n",
      "Epoch 6/10\n",
      "1716/1716 [==============================] - 1084s 631ms/step - loss: 0.0102 - val_loss: 0.0115\n",
      "Epoch 7/10\n",
      "1716/1716 [==============================] - 1083s 631ms/step - loss: 0.0099 - val_loss: 0.0114\n",
      "Epoch 8/10\n",
      "1716/1716 [==============================] - 1086s 633ms/step - loss: 0.0096 - val_loss: 0.0116\n",
      "Epoch 9/10\n",
      "1716/1716 [==============================] - 1083s 631ms/step - loss: 0.0094 - val_loss: 0.0115\n",
      "Epoch 10/10\n",
      "1716/1716 [==============================] - 1075s 626ms/step - loss: 0.0092 - val_loss: 0.0115\n",
      "Saved Keras model to ./models/end2end_v3.h5\n",
      "CPU times: user 2h 18min 21s, sys: 1h 26min 18s, total: 3h 44min 40s\n",
      "Wall time: 3h 1min 55s\n"
     ]
    }
   ],
   "source": [
    "%%time\n",
    "# and now train the model\n",
    "# batch_size should be appropriate to your memory size\n",
    "# number of epochs should be higher for real world problems\n",
    "\n",
    "model.fit_generator(generator=data_gen_train,\n",
    "                    steps_per_epoch=len(data_gen_train),#/batch_size,\n",
    "                    epochs=10,\n",
    "                    validation_data=data_gen_test)\n",
    "\n",
    "MODEL_FILE = './models/end2end_v3.h5'\n",
    "model.save(MODEL_FILE)# creates a HDF5 file\n",
    "print(\"Saved Keras model to\", MODEL_FILE)"
   ]
  },
  {
   "cell_type": "code",
   "execution_count": 2,
   "metadata": {},
   "outputs": [],
   "source": [
    "MODEL_FILE = './models/end2end_v3.h5'\n",
    "model = load_model(MODEL_FILE)"
   ]
  },
  {
   "cell_type": "markdown",
   "metadata": {
    "heading_collapsed": true
   },
   "source": [
    "## V4: Monophonic RNN encoder-decoder"
   ]
  },
  {
   "cell_type": "markdown",
   "metadata": {
    "hidden": true
   },
   "source": [
    "Based off of the [Keras tutorial for sequence-to-sequence learning](https://blog.keras.io/a-ten-minute-introduction-to-sequence-to-sequence-learning-in-keras.html).\n",
    "\n",
    "The general overview:\n",
    "1. Use two LSTMs to encode the past input and bass sequences.\n",
    "2. Merge\\* the output states of both LSTMs `[h, c]`, and feed those in as the initial state for the output LSTM.\n",
    "3. The output LSTM to predicts `output:[...t+1]` given `output:[...t]`. Can think of this as a entirely separate network, except that this LSTM is initialized with the state from the encoder LSTMs.\n",
    "\n",
    "\\* _What's the right way to merge `[h1, c1]` and `[h2, c2]`? Currently using `[h1+h2, c1+c2]` but I have no idea if that even makes any sense at all._\n",
    "\n",
    "##### Attempt 1\n",
    "```\n",
    "Merging output states: mode='sum'\n",
    "Recurrent dimension: 100\n",
    "```"
   ]
  },
  {
   "cell_type": "code",
   "execution_count": 7,
   "metadata": {
    "hidden": true
   },
   "outputs": [],
   "source": [
    "def encoder(pianoroll_mat):\n",
    "    kernel1 = (12, 1)\n",
    "    kernel2 = (8, 4)\n",
    "    kernel3 = (1, 4)\n",
    "    # Encoder stuff\n",
    "    x = TimeDistributed(Conv2D(50, kernel1, strides=kernel1, activation='relu', padding='valid'))(pianoroll_mat)\n",
    "#     x = TimeDistributed(BatchNormalization())(x)\n",
    "    x = TimeDistributed(Conv2D(200, kernel2, strides=kernel2, activation='relu', padding='valid'))(x)\n",
    "#     x = TimeDistributed(BatchNormalization())(x)\n",
    "    x = TimeDistributed(Conv2D(500, kernel3, strides=kernel3, activation='relu', padding='valid'))(x)\n",
    "#     x = TimeDistributed(BatchNormalization())(x)\n",
    "    x = TimeDistributed(Flatten())(x)\n",
    "    x = TimeDistributed(BatchNormalization())(x)\n",
    "    return x\n",
    "\n",
    "def decoder(input_vector):\n",
    "    kernel1 = (12, 1)\n",
    "    kernel2 = (8, 4)\n",
    "    kernel3 = (1, 4)\n",
    "    x = Reshape((1, 6, 500))(input_vector)\n",
    "#     x = BatchNormalization()(x)\n",
    "    x = Conv2DTranspose(200, kernel3, strides=kernel3, activation='relu', padding='valid')(x)\n",
    "#     x = BatchNormalization()(x)\n",
    "    x = Conv2DTranspose(50, kernel2, strides=kernel2, activation='relu', padding='valid')(x)\n",
    "#     x = BatchNormalization()(x)\n",
    "    x = Conv2DTranspose(1, kernel1, strides=kernel1, activation='sigmoid', padding='valid')(x)\n",
    "    return x"
   ]
  },
  {
   "cell_type": "code",
   "execution_count": 10,
   "metadata": {
    "hidden": true
   },
   "outputs": [
    {
     "name": "stdout",
     "output_type": "stream",
     "text": [
      "__________________________________________________________________________________________________\n",
      "Layer (type)                    Output Shape         Param #     Connected to                     \n",
      "==================================================================================================\n",
      "input_4 (InputLayer)            (None, 4, 96, 96, 1) 0                                            \n",
      "__________________________________________________________________________________________________\n",
      "input_5 (InputLayer)            (None, 4, 96, 96, 1) 0                                            \n",
      "__________________________________________________________________________________________________\n",
      "time_distributed_11 (TimeDistri (None, 4, 8, 96, 50) 650         input_4[0][0]                    \n",
      "__________________________________________________________________________________________________\n",
      "time_distributed_16 (TimeDistri (None, 4, 8, 96, 50) 650         input_5[0][0]                    \n",
      "__________________________________________________________________________________________________\n",
      "time_distributed_12 (TimeDistri (None, 4, 1, 24, 200 320200      time_distributed_11[0][0]        \n",
      "__________________________________________________________________________________________________\n",
      "time_distributed_17 (TimeDistri (None, 4, 1, 24, 200 320200      time_distributed_16[0][0]        \n",
      "__________________________________________________________________________________________________\n",
      "time_distributed_13 (TimeDistri (None, 4, 1, 6, 500) 400500      time_distributed_12[0][0]        \n",
      "__________________________________________________________________________________________________\n",
      "time_distributed_18 (TimeDistri (None, 4, 1, 6, 500) 400500      time_distributed_17[0][0]        \n",
      "__________________________________________________________________________________________________\n",
      "time_distributed_14 (TimeDistri (None, 4, 3000)      0           time_distributed_13[0][0]        \n",
      "__________________________________________________________________________________________________\n",
      "time_distributed_19 (TimeDistri (None, 4, 3000)      0           time_distributed_18[0][0]        \n",
      "__________________________________________________________________________________________________\n",
      "time_distributed_15 (TimeDistri (None, 4, 3000)      12000       time_distributed_14[0][0]        \n",
      "__________________________________________________________________________________________________\n",
      "time_distributed_20 (TimeDistri (None, 4, 3000)      12000       time_distributed_19[0][0]        \n",
      "__________________________________________________________________________________________________\n",
      "lstm_4 (LSTM)                   [(None, 100), (None, 1240400     time_distributed_15[0][0]        \n",
      "__________________________________________________________________________________________________\n",
      "lstm_5 (LSTM)                   [(None, 100), (None, 1240400     time_distributed_20[0][0]        \n",
      "__________________________________________________________________________________________________\n",
      "input_6 (InputLayer)            (None, None, 96)     0                                            \n",
      "__________________________________________________________________________________________________\n",
      "merge_3 (Merge)                 (None, 100)          0           lstm_4[0][1]                     \n",
      "                                                                 lstm_5[0][1]                     \n",
      "__________________________________________________________________________________________________\n",
      "merge_4 (Merge)                 (None, 100)          0           lstm_4[0][2]                     \n",
      "                                                                 lstm_5[0][2]                     \n",
      "__________________________________________________________________________________________________\n",
      "lstm_6 (LSTM)                   [(None, None, 100),  78800       input_6[0][0]                    \n",
      "                                                                 merge_3[0][0]                    \n",
      "                                                                 merge_4[0][0]                    \n",
      "__________________________________________________________________________________________________\n",
      "dense_2 (Dense)                 (None, None, 96)     9696        lstm_6[0][0]                     \n",
      "==================================================================================================\n",
      "Total params: 4,035,996\n",
      "Trainable params: 4,023,996\n",
      "Non-trainable params: 12,000\n",
      "__________________________________________________________________________________________________\n"
     ]
    }
   ],
   "source": [
    "kernel1 = (12, 1)\n",
    "kernel2 = (8, 4)\n",
    "kernel3 = (1, 4)\n",
    "\n",
    "recurrent_dim = 100 # This is the latent dimension of the LSTM that will be passed\n",
    "num_decoder_tokens = NUM_PITCHES # 96-dimensional one-hot encodings\n",
    "\n",
    "#------------------- ENCODER\n",
    "\n",
    "# Inputs\n",
    "input1 = Input(shape=(WINDOW_LENGTH, NUM_PITCHES, NUM_TICKS, 1))\n",
    "input2 = Input(shape=(WINDOW_LENGTH, NUM_PITCHES, NUM_TICKS, 1))\n",
    "# For each time slice\n",
    "timeDist1 = encoder(input1)\n",
    "timeDist2 = encoder(input2)\n",
    "# LSTM - we discard the predicted output, we're only interested in the states\n",
    "_, state_h_1, state_c_1 = LSTM(recurrent_dim, return_state=True)(timeDist1)\n",
    "_, state_h_2, state_c_2 = LSTM(recurrent_dim, return_state=True)(timeDist2)\n",
    "# Merge states to feed into decoder LSTM\n",
    "state_h = merge([state_h_1, state_h_2], mode='sum')\n",
    "state_c = merge([state_c_1, state_c_2], mode='sum')\n",
    "encoder_states = [state_h, state_c]\n",
    "\n",
    "#------------------- DECODER\n",
    "\n",
    "# Set up the decoder, using `encoder_states` as initial state.\n",
    "decoder_inputs = Input(shape=(None, num_decoder_tokens))\n",
    "# We set up our decoder to return full output sequences,\n",
    "# and to return internal states as well. We don't use the \n",
    "# return states in the training model, but we will use them in inference.\n",
    "decoder_lstm = LSTM(recurrent_dim, return_sequences=True, return_state=True)\n",
    "decoder_outputs, _, _ = decoder_lstm(decoder_inputs,\n",
    "                                     initial_state=encoder_states)\n",
    "decoder_dense = Dense(num_decoder_tokens, activation='softmax')\n",
    "decoder_outputs = decoder_dense(decoder_outputs)\n",
    "\n",
    "# Define the model\n",
    "model = Model([input1, input2, decoder_inputs], decoder_outputs)\n",
    "# Compile\n",
    "model.compile(optimizer='rmsprop', loss='categorical_crossentropy')\n",
    "model.summary()"
   ]
  },
  {
   "cell_type": "code",
   "execution_count": 11,
   "metadata": {
    "hidden": true
   },
   "outputs": [
    {
     "name": "stdout",
     "output_type": "stream",
     "text": [
      "Epoch 1/10\n",
      "1054/1054 [==============================] - 550s 521ms/step - loss: 0.6294 - val_loss: 0.3785\n",
      "Epoch 2/10\n",
      "1054/1054 [==============================] - 540s 512ms/step - loss: 0.3344 - val_loss: 0.3616\n",
      "Epoch 3/10\n",
      "1054/1054 [==============================] - 535s 507ms/step - loss: 0.3090 - val_loss: 0.3537\n",
      "Epoch 4/10\n",
      "1054/1054 [==============================] - 532s 505ms/step - loss: 0.2916 - val_loss: 0.3410\n",
      "Epoch 5/10\n",
      "1054/1054 [==============================] - 556s 528ms/step - loss: 0.2769 - val_loss: 0.3389\n",
      "Epoch 6/10\n",
      "1054/1054 [==============================] - 550s 522ms/step - loss: 0.2687 - val_loss: 0.3299\n",
      "Epoch 7/10\n",
      "1054/1054 [==============================] - 557s 528ms/step - loss: 0.2606 - val_loss: 0.3290\n",
      "Epoch 8/10\n",
      "1054/1054 [==============================] - 559s 531ms/step - loss: 0.2534 - val_loss: 0.3327\n",
      "Epoch 9/10\n",
      "1054/1054 [==============================] - 554s 525ms/step - loss: 0.2479 - val_loss: 0.3338\n",
      "Epoch 10/10\n",
      "1054/1054 [==============================] - 545s 517ms/step - loss: 0.2436 - val_loss: 0.3371\n",
      "Saved Keras model to ./models/end2end_RNNdecoder_v1.h5\n",
      "CPU times: user 1h 52min 21s, sys: 55min 48s, total: 2h 48min 9s\n",
      "Wall time: 1h 31min 21s\n"
     ]
    }
   ],
   "source": [
    "%%time\n",
    "# and now train the model\n",
    "# batch_size should be appropriate to your memory size\n",
    "# number of epochs should be higher for real world problems\n",
    "\n",
    "model.fit_generator(generator=data_gen_train,\n",
    "                    steps_per_epoch=len(data_gen_train),#/batch_size,\n",
    "                    epochs=10,\n",
    "                    validation_data=data_gen_test)\n",
    "\n",
    "MODEL_FILE = './models/end2end_RNNdecoder_v1.h5'\n",
    "model.save(MODEL_FILE)# creates a HDF5 file\n",
    "print(\"Saved Keras model to\", MODEL_FILE)"
   ]
  },
  {
   "cell_type": "code",
   "execution_count": 4,
   "metadata": {
    "hidden": true
   },
   "outputs": [],
   "source": [
    "MODEL_FILE = './models/end2end_RNNdecoder_v1.h5'\n",
    "model = load_model(MODEL_FILE)"
   ]
  },
  {
   "cell_type": "markdown",
   "metadata": {
    "heading_collapsed": true,
    "hidden": true
   },
   "source": [
    "### Inference"
   ]
  },
  {
   "cell_type": "code",
   "execution_count": 12,
   "metadata": {
    "hidden": true
   },
   "outputs": [
    {
     "name": "stdout",
     "output_type": "stream",
     "text": [
      "Saved Keras model to ./models/end2end_RNNdecoder_v1_encoder.h5\n",
      "Saved Keras model to ./models/end2end_RNNdecoder_v1_decoder.h5\n"
     ]
    }
   ],
   "source": [
    "# Encoder returns the merged LSTM states\n",
    "encoder_model = Model([input1, input2], encoder_states)\n",
    "\n",
    "MODEL_FILE = './models/end2end_RNNdecoder_v1_encoder.h5'\n",
    "encoder_model.save(MODEL_FILE)# creates a HDF5 file\n",
    "print(\"Saved Keras model to\", MODEL_FILE)\n",
    "\n",
    "# Decoder takes in two inputs, state_h and state_c from the encoder\n",
    "# and initializes the output LSTM to \n",
    "decoder_state_input_h = Input(shape=(recurrent_dim,))\n",
    "decoder_state_input_c = Input(shape=(recurrent_dim,))\n",
    "decoder_states_inputs = [decoder_state_input_h, decoder_state_input_c]\n",
    "decoder_outputs, state_h, state_c = decoder_lstm(\n",
    "    decoder_inputs, initial_state=decoder_states_inputs)\n",
    "decoder_states = [state_h, state_c]\n",
    "decoder_outputs = decoder_dense(decoder_outputs)\n",
    "decoder_model = Model(\n",
    "    [decoder_inputs] + decoder_states_inputs, # Input: Concatenated [target_prev, encoder_h, encoder_c]\n",
    "    [decoder_outputs] + decoder_states) # Output: Concatenated [target, decoder_h, decoder_c]\n",
    "\n",
    "MODEL_FILE = './models/end2end_RNNdecoder_v1_decoder.h5'\n",
    "decoder_model.save(MODEL_FILE)# creates a HDF5 file\n",
    "print(\"Saved Keras model to\", MODEL_FILE)"
   ]
  },
  {
   "cell_type": "code",
   "execution_count": 5,
   "metadata": {
    "hidden": true
   },
   "outputs": [],
   "source": [
    "MODEL_FILE = './models/end2end_RNNdecoder_v1_encoder.h5'\n",
    "encoder_model = load_model(MODEL_FILE)\n",
    "\n",
    "MODEL_FILE = './models/end2end_RNNdecoder_v1_decoder.h5'\n",
    "decoder_model = load_model(MODEL_FILE)"
   ]
  },
  {
   "cell_type": "markdown",
   "metadata": {},
   "source": [
    "# Results and Evaluation"
   ]
  },
  {
   "cell_type": "markdown",
   "metadata": {},
   "source": [
    "Use the models trained above to predict an accompanying sequence."
   ]
  },
  {
   "cell_type": "markdown",
   "metadata": {
    "heading_collapsed": true
   },
   "source": [
    "#### Tick-by-tick inference from RNN"
   ]
  },
  {
   "cell_type": "code",
   "execution_count": 62,
   "metadata": {
    "hidden": true
   },
   "outputs": [],
   "source": [
    "num_decoder_tokens = NUM_PITCHES\n",
    "\n",
    "def decode_sequence(input_seq_pair):\n",
    "    # Encode the input as state vectors.\n",
    "    states_value = encoder_model.predict(input_seq_pair)\n",
    "\n",
    "    # Generate empty target sequence of length 1.\n",
    "    target_seq = np.zeros((1, 1, num_decoder_tokens))\n",
    "\n",
    "    # Populate the first character of target sequence with the start token.\n",
    "    start_token = np.zeros(num_decoder_tokens)\n",
    "    start_token[-1] = 1 # Start token is [...,0,0,0,1]\n",
    "    target_seq[0, 0, :] = start_token\n",
    "\n",
    "    # Sampling loop for a batch of sequences\n",
    "    # (to simplify, here we assume a batch of size 1).\n",
    "    stop_condition = False\n",
    "    output_onehotmatrix = np.zeros((NUM_TICKS, num_decoder_tokens))\n",
    "    output_onehotmatrix[0] = start_token\n",
    "    for i in range(1,NUM_TICKS):\n",
    "        output_tokens, h, c = decoder_model.predict(\n",
    "            [target_seq] + states_value)\n",
    "\n",
    "        # Sample a token\n",
    "        sampled_token_index = np.argmax(output_tokens[0, -1, :])\n",
    "        sampled_token = np.zeros(num_decoder_tokens)\n",
    "        sampled_token[sampled_token_index] = 1 # One hot encoding\n",
    "        # Write to output\n",
    "        output_onehotmatrix[i] = sampled_token\n",
    "\n",
    "        # Update the target sequence (of length 1).\n",
    "        target_seq = np.zeros((1, 1, num_decoder_tokens))\n",
    "        target_seq[0, 0, sampled_token_index] = 1.\n",
    "\n",
    "        # Update states\n",
    "        states_value = [h, c]\n",
    "\n",
    "    assert np.all(np.sum(output_onehotmatrix, axis=1) == 1) # Each tick is a one-hot encoded vector\n",
    "    output_pianoroll = pianoroll_utils.one_hot_to_pianoroll(output_onehotmatrix) \n",
    "    assert output_pianoroll.shape == (NUM_PITCHES, NUM_TICKS)\n",
    "    return output_pianoroll"
   ]
  },
  {
   "cell_type": "markdown",
   "metadata": {},
   "source": [
    "#### Predict and plot"
   ]
  },
  {
   "cell_type": "code",
   "execution_count": 16,
   "metadata": {},
   "outputs": [
    {
     "name": "stdout",
     "output_type": "stream",
     "text": [
      "(12, 96, 96, 1)\n"
     ]
    }
   ],
   "source": [
    "NUM_PREDICTIONS = 8\n",
    "NUM_UNITS = WINDOW_LENGTH + NUM_PREDICTIONS\n",
    "# Grab a random sequence of embeddings as input\n",
    "unit_index = np.random.randint(seq_units_comp.shape[0] - NUM_UNITS)\n",
    "\n",
    "# Predict NUM_PREDICTIONS embeddings\n",
    "predicted_comp_units = np.zeros((WINDOW_LENGTH, NUM_PITCHES, NUM_TICKS, 1)) #seq_units_comp[unit_index:unit_index + WINDOW_LENGTH].copy()\n",
    "for i, _ in enumerate(range(NUM_PREDICTIONS)):\n",
    "    input1 = np.array([\n",
    "        seq_units_input[unit_index + i : unit_index + WINDOW_LENGTH + i]\n",
    "    ])\n",
    "    input2 = np.array([\n",
    "        predicted_comp_units[-WINDOW_LENGTH:] # The WINDOW_LENGTH latest units\n",
    "    ])\n",
    "    # Predict new unit\n",
    "    y_comp = model.predict([input1,input2]) # Standard predictor\n",
    "#     y_comp = decode_sequence([input1,input2]) # RNN Decoder\n",
    "    \n",
    "    # Remove input pitches from the prediction\n",
    "    input1_concat = np.concatenate(input1.squeeze(), axis=1)\n",
    "    input_pitches = pianoroll_utils.get_active_pitches(input1_concat, MIN_PITCH, MAX_PITCH)\n",
    "    y_comp = pianoroll_utils.mask_pitches(y_comp.squeeze(), input_pitches, MIN_PITCH, MAX_PITCH)\n",
    "    y_comp = y_comp[np.newaxis, ..., np.newaxis]\n",
    "\n",
    "    # Append predicted unit\n",
    "    predicted_comp_units = np.concatenate([predicted_comp_units, y_comp], axis=0)\n",
    "    \n",
    "    # Get nearest neighbor\n",
    "#     knn_index = knn_model.kneighbors(y_comp_embed, return_distance = False)[0][0]\n",
    "#     sample_knn = knn_units[knn_index].squeeze()[np.newaxis, ...]\n",
    "#     knn_comp = np.concatenate([knn_comp, sample_knn], axis=0)\n",
    "\n",
    "# knn_comp = np.concatenate(knn_comp, axis=1)\n",
    "print(predicted_comp_units.shape)\n",
    "# print(knn_comp.shape)"
   ]
  },
  {
   "cell_type": "code",
   "execution_count": 37,
   "metadata": {
    "scrolled": false
   },
   "outputs": [
    {
     "data": {
      "image/png": "[encoded data removed]",
      "text/plain": [
       "<Figure size 720x648 with 5 Axes>"
      ]
     },
     "metadata": {},
     "output_type": "display_data"
    }
   ],
   "source": [
    "# Concatenate units into one long pianoroll\n",
    "predicted_comp = np.concatenate(predicted_comp_units, axis=1).squeeze()\n",
    "# predicted_comp = (predicted_comp * 1.5).clip(0,1)\n",
    "# predicted_comp = pianoroll_utils.pianoroll_preprocess(predicted_comp, MIN_PITCH, MAX_PITCH)\n",
    "model_input = np.concatenate(seq_units_input[unit_index:unit_index + NUM_UNITS], axis=1).squeeze()\n",
    "model_comp = np.concatenate(seq_units_comp[unit_index:unit_index + NUM_UNITS], axis=1).squeeze()\n",
    "\n",
    "# Plot comparison\n",
    "# fig, ax = plt.subplots(3,1)\n",
    "\n",
    "rows = 4\n",
    "cols = 2\n",
    "fig = plt.figure()\n",
    "fig.set_size_inches(10, 9, forward=True)\n",
    "\n",
    "ax1 = plt.subplot2grid((rows, cols), (0, 0), fig=fig, colspan=2)\n",
    "ax2 = plt.subplot2grid((rows, cols), (1, 0), fig=fig, colspan=2)\n",
    "ax3 = plt.subplot2grid((rows, cols), (2, 0), fig=fig, colspan=2)\n",
    "ax4 = plt.subplot2grid((rows, cols), (3, 0), fig=fig)\n",
    "ax5 = plt.subplot2grid((rows, cols), (3, 1), fig=fig)\n",
    "\n",
    "ax1.set_title('Input')\n",
    "ax2.set_title('True Comp')\n",
    "ax3.set_title('Predicted Comp')\n",
    "ax4.set_title('Input Pitch Histogram')\n",
    "ax5.set_title('Predicted Comp Pitch Histogram')\n",
    "\n",
    "pianoroll_utils.plot_pianoroll(ax1, model_input, MIN_PITCH, MAX_PITCH, beat_resolution=24, cmap='Blues')\n",
    "pianoroll_utils.plot_pianoroll(ax2, model_comp, MIN_PITCH, MAX_PITCH, beat_resolution=24, cmap='Blues')\n",
    "pianoroll_utils.plot_pianoroll(ax3, predicted_comp, MIN_PITCH, MAX_PITCH, beat_resolution=24, cmap='Blues')\n",
    "# pianoroll_utils.plot_pianoroll(ax[4], knn_comp, MIN_PITCH, MAX_PITCH, beat_resolution=24, cmap='Blues')\n",
    "pianoroll_utils.plot_pitch_class_histogram(ax4, K.eval(custom_loss.get_pitch_class_histogram(model_input[np.newaxis,...,np.newaxis]))[0])\n",
    "pianoroll_utils.plot_pitch_class_histogram(ax5, K.eval(custom_loss.get_pitch_class_histogram(predicted_comp[np.newaxis,...,np.newaxis]))[0])\n",
    "fig.tight_layout()\n",
    "plt.savefig('fig/end2end_CRNN.eps', format='eps', dpi=1000)\n",
    "\n",
    "# print(pianoroll_utils.get_active_pitch_classes(model_input, MIN_PITCH, MAX_PITCH))\n",
    "# print(pianoroll_utils.get_active_pitch_classes(predicted_comp, MIN_PITCH, MAX_PITCH))\n",
    "# print(pianoroll_utils.pitch_intersection_over_union(model_input, predicted_comp, MIN_PITCH, MAX_PITCH))\n",
    "# print(pianoroll_utils.score_note_onsets(predicted_comp, MIN_PITCH, MAX_PITCH, num_units=NUM_UNITS))\n",
    "\n",
    "# Listen to the MIDI files\n",
    "# pianoroll_utils.play_pianoroll(model_input, MIN_PITCH, MAX_PITCH, 'ori')\n",
    "# pianoroll_utils.play_pianoroll(model_comp, MIN_PITCH, MAX_PITCH, '0')\n",
    "# pianoroll_utils.play_pianoroll(predicted_comp, MIN_PITCH, MAX_PITCH, '1')\n",
    "# pianoroll_utils.play_pianoroll(knn_comp, MIN_PITCH, MAX_PITCH, '3')\n",
    "# pianoroll_utils.play_pianoroll( (model_comp + model_input).clip(0,1), MIN_PITCH, MAX_PITCH, '4')\n",
    "# pianoroll_utils.play_pianoroll( (predicted_comp + model_input).clip(0,1), MIN_PITCH, MAX_PITCH, '5')\n",
    "# pianoroll_utils.play_pianoroll( (knn_comp + model_input).clip(0,1), MIN_PITCH, MAX_PITCH, '7')"
   ]
  },
  {
   "cell_type": "markdown",
   "metadata": {
    "heading_collapsed": true
   },
   "source": [
    "#### Evaluate key and rhythmic qualities."
   ]
  },
  {
   "cell_type": "code",
   "execution_count": 7,
   "metadata": {
    "hidden": true,
    "scrolled": false
   },
   "outputs": [
    {
     "name": "stdout",
     "output_type": "stream",
     "text": [
      "Mean IOU: 0.520527777778\n",
      "Mean onset score: 0.14268947096105117\n",
      "CPU times: user 16.8 s, sys: 3.33 s, total: 20.1 s\n",
      "Wall time: 14.4 s\n"
     ]
    }
   ],
   "source": [
    "%%time\n",
    "NUM_TESTS = 100\n",
    "NUM_PREDICTIONS = 12\n",
    "NUM_UNITS = WINDOW_LENGTH + NUM_PREDICTIONS\n",
    "\n",
    "total_iou = 0\n",
    "total_onset_score = 0\n",
    "\n",
    "for i in range(NUM_TESTS):\n",
    "    # Grab a random sequence of embeddings as input\n",
    "    unit_index = np.random.randint(seq_units_comp.shape[0] - NUM_UNITS)\n",
    "\n",
    "    # Predict NUM_PREDICTIONS embeddings\n",
    "    predicted_comp_units = np.zeros((WINDOW_LENGTH, NUM_PITCHES, NUM_TICKS, 1)) #seq_units_comp[unit_index:unit_index + WINDOW_LENGTH].copy()\n",
    "    # knn_comp = np.zeros((WINDOW_LENGTH, NUM_PITCHES, NUM_TICKS))\n",
    "    for i, _ in enumerate(range(NUM_PREDICTIONS)):\n",
    "        input1 = np.array([\n",
    "            seq_units_input[unit_index + i : unit_index + WINDOW_LENGTH + i]\n",
    "        ])\n",
    "        input2 = np.array([\n",
    "            predicted_comp_units[-WINDOW_LENGTH:] # The WINDOW_LENGTH latest units\n",
    "        ])\n",
    "        # Predict new embedding\n",
    "        y_comp = model.predict([input1,input2])\n",
    "\n",
    "        # Remove input pitches from the prediction\n",
    "        input1_concat = np.concatenate(input1.squeeze(), axis=1)\n",
    "        input_pitches = pianoroll_utils.get_active_pitches(input1_concat, MIN_PITCH, MAX_PITCH)\n",
    "        y_comp = pianoroll_utils.mask_pitches(y_comp.squeeze(), input_pitches, MIN_PITCH, MAX_PITCH)\n",
    "        y_comp = y_comp[np.newaxis, ..., np.newaxis]\n",
    "\n",
    "        # Append predicted embedding\n",
    "        predicted_comp_units = np.concatenate([predicted_comp_units, y_comp], axis=0)\n",
    "\n",
    "    # Concatenate units into one long pianoroll\n",
    "    predicted_comp = np.concatenate(predicted_comp_units, axis=1).squeeze()\n",
    "    predicted_comp = pianoroll_utils.pianoroll_preprocess(predicted_comp, MIN_PITCH, MAX_PITCH)\n",
    "    model_input = np.concatenate(seq_units_input[unit_index:unit_index + NUM_UNITS], axis=1).squeeze()\n",
    "\n",
    "    # Get metrics\n",
    "    iou = pianoroll_utils.pitch_intersection_over_union(predicted_comp, model_input, MIN_PITCH, MAX_PITCH)\n",
    "    onset_score = pianoroll_utils.score_note_onsets(predicted_comp, MIN_PITCH, MAX_PITCH, num_units=NUM_UNITS)\n",
    "    total_iou += iou\n",
    "    total_onset_score += onset_score\n",
    "\n",
    "mean_iou = total_iou / NUM_TESTS\n",
    "mean_onset_score = total_onset_score / NUM_TESTS\n",
    "print(\"Mean IOU:\", mean_iou)\n",
    "print(\"Mean onset score:\", mean_onset_score)"
   ]
  }
 ],
 "metadata": {
  "kernelspec": {
   "display_name": "Python 2",
   "language": "python",
   "name": "python2"
  },
  "language_info": {
   "codemirror_mode": {
    "name": "ipython",
    "version": 2
   },
   "file_extension": ".py",
   "mimetype": "text/x-python",
   "name": "python",
   "nbconvert_exporter": "python",
   "pygments_lexer": "ipython2",
   "version": "2.7.12"
  }
 },
 "nbformat": 4,
 "nbformat_minor": 2
}
